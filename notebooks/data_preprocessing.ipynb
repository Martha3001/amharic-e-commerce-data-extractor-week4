{
 "cells": [
  {
   "cell_type": "markdown",
   "id": "5a23f1da",
   "metadata": {},
   "source": [
    "# Data Preprocessing"
   ]
  },
  {
   "cell_type": "code",
   "execution_count": 1,
   "id": "6277fb8d",
   "metadata": {},
   "outputs": [],
   "source": [
    "# Importing modules\n",
    "import pandas as pd\n",
    "import os\n",
    "import sys\n",
    "module_path = os.path.abspath(os.path.join('..'))\n",
    "if module_path not in sys.path:\n",
    "    sys.path.append(module_path)\n",
    "\n",
    "from scripts.data_preprocess import DataPreprocess\n",
    "from scripts.label import Label"
   ]
  },
  {
   "cell_type": "code",
   "execution_count": 2,
   "id": "e8e8929b",
   "metadata": {},
   "outputs": [
    {
     "data": {
      "application/vnd.microsoft.datawrangler.viewer.v0+json": {
       "columns": [
        {
         "name": "index",
         "rawType": "int64",
         "type": "integer"
        },
        {
         "name": "Channel Title",
         "rawType": "object",
         "type": "string"
        },
        {
         "name": "Channel Username",
         "rawType": "object",
         "type": "string"
        },
        {
         "name": "ID",
         "rawType": "int64",
         "type": "integer"
        },
        {
         "name": "Message",
         "rawType": "object",
         "type": "unknown"
        },
        {
         "name": "Date",
         "rawType": "object",
         "type": "string"
        },
        {
         "name": "Media Path",
         "rawType": "object",
         "type": "unknown"
        }
       ],
       "ref": "3ead8ee0-08c0-42e4-b19f-9de40608b478",
       "rows": [
        [
         "0",
         "Zemen Express®",
         "@ZemenExpress",
         "6982",
         "💥💥...................................💥💥\n\n📌Imitation Volcano Humidifier with LED Light\n\n👍በኤሌክትሪክ:የሚሰራ ለቤት መልካም መዓዛን የሚሰጥ\n\nዋጋ፦  💲🏷  1400 ብር\n\n📍ውስን ፍሬ ነው ያለን🔥🔥🔥\n\n🏢 አድራሻ👉\n\n📍♦️#መገናኛ_መሰረት_ደፋር_ሞል_ሁለተኛ_ፎቅ ቢሮ ቁ. S05/S06\n\n\n     💧💧💧💧\n\n\n    📲 0902660722\n    📲 0928460606 \n\n🔖\n💬በTelegram ለማዘዝ ⤵️ ይጠቀሙ🔽\n\n@zemencallcenter \n\n@zemenexpressadmin\n\nለተጨማሪ ማብራሪያ የቴሌግራም ገፃችን⤵️\nhttps://telegram.me/zemenexpress\n\n💥💥...................................💥💥",
         "2025-06-18 06:01:10+00:00",
         null
        ],
        [
         "1",
         "Zemen Express®",
         "@ZemenExpress",
         "6981",
         "💥💥...................................💥💥\n\n📌 Baby Carrier\n\n👍በፈለጉት አቅጣጫ ልጅዎን  በምቾት ማዘል ያስችልዎታል\n\nዋጋ፦  💲🏷  2400 ብር\n\n📍ውስን ፍሬ ነው ያለን🔥🔥🔥\n\n🏢 አድራሻ👉\n\n📍♦️#መገናኛ_መሰረት_ደፋር_ሞል_ሁለተኛ_ፎቅ ቢሮ ቁ. S05/S06\n\n\n     💧💧💧💧\n\n\n    📲 0902660722\n    📲 0928460606 \n\n🔖\n💬በTelegram ለማዘዝ ⤵️ ይጠቀሙ🔽\n\n@zemencallcenter \n\n@zemenexpressadmin\n\nለተጨማሪ ማብራሪያ የቴሌግራም ገፃችን⤵️\nhttps://telegram.me/zemenexpress\n\n💥💥...................................💥💥",
         "2025-06-16 12:21:00+00:00",
         null
        ],
        [
         "2",
         "Zemen Express®",
         "@ZemenExpress",
         "6980",
         null,
         "2025-06-16 05:11:57+00:00",
         "data\\photos\\@ZemenExpress_6980.jpg"
        ],
        [
         "3",
         "Zemen Express®",
         "@ZemenExpress",
         "6979",
         null,
         "2025-06-16 05:11:57+00:00",
         "data\\photos\\@ZemenExpress_6979.jpg"
        ],
        [
         "4",
         "Zemen Express®",
         "@ZemenExpress",
         "6978",
         null,
         "2025-06-16 05:11:57+00:00",
         "data\\photos\\@ZemenExpress_6978.jpg"
        ],
        [
         "5",
         "Zemen Express®",
         "@ZemenExpress",
         "6977",
         null,
         "2025-06-16 05:11:57+00:00",
         "data\\photos\\@ZemenExpress_6977.jpg"
        ],
        [
         "6",
         "Zemen Express®",
         "@ZemenExpress",
         "6976",
         null,
         "2025-06-16 05:11:57+00:00",
         "data\\photos\\@ZemenExpress_6976.jpg"
        ],
        [
         "7",
         "Zemen Express®",
         "@ZemenExpress",
         "6975",
         null,
         "2025-06-16 05:11:57+00:00",
         "data\\photos\\@ZemenExpress_6975.jpg"
        ],
        [
         "8",
         "Zemen Express®",
         "@ZemenExpress",
         "6974",
         null,
         "2025-06-16 05:11:57+00:00",
         "data\\photos\\@ZemenExpress_6974.jpg"
        ],
        [
         "9",
         "Zemen Express®",
         "@ZemenExpress",
         "6973",
         "💥💥...................................💥💥\n\n📌Smart Usb Ultrasonic Car And Home  Air Humidifier With Colorful Led Light\n\n              💯Original\n              💯High-quality \n\nበኤሌክትሪክ የሚሰራ \n👍ለቤትና ለመኪና መልካም መዓዛን የሚሰጥ\n\n👍Elevate the comfort level within your living premises with this fantastic Green Lion Air Mist Humidifier.\n\nዋጋ፦  💲🏷  1100 ብር\n\n📍ውስን ፍሬ ነው ያለን🔥🔥🔥\n\n🏢 አድራሻ👉\n\n📍♦️#መገናኛ_መሰረት_ደፋር_ሞል_ሁለተኛ_ፎቅ ቢሮ ቁ. S05/S06\n\n\n     💧💧💧💧\n\n\n    📲 0902660722\n    📲 0928460606 \n\n🔖\n💬በTelegram ለማዘዝ ⤵️ ይጠቀሙ🔽\n\n@zemencallcenter \n\n@zemenexpressadmin\n\nለተጨማሪ ማብራሪያ የቴሌግራም ገፃችን⤵️\nhttps://telegram.me/zemenexpress\n\n💥💥...................................💥💥",
         "2025-06-16 05:11:57+00:00",
         "data\\photos\\@ZemenExpress_6973.jpg"
        ],
        [
         "10",
         "Zemen Express®",
         "@ZemenExpress",
         "6972",
         "💥💥...................................💥💥\n\n📌Smart Usb Ultrasonic Car And Home  Air Humidifier With Colorful Led Light\n\n              💯Original\n              💯High-quality \n\nበኤሌክትሪክ የሚሰራ \n👍ለቤትና ለመኪና መልካም መዓዛን የሚሰጥ\n\n👍Elevate the comfort level within your living premises with this fantastic Green Lion Air Mist Humidifier.\n\nዋጋ፦  💲🏷  1100 ብር\n\n📍ውስን ፍሬ ነው ያለን🔥🔥🔥\n\n🏢 አድራሻ👉\n\n📍♦️#መገናኛ_መሰረት_ደፋር_ሞል_ሁለተኛ_ፎቅ ቢሮ ቁ. S05/S06\n\n\n     💧💧💧💧\n\n\n    📲 0902660722\n    📲 0928460606 \n\n🔖\n💬በTelegram ለማዘዝ ⤵️ ይጠቀሙ🔽\n\n@zemencallcenter \n\n@zemenexpressadmin\n\nለተጨማሪ ማብራሪያ የቴሌግራም ገፃችን⤵️\nhttps://telegram.me/zemenexpress\n\n💥💥...................................💥💥",
         "2025-06-16 05:11:26+00:00",
         null
        ],
        [
         "11",
         "Zemen Express®",
         "@ZemenExpress",
         "6971",
         null,
         "2025-06-16 05:09:03+00:00",
         "data\\photos\\@ZemenExpress_6971.jpg"
        ],
        [
         "12",
         "Zemen Express®",
         "@ZemenExpress",
         "6970",
         "💥💥...................................💥💥\n\n📌Baby Head Helmet Cotton Walk Safety Hat Breathable Headgear Toddler Antifall Pad\n\n👍This product is made of non-toxic cotton material. \n👍It can be adjustable to fits all the different size of head. \n👍The product is also breathable and the baby's head will not be sultry and muggy when playing.\n\nዋጋ፦  💲🏷  550 ብር\n\n📍ውስን ፍሬ ነው ያለን🔥🔥🔥\n\n🏢 አድራሻ👉\n\n📍♦️#መገናኛ_መሰረት_ደፋር_ሞል_ሁለተኛ_ፎቅ ቢሮ ቁ. S05/S06\n\n\n     💧💧💧💧\n\n\n    📲 0902660722\n    📲 0928460606 \n\n🔖\n💬በTelegram ለማዘዝ ⤵️ ይጠቀሙ🔽\n\n@zemencallcenter \n\n@zemenexpressadmin\n\nለተጨማሪ ማብራሪያ የቴሌግራም ገፃችን⤵️\nhttps://telegram.me/zemenexpress\n\n💥💥...................................💥💥",
         "2025-06-16 05:09:03+00:00",
         "data\\photos\\@ZemenExpress_6970.jpg"
        ],
        [
         "13",
         "Zemen Express®",
         "@ZemenExpress",
         "6969",
         "💥💥...................................💥💥\n\n📌Baby Head Helmet Cotton Walk Safety Hat Breathable Headgear Toddler Antifall Pad\n\n👍This product is made of non-toxic cotton material. \n👍It can be adjustable to fits all the different size of head. \n👍The product is also breathable and the baby's head will not be sultry and muggy when playing.\n\nዋጋ፦  💲🏷  550 ብር\n\n📍ውስን ፍሬ ነው ያለን🔥🔥🔥\n\n🏢 አድራሻ👉\n\n📍♦️#መገናኛ_መሰረት_ደፋር_ሞል_ሁለተኛ_ፎቅ ቢሮ ቁ. S05/S06\n\n\n     💧💧💧💧\n\n\n    📲 0902660722\n    📲 0928460606 \n\n🔖\n💬በTelegram ለማዘዝ ⤵️ ይጠቀሙ🔽\n\n@zemencallcenter \n\n@zemenexpressadmin\n\nለተጨማሪ ማብራሪያ የቴሌግራም ገፃችን⤵️\nhttps://telegram.me/zemenexpress\n\n💥💥...................................💥💥",
         "2025-06-15 09:30:52+00:00",
         null
        ],
        [
         "14",
         "Zemen Express®",
         "@ZemenExpress",
         "6968",
         "💥💥...............🌞.................💥💥\n\n❓ በረፍት ቀንዎ ሱቅ ላይ መስተናገድ ለምትፈልጉ ውድ ደንበኞቻችን\n  \n\n🌐ነገ ከጠዋቱ 4:30 _ ቀኑ 11:00 ድረስ🌐\n          ሱቃችን ክፍት ሁኖ ይጠብቅዎታል\n\n\n🟢 🚛 ሱቅ መተው መግዛት ላልቻላችሁ በሞተረኞች ያሉበት እናደርሳለን \n\n⚠️ ዘወትር ሰኞ _ቅዳሜ ከጠዋቱ 2:30 እስከ ምሽቱ 2:00 ድረስ ክፍት መሆኑን እንገልፃለን\n\n🏢 አድራሻ👉\n\n📍♦️#መገናኛ_መሰረት_ደፋር_ሞል_ሁለተኛ_ፎቅ ቢሮ ቁ. S05/S06\n\n\n     💧💧💧💧\n\n\n    📲 0902660722\n    📲 0928460606 \n\n🔖\n💬በTelegram ለማዘዝ ⤵️ ይጠቀሙ🔽\n\n@zemencallcenter \n\n@zemenexpressadmin\n\nለተጨማሪ ማብራሪያ የቴሌግራም ገፃችን⤵️\nhttps://telegram.me/zemenexpress\n\n💥💥...................................💥💥",
         "2025-06-14 14:40:03+00:00",
         "data\\photos\\@ZemenExpress_6968.jpg"
        ],
        [
         "15",
         "Zemen Express®",
         "@ZemenExpress",
         "6967",
         null,
         "2025-06-14 13:42:04+00:00",
         "data\\photos\\@ZemenExpress_6967.jpg"
        ],
        [
         "16",
         "Zemen Express®",
         "@ZemenExpress",
         "6966",
         null,
         "2025-06-14 13:42:04+00:00",
         "data\\photos\\@ZemenExpress_6966.jpg"
        ],
        [
         "17",
         "Zemen Express®",
         "@ZemenExpress",
         "6965",
         null,
         "2025-06-14 13:42:04+00:00",
         "data\\photos\\@ZemenExpress_6965.jpg"
        ],
        [
         "18",
         "Zemen Express®",
         "@ZemenExpress",
         "6964",
         "💥💥...................................💥💥\n\n📌 Baby knee socks\n\n👍ልጅዎ መዳህ በሚጀምሩበት ጊዜ ተመራጭ\n\nዋጋ፦  💲🏷  250 ብር\n\n📍ውስን ፍሬ ነው ያለን🔥🔥🔥\n\n🏢 አድራሻ👉\n\n📍♦️#መገናኛ_መሰረት_ደፋር_ሞል_ሁለተኛ_ፎቅ ቢሮ ቁ. S05/S06\n\n\n     💧💧💧💧\n\n\n    📲 0902660722\n    📲 0928460606 \n\n🔖\n💬በTelegram ለማዘዝ ⤵️ ይጠቀሙ🔽\n\n@zemencallcenter \n\n@zemenexpressadmin\n\nለተጨማሪ ማብራሪያ የቴሌግራም ገፃችን⤵️\nhttps://telegram.me/zemenexpress\n\n💥💥...................................💥💥",
         "2025-06-14 13:42:04+00:00",
         "data\\photos\\@ZemenExpress_6964.jpg"
        ],
        [
         "19",
         "Zemen Express®",
         "@ZemenExpress",
         "6963",
         "💥💥...................................💥💥\n\n📌 Baby knee socks\n\n👍ልጅዎ መዳህ በሚጀምሩበት ጊዜ ተመራጭ\n\nዋጋ፦  💲🏷  250 ብር\n\n📍ውስን ፍሬ ነው ያለን🔥🔥🔥\n\n🏢 አድራሻ👉\n\n📍♦️#መገናኛ_መሰረት_ደፋር_ሞል_ሁለተኛ_ፎቅ ቢሮ ቁ. S05/S06\n\n\n     💧💧💧💧\n\n\n    📲 0902660722\n    📲 0928460606 \n\n🔖\n💬በTelegram ለማዘዝ ⤵️ ይጠቀሙ🔽\n\n@zemencallcenter \n\n@zemenexpressadmin\n\nለተጨማሪ ማብራሪያ የቴሌግራም ገፃችን⤵️\nhttps://telegram.me/zemenexpress\n\n💥💥...................................💥💥",
         "2025-06-14 13:41:47+00:00",
         null
        ],
        [
         "20",
         "Zemen Express®",
         "@ZemenExpress",
         "6962",
         null,
         "2025-06-14 07:39:01+00:00",
         "data\\photos\\@ZemenExpress_6962.jpg"
        ],
        [
         "21",
         "Zemen Express®",
         "@ZemenExpress",
         "6961",
         null,
         "2025-06-14 07:39:01+00:00",
         "data\\photos\\@ZemenExpress_6961.jpg"
        ],
        [
         "22",
         "Zemen Express®",
         "@ZemenExpress",
         "6960",
         null,
         "2025-06-14 07:39:01+00:00",
         "data\\photos\\@ZemenExpress_6960.jpg"
        ],
        [
         "23",
         "Zemen Express®",
         "@ZemenExpress",
         "6959",
         "💥💥...................................💥💥\n\n📌5-in-1 Trouser Hanger የሱሪ ማስቀመጫ\n\nዋጋ፦  💲🏷  650 ብር\n\n📍ውስን ፍሬ ነው ያለን🔥🔥🔥\n\n🏢 አድራሻ👉\n\n📍♦️#መገናኛ_መሰረት_ደፋር_ሞል_ሁለተኛ_ፎቅ ቢሮ ቁ. S05/S06\n\n\n     💧💧💧💧\n\n\n    📲 0902660722\n    📲 0928460606 \n\n🔖\n💬በTelegram ለማዘዝ ⤵️ ይጠቀሙ🔽\n\n@zemencallcenter \n\n@zemenexpressadmin\n\nለተጨማሪ ማብራሪያ የቴሌግራም ገፃችን⤵️\nhttps://telegram.me/zemenexpress\n\n💥💥...................................💥💥",
         "2025-06-14 07:39:01+00:00",
         "data\\photos\\@ZemenExpress_6959.jpg"
        ],
        [
         "24",
         "Zemen Express®",
         "@ZemenExpress",
         "6953",
         null,
         "2025-06-13 11:54:51+00:00",
         "data\\photos\\@ZemenExpress_6953.jpg"
        ],
        [
         "25",
         "Zemen Express®",
         "@ZemenExpress",
         "6952",
         null,
         "2025-06-13 11:54:51+00:00",
         "data\\photos\\@ZemenExpress_6952.jpg"
        ],
        [
         "26",
         "Zemen Express®",
         "@ZemenExpress",
         "6951",
         null,
         "2025-06-13 11:54:51+00:00",
         "data\\photos\\@ZemenExpress_6951.jpg"
        ],
        [
         "27",
         "Zemen Express®",
         "@ZemenExpress",
         "6950",
         "💥💥...................................💥💥\n\n📌WaterProof  Shower Cap \n\n👍 reusable\n\nዋጋ፦  💵🏷  200 ብር\n\n♦️ውስን ፍሬ ነው ያለው 🔥🔥🔥\n\n🏢 አድራሻ👉\n\n📍♦️#መገናኛ_መሰረት_ደፋር_ሞል_ሁለተኛ_ፎቅ ቢሮ ቁ. S05/S06\n\n\n     💧💧💧💧\n\n\n    📲 0902660722\n    📲 0928460606 \n\n🔖\n💬በTelegram ለማዘዝ ⤵️ ይጠቀሙ🔽\n\n@zemencallcenter \n\n@zemenexpressadmin\n\nለተጨማሪ ማብራሪያ የቴሌግራም ገፃችን⤵️\nhttps://telegram.me/zemenexpress\n\n💥💥...................................💥💥",
         "2025-06-13 11:54:51+00:00",
         "data\\photos\\@ZemenExpress_6950.jpg"
        ],
        [
         "28",
         "Zemen Express®",
         "@ZemenExpress",
         "6949",
         null,
         "2025-06-13 08:42:43+00:00",
         "data\\photos\\@ZemenExpress_6949.jpg"
        ],
        [
         "29",
         "Zemen Express®",
         "@ZemenExpress",
         "6948",
         null,
         "2025-06-13 08:42:43+00:00",
         "data\\photos\\@ZemenExpress_6948.jpg"
        ],
        [
         "30",
         "Zemen Express®",
         "@ZemenExpress",
         "6947",
         "💥💥...................................💥💥\n\n📌 Shock and Noise Cancelling Washing Machine Support\n\n👍Washer and Dryer Pedestals,Anti Slip Anti Vibration Rubber Washing Machine Feet Pads\n👍Washing Machine Stabilizer for Raise Height \n👍Reduce Noise 4PCS\n\nዋጋ፦  💲🏷  500 ብር\n\n📍ውስን ፍሬ ነው ያለን🔥🔥🔥\n\n🏢 አድራሻ👉\n\n📍♦️#መገናኛ_መሰረት_ደፋር_ሞል_ሁለተኛ_ፎቅ ቢሮ ቁ. S05/S06\n\n\n     💧💧💧💧\n\n\n    📲 0902660722\n    📲 0928460606 \n\n🔖\n💬በTelegram ለማዘዝ ⤵️ ይጠቀሙ🔽\n\n@zemencallcenter \n\n@zemenexpressadmin\n\nለተጨማሪ ማብራሪያ የቴሌግራም ገፃችን⤵️\nhttps://telegram.me/zemenexpress\n\n💥💥...................................💥💥",
         "2025-06-13 08:42:42+00:00",
         "data\\photos\\@ZemenExpress_6947.jpg"
        ],
        [
         "31",
         "Zemen Express®",
         "@ZemenExpress",
         "6946",
         "💥💥...................................💥💥\n\n📌 Shock and Noise Cancelling Washing Machine Support\n\n👍Washer and Dryer Pedestals,Anti Slip Anti Vibration Rubber Washing Machine Feet Pads\n👍Washing Machine Stabilizer for Raise Height \n👍Reduce Noise 4PCS\n\nዋጋ፦  💲🏷  500 ብር\n\n📍ውስን ፍሬ ነው ያለን🔥🔥🔥\n\n🏢 አድራሻ👉\n\n📍♦️#መገናኛ_መሰረት_ደፋር_ሞል_ሁለተኛ_ፎቅ ቢሮ ቁ. S05/S06\n\n\n     💧💧💧💧\n\n\n    📲 0902660722\n    📲 0928460606 \n\n🔖\n💬በTelegram ለማዘዝ ⤵️ ይጠቀሙ🔽\n\n@zemencallcenter \n\n@zemenexpressadmin\n\nለተጨማሪ ማብራሪያ የቴሌግራም ገፃችን⤵️\nhttps://telegram.me/zemenexpress\n\n💥💥...................................💥💥",
         "2025-06-13 08:42:21+00:00",
         null
        ],
        [
         "32",
         "Zemen Express®",
         "@ZemenExpress",
         "6945",
         "💥💥...................................💥💥\n\n📌 Shock and Noise Cancelling Washing Machine Support\n\n👍Washer and Dryer Pedestals,Anti Slip Anti Vibration Rubber Washing Machine Feet Pads\n👍Washing Machine Stabilizer for Raise Height \n👍Reduce Noise 4PCS\n\nዋጋ፦  💲🏷  500 ብር\n\n📍ውስን ፍሬ ነው ያለን🔥🔥🔥\n\n🏢 አድራሻ👉\n\n📍♦️#መገናኛ_መሰረት_ደፋር_ሞል_ሁለተኛ_ፎቅ ቢሮ ቁ. S05/S06\n\n\n     💧💧💧💧\n\n\n    📲 0902660722\n    📲 0928460606 \n\n🔖\n💬በTelegram ለማዘዝ ⤵️ ይጠቀሙ🔽\n\n@zemencallcenter \n\n@zemenexpressadmin\n\nለተጨማሪ ማብራሪያ የቴሌግራም ገፃችን⤵️\nhttps://telegram.me/zemenexpress\n\n💥💥...................................💥💥",
         "2025-06-13 08:40:17+00:00",
         null
        ],
        [
         "33",
         "Zemen Express®",
         "@ZemenExpress",
         "6944",
         null,
         "2025-06-13 07:15:02+00:00",
         "data\\photos\\@ZemenExpress_6944.jpg"
        ],
        [
         "34",
         "Zemen Express®",
         "@ZemenExpress",
         "6943",
         null,
         "2025-06-13 07:15:02+00:00",
         "data\\photos\\@ZemenExpress_6943.jpg"
        ],
        [
         "35",
         "Zemen Express®",
         "@ZemenExpress",
         "6942",
         null,
         "2025-06-13 07:15:02+00:00",
         "data\\photos\\@ZemenExpress_6942.jpg"
        ],
        [
         "36",
         "Zemen Express®",
         "@ZemenExpress",
         "6941",
         null,
         "2025-06-13 07:15:02+00:00",
         "data\\photos\\@ZemenExpress_6941.jpg"
        ],
        [
         "37",
         "Zemen Express®",
         "@ZemenExpress",
         "6940",
         null,
         "2025-06-13 07:15:02+00:00",
         "data\\photos\\@ZemenExpress_6940.jpg"
        ],
        [
         "38",
         "Zemen Express®",
         "@ZemenExpress",
         "6939",
         "💥💥...................................💥💥\n\n📌 Magic Silicone Dish Washing Gloves\n👍 High Quality (ወፍራሙ)\n\n👍 ዕቃ ለማጠብ\n👍ቤት ለማፅዳት\n👍መኪና ለማጠብ \n👍 ለተለያየ አገልግሎት የሚውል\n\n ዋጋ፦  💵🏷  350ብር\n\n♦️ውስን ፍሬ ነው ያለው 🔥🔥🔥\n\n🏢 አድራሻ👉\n\n📍♦️#መገናኛ_መሰረት_ደፋር_ሞል_ሁለተኛ_ፎቅ ቢሮ ቁ. S05/S06\n\n\n     💧💧💧💧\n\n\n    📲 0902660722\n    📲 0928460606 \n\n🔖\n💬በTelegram ለማዘዝ ⤵️ ይጠቀሙ🔽\n\n@zemencallcenter \n\n@zemenexpressadmin\n\nለተጨማሪ ማብራሪያ የቴሌግራም ገፃችን⤵️\nhttps://telegram.me/zemenexpress\n\n💥💥...................................💥💥",
         "2025-06-13 07:15:02+00:00",
         "data\\photos\\@ZemenExpress_6939.jpg"
        ],
        [
         "39",
         "Zemen Express®",
         "@ZemenExpress",
         "6938",
         "💥💥...................................💥💥\n\n📌 Magic Silicone Dish Washing Gloves\n👍 High Quality (ወፍራሙ)\n\n👍 ዕቃ ለማጠብ\n👍ቤት ለማፅዳት\n👍መኪና ለማጠብ \n👍 ለተለያየ አገልግሎት የሚውል\n\n ዋጋ፦  💵🏷  350ብር\n\n♦️ውስን ፍሬ ነው ያለው 🔥🔥🔥\n\n🏢 አድራሻ👉\n\n📍♦️#መገናኛ_መሰረት_ደፋር_ሞል_ሁለተኛ_ፎቅ ቢሮ ቁ. S05/S06\n\n\n     💧💧💧💧\n\n\n    📲 0902660722\n    📲 0928460606 \n\n🔖\n💬በTelegram ለማዘዝ ⤵️ ይጠቀሙ🔽\n\n@zemencallcenter \n\n@zemenexpressadmin\n\nለተጨማሪ ማብራሪያ የቴሌግራም ገፃችን⤵️\nhttps://telegram.me/zemenexpress\n\n💥💥...................................💥💥",
         "2025-06-13 07:14:39+00:00",
         null
        ],
        [
         "40",
         "Zemen Express®",
         "@ZemenExpress",
         "6937",
         null,
         "2025-06-12 10:00:05+00:00",
         "data\\photos\\@ZemenExpress_6937.jpg"
        ],
        [
         "41",
         "Zemen Express®",
         "@ZemenExpress",
         "6936",
         "💥💥...................................💥💥\n\n📌 13pc Portable Health Care Kit\n    Designed For Newborn Babies\n\n👍 13 pieces of baby care set, stored in a carton for easy storage & organizing\n\n👍Simple, convenient and easy to use.\n👍Made of green materials to care for the baby’s growth\n👍 effectively protect baby’s health\n👍💯new and high quality\n\n     ዋጋ፦  💲🏷  1100 ብር\n\n🔔ውስን ፍሬ ነው ያለው 🔥🔥🔥\n\n🏢 አድራሻ👉\n\n📍♦️#መገናኛ_መሰረት_ደፋር_ሞል_ሁለተኛ_ፎቅ ቢሮ ቁ. S05/S06\n\n\n     💧💧💧💧\n\n\n    📲 0902660722\n    📲 0928460606 \n\n🔖\n💬በTelegram ለማዘዝ ⤵️ ይጠቀሙ🔽\n\n@zemencallcenter \n\n@zemenexpressadmin\n\nለተጨማሪ ማብራሪያ የቴሌግራም ገፃችን⤵️\nhttps://telegram.me/zemenexpress\n\n💥💥...................................💥💥",
         "2025-06-12 10:00:05+00:00",
         "data\\photos\\@ZemenExpress_6936.jpg"
        ],
        [
         "42",
         "Zemen Express®",
         "@ZemenExpress",
         "6935",
         null,
         "2025-06-12 04:52:52+00:00",
         "data\\photos\\@ZemenExpress_6935.jpg"
        ],
        [
         "43",
         "Zemen Express®",
         "@ZemenExpress",
         "6934",
         null,
         "2025-06-12 04:52:52+00:00",
         "data\\photos\\@ZemenExpress_6934.jpg"
        ],
        [
         "44",
         "Zemen Express®",
         "@ZemenExpress",
         "6933",
         "💥💥...................................💥💥\n\n🎯 Three-layer Baby Milk Powder Container \n       💯 High Quality \n\n👍 Three Layer No-Spill Baby Feeding Milk Powder Food Dispenser. A perfect storage for travel or home use.\n\n👍እናት ልጇን ይዛ የተለያየ ቦታ ስትንቀሳቀስ\nየዱቄት ወተት የመሳሰሉትን አስፈላጊ የልጆች ምግብ ይዞ ለመንቀሳቀስ የሚረዳ 3 ፓርቲሽን ያለው አሪፍ ኮንቴነር\n\n ዋጋ፦  💵🏷  550ብር\n\n♦️ውስን ፍሬ ነው ያለው 🔥🔥🔥\n\n🏢 አድራሻ👉\n\n📍♦️#መገናኛ_መሰረት_ደፋር_ሞል_ሁለተኛ_ፎቅ ቢሮ ቁ. S05/S06\n\n\n     💧💧💧💧\n\n\n    📲 0902660722\n    📲 0928460606 \n\n🔖\n💬በTelegram ለማዘዝ ⤵️ ይጠቀሙ🔽\n\n@zemencallcenter \n\n@zemenexpressadmin\n\nለተጨማሪ ማብራሪያ የቴሌግራም ገፃችን⤵️\nhttps://telegram.me/zemenexpress\n\n💥💥...................................💥💥",
         "2025-06-12 04:52:52+00:00",
         "data\\photos\\@ZemenExpress_6933.jpg"
        ],
        [
         "45",
         "Zemen Express®",
         "@ZemenExpress",
         "6932",
         "💥💥...................................💥💥\n\n🎯 Three-layer Baby Milk Powder Container \n       💯 High Quality \n\n👍 Three Layer No-Spill Baby Feeding Milk Powder Food Dispenser. A perfect storage for travel or home use.\n\n👍እናት ልጇን ይዛ የተለያየ ቦታ ስትንቀሳቀስ\nየዱቄት ወተት የመሳሰሉትን አስፈላጊ የልጆች ምግብ ይዞ ለመንቀሳቀስ የሚረዳ 3 ፓርቲሽን ያለው አሪፍ ኮንቴነር\n\n ዋጋ፦  💵🏷  500ብር\n\n♦️ውስን ፍሬ ነው ያለው 🔥🔥🔥\n\n🏢 አድራሻ👉\n\n📍♦️#መገናኛ_መሰረት_ደፋር_ሞል_ሁለተኛ_ፎቅ ቢሮ ቁ. S05/S06\n\n\n     💧💧💧💧\n\n\n    📲 0902660722\n    📲 0928460606 \n\n🔖\n💬በTelegram ለማዘዝ ⤵️ ይጠቀሙ🔽\n\n@zemencallcenter \n\n@zemenexpressadmin\n\nለተጨማሪ ማብራሪያ የቴሌግራም ገፃችን⤵️\nhttps://telegram.me/zemenexpress\n\n💥💥...................................💥💥",
         "2025-06-12 04:52:31+00:00",
         null
        ],
        [
         "46",
         "Zemen Express®",
         "@ZemenExpress",
         "6931",
         null,
         "2025-06-11 04:56:32+00:00",
         "data\\photos\\@ZemenExpress_6931.jpg"
        ],
        [
         "47",
         "Zemen Express®",
         "@ZemenExpress",
         "6930",
         null,
         "2025-06-11 04:56:31+00:00",
         "data\\photos\\@ZemenExpress_6930.jpg"
        ],
        [
         "48",
         "Zemen Express®",
         "@ZemenExpress",
         "6929",
         "💥👀 አልቋል ለተባላችሁ በድጋሜ ገብቷል 💥💥\n\n📌 Only baby 3in1 double bottle milk warmer,sterilizer,food steamer\n\n⚡️ለሕፃን ወተት ማሞቂያ\n⚠️ በተጨማሪ ምግብ ለመቀቀል የሚሆን \n\nዋጋ፦  💲🏷 3000  ብር\n\n♦️ውስን ፍሬ ነው ያለው🔥🔥🔥\n\n🏢 አድራሻ👉\n\n📍♦️#መገናኛ_መሰረት_ደፋር_ሞል_ሁለተኛ_ፎቅ ቢሮ ቁ. S05/S06\n\n\n     💧💧💧💧\n\n\n    📲 0902660722\n    📲 0928460606 \n\n🔖\n💬በTelegram ለማዘዝ ⤵️ ይጠቀሙ🔽\n\n@zemencallcenter \n\n@zemenexpressadmin\n\nለተጨማሪ ማብራሪያ የቴሌግራም ገፃችን⤵️\nhttps://telegram.me/zemenexpress\n\n💥💥...................................💥💥",
         "2025-06-11 04:56:31+00:00",
         "data\\photos\\@ZemenExpress_6929.jpg"
        ],
        [
         "49",
         "Zemen Express®",
         "@ZemenExpress",
         "6925",
         null,
         "2025-06-11 04:54:56+00:00",
         "data\\photos\\@ZemenExpress_6925.jpg"
        ]
       ],
       "shape": {
        "columns": 6,
        "rows": 37378
       }
      },
      "text/html": [
       "<div>\n",
       "<style scoped>\n",
       "    .dataframe tbody tr th:only-of-type {\n",
       "        vertical-align: middle;\n",
       "    }\n",
       "\n",
       "    .dataframe tbody tr th {\n",
       "        vertical-align: top;\n",
       "    }\n",
       "\n",
       "    .dataframe thead th {\n",
       "        text-align: right;\n",
       "    }\n",
       "</style>\n",
       "<table border=\"1\" class=\"dataframe\">\n",
       "  <thead>\n",
       "    <tr style=\"text-align: right;\">\n",
       "      <th></th>\n",
       "      <th>Channel Title</th>\n",
       "      <th>Channel Username</th>\n",
       "      <th>ID</th>\n",
       "      <th>Message</th>\n",
       "      <th>Date</th>\n",
       "      <th>Media Path</th>\n",
       "    </tr>\n",
       "  </thead>\n",
       "  <tbody>\n",
       "    <tr>\n",
       "      <th>0</th>\n",
       "      <td>Zemen Express®</td>\n",
       "      <td>@ZemenExpress</td>\n",
       "      <td>6982</td>\n",
       "      <td>💥💥...................................💥💥\\n\\n📌Im...</td>\n",
       "      <td>2025-06-18 06:01:10+00:00</td>\n",
       "      <td>NaN</td>\n",
       "    </tr>\n",
       "    <tr>\n",
       "      <th>1</th>\n",
       "      <td>Zemen Express®</td>\n",
       "      <td>@ZemenExpress</td>\n",
       "      <td>6981</td>\n",
       "      <td>💥💥...................................💥💥\\n\\n📌 B...</td>\n",
       "      <td>2025-06-16 12:21:00+00:00</td>\n",
       "      <td>NaN</td>\n",
       "    </tr>\n",
       "    <tr>\n",
       "      <th>2</th>\n",
       "      <td>Zemen Express®</td>\n",
       "      <td>@ZemenExpress</td>\n",
       "      <td>6980</td>\n",
       "      <td>NaN</td>\n",
       "      <td>2025-06-16 05:11:57+00:00</td>\n",
       "      <td>data\\photos\\@ZemenExpress_6980.jpg</td>\n",
       "    </tr>\n",
       "    <tr>\n",
       "      <th>3</th>\n",
       "      <td>Zemen Express®</td>\n",
       "      <td>@ZemenExpress</td>\n",
       "      <td>6979</td>\n",
       "      <td>NaN</td>\n",
       "      <td>2025-06-16 05:11:57+00:00</td>\n",
       "      <td>data\\photos\\@ZemenExpress_6979.jpg</td>\n",
       "    </tr>\n",
       "    <tr>\n",
       "      <th>4</th>\n",
       "      <td>Zemen Express®</td>\n",
       "      <td>@ZemenExpress</td>\n",
       "      <td>6978</td>\n",
       "      <td>NaN</td>\n",
       "      <td>2025-06-16 05:11:57+00:00</td>\n",
       "      <td>data\\photos\\@ZemenExpress_6978.jpg</td>\n",
       "    </tr>\n",
       "    <tr>\n",
       "      <th>...</th>\n",
       "      <td>...</td>\n",
       "      <td>...</td>\n",
       "      <td>...</td>\n",
       "      <td>...</td>\n",
       "      <td>...</td>\n",
       "      <td>...</td>\n",
       "    </tr>\n",
       "    <tr>\n",
       "      <th>37373</th>\n",
       "      <td>Sheger online-store</td>\n",
       "      <td>@Shageronlinestore</td>\n",
       "      <td>10</td>\n",
       "      <td>🎯 3in1 One Step Hair Dryer &amp; Styler \\n\\n👉 ከርል ...</td>\n",
       "      <td>2021-04-27 05:57:12+00:00</td>\n",
       "      <td>data\\photos\\@Shageronlinestore_10.jpg</td>\n",
       "    </tr>\n",
       "    <tr>\n",
       "      <th>37374</th>\n",
       "      <td>Sheger online-store</td>\n",
       "      <td>@Shageronlinestore</td>\n",
       "      <td>9</td>\n",
       "      <td>✅ Home GYM - X5 slimming vibrator \\n\\n📢📢📢 ታላቅ ...</td>\n",
       "      <td>2021-04-27 05:45:57+00:00</td>\n",
       "      <td>data\\photos\\@Shageronlinestore_9.jpg</td>\n",
       "    </tr>\n",
       "    <tr>\n",
       "      <th>37375</th>\n",
       "      <td>Sheger online-store</td>\n",
       "      <td>@Shageronlinestore</td>\n",
       "      <td>4</td>\n",
       "      <td>ለጤናችን-Health &amp; Personal Care\\n\\n📍FingerTip Pul...</td>\n",
       "      <td>2021-04-12 08:36:40+00:00</td>\n",
       "      <td>data\\photos\\@Shageronlinestore_4.jpg</td>\n",
       "    </tr>\n",
       "    <tr>\n",
       "      <th>37376</th>\n",
       "      <td>Sheger online-store</td>\n",
       "      <td>@Shageronlinestore</td>\n",
       "      <td>3</td>\n",
       "      <td>#Finger_tip_pulse_oximeter\\n       #በተመጣጣኝ_ዋጋ\\...</td>\n",
       "      <td>2021-04-12 08:35:47+00:00</td>\n",
       "      <td>data\\photos\\@Shageronlinestore_3.jpg</td>\n",
       "    </tr>\n",
       "    <tr>\n",
       "      <th>37377</th>\n",
       "      <td>Sheger online-store</td>\n",
       "      <td>@Shageronlinestore</td>\n",
       "      <td>1</td>\n",
       "      <td>NaN</td>\n",
       "      <td>2021-04-11 10:31:03+00:00</td>\n",
       "      <td>NaN</td>\n",
       "    </tr>\n",
       "  </tbody>\n",
       "</table>\n",
       "<p>37378 rows × 6 columns</p>\n",
       "</div>"
      ],
      "text/plain": [
       "             Channel Title    Channel Username    ID  \\\n",
       "0           Zemen Express®       @ZemenExpress  6982   \n",
       "1           Zemen Express®       @ZemenExpress  6981   \n",
       "2           Zemen Express®       @ZemenExpress  6980   \n",
       "3           Zemen Express®       @ZemenExpress  6979   \n",
       "4           Zemen Express®       @ZemenExpress  6978   \n",
       "...                    ...                 ...   ...   \n",
       "37373  Sheger online-store  @Shageronlinestore    10   \n",
       "37374  Sheger online-store  @Shageronlinestore     9   \n",
       "37375  Sheger online-store  @Shageronlinestore     4   \n",
       "37376  Sheger online-store  @Shageronlinestore     3   \n",
       "37377  Sheger online-store  @Shageronlinestore     1   \n",
       "\n",
       "                                                 Message  \\\n",
       "0      💥💥...................................💥💥\\n\\n📌Im...   \n",
       "1      💥💥...................................💥💥\\n\\n📌 B...   \n",
       "2                                                    NaN   \n",
       "3                                                    NaN   \n",
       "4                                                    NaN   \n",
       "...                                                  ...   \n",
       "37373  🎯 3in1 One Step Hair Dryer & Styler \\n\\n👉 ከርል ...   \n",
       "37374  ✅ Home GYM - X5 slimming vibrator \\n\\n📢📢📢 ታላቅ ...   \n",
       "37375  ለጤናችን-Health & Personal Care\\n\\n📍FingerTip Pul...   \n",
       "37376  #Finger_tip_pulse_oximeter\\n       #በተመጣጣኝ_ዋጋ\\...   \n",
       "37377                                                NaN   \n",
       "\n",
       "                            Date                             Media Path  \n",
       "0      2025-06-18 06:01:10+00:00                                    NaN  \n",
       "1      2025-06-16 12:21:00+00:00                                    NaN  \n",
       "2      2025-06-16 05:11:57+00:00     data\\photos\\@ZemenExpress_6980.jpg  \n",
       "3      2025-06-16 05:11:57+00:00     data\\photos\\@ZemenExpress_6979.jpg  \n",
       "4      2025-06-16 05:11:57+00:00     data\\photos\\@ZemenExpress_6978.jpg  \n",
       "...                          ...                                    ...  \n",
       "37373  2021-04-27 05:57:12+00:00  data\\photos\\@Shageronlinestore_10.jpg  \n",
       "37374  2021-04-27 05:45:57+00:00   data\\photos\\@Shageronlinestore_9.jpg  \n",
       "37375  2021-04-12 08:36:40+00:00   data\\photos\\@Shageronlinestore_4.jpg  \n",
       "37376  2021-04-12 08:35:47+00:00   data\\photos\\@Shageronlinestore_3.jpg  \n",
       "37377  2021-04-11 10:31:03+00:00                                    NaN  \n",
       "\n",
       "[37378 rows x 6 columns]"
      ]
     },
     "execution_count": 2,
     "metadata": {},
     "output_type": "execute_result"
    }
   ],
   "source": [
    "# Load csv file\n",
    "df = pd.read_csv('../data/telegram_data.csv')\n",
    "df"
   ]
  },
  {
   "cell_type": "code",
   "execution_count": 3,
   "id": "7598baad",
   "metadata": {},
   "outputs": [
    {
     "data": {
      "application/vnd.microsoft.datawrangler.viewer.v0+json": {
       "columns": [
        {
         "name": "index",
         "rawType": "int64",
         "type": "integer"
        },
        {
         "name": "Channel Title",
         "rawType": "object",
         "type": "string"
        },
        {
         "name": "Channel Username",
         "rawType": "object",
         "type": "string"
        },
        {
         "name": "ID",
         "rawType": "int64",
         "type": "integer"
        },
        {
         "name": "Message",
         "rawType": "object",
         "type": "unknown"
        },
        {
         "name": "Date",
         "rawType": "object",
         "type": "string"
        },
        {
         "name": "Media Path",
         "rawType": "object",
         "type": "unknown"
        },
        {
         "name": "Cleaned_Message",
         "rawType": "object",
         "type": "string"
        },
        {
         "name": "Tokens",
         "rawType": "object",
         "type": "unknown"
        }
       ],
       "ref": "4732ae91-34a6-451c-b088-3b474d595836",
       "rows": [
        [
         "0",
         "Zemen Express®",
         "@ZemenExpress",
         "6982",
         "💥💥...................................💥💥\n\n📌Imitation Volcano Humidifier with LED Light\n\n👍በኤሌክትሪክ:የሚሰራ ለቤት መልካም መዓዛን የሚሰጥ\n\nዋጋ፦  💲🏷  1400 ብር\n\n📍ውስን ፍሬ ነው ያለን🔥🔥🔥\n\n🏢 አድራሻ👉\n\n📍♦️#መገናኛ_መሰረት_ደፋር_ሞል_ሁለተኛ_ፎቅ ቢሮ ቁ. S05/S06\n\n\n     💧💧💧💧\n\n\n    📲 0902660722\n    📲 0928460606 \n\n🔖\n💬በTelegram ለማዘዝ ⤵️ ይጠቀሙ🔽\n\n@zemencallcenter \n\n@zemenexpressadmin\n\nለተጨማሪ ማብራሪያ የቴሌግራም ገፃችን⤵️\nhttps://telegram.me/zemenexpress\n\n💥💥...................................💥💥",
         "2025-06-18 06:01:10+00:00",
         null,
         "Imitation Volcano Humidifier with LED Light\n\nበኤሌክትሪክ፡የሚሰራ ለቤት መልካም መአዛን የሚሰጥ\n\nዋጋ፦    1400 ብር\n\nውስን ፍሬ ነው ያለን\n\n አድራሻ\n\n#መገናኛ መሰረት ደፋር ሞል ሁለተኛ ፎቅ ቢሮ ቁ  S05/S06\n\n\n     \n\n\n     0902660722\n     0928460606 \n\n\nበTelegram ለማዘዝ  ይጠቀሙ\n\n@zemencallcenter \n\n@zemenexpressadmin\n\nለተጨማሪ ማብራሪያ የቴሌግራም ገፃችን\nhttps //telegram me/zemenexpress",
         "['Imitation', 'Volcano', 'Humidifier', 'with', 'LED', 'Light', 'በኤሌክትሪክ', 'የሚሰራ', 'ለቤት', 'መልካም', 'መአዛን', 'የሚሰጥ', 'ዋጋ', '1400', 'ብር', 'ውስን', 'ፍሬ', 'ነው', 'ያለን', 'አድራሻ', 'መገናኛ', 'መሰረት', 'ደፋር', 'ሞል', 'ሁለተኛ', 'ፎቅ', 'ቢሮ', 'ቁ', 'S05', 'S06', '0902660722', '0928460606', 'በ', 'Telegram', 'ለማዘዝ', 'ይጠቀሙ', 'zemencallcenter', 'zemenexpressadmin', 'ለተጨማሪ', 'ማብራሪያ', 'የቴሌግራም', 'ገፃችን', 'https', 'telegram', 'me', 'zemenexpress']"
        ],
        [
         "1",
         "Zemen Express®",
         "@ZemenExpress",
         "6981",
         "💥💥...................................💥💥\n\n📌 Baby Carrier\n\n👍በፈለጉት አቅጣጫ ልጅዎን  በምቾት ማዘል ያስችልዎታል\n\nዋጋ፦  💲🏷  2400 ብር\n\n📍ውስን ፍሬ ነው ያለን🔥🔥🔥\n\n🏢 አድራሻ👉\n\n📍♦️#መገናኛ_መሰረት_ደፋር_ሞል_ሁለተኛ_ፎቅ ቢሮ ቁ. S05/S06\n\n\n     💧💧💧💧\n\n\n    📲 0902660722\n    📲 0928460606 \n\n🔖\n💬በTelegram ለማዘዝ ⤵️ ይጠቀሙ🔽\n\n@zemencallcenter \n\n@zemenexpressadmin\n\nለተጨማሪ ማብራሪያ የቴሌግራም ገፃችን⤵️\nhttps://telegram.me/zemenexpress\n\n💥💥...................................💥💥",
         "2025-06-16 12:21:00+00:00",
         null,
         "Baby Carrier\n\nበፈለጉት አቅጣጫ ልጅዎን  በምቾት ማዘል ያስችልዎታል\n\nዋጋ፦    2400 ብር\n\nውስን ፍሬ ነው ያለን\n\n አድራሻ\n\n#መገናኛ መሰረት ደፋር ሞል ሁለተኛ ፎቅ ቢሮ ቁ  S05/S06\n\n\n     \n\n\n     0902660722\n     0928460606 \n\n\nበTelegram ለማዘዝ  ይጠቀሙ\n\n@zemencallcenter \n\n@zemenexpressadmin\n\nለተጨማሪ ማብራሪያ የቴሌግራም ገፃችን\nhttps //telegram me/zemenexpress",
         "['Baby', 'Carrier', 'በፈለጉት', 'አቅጣጫ', 'ልጅዎን', 'በምቾት', 'ማዘል', 'ያስችልዎታል', 'ዋጋ', '2400', 'ብር', 'ውስን', 'ፍሬ', 'ነው', 'ያለን', 'አድራሻ', 'መገናኛ', 'መሰረት', 'ደፋር', 'ሞል', 'ሁለተኛ', 'ፎቅ', 'ቢሮ', 'ቁ', 'S05', 'S06', '0902660722', '0928460606', 'በ', 'Telegram', 'ለማዘዝ', 'ይጠቀሙ', 'zemencallcenter', 'zemenexpressadmin', 'ለተጨማሪ', 'ማብራሪያ', 'የቴሌግራም', 'ገፃችን', 'https', 'telegram', 'me', 'zemenexpress']"
        ],
        [
         "2",
         "Zemen Express®",
         "@ZemenExpress",
         "6980",
         null,
         "2025-06-16 05:11:57+00:00",
         "data\\photos\\@ZemenExpress_6980.jpg",
         "",
         "[]"
        ],
        [
         "3",
         "Zemen Express®",
         "@ZemenExpress",
         "6979",
         null,
         "2025-06-16 05:11:57+00:00",
         "data\\photos\\@ZemenExpress_6979.jpg",
         "",
         "[]"
        ],
        [
         "4",
         "Zemen Express®",
         "@ZemenExpress",
         "6978",
         null,
         "2025-06-16 05:11:57+00:00",
         "data\\photos\\@ZemenExpress_6978.jpg",
         "",
         "[]"
        ]
       ],
       "shape": {
        "columns": 8,
        "rows": 5
       }
      },
      "text/html": [
       "<div>\n",
       "<style scoped>\n",
       "    .dataframe tbody tr th:only-of-type {\n",
       "        vertical-align: middle;\n",
       "    }\n",
       "\n",
       "    .dataframe tbody tr th {\n",
       "        vertical-align: top;\n",
       "    }\n",
       "\n",
       "    .dataframe thead th {\n",
       "        text-align: right;\n",
       "    }\n",
       "</style>\n",
       "<table border=\"1\" class=\"dataframe\">\n",
       "  <thead>\n",
       "    <tr style=\"text-align: right;\">\n",
       "      <th></th>\n",
       "      <th>Channel Title</th>\n",
       "      <th>Channel Username</th>\n",
       "      <th>ID</th>\n",
       "      <th>Message</th>\n",
       "      <th>Date</th>\n",
       "      <th>Media Path</th>\n",
       "      <th>Cleaned_Message</th>\n",
       "      <th>Tokens</th>\n",
       "    </tr>\n",
       "  </thead>\n",
       "  <tbody>\n",
       "    <tr>\n",
       "      <th>0</th>\n",
       "      <td>Zemen Express®</td>\n",
       "      <td>@ZemenExpress</td>\n",
       "      <td>6982</td>\n",
       "      <td>💥💥...................................💥💥\\n\\n📌Im...</td>\n",
       "      <td>2025-06-18 06:01:10+00:00</td>\n",
       "      <td>NaN</td>\n",
       "      <td>Imitation Volcano Humidifier with LED Light\\n\\...</td>\n",
       "      <td>[Imitation, Volcano, Humidifier, with, LED, Li...</td>\n",
       "    </tr>\n",
       "    <tr>\n",
       "      <th>1</th>\n",
       "      <td>Zemen Express®</td>\n",
       "      <td>@ZemenExpress</td>\n",
       "      <td>6981</td>\n",
       "      <td>💥💥...................................💥💥\\n\\n📌 B...</td>\n",
       "      <td>2025-06-16 12:21:00+00:00</td>\n",
       "      <td>NaN</td>\n",
       "      <td>Baby Carrier\\n\\nበፈለጉት አቅጣጫ ልጅዎን  በምቾት ማዘል ያስችል...</td>\n",
       "      <td>[Baby, Carrier, በፈለጉት, አቅጣጫ, ልጅዎን, በምቾት, ማዘል, ...</td>\n",
       "    </tr>\n",
       "    <tr>\n",
       "      <th>2</th>\n",
       "      <td>Zemen Express®</td>\n",
       "      <td>@ZemenExpress</td>\n",
       "      <td>6980</td>\n",
       "      <td>NaN</td>\n",
       "      <td>2025-06-16 05:11:57+00:00</td>\n",
       "      <td>data\\photos\\@ZemenExpress_6980.jpg</td>\n",
       "      <td></td>\n",
       "      <td>[]</td>\n",
       "    </tr>\n",
       "    <tr>\n",
       "      <th>3</th>\n",
       "      <td>Zemen Express®</td>\n",
       "      <td>@ZemenExpress</td>\n",
       "      <td>6979</td>\n",
       "      <td>NaN</td>\n",
       "      <td>2025-06-16 05:11:57+00:00</td>\n",
       "      <td>data\\photos\\@ZemenExpress_6979.jpg</td>\n",
       "      <td></td>\n",
       "      <td>[]</td>\n",
       "    </tr>\n",
       "    <tr>\n",
       "      <th>4</th>\n",
       "      <td>Zemen Express®</td>\n",
       "      <td>@ZemenExpress</td>\n",
       "      <td>6978</td>\n",
       "      <td>NaN</td>\n",
       "      <td>2025-06-16 05:11:57+00:00</td>\n",
       "      <td>data\\photos\\@ZemenExpress_6978.jpg</td>\n",
       "      <td></td>\n",
       "      <td>[]</td>\n",
       "    </tr>\n",
       "  </tbody>\n",
       "</table>\n",
       "</div>"
      ],
      "text/plain": [
       "    Channel Title Channel Username    ID  \\\n",
       "0  Zemen Express®    @ZemenExpress  6982   \n",
       "1  Zemen Express®    @ZemenExpress  6981   \n",
       "2  Zemen Express®    @ZemenExpress  6980   \n",
       "3  Zemen Express®    @ZemenExpress  6979   \n",
       "4  Zemen Express®    @ZemenExpress  6978   \n",
       "\n",
       "                                             Message  \\\n",
       "0  💥💥...................................💥💥\\n\\n📌Im...   \n",
       "1  💥💥...................................💥💥\\n\\n📌 B...   \n",
       "2                                                NaN   \n",
       "3                                                NaN   \n",
       "4                                                NaN   \n",
       "\n",
       "                        Date                          Media Path  \\\n",
       "0  2025-06-18 06:01:10+00:00                                 NaN   \n",
       "1  2025-06-16 12:21:00+00:00                                 NaN   \n",
       "2  2025-06-16 05:11:57+00:00  data\\photos\\@ZemenExpress_6980.jpg   \n",
       "3  2025-06-16 05:11:57+00:00  data\\photos\\@ZemenExpress_6979.jpg   \n",
       "4  2025-06-16 05:11:57+00:00  data\\photos\\@ZemenExpress_6978.jpg   \n",
       "\n",
       "                                     Cleaned_Message  \\\n",
       "0  Imitation Volcano Humidifier with LED Light\\n\\...   \n",
       "1  Baby Carrier\\n\\nበፈለጉት አቅጣጫ ልጅዎን  በምቾት ማዘል ያስችል...   \n",
       "2                                                      \n",
       "3                                                      \n",
       "4                                                      \n",
       "\n",
       "                                              Tokens  \n",
       "0  [Imitation, Volcano, Humidifier, with, LED, Li...  \n",
       "1  [Baby, Carrier, በፈለጉት, አቅጣጫ, ልጅዎን, በምቾት, ማዘል, ...  \n",
       "2                                                 []  \n",
       "3                                                 []  \n",
       "4                                                 []  "
      ]
     },
     "execution_count": 3,
     "metadata": {},
     "output_type": "execute_result"
    }
   ],
   "source": [
    "# Preprocess the data\n",
    "meta, content, df_processed = DataPreprocess.preprocess_dataframe(df)\n",
    "df_processed.head()"
   ]
  },
  {
   "cell_type": "code",
   "execution_count": 4,
   "id": "0b939af6",
   "metadata": {},
   "outputs": [
    {
     "name": "stdout",
     "output_type": "stream",
     "text": [
      "Processed data saved to ../data/telegram_data_processed.csv\n"
     ]
    }
   ],
   "source": [
    "# Save the processed DataFrame to a new CSV file\n",
    "output_path = '../data/telegram_data_processed.csv'\n",
    "df_processed.to_csv(output_path, index=False)\n",
    "print(f\"Processed data saved to {output_path}\")"
   ]
  },
  {
   "cell_type": "code",
   "execution_count": 6,
   "id": "8d835d55",
   "metadata": {},
   "outputs": [
    {
     "name": "stdout",
     "output_type": "stream",
     "text": [
      "CoNLL-formatted data saved to ../data/telegram_data_conll.txt\n"
     ]
    }
   ],
   "source": [
    "# Label a Subset of Dataset in CoNLL Format\n",
    "Label.label_dataframe(df_processed)"
   ]
  }
 ],
 "metadata": {
  "kernelspec": {
   "display_name": "Python 3",
   "language": "python",
   "name": "python3"
  },
  "language_info": {
   "codemirror_mode": {
    "name": "ipython",
    "version": 3
   },
   "file_extension": ".py",
   "mimetype": "text/x-python",
   "name": "python",
   "nbconvert_exporter": "python",
   "pygments_lexer": "ipython3",
   "version": "3.12.3"
  }
 },
 "nbformat": 4,
 "nbformat_minor": 5
}
