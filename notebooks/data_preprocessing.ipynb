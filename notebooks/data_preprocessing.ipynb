{
 "cells": [
  {
   "cell_type": "markdown",
   "id": "5a23f1da",
   "metadata": {},
   "source": [
    "# Data Preprocessing"
   ]
  },
  {
   "cell_type": "code",
   "execution_count": 1,
   "id": "6277fb8d",
   "metadata": {},
   "outputs": [],
   "source": [
    "# Importing modules\n",
    "import pandas as pd\n",
    "import os\n",
    "import sys\n",
    "module_path = os.path.abspath(os.path.join('..'))\n",
    "if module_path not in sys.path:\n",
    "    sys.path.append(module_path)\n",
    "\n",
    "from scripts.data_preprocess import DataPreprocess\n",
    "from scripts.label import Label"
   ]
  },
  {
   "cell_type": "code",
   "execution_count": 2,
   "id": "e8e8929b",
   "metadata": {},
   "outputs": [
    {
     "data": {
      "application/vnd.microsoft.datawrangler.viewer.v0+json": {
       "columns": [
        {
         "name": "index",
         "rawType": "int64",
         "type": "integer"
        },
        {
         "name": "Channel Title",
         "rawType": "object",
         "type": "string"
        },
        {
         "name": "Channel Username",
         "rawType": "object",
         "type": "string"
        },
        {
         "name": "ID",
         "rawType": "int64",
         "type": "integer"
        },
        {
         "name": "Sender",
         "rawType": "object",
         "type": "string"
        },
        {
         "name": "Message",
         "rawType": "object",
         "type": "unknown"
        },
        {
         "name": "Date",
         "rawType": "object",
         "type": "string"
        },
        {
         "name": "Views",
         "rawType": "float64",
         "type": "float"
        }
       ],
       "ref": "bb8adc43-1a23-4176-865c-f4798db5a0e4",
       "rows": [
        [
         "0",
         "AwasMart-አዋስማርት🎁",
         "@AwasMart",
         "11892",
         "AwasMart",
         null,
         "2025-06-27 16:32:23+00:00",
         "856.0"
        ],
        [
         "1",
         "AwasMart-አዋስማርት🎁",
         "@AwasMart",
         "11891",
         "AwasMart",
         null,
         "2025-06-27 16:32:23+00:00",
         "862.0"
        ],
        [
         "2",
         "AwasMart-አዋስማርት🎁",
         "@AwasMart",
         "11890",
         "AwasMart",
         null,
         "2025-06-27 16:32:23+00:00",
         "862.0"
        ],
        [
         "3",
         "AwasMart-አዋስማርት🎁",
         "@AwasMart",
         "11889",
         "AwasMart",
         null,
         "2025-06-27 16:32:23+00:00",
         "862.0"
        ],
        [
         "4",
         "AwasMart-አዋስማርት🎁",
         "@AwasMart",
         "11888",
         "AwasMart",
         null,
         "2025-06-27 16:32:23+00:00",
         "860.0"
        ],
        [
         "5",
         "AwasMart-አዋስማርት🎁",
         "@AwasMart",
         "11887",
         "AwasMart",
         null,
         "2025-06-27 16:32:23+00:00",
         "862.0"
        ],
        [
         "6",
         "AwasMart-አዋስማርት🎁",
         "@AwasMart",
         "11886",
         "AwasMart",
         null,
         "2025-06-27 16:32:23+00:00",
         "861.0"
        ],
        [
         "7",
         "AwasMart-አዋስማርት🎁",
         "@AwasMart",
         "11885",
         "AwasMart",
         "📊📊📊📊📊📊📊📊📊📊📊📊",
         "2025-06-27 16:32:22+00:00",
         "868.0"
        ],
        [
         "8",
         "AwasMart-አዋስማርት🎁",
         "@AwasMart",
         "11884",
         "AwasMart",
         "📊📊📊📊📊📊📊📊📊📊📊📊\n❇️ Sayona Hand mixer\n\n👉Power:-500watt\n👉Mixer with blender\n👉5 speeds + turbo\n👉Stainless steel blade\n\n       ዋጋ💵፦  💰 2,400 ብር\n\n💬በቴሌግራም ለማዘዝ @wamrt1\n                                   @wamrt2\n📍አድራሻችን:-\n1️⃣.📌 ሜክሲኮ አልሳም አፓርታማ ግራውንድ ቁ. 29\n\n2️⃣.📌 ቦሌ መድሐኔዓለም ቦሌ መሰናዶ ት/ቤት ፊትለፊት አለምነሽ ፕላዛ ግራውንድ ሱቅ ቁጥር 05 \n\n📻(+251941661030 / +251943190237)\n\n👍ለወዳጅዎ ስላጋሩ እናመሠግናለን ☺️\n\n🤪 ቴሌግራም ቻናል t.me/AwasMart\n\n📌📌📌📌📌📌📌📌📌📌📌",
         "2025-06-27 16:31:45+00:00",
         "865.0"
        ],
        [
         "9",
         "AwasMart-አዋስማርት🎁",
         "@AwasMart",
         "11883",
         "AwasMart",
         "❇️Tempered glass bakeware set 3pcs\nየመስታዎት ፓትራዎች 🥧 🥮",
         "2025-06-27 12:35:19+00:00",
         "1315.0"
        ],
        [
         "10",
         "AwasMart-አዋስማርት🎁",
         "@AwasMart",
         "11882",
         "AwasMart",
         "❇️Tempered glass bakeware set 3pcs\nየመስታዎት ፓትራዎች 🥧 🥮 \n\n👉Oval shaped\n\n🔰ገበታ ላይ መቅረብ የሚችሉ ውብ የመስታዎት ፓትራዎች \n   \n🔰 ሶስት የተለያየ መጠን ያላቸው \n\n🔰ለላዛኛ ፣ ፓስታ ፍርኖ፣ ኬክ  ተመራጭ\n\n🔰ውብና ማራኪ ገበታ ላይ  መቅረብ የሚችሉ \n\n🔰ውፍራም ማንኛውንም ሙቀት የሚቋቋም\n\n       ዋጋ💵፦  💰 3,700 ብር\n\n💬በቴሌግራም ለማዘዝ @wamrt1\n                                   @wamrt2\n📍አድራሻችን:-\n1️⃣.📌 ሜክሲኮ አልሳም አፓርታማ ግራውንድ ቁ. 29\n\n2️⃣.📌 ቦሌ መድሐኔዓለም ቦሌ መሰናዶ ት/ቤት ፊትለፊት አለምነሽ ፕላዛ ግራውንድ ሱቅ ቁጥር 05 \n\n📻(+251941661030 / +251943190237)\n\n👍ለወዳጅዎ ስላጋሩ እናመሠግናለን ☺️\n\n🤪 ቴሌግራም ቻናል t.me/AwasMart\n\n📌📌📌📌📌📌📌📌📌📌📌",
         "2025-06-27 12:35:19+00:00",
         "1247.0"
        ],
        [
         "11",
         "AwasMart-አዋስማርት🎁",
         "@AwasMart",
         "11881",
         "AwasMart",
         "❇️Foot Bath Massager",
         "2025-06-27 07:39:41+00:00",
         "1643.0"
        ],
        [
         "12",
         "AwasMart-አዋስማርት🎁",
         "@AwasMart",
         "11880",
         "AwasMart",
         null,
         "2025-06-27 07:39:41+00:00",
         "1581.0"
        ],
        [
         "13",
         "AwasMart-አዋስማርት🎁",
         "@AwasMart",
         "11879",
         "AwasMart",
         "❇️Foot Bath Massager \n\n✔️ ለእግሮቻችን ተጨማሪ ውበት \n      የሚያላብስ\n\n✔️እግራችን መዳፍ ላይ የሚገኙትን የነርቭ\n      ጫፎች በማነቃቃት ጤናማ የደም \n       ዝውውር ስርአት ለመፍጠር የሚረዳ \n✔️ተመራጭ የእግር ማሳጅ ማድረጊያ\n\n        ዋጋ💵፦  💰 4,500 ብር\n\n💬በቴሌግራም ለማዘዝ @wamrt1\n                                   @wamrt2\n📍አድራሻችን:-\n1️⃣.📌 ሜክሲኮ አልሳም አፓርታማ ግራውንድ ቁ. 29\n\n2️⃣.📌 ቦሌ መድሐኔዓለም ቦሌ መሰናዶ ት/ቤት ፊትለፊት አለምነሽ ፕላዛ ግራውንድ ሱቅ ቁጥር 05 \n\n📻(+251941661030 / +251943190237)\n\n👍ለወዳጅዎ ስላጋሩ እናመሠግናለን ☺️\n\n🤪 ቴሌግራም ቻናል t.me/AwasMart\n\n📌📌📌📌📌📌📌📌📌📌📌",
         "2025-06-27 07:39:41+00:00",
         "1568.0"
        ],
        [
         "14",
         "AwasMart-አዋስማርት🎁",
         "@AwasMart",
         "11878",
         "AwasMart",
         "❇️Special Base for Refrigerators",
         "2025-06-25 16:41:08+00:00",
         "2319.0"
        ],
        [
         "15",
         "AwasMart-አዋስማርት🎁",
         "@AwasMart",
         "11877",
         "AwasMart",
         "❇️Special Base for Refrigerators\nየፍሪጅ ማስቀመጫ\n👉 እስከ 220 ኪሎ ድረስ ዕቃ የሚሸከም\n👉 ወፍራም ብረት\n👉 stretch:- 40*69cm\n👉 ከአነስተኛ ፍሪጆች እስከ Side by Side ፍሪጆች የሚሆን\n👉 በተጨማሪም አውቶማቲክ  የልብስ ማጠቢያ ላውንደሪዎች እና ኦቭን ምድጃዎችን ለማስቀመጥ የሚያስችል\n👉 የራሱ ጠንካራ ጎማዎች ስላሉት ለማንቀሳቀስ ቀላል\n👉 ጎማ መቆለፊያ ያለው\n\n       ዋጋ💵፦  💰 2,000 ብር\n\n💬በቴሌግራም ለማዘዝ @wamrt1\n                                   @wamrt2\n📍አድራሻችን:-\n1️⃣.📌 ሜክሲኮ አልሳም አፓርታማ ግራውንድ ቁ. 29\n\n2️⃣.📌 ቦሌ መድሐኔዓለም ቦሌ መሰናዶ ት/ቤት ፊትለፊት አለምነሽ ፕላዛ ግራውንድ ሱቅ ቁጥር 05 \n\n📻(+251941661030 / +251943190237)\n\n👍ለወዳጅዎ ስላጋሩ እናመሠግናለን ☺️\n\n🤪 ቴሌግራም ቻናል t.me/AwasMart\n\n📌📌📌📌📌📌📌📌📌📌📌",
         "2025-06-25 16:41:08+00:00",
         "2216.0"
        ],
        [
         "16",
         "AwasMart-አዋስማርት🎁",
         "@AwasMart",
         "11876",
         "AwasMart",
         "👼👼👼👼👼👼👼👼👼👼👼\n❇️Baby Silicone Bag Waterproof Adjustable Feeding Bib Saliva Bag\n\n🙇ለመመገብ ምቹ ነው። መፍሰስን ለመከላከል ይረዳል።\n🙇ለማጽዳት ቀላል ::\n🙇 ለማንኛውም ምግብ ጀማሪ ልጅ   ።\n\nዋጋ💵፦  💰 250 ብር\n\n💬በቴሌግራም ለማዘዝ @wamrt1\n                                   @wamrt2\n📍አድራሻችን:-\n1️⃣.📌 ሜክሲኮ አልሳም አፓርታማ ግራውንድ ቁ. 29\n\n2️⃣.📌 ቦሌ መድሐኔዓለም ቦሌ መሰናዶ ት/ቤት ፊትለፊት አለምነሽ ፕላዛ ግራውንድ ሱቅ ቁጥር 05 \n\n📻(+251941661030 / +251943190237)\n\n👍ለወዳጅዎ ስላጋሩ እናመሠግናለን ☺️\n\n🤪 ቴሌግራም ቻናል t.me/AwasMart\n\n📌📌📌📌📌📌📌📌📌📌📌",
         "2025-06-25 13:08:42+00:00",
         "2260.0"
        ],
        [
         "17",
         "AwasMart-አዋስማርት🎁",
         "@AwasMart",
         "11875",
         "AwasMart",
         "❇️Lunch Box Bag\n\n       ዋጋ💵፦  💰 1000 ብር\n\n💬በቴሌግራም ለማዘዝ @wamrt1\n                                   @wamrt2\n📍አድራሻችን:-\n1️⃣.📌 ሜክሲኮ አልሳም አፓርታማ ግራውንድ ቁ. 29\n\n2️⃣.📌 ቦሌ መድሐኔዓለም ቦሌ መሰናዶ ት/ቤት ፊትለፊት አለምነሽ ፕላዛ ግራውንድ ሱቅ ቁጥር 05 \n\n📻(+251941661030 / +251943190237)\n\n👍ለወዳጅዎ ስላጋሩ እናመሠግናለን ☺️\n\n🤪 ቴሌግራም ቻናል t.me/AwasMart\n\n📌📌📌📌📌📌📌📌📌📌📌",
         "2025-06-25 08:08:41+00:00",
         "2422.0"
        ],
        [
         "18",
         "AwasMart-አዋስማርት🎁",
         "@AwasMart",
         "11874",
         "AwasMart",
         "❇️Multifunctional Drain Rack",
         "2025-06-24 11:45:12+00:00",
         "2709.0"
        ],
        [
         "19",
         "AwasMart-አዋስማርት🎁",
         "@AwasMart",
         "11873",
         "AwasMart",
         null,
         "2025-06-24 11:45:12+00:00",
         "2493.0"
        ],
        [
         "20",
         "AwasMart-አዋስማርት🎁",
         "@AwasMart",
         "11872",
         "AwasMart",
         "❇️Multifunctional Drain Rack\n\n    ዋጋ💵፦  💰 900 ብር\n\n💬በቴሌግራም ለማዘዝ @wamrt1\n                                   @wamrt2\n📍አድራሻችን:-\n1️⃣.📌 ሜክሲኮ አልሳም አፓርታማ ግራውንድ ቁ. 29\n\n2️⃣.📌 ቦሌ መድሐኔዓለም ቦሌ መሰናዶ ት/ቤት ፊትለፊት አለምነሽ ፕላዛ ግራውንድ ሱቅ ቁጥር 05 \n\n📻(+251941661030 / +251943190237)\n\n👍ለወዳጅዎ ስላጋሩ እናመሠግናለን ☺️\n\n🤪 ቴሌግራም ቻናል t.me/AwasMart\n\n📌📌📌📌📌📌📌📌📌📌📌",
         "2025-06-24 11:45:12+00:00",
         "2600.0"
        ],
        [
         "21",
         "AwasMart-አዋስማርት🎁",
         "@AwasMart",
         "11871",
         "AwasMart",
         "❇️16 in 1 Multipurpose Vegetable Cutter",
         "2025-06-23 13:03:49+00:00",
         "2752.0"
        ],
        [
         "22",
         "AwasMart-አዋስማርት🎁",
         "@AwasMart",
         "11870",
         "AwasMart",
         "❇️16 in 1 Multipurpose Vegetable Cutter\n\n    ዋጋ💵፦  💰1,200 ብር\n\n💬በቴሌግራም ለማዘዝ @wamrt1\n                                   @wamrt2\n📍አድራሻችን:-\n1️⃣.📌 ሜክሲኮ አልሳም አፓርታማ ግራውንድ ቁ. 29\n\n2️⃣.📌 ቦሌ መድሐኔዓለም ቦሌ መሰናዶ ት/ቤት ፊትለፊት አለምነሽ ፕላዛ ግራውንድ ሱቅ ቁጥር 05 \n\n📻(+251941661030 / +251943190237)\n\n👍ለወዳጅዎ ስላጋሩ እናመሠግናለን ☺️\n\n🤪 ቴሌግራም ቻናል t.me/AwasMart\n\n📌📌📌📌📌📌📌📌📌📌📌",
         "2025-06-23 13:03:49+00:00",
         "2892.0"
        ],
        [
         "23",
         "AwasMart-አዋስማርት🎁",
         "@AwasMart",
         "11869",
         "AwasMart",
         "🍽🍽🍽🍽🍽🍽😋😋😋😋😋😋\n❇️2Pcs Baby Silicone Spoon\n\nዋጋ💵፦  💰 350 ብር\n\n💬በቴሌግራም ለማዘዝ @wamrt1\n                                   @wamrt2\n📍አድራሻችን:-\n1️⃣.📌 ሜክሲኮ አልሳም አፓርታማ ግራውንድ ቁ. 29\n\n2️⃣.📌 ቦሌ መድሐኔዓለም ቦሌ መሰናዶ ት/ቤት ፊትለፊት አለምነሽ ፕላዛ ግራውንድ ሱቅ ቁጥር 05 \n\n📻(+251941661030 / +251943190237)\n\n👍ለወዳጅዎ ስላጋሩ እናመሠግናለን ☺️\n\n🤪 ቴሌግራም ቻናል t.me/AwasMart\n\n📌📌📌📌📌📌📌📌📌📌📌",
         "2025-06-23 06:18:23+00:00",
         "2756.0"
        ],
        [
         "24",
         "AwasMart-አዋስማርት🎁",
         "@AwasMart",
         "11868",
         "AwasMart",
         null,
         "2025-06-23 06:17:37+00:00",
         "2458.0"
        ],
        [
         "25",
         "AwasMart-አዋስማርት🎁",
         "@AwasMart",
         "11867",
         "AwasMart",
         null,
         "2025-06-23 06:17:37+00:00",
         "2869.0"
        ],
        [
         "26",
         "AwasMart-አዋስማርት🎁",
         "@AwasMart",
         "11866",
         "AwasMart",
         null,
         "2025-06-23 06:17:37+00:00",
         "2278.0"
        ],
        [
         "27",
         "AwasMart-አዋስማርት🎁",
         "@AwasMart",
         "11865",
         "AwasMart",
         "🍽🍽🍽🍽🍽🍽😋😋😋😋😋😋\n❇️Bendable Eat Training ()\n\nዋጋ💵፦  💰 350 ብር\n\n💬በቴሌግራም ለማዘዝ @wamrt1\n                                   @wamrt2\n📍አድራሻችን:-\n1️⃣.📌 ሜክሲኮ አልሳም አፓርታማ ግራውንድ ቁ. 29\n\n2️⃣.📌 ቦሌ መድሐኔዓለም ቦሌ መሰናዶ ት/ቤት ፊትለፊት አለምነሽ ፕላዛ ግራውንድ ሱቅ ቁጥር 05 \n\n📻(+251941661030 / +251943190237)\n\n👍ለወዳጅዎ ስላጋሩ እናመሠግናለን ☺️\n\n🤪 ቴሌግራም ቻናል t.me/AwasMart\n\n📌📌📌📌📌📌📌📌📌📌📌",
         "2025-06-23 06:17:36+00:00",
         "2606.0"
        ],
        [
         "28",
         "AwasMart-አዋስማርት🎁",
         "@AwasMart",
         "11864",
         "AwasMart",
         "🤎🚽🚽🚽🚽🚽🚽🚽🚽🚽🚽🚽\n❇️Baby toilet seat/ potty seat\n\nዋጋ💵፦  💰 1,000 ብር\n\n💬በቴሌግራም ለማዘዝ @wamrt1\n                                   @wamrt2\n📍አድራሻችን:-\n1️⃣.📌 ሜክሲኮ አልሳም አፓርታማ ግራውንድ ቁ. 29\n\n2️⃣.📌 ቦሌ መድሐኔዓለም ቦሌ መሰናዶ ት/ቤት ፊትለፊት አለምነሽ ፕላዛ ግራውንድ ሱቅ ቁጥር 05 \n\n📻(+251941661030 / +251943190237)\n\n👍ለወዳጅዎ ስላጋሩ እናመሠግናለን ☺️\n\n🤪 ቴሌግራም ቻናል t.me/AwasMart\n\n📌📌📌📌📌📌📌📌📌📌📌",
         "2025-06-22 11:55:19+00:00",
         "3008.0"
        ],
        [
         "29",
         "AwasMart-አዋስማርት🎁",
         "@AwasMart",
         "11863",
         "AwasMart",
         "🔖🔖🔖🔖🔖🔖🔖🔖🔖🔖🔖🔖\nውድ ደንበኞቻችን ሱቃችን ነገ እሁድ ከ4:30-11:00 ሰዓት ክፍት መሆኑን በአክብሮት እንገልፃለን።\n\n📍አድራሻችን:-\n📌 ቦሌ መድሐኔዓለም ቦሌ መሰናዶ ት/ቤት ፊትለፊት አለምነሽ ፕላዛ ግራውንድ ሱቅ ቁጥር 05 \n\n📻(+251941661030 / +251943190237)\n\n👍ለወዳጅዎ ስላጋሩ እናመሠግናለን ☺️\n\n🤪 ቴሌግራም ቻናል t.me/AwasMart\n\n📌📌📌📌📌📌📌📌📌📌📌",
         "2025-06-21 16:43:54+00:00",
         "3212.0"
        ],
        [
         "30",
         "AwasMart-አዋስማርት🎁",
         "@AwasMart",
         "11862",
         "AwasMart",
         "🍪🍪🍪🍪🍪🍪🍪🍪🍪🍪🍪🍪\n❇️Baby suction bowl",
         "2025-06-21 16:43:12+00:00",
         "2719.0"
        ],
        [
         "31",
         "AwasMart-አዋስማርት🎁",
         "@AwasMart",
         "11861",
         "AwasMart",
         null,
         "2025-06-21 16:43:12+00:00",
         "2555.0"
        ],
        [
         "32",
         "AwasMart-አዋስማርት🎁",
         "@AwasMart",
         "11860",
         "AwasMart",
         "🍪🍪🍪🍪🍪🍪🍪🍪🍪🍪🍪🍪\n❇️Baby suction bowl\n\n👉 ባለ ሁለት ክፍል የልጆች መመገቢያ ሳህን\n👉 እድሜያቸው ከ6ወር ጀምር ላሉ ህፃናት የሚመከር\n👉 የራሱ ማንኪያ እና ሹካ ያለው\n👉 በአንድ ግዜ 4 አይነት ምግብ ለመመገብ ያስችላል\n👉 ከጠረንጴዛ ተንሸራቶ እንዳይወድቅ ማጣበቂያ ያለው\n👉BPA free\n\n    ዋጋ💵፦  💰 600 ብር\n\n💬በቴሌግራም ለማዘዝ @wamrt1\n                                   @wamrt2\n📍አድራሻችን:-\n1️⃣.📌 ሜክሲኮ አልሳም አፓርታማ ግራውንድ ቁ. 29\n\n2️⃣.📌 ቦሌ መድሐኔዓለም ቦሌ መሰናዶ ት/ቤት ፊትለፊት አለምነሽ ፕላዛ ግራውንድ ሱቅ ቁጥር 05 \n\n📻(+251941661030 / +251943190237)\n\n👍ለወዳጅዎ ስላጋሩ እናመሠግናለን ☺️\n\n🤪 ቴሌግራም ቻናል t.me/AwasMart\n\n📌📌📌📌📌📌📌📌📌📌📌",
         "2025-06-21 16:42:32+00:00",
         "2787.0"
        ],
        [
         "33",
         "AwasMart-አዋስማርት🎁",
         "@AwasMart",
         "11859",
         "AwasMart",
         null,
         "2025-06-21 07:36:56+00:00",
         "2789.0"
        ],
        [
         "34",
         "AwasMart-አዋስማርት🎁",
         "@AwasMart",
         "11858",
         "AwasMart",
         null,
         "2025-06-21 07:36:56+00:00",
         "3048.0"
        ],
        [
         "35",
         "AwasMart-አዋስማርት🎁",
         "@AwasMart",
         "11857",
         "AwasMart",
         null,
         "2025-06-21 07:36:55+00:00",
         "2655.0"
        ],
        [
         "36",
         "AwasMart-አዋስማርት🎁",
         "@AwasMart",
         "11856",
         "AwasMart",
         null,
         "2025-06-21 07:36:55+00:00",
         "2826.0"
        ],
        [
         "37",
         "AwasMart-አዋስማርት🎁",
         "@AwasMart",
         "11855",
         "AwasMart",
         "❇️Baby bank feeding bottle\n\n       ዋጋ💵፦  💰 2,000 ብር\n\n💬በቴሌግራም ለማዘዝ @wamrt1\n                                   @wamrt2\n📍አድራሻችን:-\n1️⃣.📌 ሜክሲኮ አልሳም አፓርታማ ግራውንድ ቁ. 29\n\n2️⃣.📌 ቦሌ መድሐኔዓለም ቦሌ መሰናዶ ት/ቤት ፊትለፊት አለምነሽ ፕላዛ ግራውንድ ሱቅ ቁጥር 05 \n\n📻(+251941661030 / +251943190237)\n\n👍ለወዳጅዎ ስላጋሩ እናመሠግናለን ☺️\n\n🤪 ቴሌግራም ቻናል t.me/AwasMart\n\n📌📌📌📌📌📌📌📌📌📌📌",
         "2025-06-21 07:36:55+00:00",
         "2817.0"
        ],
        [
         "38",
         "AwasMart-አዋስማርት🎁",
         "@AwasMart",
         "11854",
         "AwasMart",
         "🌵Dancing Cactus Toy",
         "2025-06-20 10:53:49+00:00",
         "3103.0"
        ],
        [
         "39",
         "AwasMart-አዋስማርት🎁",
         "@AwasMart",
         "11853",
         "AwasMart",
         "🌵Dancing Cactus Toy",
         "2025-06-20 10:53:49+00:00",
         "3111.0"
        ],
        [
         "40",
         "AwasMart-አዋስማርት🎁",
         "@AwasMart",
         "11852",
         "AwasMart",
         "🌵Dancing Cactus Toy \n\n😱ልጆቼ በምን ይዝናኑ ብሎ መጨነቅ ቀረ 😱\n👶የሕጻናት አጫዋች❤\n🔹በቻርጅ የሚሰራ🔋\n🔹ድምጽ / ሙዚቃ 🔊 ሲከፈት የሚደንስ🥳\n🔹የልጆችን ትኩረት👀 የሚስብ\n🔹ልጆች በሚናገሩትን ደግሞ እያወራ የሚያዝናናቸው \n🌵ተክል የሚመስል ጌጥ\n\n       ዋጋ💵፦  💰1,000 ብር\n\n💬በቴሌግራም ለማዘዝ @wamrt1\n                                   @wamrt2\n📍አድራሻችን:-\n1️⃣.📌 ሜክሲኮ አልሳም አፓርታማ ግራውንድ ቁ. 29\n\n2️⃣.📌 ቦሌ መድሐኔዓለም ቦሌ መሰናዶ ት/ቤት ፊትለፊት አለምነሽ ፕላዛ ግራውንድ ሱቅ ቁጥር 05 \n\n📻(+251941661030 / +251943190237)\n\n👍ለወዳጅዎ ስላጋሩ እናመሠግናለን ☺️\n\n🤪 ቴሌግራም ቻናል t.me/AwasMart\n\n📌📌📌📌📌📌📌📌📌📌📌",
         "2025-06-20 10:53:15+00:00",
         "3034.0"
        ],
        [
         "41",
         "AwasMart-አዋስማርት🎁",
         "@AwasMart",
         "11851",
         "AwasMart",
         "🍽🍽🍽🍽🍽🍽🍽🍽🍽🍽🍽🍽\n❇️12pcs Silicone Kitchen Set",
         "2025-06-20 07:15:50+00:00",
         "2676.0"
        ],
        [
         "42",
         "AwasMart-አዋስማርት🎁",
         "@AwasMart",
         "11850",
         "AwasMart",
         null,
         "2025-06-20 07:15:50+00:00",
         "2586.0"
        ],
        [
         "43",
         "AwasMart-አዋስማርት🎁",
         "@AwasMart",
         "11849",
         "AwasMart",
         "❇️12pcs Silicone Kitchen Set\n\n👉available colors:- black and dark grey\n\n         ዋጋ💵፦  💰2,000 ብር\n\n💬በቴሌግራም ለማዘዝ @wamrt1\n                                   @wamrt2\n📍አድራሻችን:-\n1️⃣.📌 ሜክሲኮ አልሳም አፓርታማ ግራውንድ ቁ. 29\n\n2️⃣.📌 ቦሌ መድሐኔዓለም ቦሌ መሰናዶ ት/ቤት ፊትለፊት አለምነሽ ፕላዛ ግራውንድ ሱቅ ቁጥር 05 \n\n📻(+251941661030 / +251943190237)\n\n👍ለወዳጅዎ ስላጋሩ እናመሠግናለን ☺️\n\n🤪 ቴሌግራም ቻናል t.me/AwasMart\n\n📌📌📌📌📌📌📌📌📌📌📌",
         "2025-06-20 07:15:50+00:00",
         "2708.0"
        ],
        [
         "44",
         "AwasMart-አዋስማርት🎁",
         "@AwasMart",
         "11848",
         "AwasMart",
         "👨‍💻👩‍💻🧑‍💻👩‍💻👨‍💻😴🧑‍💻👩‍💻👨‍💻👨‍💻 \nFoldable Height Adjustable Metal Frame Laptop Stand",
         "2025-06-19 13:06:12+00:00",
         "3212.0"
        ],
        [
         "45",
         "AwasMart-አዋስማርት🎁",
         "@AwasMart",
         "11847",
         "AwasMart",
         "👩‍💻 Foldable Height Adjustable Metal Frame Laptop Stand👨‍💻\n🔰Help your sitting posture\n💯 High  Quality ( የብረቱ )\n\nላፕቶፕ ጭን ላይ አስቀምጠው መጠቀም ለከፋ ጉዳት እንደሚያጋልጥ የጤና ባለሙያዎች ይናገራሉ ፤ እንዲሁም ቴብል ላይ አድርገዉ ሲጠቀሙ ፋኑ ስለሚደፈን  ከፍተኛ ሙቀት በመፍጠር ድምፅ ያሰማል። \n\nለዚህ ሁሉ መፍትሄ ተጣጣፊ የላፕቶፕ ፣ ታብሌት Holder በተመጣጣኝ ዋጋ ገዝተዉ የእርስዎንና የላፕቶፕዎን ጤንነት ይጠብቁ።\n\n       ዋጋ💵፦  💰1,000 ብር\n\n💬በቴሌግራም ለማዘዝ @wamrt1\n                                   @wamrt2\n📍አድራሻችን:-\n1️⃣.📌 ሜክሲኮ አልሳም አፓርታማ ግራውንድ ቁ. 29\n\n2️⃣.📌 ቦሌ መድሐኔዓለም ቦሌ መሰናዶ ት/ቤት ፊትለፊት አለምነሽ ፕላዛ ግራውንድ ሱቅ ቁጥር 05 \n\n📻(+251941661030 / +251943190237)\n\n👍ለወዳጅዎ ስላጋሩ እናመሠግናለን ☺️\n\n🤪 ቴሌግራም ቻናል t.me/AwasMart\n\n📌📌📌📌📌📌📌📌📌📌📌",
         "2025-06-19 13:06:12+00:00",
         "2953.0"
        ],
        [
         "46",
         "AwasMart-አዋስማርት🎁",
         "@AwasMart",
         "11846",
         "AwasMart",
         "🍊🍊🍊🍎🍎🍎🍋🍋🍋🍇🍇🍇\n❇️ Manual Hand Press Fruit Juicer",
         "2025-06-19 07:18:36+00:00",
         "2911.0"
        ],
        [
         "47",
         "AwasMart-አዋስማርት🎁",
         "@AwasMart",
         "11845",
         "AwasMart",
         "🍊🍊🍊🍎🍎🍎🍋🍋🍋🍇🍇🍇\n❇️ Manual Hand Press Fruit Juicer",
         "2025-06-19 07:18:36+00:00",
         "2842.0"
        ],
        [
         "48",
         "AwasMart-አዋስማርት🎁",
         "@AwasMart",
         "11844",
         "AwasMart",
         "🍊🍊🍊🍎🍎🍎🍋🍋🍋🍇🍇🍇\n❇️ Manual Hand Press Fruit Juicer\n\n 🔰Safe \n🔰Quick \n🔰Super Easy to Clean and \n🔰Effective Juicing\n\nዋጋ💵፦  💰 1,000 ብር\n\n💬በቴሌግራም ለማዘዝ @wamrt1\n                                   @wamrt2\n📍አድራሻችን:-\n1️⃣.📌 ሜክሲኮ አልሳም አፓርታማ ግራውንድ ቁ. 29\n\n2️⃣.📌 ቦሌ መድሐኔዓለም ቦሌ መሰናዶ ት/ቤት ፊትለፊት አለምነሽ ፕላዛ ግራውንድ ሱቅ ቁጥር 05 \n\n📻(+251941661030 / +251943190237)\n\n👍ለወዳጅዎ ስላጋሩ እናመሠግናለን ☺️\n\n🤪 ቴሌግራም ቻናል t.me/AwasMart\n\n📌📌📌📌📌📌📌📌📌📌📌",
         "2025-06-19 07:18:36+00:00",
         "2786.0"
        ],
        [
         "49",
         "AwasMart-አዋስማርት🎁",
         "@AwasMart",
         "11843",
         "AwasMart",
         "❇️Impulse sealer for PP/PE bags",
         "2025-06-18 06:28:29+00:00",
         "3378.0"
        ]
       ],
       "shape": {
        "columns": 7,
        "rows": 5000
       }
      },
      "text/html": [
       "<div>\n",
       "<style scoped>\n",
       "    .dataframe tbody tr th:only-of-type {\n",
       "        vertical-align: middle;\n",
       "    }\n",
       "\n",
       "    .dataframe tbody tr th {\n",
       "        vertical-align: top;\n",
       "    }\n",
       "\n",
       "    .dataframe thead th {\n",
       "        text-align: right;\n",
       "    }\n",
       "</style>\n",
       "<table border=\"1\" class=\"dataframe\">\n",
       "  <thead>\n",
       "    <tr style=\"text-align: right;\">\n",
       "      <th></th>\n",
       "      <th>Channel Title</th>\n",
       "      <th>Channel Username</th>\n",
       "      <th>ID</th>\n",
       "      <th>Sender</th>\n",
       "      <th>Message</th>\n",
       "      <th>Date</th>\n",
       "      <th>Views</th>\n",
       "    </tr>\n",
       "  </thead>\n",
       "  <tbody>\n",
       "    <tr>\n",
       "      <th>0</th>\n",
       "      <td>AwasMart-አዋስማርት🎁</td>\n",
       "      <td>@AwasMart</td>\n",
       "      <td>11892</td>\n",
       "      <td>AwasMart</td>\n",
       "      <td>NaN</td>\n",
       "      <td>2025-06-27 16:32:23+00:00</td>\n",
       "      <td>856.0</td>\n",
       "    </tr>\n",
       "    <tr>\n",
       "      <th>1</th>\n",
       "      <td>AwasMart-አዋስማርት🎁</td>\n",
       "      <td>@AwasMart</td>\n",
       "      <td>11891</td>\n",
       "      <td>AwasMart</td>\n",
       "      <td>NaN</td>\n",
       "      <td>2025-06-27 16:32:23+00:00</td>\n",
       "      <td>862.0</td>\n",
       "    </tr>\n",
       "    <tr>\n",
       "      <th>2</th>\n",
       "      <td>AwasMart-አዋስማርት🎁</td>\n",
       "      <td>@AwasMart</td>\n",
       "      <td>11890</td>\n",
       "      <td>AwasMart</td>\n",
       "      <td>NaN</td>\n",
       "      <td>2025-06-27 16:32:23+00:00</td>\n",
       "      <td>862.0</td>\n",
       "    </tr>\n",
       "    <tr>\n",
       "      <th>3</th>\n",
       "      <td>AwasMart-አዋስማርት🎁</td>\n",
       "      <td>@AwasMart</td>\n",
       "      <td>11889</td>\n",
       "      <td>AwasMart</td>\n",
       "      <td>NaN</td>\n",
       "      <td>2025-06-27 16:32:23+00:00</td>\n",
       "      <td>862.0</td>\n",
       "    </tr>\n",
       "    <tr>\n",
       "      <th>4</th>\n",
       "      <td>AwasMart-አዋስማርት🎁</td>\n",
       "      <td>@AwasMart</td>\n",
       "      <td>11888</td>\n",
       "      <td>AwasMart</td>\n",
       "      <td>NaN</td>\n",
       "      <td>2025-06-27 16:32:23+00:00</td>\n",
       "      <td>860.0</td>\n",
       "    </tr>\n",
       "    <tr>\n",
       "      <th>...</th>\n",
       "      <td>...</td>\n",
       "      <td>...</td>\n",
       "      <td>...</td>\n",
       "      <td>...</td>\n",
       "      <td>...</td>\n",
       "      <td>...</td>\n",
       "      <td>...</td>\n",
       "    </tr>\n",
       "    <tr>\n",
       "      <th>4995</th>\n",
       "      <td>Fashion tera</td>\n",
       "      <td>@Fashiontera</td>\n",
       "      <td>2651</td>\n",
       "      <td>Fashiontera</td>\n",
       "      <td>Chekich \\nMade in  Turkey \\n Size 40,41,42,43\\...</td>\n",
       "      <td>2021-11-26 19:31:57+00:00</td>\n",
       "      <td>15858.0</td>\n",
       "    </tr>\n",
       "    <tr>\n",
       "      <th>4996</th>\n",
       "      <td>Fashion tera</td>\n",
       "      <td>@Fashiontera</td>\n",
       "      <td>2650</td>\n",
       "      <td>Fashiontera</td>\n",
       "      <td>NaN</td>\n",
       "      <td>2021-11-26 19:30:14+00:00</td>\n",
       "      <td>15289.0</td>\n",
       "    </tr>\n",
       "    <tr>\n",
       "      <th>4997</th>\n",
       "      <td>Fashion tera</td>\n",
       "      <td>@Fashiontera</td>\n",
       "      <td>2649</td>\n",
       "      <td>Fashiontera</td>\n",
       "      <td>NaN</td>\n",
       "      <td>2021-11-26 19:30:14+00:00</td>\n",
       "      <td>15156.0</td>\n",
       "    </tr>\n",
       "    <tr>\n",
       "      <th>4998</th>\n",
       "      <td>Fashion tera</td>\n",
       "      <td>@Fashiontera</td>\n",
       "      <td>2648</td>\n",
       "      <td>Fashiontera</td>\n",
       "      <td>DISELE \\nPrice 1300 \\n(Free Delivery)\\nInbox @...</td>\n",
       "      <td>2021-11-25 16:52:23+00:00</td>\n",
       "      <td>23476.0</td>\n",
       "    </tr>\n",
       "    <tr>\n",
       "      <th>4999</th>\n",
       "      <td>Fashion tera</td>\n",
       "      <td>@Fashiontera</td>\n",
       "      <td>2647</td>\n",
       "      <td>Fashiontera</td>\n",
       "      <td>NaN</td>\n",
       "      <td>2021-11-25 16:50:27+00:00</td>\n",
       "      <td>15522.0</td>\n",
       "    </tr>\n",
       "  </tbody>\n",
       "</table>\n",
       "<p>5000 rows × 7 columns</p>\n",
       "</div>"
      ],
      "text/plain": [
       "         Channel Title Channel Username     ID       Sender  \\\n",
       "0     AwasMart-አዋስማርት🎁        @AwasMart  11892     AwasMart   \n",
       "1     AwasMart-አዋስማርት🎁        @AwasMart  11891     AwasMart   \n",
       "2     AwasMart-አዋስማርት🎁        @AwasMart  11890     AwasMart   \n",
       "3     AwasMart-አዋስማርት🎁        @AwasMart  11889     AwasMart   \n",
       "4     AwasMart-አዋስማርት🎁        @AwasMart  11888     AwasMart   \n",
       "...                ...              ...    ...          ...   \n",
       "4995      Fashion tera     @Fashiontera   2651  Fashiontera   \n",
       "4996      Fashion tera     @Fashiontera   2650  Fashiontera   \n",
       "4997      Fashion tera     @Fashiontera   2649  Fashiontera   \n",
       "4998      Fashion tera     @Fashiontera   2648  Fashiontera   \n",
       "4999      Fashion tera     @Fashiontera   2647  Fashiontera   \n",
       "\n",
       "                                                Message  \\\n",
       "0                                                   NaN   \n",
       "1                                                   NaN   \n",
       "2                                                   NaN   \n",
       "3                                                   NaN   \n",
       "4                                                   NaN   \n",
       "...                                                 ...   \n",
       "4995  Chekich \\nMade in  Turkey \\n Size 40,41,42,43\\...   \n",
       "4996                                                NaN   \n",
       "4997                                                NaN   \n",
       "4998  DISELE \\nPrice 1300 \\n(Free Delivery)\\nInbox @...   \n",
       "4999                                                NaN   \n",
       "\n",
       "                           Date    Views  \n",
       "0     2025-06-27 16:32:23+00:00    856.0  \n",
       "1     2025-06-27 16:32:23+00:00    862.0  \n",
       "2     2025-06-27 16:32:23+00:00    862.0  \n",
       "3     2025-06-27 16:32:23+00:00    862.0  \n",
       "4     2025-06-27 16:32:23+00:00    860.0  \n",
       "...                         ...      ...  \n",
       "4995  2021-11-26 19:31:57+00:00  15858.0  \n",
       "4996  2021-11-26 19:30:14+00:00  15289.0  \n",
       "4997  2021-11-26 19:30:14+00:00  15156.0  \n",
       "4998  2021-11-25 16:52:23+00:00  23476.0  \n",
       "4999  2021-11-25 16:50:27+00:00  15522.0  \n",
       "\n",
       "[5000 rows x 7 columns]"
      ]
     },
     "execution_count": 2,
     "metadata": {},
     "output_type": "execute_result"
    }
   ],
   "source": [
    "# Load csv file\n",
    "df = pd.read_csv('../data/telegram_data.csv')\n",
    "df"
   ]
  },
  {
   "cell_type": "code",
   "execution_count": null,
   "id": "7e613766",
   "metadata": {},
   "outputs": [],
   "source": []
  },
  {
   "cell_type": "code",
   "execution_count": 3,
   "id": "7598baad",
   "metadata": {},
   "outputs": [
    {
     "data": {
      "application/vnd.microsoft.datawrangler.viewer.v0+json": {
       "columns": [
        {
         "name": "index",
         "rawType": "int64",
         "type": "integer"
        },
        {
         "name": "Channel Title",
         "rawType": "object",
         "type": "string"
        },
        {
         "name": "Channel Username",
         "rawType": "object",
         "type": "string"
        },
        {
         "name": "ID",
         "rawType": "int64",
         "type": "integer"
        },
        {
         "name": "Sender",
         "rawType": "object",
         "type": "string"
        },
        {
         "name": "Message",
         "rawType": "object",
         "type": "unknown"
        },
        {
         "name": "Date",
         "rawType": "object",
         "type": "string"
        },
        {
         "name": "Views",
         "rawType": "float64",
         "type": "float"
        },
        {
         "name": "Cleaned_Message",
         "rawType": "object",
         "type": "string"
        },
        {
         "name": "Tokens",
         "rawType": "object",
         "type": "unknown"
        }
       ],
       "ref": "9c09f54e-9be8-40d8-b624-c721126820ac",
       "rows": [
        [
         "0",
         "AwasMart-አዋስማርት🎁",
         "@AwasMart",
         "11892",
         "AwasMart",
         null,
         "2025-06-27 16:32:23+00:00",
         "856.0",
         "",
         "[]"
        ],
        [
         "1",
         "AwasMart-አዋስማርት🎁",
         "@AwasMart",
         "11891",
         "AwasMart",
         null,
         "2025-06-27 16:32:23+00:00",
         "862.0",
         "",
         "[]"
        ],
        [
         "2",
         "AwasMart-አዋስማርት🎁",
         "@AwasMart",
         "11890",
         "AwasMart",
         null,
         "2025-06-27 16:32:23+00:00",
         "862.0",
         "",
         "[]"
        ],
        [
         "3",
         "AwasMart-አዋስማርት🎁",
         "@AwasMart",
         "11889",
         "AwasMart",
         null,
         "2025-06-27 16:32:23+00:00",
         "862.0",
         "",
         "[]"
        ],
        [
         "4",
         "AwasMart-አዋስማርት🎁",
         "@AwasMart",
         "11888",
         "AwasMart",
         null,
         "2025-06-27 16:32:23+00:00",
         "860.0",
         "",
         "[]"
        ]
       ],
       "shape": {
        "columns": 9,
        "rows": 5
       }
      },
      "text/html": [
       "<div>\n",
       "<style scoped>\n",
       "    .dataframe tbody tr th:only-of-type {\n",
       "        vertical-align: middle;\n",
       "    }\n",
       "\n",
       "    .dataframe tbody tr th {\n",
       "        vertical-align: top;\n",
       "    }\n",
       "\n",
       "    .dataframe thead th {\n",
       "        text-align: right;\n",
       "    }\n",
       "</style>\n",
       "<table border=\"1\" class=\"dataframe\">\n",
       "  <thead>\n",
       "    <tr style=\"text-align: right;\">\n",
       "      <th></th>\n",
       "      <th>Channel Title</th>\n",
       "      <th>Channel Username</th>\n",
       "      <th>ID</th>\n",
       "      <th>Sender</th>\n",
       "      <th>Message</th>\n",
       "      <th>Date</th>\n",
       "      <th>Views</th>\n",
       "      <th>Cleaned_Message</th>\n",
       "      <th>Tokens</th>\n",
       "    </tr>\n",
       "  </thead>\n",
       "  <tbody>\n",
       "    <tr>\n",
       "      <th>0</th>\n",
       "      <td>AwasMart-አዋስማርት🎁</td>\n",
       "      <td>@AwasMart</td>\n",
       "      <td>11892</td>\n",
       "      <td>AwasMart</td>\n",
       "      <td>NaN</td>\n",
       "      <td>2025-06-27 16:32:23+00:00</td>\n",
       "      <td>856.0</td>\n",
       "      <td></td>\n",
       "      <td>[]</td>\n",
       "    </tr>\n",
       "    <tr>\n",
       "      <th>1</th>\n",
       "      <td>AwasMart-አዋስማርት🎁</td>\n",
       "      <td>@AwasMart</td>\n",
       "      <td>11891</td>\n",
       "      <td>AwasMart</td>\n",
       "      <td>NaN</td>\n",
       "      <td>2025-06-27 16:32:23+00:00</td>\n",
       "      <td>862.0</td>\n",
       "      <td></td>\n",
       "      <td>[]</td>\n",
       "    </tr>\n",
       "    <tr>\n",
       "      <th>2</th>\n",
       "      <td>AwasMart-አዋስማርት🎁</td>\n",
       "      <td>@AwasMart</td>\n",
       "      <td>11890</td>\n",
       "      <td>AwasMart</td>\n",
       "      <td>NaN</td>\n",
       "      <td>2025-06-27 16:32:23+00:00</td>\n",
       "      <td>862.0</td>\n",
       "      <td></td>\n",
       "      <td>[]</td>\n",
       "    </tr>\n",
       "    <tr>\n",
       "      <th>3</th>\n",
       "      <td>AwasMart-አዋስማርት🎁</td>\n",
       "      <td>@AwasMart</td>\n",
       "      <td>11889</td>\n",
       "      <td>AwasMart</td>\n",
       "      <td>NaN</td>\n",
       "      <td>2025-06-27 16:32:23+00:00</td>\n",
       "      <td>862.0</td>\n",
       "      <td></td>\n",
       "      <td>[]</td>\n",
       "    </tr>\n",
       "    <tr>\n",
       "      <th>4</th>\n",
       "      <td>AwasMart-አዋስማርት🎁</td>\n",
       "      <td>@AwasMart</td>\n",
       "      <td>11888</td>\n",
       "      <td>AwasMart</td>\n",
       "      <td>NaN</td>\n",
       "      <td>2025-06-27 16:32:23+00:00</td>\n",
       "      <td>860.0</td>\n",
       "      <td></td>\n",
       "      <td>[]</td>\n",
       "    </tr>\n",
       "  </tbody>\n",
       "</table>\n",
       "</div>"
      ],
      "text/plain": [
       "      Channel Title Channel Username     ID    Sender Message  \\\n",
       "0  AwasMart-አዋስማርት🎁        @AwasMart  11892  AwasMart     NaN   \n",
       "1  AwasMart-አዋስማርት🎁        @AwasMart  11891  AwasMart     NaN   \n",
       "2  AwasMart-አዋስማርት🎁        @AwasMart  11890  AwasMart     NaN   \n",
       "3  AwasMart-አዋስማርት🎁        @AwasMart  11889  AwasMart     NaN   \n",
       "4  AwasMart-አዋስማርት🎁        @AwasMart  11888  AwasMart     NaN   \n",
       "\n",
       "                        Date  Views Cleaned_Message Tokens  \n",
       "0  2025-06-27 16:32:23+00:00  856.0                     []  \n",
       "1  2025-06-27 16:32:23+00:00  862.0                     []  \n",
       "2  2025-06-27 16:32:23+00:00  862.0                     []  \n",
       "3  2025-06-27 16:32:23+00:00  862.0                     []  \n",
       "4  2025-06-27 16:32:23+00:00  860.0                     []  "
      ]
     },
     "execution_count": 3,
     "metadata": {},
     "output_type": "execute_result"
    }
   ],
   "source": [
    "# Preprocess the data\n",
    "meta, content, df_processed = DataPreprocess.preprocess_dataframe(df)\n",
    "df_processed.head()"
   ]
  },
  {
   "cell_type": "code",
   "execution_count": 4,
   "id": "0b939af6",
   "metadata": {},
   "outputs": [
    {
     "name": "stdout",
     "output_type": "stream",
     "text": [
      "Processed data saved to ../data/telegram_data_processed.csv\n"
     ]
    }
   ],
   "source": [
    "# Save the processed DataFrame to a new CSV file\n",
    "output_path = '../data/telegram_data_processed.csv'\n",
    "df_processed.to_csv(output_path, index=False)\n",
    "print(f\"Processed data saved to {output_path}\")"
   ]
  },
  {
   "cell_type": "code",
   "execution_count": 6,
   "id": "8856481b",
   "metadata": {},
   "outputs": [
    {
     "name": "stdout",
     "output_type": "stream",
     "text": [
      "['መለጠፊያ', '4xl', 'አዋስማርት', 'watch', 'ሁሌም', 'accessible', 'ቤተ', 'Included', 'quick', 'damaging', 'ምንጣፍ', 'ይዘው', 'Butyl', 'መስርያ', 'Worldwide', 'ሲልከን', 'ታብሌት', 'Roof', '3XL', 'PC', 'ለኪችን', 'flyknit', 'ልዩ', '01', 'Juicing', 'ጥራት', 'granite', 'queen', 'RAF', 'Toy', 'Handy', 'Floor', 'tops', 'በሚኖርበት', 'Bathing', 'ቀረ', 'የታመሙ', 'ጡንቻዎትን', 'Attached', '28cm', 'AIRFORCE', 'እግሮችን', 'Fur', 'access', 'Foot', 'ሰትሪት', 'GOOD', 'በፈለግነው', '260ml', 'በመላጨት', 'ለሉጫ', 'አትክልቶችን', 'ሰዉ', 'Effective', 'ስርአት', 'Pain', 'instructions', 'ነፍሳቶችን', 'ለሻውር', 'ለምሳ', 'ማስፋት', 'ከፀሀይ', '1200mA', '400ML', 'BOSS', 'ከሰኞ', '5L', '400W', 'Controlled', 'ፈጥር', '250', 'an', 'camping', 'ጆግ', 'የልብስ', 'school', 'Coat', '172', 'Stand', 'weight', 'Complet', 'Outside', 'ጥንቃቄ', 'leakage', 'Scraping', 'ወፍራም', 'Hat', 'Flex', 'በእድሜ', 'ያደርገዋል', 'herbs', 'ለማዘገጀት', 'Derma', 'አንፀባራቂ', '2000mAh', 'it', 'አማራጭ', '19pcs', '3Pcs', 'Door', 'IN', 'Boost', 'ለማጠጣት', 'ትንሳኤ', 'ayyaana', 'Rolly', 'ቴላቴሊ', 'አትክልት', 'Wifi', 'ካፕ', 'ለመላው', 'ለመክፈት', 'ይጋግራል', 'nozzle', '600ml', 'Removable', 'Keeps', 'over', 'Membrane', 'የቆሻሻ', 'ለአዲሱ', 'እንዳይገባ', 'ሱቃችን', 'የሚያላብስ', 'ድንጋይ', 'basket', 'Pystra', 'Litter', 'First', 'የተካተተለት', '3xl', 'compliant', 'ብሩሽ', 'minute', 'መቀየሪያ', 'D', 'SEALER', 'treatment', 'HOBBY', 'right', 'መቀስ', '10000mAh', 'Balance', 'ቀን', 'ፓትራዎች', '600', 'Unbreakable', 'ሲተኩሱበት', 'Fixed', 'coarse', 'feeder', 'mm', 'large', 'ዋአች', 'ጉልበትዎን', 'ሞረድ', '1100', 'ለሊጥ', 'Qnash', 'ኮንስልቲንግ', '7500', 'allow', 'Height', 'ከዚያ', 'Large', '35000', 'Knee', 'tank', 'የሚያቀል', 'Maraki', 'attachement', 'Water', 'ማስተንፈሻ', 'ተንጠልጣይ', 'የምንችለዉ', 'clipper', 'Amoi', '800br', 'ኮፍያ', '7L', 'Installation', 'ሆነ', 'of', 'materials', 'ምኞቱን', 'ካቢኔት', 'Expert', 'ከለላ', 'በራሱ', 'Cheese', '2400br', 'cabinets', 'Hoodie', 'Level', 'ማውጫ', 'Recommended', 'Coating', 'against', 'Kaahoo', 'Uniform', 'mist', 'እቃወች', 'adjustment', 'ለማስቀመጥ', 'sun', 'Sanford', 'Coffee', 'System', '3300birr', 'Curling', 'ለአጠቃም', 'Seal', 'pilot', '5m', 'መጠን', 'Spoon', 'baby', 'ፍሎር', 'Remover', 'Medium', 'የቢንቢ', 'Pan', 'Teeth', 'Crack', '1250', 'የልጆች', 'williams', 'Frequency', 'የደከሙ', 'የዛለ', 'cooking', 'በደንበኞች', 'ይቀዘቅዝብኛል', 'ቴፕ', '2Pcs', 'In', 'portable', 'Chekich', 'አምስት', 'ማበጠሪያ', 'CLASICO', 'Crystal', 'ት', 'Shaper', '251114622244', 'bed', 'QUALITY', 'ፊትለፊት', '530', 'Combs', 'ቦርድ', 'British', '329', 'intimate', 'Measuring', 'FISHER', 'የአጥንት', 'በእንፋሎት', 'pull', 'Epilator', 'እንደሚያጋልጥ', 'Indicator', 'ቀዳዳዎች', 'ይጠቀማሉ', 'Ceramic', 'bottom', 'ልጂዎ', 'kettle', 'በቡኒ', 'utensil', 'Stussy', '3200birr', 'ውብ', '9', '23', 'መለኮሻ', 'ፔስትራ', 'Tiempo', 'ከአቧራ', 'ስራዎትን', 'ቦሌ', 'reusable', 'SF', 'G07', 'የሚሽከረከር', 'chopper', 'bad', 'Creative', 'mount', 'VUITTON', 'ያግዳል', 'ለማሳሳብና', 'Fog', 'armor', 'ይይዛል', 'Mops', 'regular', 'ወጪን', 'የሚሳካበት', 'Materail', 'coffee', 'W', '45', 'ቴርሞስታት', 'የሚዟዟር', 'Bottle', 'ግ', 'Cooper', 'ለሩጫ', 'net', 'pockets', 'ማያያዣ', 'በማይሆን', 'በሚፈልጉት', 'ፈፅሞ', 'የእርስዎንና', 'when', 'Crawling', 'የፍራሽዎን', 'control', 'Xiaomi', 'እንዲከፈቱ', 'ሳሙናዎን', 'Courtic', 'cups', 'ሁነኛ', 'ቅርፁን', 'https', 'መጭመቂያ', 'የሚቀበል', 'ገፅታን', 'ironing', 'C', '0920238243x', 'Fun', 'WAT', '9L', 'Achilles', 'ብለው', 'አደረሰዎ', 'stylist', 'መሄድ', 'ውበት', 'Latex', 'አዘቦት', '385ml', 'ህፃናት', 'Design', 'ለሆኑ', 'qnashplus', 'recharge', 'mode', 'Brand', 'OD', 'Wast', 'stock', 'KNACK', 'ለበለጠ', 'ለመቀንደብ', 'adhesive', 'መቆንጠጫ', '39', 'Smiley', 'የ', 'Portable', 'bedrooms', 'Press', 'Decorative', 'የጫማም', 'crocodile', '3in1', 'ለፈለግነው', 'ያስችላል', 'Carrier', 'easier', 'Fat', 'ስፍራ', 'Business', 'Balenciaga', 'Glasses', 'ፍራሻችሁ', 'ፀጉር', 'xl', '50Hz', 'Help', 'Jug', 'Palle', 'EVO', 'Automatic', 'Calabasas', 'has', 'ሊጠቀሙበት', 'በላይ', 'ስለ', 'የተነጫጨ', 'Children', 'Breathing', 'የበረከት', '27cm', 'የወጥ', '12in1', 'አንድላይ', 'operated', 'Capacity', 'Package', 'ጠባሳን', 'shut', 'Long', 'Food', '8TIS', 'ክር', 'two', 'Kid', 'Needles', 'Solution', 'Absorption', 'ቁምሳጥን', 'የልጆችን', 'ስሜት', 'warm', 'ስራ', 'roasted', 'የሚለጠፍ', 'መጥበሻ', 'banquet', 'Wet', 'bottle', '150watt', 'Ballon', '251913321831', 'ለበአል', 'sleeping', 'ያደርጋል', 'VL', 'የሚዘረጋ', 'Anti', 'Assembly', 'below', 'እንዲሁም', 'organizer', 'ፀጉርም', 'Starry', 'Rustproof', 'ከወፍራም', 'peel', 'ይጠጣሉ', 'ትላንት', 'Material', 'ትንሳኤው', 'swivel', 'ULTRA', 'longevity', 'Gun', 'Irreechaa', 'Surface', 'መቁረጫ', 'switch', 'ታወር', 'mattress', 'የሚችል', 'Chinese', 'prices', 'COFFEE', 'ሳቺ', 'ብረቱ', 'በቤት', 'ልፋት', 'Casual', 'ክፍት', 'Structure', 'ይዝናኑ', 'ማሳጅ', 'Babies', 'Feeder', 'እርጥበት', 'ተቀብተው', 'file', 'የማይጫጫሩ', 'Single', 'Columbia', 'ምርት', '86cm', 'ለዘመዶ', 'Litres', 'ነው', 'do', 'CLOT', 'juicing', 'Yama', 'ሁኔታ', '100', 'ለመመገብ', 'flat', 'ጠብቆ', 'ለሚወዱት', 'Operate', 'መጠጦችን', 'በመጫን', 'Spa', '50kg', 'መመዘን', 'መቆለፍም', 'በጣም', 'የብርጭቆ', 'Home', 'አይነት', 'በታች', 'ብረት', 'LACOSTE', 'እናመሰግናለን', 'በመክፈት', 'አጎበር', 'ለስእል', 'pot', 'የኛ', 'mini', 'ቁምሳጥንና', 'ይላበሱ', 'automatic', 'Sacai', 'እንገናኝ', 'soft', '1400', 'bond', 'እንዲያደርጉ', 'Shose', 'Orginals', 'Input', 'tn', 'action', 'Blocks', 'መግደል', 'duramo', '5inch', 'መዝናኛ', 'Scorpio', 'ቱቦዎች', 'MUG', 'Counter', 'አይቪ', 'Expands', 'Multifunction', '4300', 'Summer', 'Specification', 'rugs', 'Space', 'Towels', 'Diffuser', 'መጠቀም', 'luggage', 'iPhones', 'Kg', '3d', 'ከተጠቀሙ', 'ያድርግልን', 'washable', 'Zara', 'በሌለበት', 'its', 'ሙባረክ', 'SB', 'አድሀ', 'GIFT', 'Star', 'minimal', 'ደንበኞቻችን', 'ማጣበቂያ', 'tub', 'ዲጂታል', 'Football', 'መሆኑን', 'Treasure', 'ተቀያያሪ', 'Trouser', 'የሚያስወግድ', 'Tag', 'ሰርቪስ', 'የስጋ', 'including', '4500', 'pasta', 'set', 'Cleaning', 'አልሳም', 'ትንሹን', 'shed', 'ስቶቭ', 'ዋት', 'ያደርግልዎታል', 'በሙሉ', 'strain', 'ከቢንቢ', 'ባለ', 'ጁሶችን', 'Half', 'hand', 'stylish', 'Phthalate', 'ባነር', 'ማድረቂያው', '3200', 'Lint', 'mash', 'ቅርፅ', 'ሆዙ', '6', 'ሞምኮክ', 'towel', 'Charcoal', 'ብራንድ', '5400', 'ጭልፋዎች', 'ማንኛዉንም', 'ከኛ', 'Sterilizer', 'ገጠማ', '1650', 'SET', 'Dual', 'centennial', 'Save', 'Variety', 'የመምጠጥ', 'ለስላሳ', 'ቅባት', 'Voodoo', 'የማይመነችኩ', 'ልጆቼ', 'ግርግዳ', 'Delivery', 'g', 'እድሳት', 'Very', 'Kirkland', 'እንኳን', 'ጋር', 'Now', 'መካኒካል', 'lunarlon', 'Specifically', 'ጤናዎን', 'degree', 'ፂምን', 'ፍሬሞቹ', 'ለሁሉም', 'እንገልፃለን', 'እንጠብቃችዋለን', 'Eat', 'Suction', 'wheel', 'ያደርቃል', 'ስትሮ', 'Cleansing', 'smooth', 'electric', 'Strilazer', 'MASSAGER', 'silicone', 'Coated', 'ያላቸው', 'cross', 'የፍቅር', 'phoenix', 'አረፋዎች', 'crystal', 'living', 'Towel', 'Frying', 'ማዘነጪያ', 'Powerful', 'ለመቁረጥ', 'types', 'Steps', 'የሸራ', 'KG', 'ኪችን', '18', 'ALLSTAR', 'ርዝመት', 'ውፍረትንና', 'Burbuja', '70x11', 'የሚደርስ', 'ሲስተሙ', 'የማያስገባ', 'ቪዲዮ', 'CUCINELLI', '0946966440', 'home', 'garlic', 'Vegetable', 'LOBBY', 'Zwende', 'Reduce', 'crest', 'Lebron', 'ሊጥ', 'master', 'Champ', '5cm', 'Cordless', 'ማቀፊያና', 'የአንዱ', 'cushion', 'Energy', 'Sneaker', 'USB', 'ለብሰው', 'ወዷየበት', 'ፍራሽ', 'ለኢሬቻ', 'walk', 'መቁያ', 'ተሰክቶ', 'Reliable', 'ንፅህናው', 'ለባልትና', 'ለጉዞ', 'botton', 'ያሉት', 'ከማስቀመጫቸው', 'frame', 'የስልክ', '2900birr', 'microwave', 'Vuitton', 'ለውበቶ', 'ጭልፋ', 'Straightening', '2300', 'ይቻላል', 'capacity', 'Colorful', 'አጠቃላይ', 'snow', 'restocked', 'spring', 'Wood', 'EQT', 'Vapormax', 'restaurants', 'grade', 'Backpack', 'ሲዘረጋ', 'derby', 'Brightness', 'cardamom', 'XL', 'Stadium', '150W', 'Lightweight', '00mm', 'የሌለዉ', 'ለካንፓስ', 'Sandwich', 'each', 'sealer', 'ፊውዝ', 'year', '2850', 'Beautify', 'half', 'pure', '460', 'Element', 'ቢላዎች', 'zoom', 'የሚቀንስ', '1800', 'WP', 'ለጤና', 'LEATHER', 'Scalp', '28x', 'የሚችሉበት', 'diaper', 'አጭበርባሪዎች', 'ባለበት', 'VIGUER', 'Decor', 'inferno', '12', 'ብዛት', 'bookshelves', 'Rated', 'Foil', 'overnight', '0', 'HARDEN', 'ለአጠቃቀም', 'ጥራትን', 'X', 'አነስ', 'Tersion', 'ta', 'men', '22cm', 'Patch', 'Drop', 'ቆዳ', 'Utensils', 'surfaces', 'ዝግ', 'Mould', '16', 'መክፈቻና', 'Place', 'ከሴራሚክ', 'በትልቁ', '3700', 'Armour', 'With', 'የሚሆን', 'adherent', 'windshield', 'Inferno', 'Net', 'በተመጣጣኝ', 'cent', 'Belnder', 'ricer', 'Dancing', 'በአክብሮት', 'crescent', 'ነፃ', 'gel', '130', 'ድካምን', 'አይዝግም', 'Control', 'Ready', '13', 'ITALY', 'Be', 'ራስዎ', 'cold', 'ጀምር', 'ክፍያ', 'ለጨጎራ', 'any', 'ቆሻሻን', 'ISHOD', 'relentless', 'መክፈቻ', 'መሳቢያወች', 'Weight', 'Tuta', 'steam', 'ሳይኖርም', 'ተንቀሳቃሽ', 'drinks', 'መጨመሪያና', 'Grinder', 'different', 'ለተቀባ', 'ማጠፍ', 'ይፈልጋሉ', 'GOUPU', 'Newborn', 'catch', 'ማፍሰሻ', 'ሲተኙ', 'extracted', 'Overheat', 'ለመቀመም', 'Child', 'meter', 'windows', 'ያገኛሉ', 'CARD', '22CM', '2pc', 'Clustor', 'electronic', 'BRUNELLO', 'የሚታጠቡበት', 'ውፍረት', 'SPEED', 'Popcorn', 'old', 'ይግዙ', 'Sink', 'Sweaters', 'Saving', 'delivery', 'turbo', 'Stylish', 'multi', 'አነስተኛ', '1', 'dark', 'Cloth', 'ኬክ', 'recent', 'Multifunctional', 'JORDAN', '23x', 'ZX', 'አል', 'Pink', 'on', 'Pot', '3W', 'ተንሸራቶ', 'interchangeable', 'Sb', 'ለተፈጥሮዊ', 'ONE', 'chargeable', 'ቅንድብ', 'Loafers', 'ያገኙታል', 'Vegetables', 'differnt', 'እንዲያሳይ', 'bear', '2Meter', 'Vintage', 'ባትሪ', 'Basketball', 'እንድይዝ', 'በፒንክ', 'ላዛኛ', 'Solid', 'functional', 'teat', 'Holes', 'ማረጊያ', 'kgs', 'ፕላስተር', 'Shaped', 'ለተለያየ', 'ከፍተኛ', 'compact', 'ስርጭት', 'አውቶማቲክ', 'Pro', 'የዱቄት', 'ሙሉ', 'buckle', 'የሌለው', 'እንውዳለን', 'Polymer', 'ቦታዎች', 'Zero', '1188', 'cm', 'walls', 'handy', 'የፊትዎን', 'protector', 'Colombia', 'Silicon', 'measuring', 'የሚከላከል', 'fabric', 'ከነፃ', 'ወንፊት', 'በዛሬው', 'life', 'mosquito', 'color', 'እናቀርባለን', '13pcs', 'smart', 'ማንኪያ', 'የበለጠ', 'Claw', 'ያሰተላልፋል', 'infinity', 'Protection', 'Application', 'የፍጥነት', 'wire', 'ጀሞ', 'Dry', 'dyeing', 'INC', 'spft', 'Marathon', 'Button', 'ምክንያት', 'ሲሆን', 'የሚያፈሉ', 'perfect', 'Fit', 'አይስጉ', 'gaps', 'Lvy', 'Eilish', 'መያዣ', 'ማንኪያና', '20cm', 'አለርጂዎችን', 'ለጣሪያ', '1cm', 'put', 'Air', 'የሚወጋ', 'ለእግሮቻችን', 'and', 'consistent', 'Cork', 'star', 'Stool', 'included', 'LVy', 'UltraGo', '1500', 'Stopper', 'ብሎም', '41', 'repair', 'COUPLE', 'ለተለያዬ', 'Power', '340', 'ያፈሉበታል', 'ዲሊቨሪ', '600W', '6pcs', 'የዉሀ', 'አይታሰብም', 'ፖስታ', 'Smooth', 'Gemei', 'ማየት', '4900', 'ከዛሬ', 'mountain', 'Carries', 'Styler', 'BALANCE', 'ማጠብያ', 'Cookie', 'toaster', 'የሚረዱ', 'Sandals', 'battry', 'ቅናሽ', 'bliss', 'ጠንካራ', 'lather', '33cm', 'መቀቀያ', 'ብላይ', 'Comfort', 'flex', 'Shredder', 'የሚያዝናናቸው', 'ዳይፕር', 'ውሀ', 'adjustable', 'ስኒዎች', 'በመርጨት', 'መደንዘዝን', 'ክርስቶስ', 'ለካሮት', 'Sealing', 'ልጇን', 'Cleanse', 'ጀምረናል', 'በሁለቱም', '03', 'ምድጃዎችን', 'liquid', 'Fish', '1445', 'charging', 'multifunctional', 'ራሱ', 'Drinking', 'serve', 'በማሽኑ', 'ሁለት', 'Zaptos', 'እንደተጠበቀ', 'Blue', 'Vapor', 'weather', 'Mobility', 'only', 'መወልወያ', 'የማይዝ', 'ልብሶች', 'ጨርቆች', 'combs', 'ሽንት', 'suit', '450', 'ፀጉርን', 'RESTOCKED', 'ጥንካሬ', 'ጠቃሚ', 'ቆጣቢ', 'ላመለጣቹ', 'ነጭ', 'ፓይስትራ', 'moisture', 'Bringing', 'Lunch', 'Workout', 'rift', 'የታጠቡ', 'በአልን', 'gyro', 'የለስላሳ', 'mesh', 'አዲስ', 'ማፅዳት', 'Impulse', 'SKOEDI', 'VOL', 'ተች', 'የፍራፍሬ', 'leather', 'Store', 'እንደከወኑ', 'ለማቅለጥ', 'night', 'የሚጥዱበት', 'White', 'ያገኙናል', 'ለመደርደሪያ', 'ፓርቲሽን', 'North', 'ለማሸት', 'በወይነ', 'used', 'Scrubs', 'ድርቀትን', 'pack', 'ለቤትና', 'fit', 'go', '4000', 'በሴራሚክ', 'የልብስም', '8mm', 'memo', 'ሀይል', 'የጃር', 'mover', '220V', 'ሂውማን', 'Silicone', 'burner', 'GD', 'hours', 'tablet', '2100', 'የተለበጡ', 'relieved', '55cm', '37Wh', 'Montrial', 'toothbrush', 'የሳይዝ', 'Bristles', 'automatically', 'Wild', 'this', 'ላይ', 'የቦታ', 'running', 'ከብርጭቆ', 'በቅፅበት', 'Draying', 'TO', 'መጋዝ', 'Dior', 'saving', 'BUCKET', 'ቅዳሜ', 'ተከታትሎ', 'ውስጥም', 'ልጅዎ', 'ባትራ', 'a', 'ፍጥነት', 'shredder', 'እቃዎችን', 'Airtight', 'keep', 'Flexible', 'Running', 'መገልገያ', 'ዝውውርን', 'ውስጥና', 'ሽፍታ', 'ZIG', 'etc', 'የሚያገለግል', 'chuck', 'መገናኛ', 'such', 'decreasing', 'Pump', 'High', 'መሰረት', 'Adapter', 'የሚገኙ', 'Roll', 'metal', 'ፍራፍሬ', 'የተሰሩ', 'Bulb', 'Boil', 'Spur', 'አይን', 'Helpers', 'Made', 'የሚሰበሰብ', 'Loaf', '300', 'Fabric', 'Manladuo', 'ውበትን', 'Metal', 'shelves', 'ሲስተም', '04', 'Teethers', 'ደርዘን', '30cm', 'velocity', 'ሱቃችንን', 'Vans', 'ለፀጉሮ', 'Nut', 'ዲስካውንት', 'blade', '2200', 'ልጆችዎን', 'ጥበት', '87', 'መደብዘዝ', 'የሎሚ', 'Billie', 'Gowalk', 'Meter', 'to', 'አድርጎ', 'ድብርትን', 'የሚመከር', 'Evolution', 'Move', 'Boots', 'ኛ', 'የዳቦ', 'Above', 'ሰዎች', 'Regrowth', 'retractable', 'Make', 'Latch', 'እንደገና', 'ከማይዝግ', '2xl', 'tenacity', 'slamming', 'የሚያጥቡት', 'ኮሜርስ', 'Core', 'በምሽት', '1000', 'Dapicat', 'ሲጨርስ', 'drawers', 'ከህመምዎ', 'ጥቅም', 'sterilization', 'ስኒ', 'ride', 'performance', '75ml', 'sol', 'አጠቂቀሙ', 'የቤትዎትን', 'የእግሮን', 'የእግራችንን', 'ጋሎን', 'Dimensions', 'Zion', 'Led', 'እጅ', 'Vietnam', 'ፋሽን', 'ረጅሙ', 'ቅርንጫፍ', 'casting', 'pour', 'እግር', 'y', 'camera', 'ball', 'የሚቆለፍ', 'የተዘጋ', 'shein', 'stansmith', 'rock', 'በማንኛውም', '60', 'ejection', 'የፈለጉትን', '06', 'Pour', 'Product', 'Dish', '200ml', 'Cap', 'ከማስቀመጫው', 'Hardies', 'Reducing', 'የሚያሽ', 'ሲታሹ', 'power', 'እናሳስባለን', 'medicated', 'every', 'wave', '34cmx32cmx6', 'በቤቶ', 'ማስታወቂያ', 'በቦርሳችን', 'ስርገትን', 'Squeezer', 'በመመገብ', 'Silver', 'bag', '251945355266', 'qnashcom', 'ይዘነው', 'Christian', 'removal', 'Allstar', '24CM', 'Climawarm', 'የግራሙንም', 'adorable', 'MarakiBrand', '70', 'hawwiisaa', 'ቆራርጠን', 'carrying', 'Frame', 'IC', 'ወርድ', 'Tech', 'Second', 'Mill', 'ማጥለያ', 'መፍጫ', 'pairs', 'skin', 'ማስቀመጥ', 'ROLEX', 'angle', '5mm', 'Magic', 'Wheel', 'Yezzy', 'rays', 'Skechers', 'Trainer', 'BLACK', 'A', '21', 'በመላክ', 'Gas', 'ለጠንካራ', 'taupe', 'የብርቱካን', 'Formal', 'extra', 'አዲሱን', 'Edition', 'VENICE', 'አንደኛ', 'For', 'cordless', 'በትንሽ', 'white', 'Vast', 'Controller', 'የሚጠቀም', 'ብናኝ', '1300', 'ዉስጥ', 'የምንጠቀምበት', 'HIGH', 'Grain', 'የሱሪ', 'PROFESSIONAL', 'ማፍኪያ', 'Archfit', 'Driving', '2600', 'መሞቂያው', 'እርጅናን', 'ለመንከባከብ', 'Uv', 'birr', 'Williamson', 'durable', 'beige', 'Sta', '300ml', 'ፓክ', '110ml', 'Layers', 'ጀማሪ', 'Revolution', 'Ease', 'ሊያስቀምጡበት', 'ብሩሾችን', 'የተገጠመለት', 'sterilizer', 'Physiotherapy', 'ከፈለግን', 'trainer', 'Trailstorm', 'የወጣን', 'ዋስትና', 'Support', 'requirement', '6500', 'Tank', 'port', 'Effect', 'MEN', 'function', 'Bank', 'completely', 'መልካም', 'European', '236x236x337', 'የራሳችን', 'Juicer', 'Sayona', 'Klein', 'north', 'Pancake', 'Remote', 'grey', 'be', 'handheld', 'Shapes', 'efficiency', 'ቦይለር', 'CYBER', 'isolated', 'ዳይፐር', 'just', 'Lcd', '30m', 'መመገቢያ', 'Comfortable', 'midnight', 'አደረሰን', 'Retropy', 'Walker', 'sonic', 'Holder', 'ያስወግዳል', 'funnel', 'refresh', 'በመሰካት', 'ደቂቃዎች', 'Rechargable', 'P9', 'ስፋት', 'sided', '5700', 'squirting', 'ይናገራሉ', 'with', 'knife', 'ውሀን', '77', 'HOW', 'የኬክ', 'የሚያነሳ', 'Gym', 'የሚግል', 'Cutter', 'Clarks', 'lazy', 'hard', 'Turkish', 'AA', 'ለጠረቬዛ', 'ለዊግ', 'ለሪህ', 'up', 'Eag', 'Environment', 'አብስለው', 'ልብሶችን', 'ሀይሎች', 'deep', 'የሚቆላ', 'why', 'የማንደርስበትን', 'ምታት', '6200', 'አየር', 'rack', 'Automatically', '4', '110lb', 'እቃዎች', 'Happy', 'ጌጥ', '62cm', 'Resistance', 'lightweight', 'hood', 'Aspirator', 'Table', '4800', 'ቀለል', 'dual', 'መላጫ', 'ሁሉ', 'የግሮሰሪና', 'Bowl', 'On', 'Lux', 'መታሻ', 'city', 'built', 'MK', 'man', 'wind', 'convenience', 'retro', 'እንደመጠጫ', 'ጊፈት', 'የእስልምና', 'Lever', 'point', 'bape', 'አሪፍ', 'people', 'የደከመ', 'GARBAGE', 'SYSTEM', 'ይገለገሉበታል', '2000', 'Span', 'BLANKETS', 'face', 'tiring', 'የሚመጣውን', 'User', 'Abdomen', 'Comfy', 'MAGIC', 'Telescopic', 'jechaa', 'ለማጠብ', 'Lemon', 'ይጠብቃል', '3900', 'From', 'ሲያዙ', '240V', 'qnash', 'bags', 'ለየብቻ', 'የሚያጠፋ', 'keshein', 'መሰናዶ', 'egg', 'EthioBrand', 'የሚያፈስ', 'ካለብዎ', 'አንደኛው', 'ትልቁ', 'permanent', 'SWIFT', 'Fountains', 'የደስታ', 'የመተሳሰብ', 'ብርሀነ', 'የሚቻል', '750gm', 'Bin', 'Treatment', 'material', 'assembly', 'Molding', 'keychain', 'ከነውሀ', 'Clothes', 'መተው', '37', 'ከእጅ', 'L', 'good', '950', 'መቆየት', 'manual', 'amount', 'ዘመናዊ', 'School', 'ደጋግሞ', 'ስቲከር', 'ከርል', 'ውስጥ', 'ምድጃ', 'መምቻ', 'Back', 'fly', 'ግማሽ', 'cameras', 'vehicle', 'Gore', 'እድሜያቸው', 'Ivy', '25', 'ጉልበት', 'Rubber', 'noise', 'stored', 'Aluminum', 'የደፈነብንን', 'the', 'ዚፕ', 'MORA', 'SKECHERS', 'የሚያስችል', 'Chopper', 'sensor', 'ማድረጊያ', 'የመያዝ', 'ፈለጉት', 'በፍጥነት', 'ማስተካከያ', '50cm', 'የጡት', 'Sauna', 'shield', 'FLAT', 'Accuracy', '500ML', 'የቦርጭ', '26', 'SP', 'የቀሩ', 'wamrt2', 'Teat', 'ትሪትመንት', 'Vomero', 'በ', 'Laorentou', 'ሶስት', '6Pcs', 'ለጤናዎ', 'ጋርመንት', 'PEVA', 'ቁርስዎን', 'Universal', '000', 'Plain', 'FRAYER', 'መድሀኔአለም', 'መዳፍ', 'Equipment', 'እስከ', 'NB', 'Whisk', 'possibility', 'ስሮችዎን', 'Folding', 'እጅግ', 'pegasus', 'መዋል', '251118639952', 'Over', '4700', 'Paper', 'Start', 'Source', 'የእንጥፍጣፊ', 'Elder', 'which', '2350', 'ስቴንለስ', 'በኪስ', 'PARIS', 'af', 'non', 'Makeup', 'K', 'Contour', 'ሞገስ', 'ማጂክ', 'off', 'የሚችሉ', 'መልከም', 'fits', 'የላስቲክ', 'ፓስታ', '84', 'airline', 'መቀቀል', 'ሁሉንም', 'stretch', 'since', '180cm', 'Website', 'Sharp', 'Colourful', 'Grade', 'Armur', 'አልጋዎች', 'Drake', '360cm', 'ለመከላከል', 'Soap', 'lite', 'ለኢንዱስትሪ', 'Aroma', 'ይቀላቀሉ', 'hot', 'Postpartum', 'knee', 'purpose', 'Keep', 'Nail', 'Iron', 'አገጣጠም', 'ለወዳጅዎ', 'Car', 'እንደወረዱ', 'ግራም', 'በመጨመር', 'Jacket', 'የሚያለሰልስ', 'various', '3400', 'አንዳንድ', 'እንዲወጣ', 'መረጃ', 'ሽታ', 'WHITE', 'ለባኞ', 'Shoe', 'Sweating', 'Atmosphere', 'Phone', 'ኦክሲጂን', 'Types', 'ደጋግመው', 'office', 'ስቲም', 'በሁለት', 'Safety', 'ድረስ', 'Moc', 'ጤና', 'Ab', '11', '9060', 'Multifuncional', 'ሲፈልጉ', 'የሚቆሙ', 'wall', '3pcs', 'እግራችን', 'መፍትሄ', 'wearing', 'ኦርደር', 'LeBron', 'ያሻሽላል', 's', 'እንደዞሩ', 'የማይፈጅ', 'Forefoot', 'Carry', 'Reigning', '8', 'ስፈት', 'tape', 'Expandable', 'have', 'Uses', 'Burning', 'ለማጠንከር', 'Protect', 'Alphabounce', 'የማይቀደድ', 'Foldable', 'ZM2yHbMPH', 'የሚፈልጉትን', 'እነዚህ', 'ኦቭን', 'Model', 'Shake', 'ህንፃ', 'የሚዘጋ', 'ZAHRAT', 'Philips', 'Ingret', 'የሚያነቃቁ', 'የተሰራ', 'Stickers', '12Pcs', 'እንዳይወድቅ', '20', 'Dispensing', 'uniform', 'Sponge', 'መዝጊያ', 'Type', 'ከቤታችን', 'Powerfailure', 'sponge', 'Mandoline', 'fuel', 'Poacher', 'የጤና', 'Beaters', 'Grip', 'ስቲመር', 'less', 'spill', 'ለጥጥ', 'connect', 'ስኳር', 'fruits', 'Electronic', 'Oxygenation', 'ለውጥ', 'የሚለጠጥ', 'Leak', 'Master', 'IMPULSE', 'Wash', 'Pegasus', 'Laptop', 'ለመንቀሳቀስ', '10', 'promotes', 'Carpet', 'Intelligent', 'የሚፈለግ', 'Shoulders', 'ice', 'position', 'Mop', 'ሲመዝኑ', 'Luxury', 'ጁስ', 'Brawley', 'የሸቶ', 'በመፍጠር', 'Gorun', '650W', 'Dilica', 'የለውና', 'bowl', 'ከመፍራም', 'ያለ', 'SWADDLING', 'Mc', 'washer', 'መጠገኛ', 'Die', 'Keratin', 'charge', 'Ladder', 'zipper', 'Turban', 'Mouth', 'እየተሽከረከረ', 'Natural', 'seconds', 'ቁመት', 'Easy', 'መለማመጃ', 'ተመራጭ', 'ንኪኪ', 'Dessini', '950ml', 'እንቅስቃሴ', '54', 'press', '45cm', '5950', 'እርጥበትን', 'የኩኪስ', 'በየትኛውም', 'ማድረቂያ', 'አፓርታማ', 'dormitory', 'በሰከንዶች', 'Repeat', 'Fascial', 'የጁስ', 'ተስማሚ', 'አስቀምጠው', 'C85', 'ለመስቀል', 'Unlock', 'mixer', 'FENDI', 'ኮንቴነር', 'መብራት', 'መሳሳትን', 'Blade', 'Of', 'Terra', 'ስለምንችል', 'በአንድ', 'ልስላሴ', 'Grind', 'SHEIN', 'Lazy', 'Hand', '42', 'ከጠንካራ', 'የማይጫጫር', 'Widened', 'Intake', 'casual', 'Clippers', '3300', 'humidifier', 'ባለሁለት', 'የሆርሞን', 'Trendy', 'Detachable', 'guddaadha', 'ሌሎች', '1180mm', 'indicate', 'Variable', '4XL', 'tiktok', 'Seamless', 'ምቹ', 'በኩል', 'Saachi', '2500', '500ml', 'Hose', 'carpet', 'ሕይወትዎን', 'ውልቅ', '7400', 'Fashion', 'ጠጅ', 'stop', 'የሪሙቨሩን', 'ቡርሾች', 'Waterproof', 'pole', 'ግራንድ', '10g', 'ኮስሞቲክስ', 'ክንድ', 'maximum', 'ማድረስ', 'የምግብ', 'ቅመሞች', 'extrusion', 'IINIMA', 'awasadmin2', 'Bib', 'pillars', 'የነርቭ', 'Stainless', 'friendly', 'ለመፈለግ', 'Compression', 'sharpening', 'ለመድሀኒታችን', 'Noise', 'Relief', 'አይነቶች', 'የሚታጠብ', 'ማስጫ', 'XXL', 'precision', 'ፍሳሾች', 'Socks', '480', 'removable', 'hair', 'ፑሽ', 'hotels', 'PALACE', 'ደቂቃ', 'Chicco', 'ከባልዲ', 'እቃ', '9000Br', 'አበባ', '280ml', 'ከጠረንጴዛ', 'Migraines', 'me', 'ይዛ', 'Gentle', 'protrusions', 'does', 'mid', 'Prevent', 'የማይደረግ', 'BABY', '24pcs', 'popularity', 'Bed', 'make', 'PB100DPDZM', 'የተረከዝ', 'ይተኩሱበታል', 'በተጨማሪ', 'black', 'WRITING', 'Walk', 'እናደርሳለን', 'ደግሞ', 'ALDO', 'Display', 'parts', 'Powder', 'ለማደባለቅ', 'Cloud', 'ግጥም', '00', 'thickness', 'በድጋሚ', 'በቻርጅ', 'rubber', 'emit', '5M', 'በስራ', 'Working', 'መምጣት', 'EOTS', 'Louis', 'Yellow', 'Patterned', 'Also', 'canopy', 'Everyday', 'Stocks', 'ጫማ', 'travis', 'Strong', 'caster', 'በአንዴ', 'tubs', 'SVETSEON', 'Lavender', 'እንቅሰቃሴ', 'perform', 'Club', 'GRINDER', 'የገባ', 'Digital', 'SILVER', 'Ergonomic', 'Length', 'storage', 'protects', 'ስለሚያገለግል', 'የትከሻ', 'scott', 'Wardrobe', 'ጭን', 'salads', 'ፋሲካ', 'stove', '9000', 'Discount', 'AIR', 'some', 'ከቨር', 'Magnrtoheraphy', 'Keychain', '600ML', 'Socket', 'ሳሙናው', 'V', 'ተደረጎ', 'gas', '74', '5km', 'seamlessly', 'H', '350w', 'nipple', 'Aluminium', 'የሚያደርግልዎ', '5W', 'overheat', 'suede', 'ለኩሽናዎ', 'brush', 'ብንጠቀመው', 'ስንፈልግ', 'garment', 'Oxford', '1600', 'you', '500watt', 'pancake', 'በምን', 'መረቡ', 'መፍሰስን', 'በኤሌክትሪክ', 'is', 'technology', 'ውሀዉን', 'አጎበሩን', 'ማስመጣት', 'Elasticized', 'Eyebrow', 'daily', 'Waffle', 'RUN', 'ለበአላት', 'Switch', 'Nipple', 'ይጎብኙን', 'Premium', 'Shock', 'በኤሌክትሮኒክስ', 'Waist', 'የምንችለው', 'U', '120W', 'copper', 'Moving', 'Sonifer', 'ፖምፕ', 'አለምነሽ', 'የከሰል', 'Travel', 'Adidas', 'Breast', 'ለመፍጠር', 'የመቀመጫ', 'Sneakers', 'security', '9500', 'ያነጠፉት', 'drain', 'washing', 'Hook', 'drains', 'ማራገፊያ', 'touch', 'ምን', 'የማይጎዳ', 'የመሳሰሉትን', 'Constant', 'ወፍራሙ', 'Instruction', 'SAMBAROSE', 'absorber', 'fast', 'Reel', 'በማፅዳት', 'ያስተካክላል', 'ከሆነ', 'የማያሳልፍ', 'Samba', 'Reining', 'Sealed', 'በፈለጉት', 'Heater', 'ለመያዝ', '1100W', 'ሳያባክኑ', '0905464599', 'ብሎ', 'Sky', 'Strip', 'OFF', 'Drive', 'Paisley', 'clay', 'Accupressure', 'ቅርጫቶች', 'NIKE', 'Appliances', 'Spray', 'የፒዛ', 'rains', 'ለቢሮ', 'Bottles', 'ለሀላ', 'ከለር', 'አድርገው', 'classic', '1950', 'ከሰል', 'Saver', 'ማደስ', 'NOCTA', '700', 'Tea', 'Af1', 'ፉጥነት', 'professional', 'wand', 'በጥሩ', 'ለማንቀሳቀስ', 'Scheduled', 'archfit', 'የሽንኩርት', 'Wide', 'በአል', 'ምንም', 'ይቆጠራል', 'FOLDING', 'Just', 'water', 'Bape', 'fusium', 'KEMEI', 'የማገልገል', 'የውሀውን', 'stimulate', 'Volume', 'Witness', 'ያላብሳል', 'remove', '24', 'ግቢ', 'DIY', 'N', 'እሳት', 'ፍራፍሬዎችን', '27', 'Queen', 'Friendly', '2800', 'ከስር', 'ጎማዎች', 'እናቶች', 'የፍሪጅ', 'Arm', 'መጨፍለቂያ', 'Double', 'የክርስትና', 'Zamass', 'Fine', 'እየቆሸሸ', 'ይፈሽናል', 'padded', 'Making', 'የአየር', 'ያረጁ', 'መዛባትን', 'Sinus', 'ቃችን', 'AAA', 'Shaker', 'carton', 'ግድግዳ', 'ከጀበና', 'መድከምን', 'Jordan', 'killer', 'AC110V', 'An', 'እንዳያመልጣቹ', 'ላለ', 'ፎቶ', 'Vanilla', 'ኮሌስትሮልና', 'Striped', 'ይፍጠኑ', 'አውልቀው', 'protection', 'Do', '5V', 'ecco', 'ሳህን', 'lb', 'F', 'ቀጣዩን', 'እንዲያገኙ', '32', 'TAB', 'ማብሰያ', 'Rupture', '4pcs', 'Camera', 'All', 'ላለባቸው', 'Fragrance', 'ክዳኑ', 'ግሪፕ', 'በሙቀት', 'Toddler', 'እሁድ', '7800', '28CM', 'Buy', 'ተረከዞችን', 'ቀላል', 'በጤናማ', 'Kit', 'Penny', 'ልጅዎን', 'Zone', 'Up', 'የትም', 'SWISH', 'ዲዛይን', 'carry', 'experience', 'ፊት', 'እየተዝናኑ', 'Fruit', 'ያበስሉበታል', 'Sling', 'CHANEL', 'Orignal', 'የማይመች', 'health', 'Footbath', 'ይቀንሳል', 'Alumunium', 'እያወራ', 'የፈንዲሻ', '400mm', 'BALENCIAGA', 'Base', 'ወደጎን', 'የኦርቶዶክስ', 'ነገሮች', 'Crepe', 'sturdy', 'ገብቷል', 'Step', '6L', 'essential', 'milk', 'በቀላሉ', 'resistance', 'Speed', 'double', '1Hour', 'ከግማሽ', 'ካርቦኔትድ', 'ገበታ', 'Skin', 'ጆጎቹ', 'Marado', 'ABS', 'ያዘጋጁት', 'Sucker', '205', 'Hard', 'Duty', 'Cross', 'አልሙኒየም', 'Refrigerators', 'Golden', 'ON', 'CASENET', '101', 'Rawars', 'settings', 'Efficient', 'Saves', 'የመንኮሻኮሽ', 'hook', 'ሁክ', 'ሽንኩርት', 'Body', 'absorption', 'Cille', 'Straws', 'Massage', 'እንዲሆን', 'Flask', 'ለዝንጅብል', 'ወደ', 'ግፊትን', 'በማስመልከት', 'Squeeze', 'ለፈንድሻ', 'smoke', 'ቆንጆ', 'የያዘ', 'appliance', '2023', 'ሰላማዊ', 'ፕላስቲኮች', 'የአንድነት', 'Sock', 'Out', 'መለጠፍ', 'የጀርባ', 'ECO', 'ፂም', 'የሚረዳን', 'ወንበር', '2m', 'የላፕቶፕ', 'Force1', 'ልጅ', 'pad', 'Wheels', 'Mounted', 'ከከለር', 'Perfect', 'super', 'በማንኛዉም', 'intended', 'T', 'Stock', 'shown', '200mAh', 'ለደረት', 'Direction', 'modified', 'Busentiz', 'የቡና', 'pressure', 'Includes', 'Orderqnashplus', 'vibration', 'እያሉ', 'toast', 'በቢሮዎ', 'Peeler', 'mill', 'የጨቅላ', 'origiinal', 'Dumpling', 'ትልቅ', 'Blazer', 'Chest', 'ከሚቋቋምና', 'Forum', 'ገዝተዉ', 'ከቦታ', '4Packs', 'Lithium', 'organizing', 'boston', 'compress', 'ጄል', 'road', 'ድስቶች', 'ለሲሊንደር', 'Logo', 'በደቂቃዎች', 'Function', 'የሚይዙ', 'ጦር', 'Plus', 'LOUIS', 'fog', 'ጀርሞች', 'To', 'Promote', 'loafers', 'Eye', 'about', 'ቀዝቀዝ', 'ለስራ', '145cm', 'በደህንነት', 'Waerta', 'መጋገሪያ', 'Multipurpose', 'Breathable', 'LIGHTER', 'Rebound', 'ይዞ', 'furniture', '36', 'Max', 'Disposable', 'ከጠዋት', 'shirt', 'Infantino', 'ኪችንዎን', 'INBOX', 'የመኪና', 'ሁለቱም', 'በሚናገሩትን', 'Machine', '60W', 'Apply', 'መቀበያ', 'Unit', 'Pocket', 'comfortable', 'ፋኑ', 'ኪሎ', 'travel', 'ለማከም', 'premium', 'Inox', 'ቁጥር', 'downtown', 'Slow', 'ፀጉርዎን', 'leakages', 'አልጋህን', 'የቀረበ', 'apart', 'price', 'ካርድ', 'ቆጣቢና', 'ለመፍጨት', 'Cooking', 'Multiple', 'የገዙለት', 'enough', 'Italy', 'circulating', 'Orderqnash', 'Sweat', 'Time', 'ማለስለሻ', 'Changing', 'Mosquito', 'ሰውነትን', 'የሆኑ', 'ማሽን', 'Infant', 'sneakers', 'rotating', 'INDONESIA', 'design', 'Rapid', 'sets', 'ጥቅል', 'ምግብ', 'Formula', '330ml', 'Winterized', 'ተሽከርካሪ', '6m', '2400', '5Mm', 'የሚመስል', 'በልጆች', 'MARC', 'ተነጫጭተው', 'የሚያደርግ', 'Rate', 'በብዙ', 'ይመዝናል', 'Steam', 'Not', 'መሰነጣጠቅ', 'ለመደሀኒታችን', 'ተክል', 'Humidification', 'clogs', '80cm', 'Pcs', 'mc', 'ብሩሾች', 'Platform', 'Limit', 'clean', 'ማስዋቢያ', 'Good', 'ቱቦው', 'ቆዳን', 'taylor', 'Lids', 'Winflo', '250ml', 'sandals', 'Hands', 'Shallow', 'ብርድ', 'Charged', 'የእድሜ', 'hi', 'CA', 'ቁርስ', 'ክብደት', 'leak', '446', 'Hair', 'ያህል', 'ለማስታገስ', 'ልኬት', 'levels', 'Oral', 'Style', 'ከተለያዩ', 'powerful', 'ጄሉን', 'ለመካከለኛ', 'Self', 'Sandalwood', 'Baga', 'Units', 'ንፁ', 'cap', 'የላፕቶፕዎን', 'wamrt1', 'structure', 'ginger', 'የሀባብ', 'ሚዛን', 'Clark', 'Bamboo', 'Trend', 'assemble', 'Curved', 'ማፅጃ', 'great', 'V9', 'Designed', 'horizontal', 'የያዝኩት', 'አብሮት', 'ኦርጂናል', 'Lace', 'Replacement', 'Patta', 'ለሲንክ', 'Never', 'ህፃናትም', 'nut', 'Scale', 'Objects', 'vaporfoam', 'GPS', 'ምሳ', 'መአዛን', 'Nike', 'ለማሳወቅ', 'foldable', 'lighter', 'ሄር', 'rods', 'ከይቅርታ', 'ultra', 'small', 'Superme', 'burst', 'የሴቶች', 'effort', 'Pices', 'ኛው', 'free', 'Way', 'እናመጣሎታለን', 'Gel', 'ሱሪዎ', 'አቅም', 'ስቲል', 'ሳይጠበቅቦት', 'ኬኬር', 'MAX', '1450', 'household', 'anty', 'isiniif', '2016', 'Christmas', 'Seven', 'pollutants', 'clear', 'ካለብዎት', 'ሜ', 'ለመሞረድ', '7200', 'የእቃውን', 'swoosh', 'በቀዳሚነት', '28', 'አያስፈልግዎትም', 'speed', 'heavy', 'Great', 'የሚውል', 'ለሽንት', 'ፍላጎት', 'Scents', 'ቁ', 'አረፋ', 'ትክክለኛ', 'ለፂሞ', 'ion', 'በመሬት', 'ለተቸገራችሁ', 'በስርአት', 'dish', 'Spice', 'tassel', '100kg', 'Column', 'Circulatory', 'ቴሌግራማንን', '130W', '913321831', 'Cherry', '1L', 'መኖሩን', 'መሆኑ', 'መሸብሸብን', 'women', 'ኤሌክትሪክ', 'Take', 'ሽታን', '30x', 'ትንሹ', 'wardrobe', 'holds', '20CM', 'UTILITY', 'NEW', 'የብረቱ', '0799152848', 'Discs', 'ነፍሳት', 'ፖትራ', 'Undredges', '90', 'ቀኑን', 'ለጌታችን', '90ml', 'የሚያጣራ', 'Life', '6000', 'Organizer', 'adizero', 'Inbox', 'በር', 'medications', 'steel', 'vs', 'ድምፅ', '3Tier', 'AND', 'Rechargeable', 'Lock', 'Forged', 'የሚያስውብ', 'የማይደፋ', 'Container', 'ቶሎ', 'Beige', 'get', 'flask', 'Push', 'Meat', 'Wringing', 'GTX', '304', 'Rack', '30', 'PRM', 'Load', 'Customizable', 'Bottom', 'Moisturizing', 'በአሉ', '21cm', 'ያስቀራል', 'designed', 'ልጆች', 'Brows', '313mm', 'የሚያስጠቅም', 'Sun', 'በመጠቀም', 'ፕላስቲክ', 'V5000', 'ካቢኔትና', 'food', 'window', 'Patterns', 'ለፅሁፍ', 'መቆንጠሪያ', 'Board', 'Living', 'መደርደሪያ', 'vibram', 'by', 'Infrared', 'Shave', 'strong', '34CM', 'ለመጠቀም', 'width', 'ማንኛውንም', 'colors', 'Provides', 'all', 'Soleplate', '18CM', 'Ayyaana', 'ሳይጨማደድ', 'Spring', 'Prices', 'slip', 'እንዲጨምር', 'Layer', '29x', 'Portugal', 'Micro', 'ለማዘዝ', 'Rinse', 'stick', 'እንደ', 'Madeleine', 'ስትንቀሳቀስ', 'separation', 'የቅመም', 'ARRIVALS', 'ማሞቂያ', 'base', 'SWISh', 'VERSACE', 'Feet', 'አብሮ', 'Silica', 'side', 'ያለው', 'ረጅም', 'flame', 'Full', 'can', 'EXCEL', 'sk8', 'ለስቅለት', 'react', 'የሚሰጥ', 'Humidifier', 'ሰንበት', 'Nova', 'Sided', 'የመስታዎት', 'ቅመማ', 'ሀርቪ', 'ለማየት', 'effective', 'የቢሮ', 'Beater', 'ለላብራቶሪ', 'የሚያስመሰግን', 'condominium', 'mat', 'የኢድ', 'Triple', 'nano', 'CAMPUS', 'Senor', 'kids', 'cloth', 'lace', 'ሲያደርጉ', '251941661030', 'campus', 'ተቀጣጣይ', '68', '185', 'የሚቆቆም', 'ላውንደሪዎች', 'France', 'dust', 'የተሰነጣጠቀ', 'Clean', 'dunk', 'የሚጠቅም', 'Aromatherapy', 'Connectors', 'ከጤና', '150cm', 'ፈሳሽ', 'Wait', 'humidification', 'effects', 'vegetables', 'Wallpaper', 'easily', 'Batteries', 'ልብስ', 'plus', '85', 'Create', 'pantry', 'patches', 'የሚያረግ', 'አድራሻ', 'objects', 'TZY', 'citrus', 'Vortex', 'Tweezers', 'maintain', 'ሲታጠቡ', 'Sleeve', 'የቀለም', 'Gift', 'variety', 'ጥያቄ', 'የሚዞር', '2017', 'የጥርስ', 'we', 'በተለያዩ', 'መቀያየሪያ', 'Bendable', 'handled', 'watt', 'ለፊቶ', 'መስራቱ', 'vm', 'Wishing', 'ይወስዳል', 'Plank', 'continuous', '15', 'Pristine', 'gained', 'Corset', '30W', '10cm', 'Writing', 'ማሳሰብያ', 'cut', '0916767778', '2700', 'GY', 'ከፍ', 'የተለያየ', 'contact', 'ጋዝ', '12V', 'skate', 'አና', 'ይጠቀማል', 'አደሀ', 'Pizza', 'ጫማዎችን', 'Lenght', 'በግራም', 'ለሙሉ', 'የምታከብሩት', 'የሚፈጭ', 'cleaning', 'የወረቀት', 'maker', '220', 'ስፖንጅ', 'gift', 'ይረዳል', 'Pc', '0993727272', 'ቁጥሮች', 'efficient', 'ages', '31cm', 'ይታጠፋል', '360', 'Rresistance', 'children', 'ምህረት', 'Platte', 'Midcity', 'LED', 'እያንዳንዳቸው', 'ለሻዋርማ', 'ከሊፍት', 'force', 'ዱቄት', 'በነፃ', 'ስጋ', 'ነገር', 'level', 'resistant', 'Device', 'ስለሆኑ', 'የሚረዝም', 'three', 'at', 'vaper', 'ውድ', 'shapped', 'Cutting', '2slice', 'painless', '110', 'Desk', 'ድስት', 'Flame', 'Alberto', 'models', 'ክብ', 'AF', 'Sequences', 'እንዲበስል', 'ect', 'zero', 'machine', 'Compact', 'Blackboard', 'ከዚህ', 'ცЯŋ', 'Sewer', 'microfiber', 'CM', 'መሳሪያ', 'Toothbrush', 'Cancelling', 'Armuor', 'አጥርቶ', 'arch', 'ሌቦች', 'በተጨማሪም', 'ሌላ', 'FREE', 'Reebok', 'በበረንዳው', 'ስለሚደፈን', 'Massager', 'opener', '103cm', 'ለተለያዩ', 'የኪችን', 'Camping', 'ሁለቱንም', 'Motor', 'heating', 'multiple', 'ማፍሊያና', 'የጫማ', 'Pallet', 'አስፈላጊ', 'posture', 'PCs', 'Burner', 'AC', 'ape', 'Trek', 'Retro', 'squeezing', 'ኖቫ', 'በጥራት', 'ቦርሳ', 'ለቤት', 'Zaherra', 'ሄደው', '350W', '29', 'ቋንጣ', 'Cord', 'የፀጉር', 'የሚጠብቅ', 'Deck', 'ወዘተ', 'This', 'ፖን', 'One', 'kg', 'awasadmin1', 'ሶስቱን', 'ጣቶችን', 'ጀምሮ', 'Milk', 'Jar', 'Heavy', 'ብር', 'gms', 'Suitable', 'ልባዊ', 'PTC', 'ተከታዮች', '150', 'ጎን', 'Small', 'Dispenser', 'Asics', 'Shampoo', 'ለቧንቧ', 'Maraki2211', 'ADIPRENE', 'motion', 'need', 'ማጠራቀሚያ', 'Amount', 'ቴሌባር', 'ተክለሰውነትን', '175', 'የሚገጣጠም', 'Meta', 'The', 'foaming', 'Purastep', 'Compatibility', 'Proper', 'Ozelia', 'ከመጉዳት', 'Usb', 'ሳንካዎችን', 'የደም', 'ZMFyxv8Q4', 'አላስፈላጊ', 'Operation', '80', 'ለመሳቢያ', 'Stove', '3800', 'Colour', 'Warm', 'Inner', '17x', '7V', 'v2', 'Serrated', 'የማያጨማድድ', 'Oilproof', 'shoulder', 'Restocked', 'ሰአት', 'ለኮንዶሚኒየም', 'እንዲኖር', 'አያቃጥልም', 'ቅንድብን', 'Different', 'መጣያ', 'air', 'ስትራላይዘር', 'ማድረግያ', 'ጠረን', 'ሴ', 'drops', 'ቅልጥፋ', 'Men', 'ወለል', 'የወገብ', 'በአሉን', '1200', 'ለራስ', 'ነገሮችን', 'ይረዳዎታል', 'እናት', 'Acrylic', 'Following', 'ZAMAS', 'የእንጨት', 'ላፕቶፕ', 'SA2', 'based', '12Hours', 'አደረሳቹ', 'ውጤታማ', '10000', 'Terrex', 'designer', 'ሜክሲኮ', 'Maven', 'spray', 'በአግባቡ', 'Thermostat', 'አስገብተናል', 'ማስቀመጫው', 'Feature', 'Travis', '114', 'ስትሬት', 'floors', 'ቴሌግራም', '3M', 'beneath', 'years', 'FITRON', 'መተኮሻ', 'Leakage', 'Cuddle', 'ሞል', 'beater', 'ኮዳ', 'የሚስብ', 'sticker', 'labor', 'potion', 'Lamp', '183cm', 'Jambo', 'ትኩስ', '3600', 'ቅመም', '2', 'እጥረትን', 'Cleaner', 'የመጨረሻ', 'flyknite', 'motor', 'pan', 'አፕ', '450W', 'ጥፍሮችን', 'ብርጭቆዎችና', 'ሊ', 'tempus', 'በምቾት', 'transporter', 'ሳይሰባበር', 'Oil', 'terrex', 'Still', 'ተኛ', 'Microwave', 'Chaussure', 'Cuts', 'both', 'ከገንዳ', 'Tool', 'Salon', 'airjorda', 'ስጦታ', 'ጥንድ', 'ZARA', '60Hz', 'ስለሌለው', 'ግፊት', 'የማይሆን', 'DISELE', 'Wrap', 'call', 'ማስጌጫ', 'sink', 'ዋስትናዎ', 'ለማለስለስ', 'anti', 'KITCHENWARE', 'ሲጠቀሙ', 'gaarii', 'ቀለም', 'Watt', 'imported', 'handling', 'elder', 'Muffin', 'ensure', 'ፀባይ', 'Off', 'stitch', '47', 'Every', 'cream', 'invasive', 'escape', 'gently', 'Pieces', 'Simple', 'dirt', 'ጉዞንና', 'Loyal', 'ለጂም', 'ለወለል', 'Rotating', 'የቆዳ', 'ማንጠልጠያና', 'ሙዚቃ', 'Baking', 'Go', '0m', 'ለማስወገድ', 'ለቆዳ', 'Grey', 'made', 'ድቅቅ', 'door', 'br', 'መኪና', 'Emitting', 'እንደፈለጉ', 'ሆቴል', 'የራስ', 'ጀሪካን', 'Blends', 'Panini', 'head', 'Wesdenk', 'ሶስተኛ', 'cup', 'Kariz', '012', 'ልብ', 'አድርቆ', 'መቁጠሪያ', 'Panorama', 'Front', 'Juice', 'ስድስት', 'ከአክሱም', 'የጡጦ', 'isa', 'Kettle', 'Red', 'Spill', 'Blackheads', 'ማዘጋጀት', 'Honeycomb', 'ለካቢኔ', 'steamed', 'Comb', 'Battery', 'ቀዳዳ', 'መስሪያ', 'ቀስ', 'BM', 'Manual', '180', '3000', 'ለመውሊድ', 'በሰላም', 'Side', 'foam', 'Minutes', 'የእንፋሎት', 'pc', 'የቀረው', 'Set', 'stainless', 'መያዝ', 'Bag', 'የሽሮና', 'Washing', 'ታጥቦ', '44', 'Nonstick', '100ml', 'inner', 'ውስን', 'ማፍሊያ', 'Couple', 'Levels', 'Shield', 'Xl', 'seat', 'bank', 'Spices', 'Swivel', 'locking', 'ሙቀትን', 'ባንክ', 'Bags', 'ሊበሰብስ', 'space', 'አደረሳችሁ', 'CK', 'Solar', 'ሎጎ', 'Electricity', 'ያለን', 'Models', 'ተቀያሪ', 'ቢንቢን', 'ሆዝ', 'simple', 'Clipper', 'Buckle', 'Easiest', 'እንጂ', 'hanger', 'በቀን', 'መርጋትን', 'anywhere', 'flawless', 'ሼክ', 'አስተማማኝ', 'Guard', 'TIMBERLAND', 'Wall', '200cm', 'ውፍራም', 'looks', 'ለልጆች', '55', 'tidy', 'ያደርቁበታልም', 'Sharpener', 'ጌጣጌጥ', 'መቆለፊያ', 'Baby', 'pattern', 'infraed', 'ለላይኛዉ', '2950', 'Toilet', 'MEXXI', 'ለማስተካከል', 'አስከ', 'ወተት', 'የሚመች', 'battery', 'available', 'shoe', '0920238243z', 'ከዘይትና', 'Black', 'oz', 'marathon', 'እለት', 'Germany', 'አመት', 'Clips', 'effortless', '5100', 'shell', 'የሚተኩስ', 'blender', 'Temperature', 'No', 'የሚተጣጠፍ', 'Piclse', 'XXV', 'GIVENCHY', 'የሚያደርቅ', 'Supply', 'liters', 'dimensional', 'cloud', 'የሚጣድ', 'Adopt', 'PEG', 'Nozzle', 'ልብስን', 'Care', 'Heating', 'የልደት', 'ኑሮን', 'refrigerator', 'It', 'Telegram', 'Gyro', 'የማይፈልግ', 'olive', 'Heads', 'የሚሰራ', 'Cosmic', 'Trainings', '1350', 'ቅድሚያ', 'አሁኑኑ', 'ztaur', 'N354', 'የሚያገለገሉበት', 'long', 'LCD', 'አስገራሚ', 'የሚደንስ', 'Low', 'Into', 'ነን', 'Saliva', 'feet', 'ከአነስተኛ', 'ከሌለብዎት', '650', 'አመትበሰላም', 'Only', 'ስለዚህ', 'ቢሮ', 'ለቁርስ', 'casing', 'ሱ', 'የበአል', 'ያስታግሳል', 'Hiwe5266', 'Non', '0920238243', '24cm', 'ወጥ', 'room', 'CAT', 'longer', 'ድሪም', 'mix', 'Can', 'Outer', '40cm', 'የደረት', 'medicine', 'operation', 'መሸከም', 'በሆነ', 'low', 'እርሳስ', 'Kids', 'የሚሰበስብ', 'Watches', 'Pu', 'spoon', 'Hot', 'strap', 'የቡናና', 'mess', 'ቲክነስ', 'ጀርባ', 'relief', 'Green', 'ጨምሮ', 'Plastic', 'Round', 'club', 'እያዟዟሩ', 'Voltage', 'Adjustable', 'ክቡራን', 'የሰላም', 'sides', 'ህመም', 'የማንሸራተት', 'CLIPPER', 'Flywire', 'መከላከያ', 'Gloves', '2000W', 'Litre', 'ላይተር', 'ስፓቹላ', 'BAGS', 'Liter', 'Durable', 'scrubbing', 'speeds', 'ለነገ', 'purposes', 'CMP', 'brow', 'Reusable', 'ተጨማሪ', 'paper', 'ማጥበብ', 'Adhesive', 'BRAND', 'ለሽንኩርት', 'ይደርሶታል', 'uuf', 'Majic', 'Adimatic', 'more', 'በዚህ', 'በተለይ', 'includes', 'Cottoj', '2M', 'leaks', 'stay', 'Dispense', 'በቴሌግራም', 'monk', 'Straightener', 'የሚጨምር', 'Isla', 'C300', 'በአጠቃላይ', 'kill', 'የሞቀ', 'የማያደክም', '2008', 'lowcate', 'ለመያዝና', 'የሚስማማ', 'ታላቅ', 'Serena', 'supply', 'Degree', 'Garlic', '800W', 'helmet', 'Vacuum', 'scaip', 'countertop', '40', 'Absorbs', 'Steamer', 'impact', 'so', 'Rotation', 'ስለሆነ', 'Fraying', 'Velocity', 'አጫዋች', 'አገልግሎቶች', 'washers', 'wool', 'ColorBlack', 'Goupu', '3950', 'Durango', 'Run', 'styling', 'Linda', 'counter', 'ለኪችንዎ', 'ማእዘን', 'Graters', 'Scott', 'Features', 'STEMER', 'table', 'በሰዉነታችን', 'ካበሩት', 'Alexander', 'plug', 'Tendinitis', 'blades', 'Women', 'ነገ', 'area', 'BPA', '02', '550ml', 'ተለጣፊ', 'እንፋሎት', 'ማማሰያና', 'USE', 'ባለሙያዎች', 'Dye', 'ጡንቻ', 'Price', 'Frictions', 'ለዚህ', 'በእጅ', 'Stay', 'Bake', 'in', 'ቀለሙን', 'የህፃናት', 'ዛሬ', 'ኢድ', 'ሱፕ', 'ይጨምቃል', 'Shower', 'Zoom', 'drying', 'ቀጭን', 'Activities', 'Naija', 'Junior', 'ደረጃ', 'ወይም', 'ለልጆችዎ', 'ወይንም', 'few', 'absorbant', 'peeler', 'Cuppuccino', 'Vibration', 'Short', 'Omelette', 'Heated', 'የላሰሰቲክ', '1500W', 'car', 'የሱቅ', '1Garlic', 'ለሁላችሁም', 'አቅጣጫ', 'Specifications', '50mm', 'ለጥ', 'ይመጣል', 'Elbow', 'በመጠር', '50', 'እንመኛለን', 'ላልቻላቹ', 'የሚቋቋም', 'የሚያደርጉ', 'የማይልሳልፍ', 'Stretched', 'ድምጥማጣቸውን', 'Enery', 'የፈውሰ', 'Peg', 'Hiking', 'ways', '76cm', 'መመለጥን', 'ትጋት', 'PP', 'አመቺ', 'Onion', 'ለዱለት', '2831', '4200', 'ይዘዙን', 'pads', 'ለማፍላት', 'athletic', 'Dead', '16pcs', 'ያለስጋት', 'Airforce', 'Epiphany', 'vertical', '330', 'thermostat', 'project', 'Dunk', 'durability', 'ፍሪጆች', 'under', 'Tape', 'vibrant', '10m', 'የእንቁላል', 'safety', 'መድሀኒቶችን', 'ሲመጡ', 'የሚይዝ', 'Fastest', '50ml', 'Frother', 'elasticity', '50G', 'Rain', 'chi', 'ማጠቢያ', 'የፍራሽ', 'ለኢድ', 'bath', 'ካሜራው', 'mute', 'ቋት', 'safe', 'ይሁንልን', 'ጨርቅ', 'Fix', 'Mixer', 'ጳጉሜ', 'ዘይት', 'ለጥምቀት', 'not', 'ያለዉ', 'Wireless', 'ፍርኖ', 'በኋላ', 'creating', 'Osenjie', '1x', 'fashion', 'Quiet', 'ፎቅ', '251943190237', 'chunky', 'መጠጫም', 'መስቀል', 'spices', 'ይርዳን', 'Bright', 'ይሁንላቹ', 'loafer', 'ሻወር', 'ስልክ', 'relatively', 'እንዳያንሸራትት', 'ga', 'Pororo', '172cm', 'Facial', 'የሚታሰር', 'HAIR', 'ትምህርት', 'ቅቤ', 'system', 'ማደሻ', 'ፓውደር', 'interface', 'ለመታጠቢያ', 'organisation', 'መጨነቅ', 'ለፈጢራ', 'ምስሉ', 'Dressing', 'Steaming', 'absorbent', 'into', 'Kitchen', 'ከረጢት', 'መካከለኛ', 'የፕላስቲክ', 'Concealed', 'መቆራረጥ', 'ሻይ', 'በማበጠር', 'Hanger', 'ለይ', 'eyebrows', '500W', 'New', 'Campus', 'አንሶላ', 'የሚረዳ', 'የሚጨምቅ', 'መጠጫ', 'Siliver', 'adversary', 'ETB', 'SAACHI', 'shot', 'ለአዋቂዎች', 'ወረድ', 'rotation', 'Frozer', '5300', 'መክተፊያ', 'የካሜራውን', 'Stick', 'የመጠጥ', '5', 'የሰውነት', 'layer', 'ትልቁን', 'occasion', 'Continue', 'tool', 'from', 'Delux', 'Use', '88in', 'abrasion', 'ሽፋን', 'burden', 'ለፈርማሲ', 'direct', '5500', 'care', 'ተስማማ', 'Egret', 'በስፖርት', 'እቃወቹ', 'የብረት', 'ለላዛኛ', 'Tabet', 'የውሀ', 'የሆድ', 'ያሉበት', 'peg', 'Blood', 'የሚፈልገውን', 'ለኢትዮጵያውያን', 'ግርማ', 'protectors', 'Sequins', 'ሰሀን', 'ወር', 'pp', 'ሹካ', 'Packed', '1000W', 'ብቻ', 'Pipe', 'WATT', 'blanco', 'ግዜዎን', 'ይሄ', 'element', 'ለካቢኔት', 'ሊንክ', 'ጎህ', 'c', 'ያስፈልግዎታል', 'shoes', 'Purpose', 'Handle', 'Materials', 'store', 'slicing', 'basin', 'Shape', 'convenient', 'e', 'ይከላከላል', 'ለትከሻ', 'OG', '3', 'ኪኔሬት', 'ግራ', 'Kinks', 'CHEKICH', 'box', '1500mAh', '750', 'በደስታና', 'ማፆዳት', '4400', 'ማንጠፍ', 'በቤትዎ', 'Measurement', 'መክፈል', 'LV', 'suitable', '200', 'የትንሳኤ', 'የመጣ', 'ለኮሶሞቲክስ', 'product', 'Drain', 'አይወዛወዝም', 'diameter', 'Positions', 'Bucket', 'Advantage', '7', 'የበርበሬ', 'ማይካ', 'ብርሀን', 'ፀሀይ', 'መቅረብ', 'Armor', 'ቀረው', 'ለሮቶ', 'Ultra', 'ትረስት', 'ለሚሰነጣጠቅ', 'በትንሹ', 'ማስቀመጫ', 'toes', 'EMPORIO', '230V', 'canvas', 'HAPPY', 'በሀይል', 'Smoothie', 'ቻርጅ', 'GIORGIO', 'የሚመረጥ', 'Flow', 'Silent', 'elite', 'Crida', 'Drying', '60cm', 'ቀጥታ', 'መቆጣጠሪያ', 'ይደውሉልን', 'Trimmer', '5200', 'growth', 'ሳያስፈልግዎ', 'ግዜ', 'easy', 'እንቁላል', 'toe', 'Wear', 'ለአያያዝ', 'የህመም', 'SONIFER', 'Kemei', 'cable', 'እምነት', 'Cushioning', 'ኩባያ', 'ሴከንዶች', 'very', 'i', 'ለማንኛውም', 'ሶኒፈር', 'Color', 'ማንዋል', 'Pad', 'ድብርት', 'እንደወጡ', 'Palte', 'Shutdown', 'በሶኬት', 'ዉሀ', 'Chuck', 'መሰረዝ', 'ጉዳት', 'Momcoc', 'እንቅልፍ', 'potty', 'መብሳት', 'vintage', 'pinatex', 'Vest', '40ml', 'ይቀርፃል', 'የመጀመሪያ', '43', 'kitchen', 'work', 'wheels', 'ግራውንድ', 'በፍቅር', 't', 'መቆሸሽን', 'grinding', 'ለመጠበቅ', 'Crocodile', 'Quality', 'Spectur', '510', 'isin', 'gentle', 'Toxic', 'ያረጋግጡ', 'toilet', 'Handles', 'ሶኬት', 'ዝውውር', '160cm', 'plastic', 'ማንኛውም', 'Head', 'የሚተኩሱበት', 'የኤሌክትሪክ', 'ማጨሻ', '15g', 'አሳምሮ', 'ለመጎንጨ', 'የማይዝና', 'Professional', 'ክፍያዎን', 'በትልቅ', 'max', 'Silk', 'TEMPUS', 'ARMANI', 'ማስተኛ', 'Handheld', 'Two', 'ከቤት', 'አመተ', 'Three', 'የወንዶች', 'run', 'Fast', '550', 'ለብቻው', 'Egg', 'Bathroom', 'GUCCI', 'Cooker', 'pump', 'ሱቅ', 'ባክቴሪያዎችን', '100ft', 'ለማፅዳት', 'አራት', 'out', 'Urban', 'umbrella', 'ስላሉት', 'armour', 'እስቲመር', 'effectively', 'ለስጦታ', 'ለክር', 'የፊት', 'Brush', 'Dr', 'Quick', 'lens', 'bunny', 'ቢላ', 'Has', 'አክሪሊክ', 'Ages', 'facial', 'Danny', 'natural', 'areas', '9X', 'ሆነው', 'dispenser', 'Soft', 'በሽታ', 'voltage', 'በእሳት', 'ቆሻሻ', 'Disinfection', 'jacket', '17', 'የሚፈታ', 'v3', 'ምርጥ', 'እድሜን', 'ያሉ', 'ml', 'ጫፎች', 'corded', 'ለማነቃቃት', 'Rolex', 'temperature', 'ስብ', 'Recovery', 'Quickly', 'ሆኖ', 'Wow', 'Ser', 'ተደርጎ', 'Trapping', 'ergonomic', 'Washable', 'Br', '38', 'bathroom', 'ፍሳሽ', 'Polyester', 'ለማያያዝ', 'ADI2000', 'ሲገዙ', 'Cable', 'Rigidity', 'Groove', 'ማጣሪያ', 'genuine', 'vision', 'የሚያጥር', 'Triceps', 'Spatula', 'Safe', 'Basket', 'Oval', 'Washer', 'በገዙት', '240', '2150', 'ኮስሞቲክሶች', '900', 'ከዛም', 'ቅልጥ', 'Flashing', 'vomero', '20W', 'samba', 'specially', 'happy', 'YEAR', '540', '1700', 'their', 'የሚጠቀሙት', 'style', 'ማንሸራተት', 'Puma', 'Removing', 'east', '80ml', 'ፌድ', '440mm', 'Stretch', 'Nasal', 'Strawberry', 'Morazora', 'ለክርስትና', 'green', 'install', 'writing', 'Leather', 'iron', 'bling', 'ከ', 'Blender', 'closet', 'PE', 'Dust', 'Trekking', 'Always', '8000', 'com', 'Cool', 'condition', 'የሻይ', 'one', 'የሚያላበስ', 'lasting', 'የሴራሚክ', 'dead', 'ፍሬ', 'የሚያቃጥል', 'airmax', 'use', 'Tomford', 'Operating', 'GARMENT', 'ይሰጣል', '2XL', 'most', 'ሲከፈት', 'pieces', 'ስለሚሰራ', 'ለደከሙ', 'McQueen', 'ቻናል', 'Dermatologist', 'MOP', 'ታብሌቱ', 'የተሸናቀጠ', '155cm', 'ለማዘጋጀት', 'ቀዳዳዎችን', 'ጤናማ', 'Wire', 'Survivor', 'charges', 'እንቅስቃሴን', 'ገመድ', 'የሞተ', '12500', 'legend', 'አመች', 'craft', 'pc19', 'Freeze', 'ሙቀት', 'alloy', 'ተመራጥ', 'ያሰማል', 'ሚሞሪ', 'Loss', 'ዋጋ', 'induction', 'Charging', 'plate', 'ፒዛ', 'መቀያየሪ', 'የሙቀት', '260W', 'ማራኪ', 'ለደረቅ', 'w', 'Remove', '0992606060', 'tight', 'ለቤቶ', 'start', 'ቢንቀሳቀሱ', 'ለብርሀነ', 'ሰው', 'zen', 'Cookware', 'ክፍል', 'Lights', 'ሜትር', 'bubble', 'sole', 'ኦሪጅናል', 'SALOMON', 'Knife', 'ፍቅር', 'rooms', 'Dryer', 'thermometer', 'የሚያሳይ', 'Cotton', 'curling', 'ሳይዙት', 'Share', 'zip', 'አድራሻችን', 'Flawless', 'Free', 'POLICE', 'የሚገኙትን', 'teddy', 'environmentally', 'punch', 'ዘመኑ', 'Special', 'Health', 'UV', 'ይጠብቁ', 'filter', 'sitting', 'Slip', 'Mug', 'griddle', 'የሚሞላ', 'trapped', 'በማታ', 'Wrinkles', 'Ethiopian', 'መዳህ', 'Rose', 'balance', 'Sheet', 'Continuously', 'በነጭ', 'Maker', 'ፈጣሪ', '9PCS', 'በሚጀምርበት', 'Force', 'Supreme', 'ማሸጊያ', 'vacuum', '69cm', '26CM', 'edition', 'massage', 'Styles', 'ቅድመ', 'waterproof', 'ውሎ', 'Pads', 'Multi', 'Tex', 'acg', 'በባትሪ', 'bakeware', 'የሚያዝ', 'Vent', '30M', 'MONTBLANC', '1730mm', 'Proof', 'ጠረንጴዛ', 'without', 'መደምደሚያ', 'ለመኪናዎ', 'Box', 'ክርስትና', 'ultrago', 'crack', 'እንድናይ', 'Custom', 'ለማውጣት', 'Beauty', 'ብክነት', 'ጣሪያው', 'አጠገብ', 'በተለያየ', 'ድጋሚ', 'ትንሽ', 'ማፍያ', 'Marble', 'ሜካፕ', 'ለ', 'sneaker', 'Lumps', 'Exfoliating', 'Original', 'ለረጅም', 'And', 'መዚድ', 'ዴሊቨሪ', 'የራሱ', 'ማድረግ', 'Boma', '300W', 'Canye', 'ሚሊ', 'ጃር', 'ያረጋል', 'Purify', 'therapy', '5000', 'Shaping', 'Most', 'quest', 'ይመቻል', 'ሳሙና', '9300', 'light', 'መታጠብ', 'Convers', 'Tier', 'መመለስ', 'መያዣው', 'soap', 'float', 'Plate', 'የሚጠቀሙበት', '60CM', 'volvet', 'ባልዲ', 'መቦረሻ', 'Smart', 'ጥቅሞችን', 'መገጣጠሚያዎቹ', 'ROSTER', 'feeding', 'Christina', 'ውጭ', 'shaped', 'አሽጎ', '305mm', 'Deep', 'G', 'ስላለው', 'የሚረዝምና', 'ከአመት', 'የማይዝግ', 'wash', 'Goretex', 'Wedding', 'በማነቃቃት', 'grinder', 'ከሚቋቋም', 'Carrot', 'የሚጣበቅ', 'በከፍተኛ', 'ACG', 'Mini', 'Saucer', 'Excellent', 'በመበተን', 'Mask', 'alt', 'bounce', 'በማስታወቂያው', 'መሸፈኛ', 'ቦታ', 'እንዳያንሽራተት', 'grip', 'ይሰራል', 'Grill', '0945355266', 'ch', '574', 'Chef', 'Slims', 'Molds', 'Cartoon', 'skechers', '800ML', 'Chelsea', 'ከአልሙኒየም', 'አስተማምኝ', 'የሆነ', 'gear', 'Containers', 'ለእግር', 'እዚ', 'GORUN', 'Insulation', 'ሳይዝ', 'Flour', 'አገልግሎት', 'የሚል', 'Available', 'Skate', 'የክሬም', 'gauge', 'GOLDEN', 'የነጭ', 'RADO', 'device', 'አልፈጥር', 'ሊውል', 'ያደረሰን', 'Glass', 'Sanddrift', 'እናጣራለን', 'Wound', 'nylon', 'ቡና', 'ለጨጨብሳ', 'Mats', 'መንገድ', 'የሚማሩበት', 'meat', 'trousers', '1850', 'instantly', 'Better', 'Taper', 'Cup', 'ዘይትን', 'የሰለም', 'Feeding', 'ታማሚዎች', 'Instant', 'Old', 'Tornado', 'Stability', '26cm', 'Size', 'Roller', 'comfort', 'mouth', 'comes', 'Furniture', '2L', 'ማዘዝ', 'Potato', 'Superior', 'Turkey', 'ሚያስችል', 'ለተወለዱ', 'የተለያዩ', 'ላላቸው', 'indicator', 'ተጣጣፊ', 'ጊፍት', 'Meoko', '50pc', 'size', 'SCALP', 'ይመገቡ', 'ትኩረት', 'Cold', 'self', 'adjust', 'ማማሰያም', '800', 'ለምግብ', 'ቁልፍ', 'SD', 'Laundry', 'Potty', 'Straight', 'Year', 'Training', 'የሚቆጥብ', '2900', 'Tempered', 'አግሮ', 'ለመስራት', 'Cactus', 'የሚችሉት', 'styler', 'ቦርጭ', 'Toe', '0913321831', 'Alta', 'Shoes', 'TR10', 'Slicer', 'Built', 'የዋፍል', '2lb', 'Processor', 'stages', 'cotton', 'ፔርሙስ', 'የቅመማ', 'Cover', 'your', 'Alternative', 'remover', 'Abdominal', 'መከታተል', 'እድገት', 'ብዙ', 'Brother', 'flowers', 'AwasMart', 'ለሱፍ', 'roasting', 'Filter', 'ዘፍመሽ', 'ጡጦዎችን', 'የሚነቃቀል', 'Cosmotic', 'feel', 'Your', 'Exercise', 'Sprayer', 'ንፅህና', 'ለከፋ', 'የንፅህና', 'flow', 'ጡጦ', 'ለሆቴል', 'Fry', 'ከተፈጥሮ', 'Denim', 'የቫይብሬሽን', '36pcs', 'ላሉ', 'God', '12pcs', 'Sticker', '4KG', 'ሳይገረጣ', 'በንፅህና', 'Paystra', 'sinks', 'ሊትር', 'ለማድረቅ', 'waffle', 'lights', 'CD', 'ሚቻል', 'Lotion', 'ቤቶች', '3000birr', 'around', '850', '251', 'ለማረድግ', 'coil', 'Under', 'በቅናሽ', 'auto', 'ይችላሉ', 'scissor', 'create', 'moving', 'ለስሙዚ', 'candle', 'Panel', 'bedroom', 'Ecco', 'ጊዜ', 'ፈጣን', 'breathable', 'new', 'body', 'የሚመርጡት', 'crease', 'functions', 'Hours', 'as', 'Clip', 'ደረቅ', 'ምግቦችን', 'many', '3500birr', 'Electric', 'እና', 'Lid', '100cm', 'መዘርጋት', 'Durability', '650ML', 'ልብሶ', '1750', 'Cacao', 'ሳ', 'ብሩሹ', 'ለሻማ', 'Voston', 'ጥሩ', 'HainoTeko', 'sanford', 'ረዘም', 'or', 'akka', '8500', 'hyper', 'የኤሌትሪክ', 'paint', 'ከዝናብ', 'በማሳጅ', 'Flat', 'positions', '110pc', 'Sterilization', 'monogram', 'የእጅ', 'መቋጠሪያ', 'ለደመራ', 'ይዘውት', 'ልብስዎ', 'variable', 'የምሳ', 'China', '24x', 'Boiling', 'handle', 'Wave', 'sb', 'አጠቃቀሙ', 'ፓትራ', 'እየሸጡ', 'ይሸምቱ', 'ጤንነት', 'Slide', 'Gy', 'shelving', 'boots', 'የሚሸከም', 'R', 'Heel', 'የምትፈልጉ', 'pro', 'እጣን', 'strips', 'time', 'ልጆቹን', 'Barbeque', 'Limited', '1900', '400', 'quieter', 'Optimal', 'መታጠብያ', 'ማስጪያ', 'ቢገዙት', 'Steel', 'straw', 'የፋሲካ', 'n', 'ምኞታችንን', 'dry', 'ከልብ', 'ለልጆ', 'CREST', 'መለዋወጫ', 'ስላጋሩ', 'Bedside', 'እጥረት', 'jump', 'በማድረግ', 'ክረምት', 'pans', 'Month', 'Light', 'comb', 'የጎን', 'የሚያፋጥን', 'high', 'breast', 'Sokany', 'የሚቆራርጡበት', '500', 'More', 'Bath', 'Waistline', 'Gadgets', 'RC', 'Collection', '1906', 'VIETNAM', 'Convenient', '1984', 'ቤት', 'Doughnut', 'ADIDAS', 'Storage', 'flavor', 'redness', 'ያለሰልሳል', 'WATCH', 'Extractor', 'playing', '350', 'Response', 'በአነስተኛ', 'potio', 'Hour', 'button', 'Hole', 'kit', 'የማይጠቀም', 'ተደጎ', 'proof', 'FC', 'የተዘጋጀ', 'መቀነሻ', 'Pressure', 'Super', 'ይዳምጣል', 'ለኩሽና', 'ቋሚዎቹ', 'ሰከንዶች', 'የተፈጨ', 'ምላጭ', 'storge', 'trail', 'Corner', 'ቋሚዉ', 'Signature', 'board', 'Plenty', 'ሰከንድ', 'ለፊት', 'እንደምርጫዎ', 'Movable', 'ቢሽከረከር', 'ይጋግሩበታ', 'ውብና', 'Granite', 'Regal', '3100', 'for', 'ቴብል', 'ለወዳጅ', 'cover', 'ተራ', 'desktop', 'ለኢየሱስ', 'Equipped', 'Warmer', 'ህክምና', 'Infuser', 'ንግድ', 'claws', 'Disinfector', 'ዝቅ', 'drinking', 'Filterable', 'ፕላዛ', 'Heat', 'ጋ', 'ለጥራጥሬም', 'debris', 'decorations', '26x', 'Headache', 'ስለተዘጋጀለት', '147cm', 'ጥርስ', '188', 'መዳሂያ', 'BOMA', 'ማሽኑ', 'collapsible', 'Burst', 'bird', 'heel', 'ጫፍ', 'ጠረጴዛ', 'ብርጭቆ', 'Auto', 'MAXEL', 'Calvin', 'Mandolin', 'steamer', 'የእግር', 'ጀምሮዋል', 'ስብን', 'Quantum', 'እንዳይጎዳ', 'ለስጋ', 'ለቤትዎ', 'fear', '650watt', 'cool', 'እንዲሆንላችሁ', 'display', 'ለብቻ', 'alpha', 'የፈለጉት', 'main', 'Face', 'affected', 'የጤናና', 'glass', 'crushes', 'volume', '07', 'Since', 'pulse', 'Carze', 'Tera', 'የተጠራቀመ', 'suction', 'በአብሮነት', 'V3', 'ambient', 'Watch', 'ስልክዎ', 'እየሳበ', 'scale', 'Sports', 'ሰሀኖችን', 'vibrator', 'no', 'Diaper', 'Inima', 'ያርግልን', 'cleansing', 'Effortlessly', 'Fruits', '40lbs', 'የካሮት', 'Adversary', 'ጎማ', '22', 'x', 'Pure', 'Pulse', 'protect', 'Poaching', 'የተጎዳ', 'charged', 'forum', 'Touch', 'Louboutin', 'Lark', 'quality', 'አድርገዉ', 'watering', 'ቀዳሚ', 'www', '2002', 'nagayaan', 'አይመን', 'Healthy', 'roots', 'Shein', 'አንድ', '3500', '420', 'heat', 'Top', 'ፆታ', 'የቱርክ', 'ህመሞችን', 'ገፅና', 'ይቀዳል', 'እየረጨ', 'Fresh', 'resulting', 'coated', 'ክሬም', 'ለመሳብ', 'አጣብቆ', 'Converse', 'ቪዲዮዎች', 'Yeezy', '05', 'ሳንቲም', 'cord', 'ፍቱን']\n"
     ]
    }
   ],
   "source": [
    "# Find unique tokens in the 'Tokens' column\n",
    "unique_tokens = set()\n",
    "for tokens in df_processed['Tokens']:\n",
    "    unique_tokens.update(tokens)\n",
    "unique_token_list = list(unique_tokens)\n",
    "print(unique_token_list)\n"
   ]
  },
  {
   "cell_type": "code",
   "execution_count": 7,
   "id": "8d835d55",
   "metadata": {},
   "outputs": [
    {
     "name": "stdout",
     "output_type": "stream",
     "text": [
      "CoNLL-formatted data saved to ../data/telegram_data_conll.txt\n"
     ]
    }
   ],
   "source": [
    "# Label a Subset of Dataset in CoNLL Format\n",
    "Label.label_dataframe(df_processed)"
   ]
  }
 ],
 "metadata": {
  "kernelspec": {
   "display_name": ".venv",
   "language": "python",
   "name": "python3"
  },
  "language_info": {
   "codemirror_mode": {
    "name": "ipython",
    "version": 3
   },
   "file_extension": ".py",
   "mimetype": "text/x-python",
   "name": "python",
   "nbconvert_exporter": "python",
   "pygments_lexer": "ipython3",
   "version": "3.12.10"
  }
 },
 "nbformat": 4,
 "nbformat_minor": 5
}
