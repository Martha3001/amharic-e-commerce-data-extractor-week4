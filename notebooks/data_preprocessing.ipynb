{
 "cells": [
  {
   "cell_type": "markdown",
   "id": "5a23f1da",
   "metadata": {},
   "source": [
    "# Data Preprocessing"
   ]
  },
  {
   "cell_type": "code",
   "execution_count": 1,
   "id": "6277fb8d",
   "metadata": {},
   "outputs": [],
   "source": [
    "# Importing modules\n",
    "import pandas as pd\n",
    "import os\n",
    "import sys\n",
    "module_path = os.path.abspath(os.path.join('..'))\n",
    "if module_path not in sys.path:\n",
    "    sys.path.append(module_path)\n",
    "\n",
    "from scripts.data_preprocess import DataPreprocess\n",
    "from scripts.label import Label"
   ]
  },
  {
   "cell_type": "code",
   "execution_count": 2,
   "id": "e8e8929b",
   "metadata": {},
   "outputs": [
    {
     "data": {
      "application/vnd.microsoft.datawrangler.viewer.v0+json": {
       "columns": [
        {
         "name": "index",
         "rawType": "int64",
         "type": "integer"
        },
        {
         "name": "Channel Title",
         "rawType": "object",
         "type": "string"
        },
        {
         "name": "Channel Username",
         "rawType": "object",
         "type": "string"
        },
        {
         "name": "ID",
         "rawType": "int64",
         "type": "integer"
        },
        {
         "name": "Sender",
         "rawType": "object",
         "type": "string"
        },
        {
         "name": "Message",
         "rawType": "object",
         "type": "unknown"
        },
        {
         "name": "Date",
         "rawType": "object",
         "type": "string"
        },
        {
         "name": "Views",
         "rawType": "float64",
         "type": "float"
        }
       ],
       "ref": "9ff67839-a663-41a3-afc9-91420ff9a0c4",
       "rows": [
        [
         "0",
         "AwasMart-አዋስማርት🎁",
         "@AwasMart",
         "11892",
         "AwasMart",
         null,
         "2025-06-27 16:32:23+00:00",
         "856.0"
        ],
        [
         "1",
         "AwasMart-አዋስማርት🎁",
         "@AwasMart",
         "11891",
         "AwasMart",
         null,
         "2025-06-27 16:32:23+00:00",
         "862.0"
        ],
        [
         "2",
         "AwasMart-አዋስማርት🎁",
         "@AwasMart",
         "11890",
         "AwasMart",
         null,
         "2025-06-27 16:32:23+00:00",
         "862.0"
        ],
        [
         "3",
         "AwasMart-አዋስማርት🎁",
         "@AwasMart",
         "11889",
         "AwasMart",
         null,
         "2025-06-27 16:32:23+00:00",
         "862.0"
        ],
        [
         "4",
         "AwasMart-አዋስማርት🎁",
         "@AwasMart",
         "11888",
         "AwasMart",
         null,
         "2025-06-27 16:32:23+00:00",
         "860.0"
        ],
        [
         "5",
         "AwasMart-አዋስማርት🎁",
         "@AwasMart",
         "11887",
         "AwasMart",
         null,
         "2025-06-27 16:32:23+00:00",
         "862.0"
        ],
        [
         "6",
         "AwasMart-አዋስማርት🎁",
         "@AwasMart",
         "11886",
         "AwasMart",
         null,
         "2025-06-27 16:32:23+00:00",
         "861.0"
        ],
        [
         "7",
         "AwasMart-አዋስማርት🎁",
         "@AwasMart",
         "11885",
         "AwasMart",
         "📊📊📊📊📊📊📊📊📊📊📊📊",
         "2025-06-27 16:32:22+00:00",
         "868.0"
        ],
        [
         "8",
         "AwasMart-አዋስማርት🎁",
         "@AwasMart",
         "11884",
         "AwasMart",
         "📊📊📊📊📊📊📊📊📊📊📊📊\n❇️ Sayona Hand mixer\n\n👉Power:-500watt\n👉Mixer with blender\n👉5 speeds + turbo\n👉Stainless steel blade\n\n       ዋጋ💵፦  💰 2,400 ብር\n\n💬በቴሌግራም ለማዘዝ @wamrt1\n                                   @wamrt2\n📍አድራሻችን:-\n1️⃣.📌 ሜክሲኮ አልሳም አፓርታማ ግራውንድ ቁ. 29\n\n2️⃣.📌 ቦሌ መድሐኔዓለም ቦሌ መሰናዶ ት/ቤት ፊትለፊት አለምነሽ ፕላዛ ግራውንድ ሱቅ ቁጥር 05 \n\n📻(+251941661030 / +251943190237)\n\n👍ለወዳጅዎ ስላጋሩ እናመሠግናለን ☺️\n\n🤪 ቴሌግራም ቻናል t.me/AwasMart\n\n📌📌📌📌📌📌📌📌📌📌📌",
         "2025-06-27 16:31:45+00:00",
         "865.0"
        ],
        [
         "9",
         "AwasMart-አዋስማርት🎁",
         "@AwasMart",
         "11883",
         "AwasMart",
         "❇️Tempered glass bakeware set 3pcs\nየመስታዎት ፓትራዎች 🥧 🥮",
         "2025-06-27 12:35:19+00:00",
         "1315.0"
        ],
        [
         "10",
         "AwasMart-አዋስማርት🎁",
         "@AwasMart",
         "11882",
         "AwasMart",
         "❇️Tempered glass bakeware set 3pcs\nየመስታዎት ፓትራዎች 🥧 🥮 \n\n👉Oval shaped\n\n🔰ገበታ ላይ መቅረብ የሚችሉ ውብ የመስታዎት ፓትራዎች \n   \n🔰 ሶስት የተለያየ መጠን ያላቸው \n\n🔰ለላዛኛ ፣ ፓስታ ፍርኖ፣ ኬክ  ተመራጭ\n\n🔰ውብና ማራኪ ገበታ ላይ  መቅረብ የሚችሉ \n\n🔰ውፍራም ማንኛውንም ሙቀት የሚቋቋም\n\n       ዋጋ💵፦  💰 3,700 ብር\n\n💬በቴሌግራም ለማዘዝ @wamrt1\n                                   @wamrt2\n📍አድራሻችን:-\n1️⃣.📌 ሜክሲኮ አልሳም አፓርታማ ግራውንድ ቁ. 29\n\n2️⃣.📌 ቦሌ መድሐኔዓለም ቦሌ መሰናዶ ት/ቤት ፊትለፊት አለምነሽ ፕላዛ ግራውንድ ሱቅ ቁጥር 05 \n\n📻(+251941661030 / +251943190237)\n\n👍ለወዳጅዎ ስላጋሩ እናመሠግናለን ☺️\n\n🤪 ቴሌግራም ቻናል t.me/AwasMart\n\n📌📌📌📌📌📌📌📌📌📌📌",
         "2025-06-27 12:35:19+00:00",
         "1247.0"
        ],
        [
         "11",
         "AwasMart-አዋስማርት🎁",
         "@AwasMart",
         "11881",
         "AwasMart",
         "❇️Foot Bath Massager",
         "2025-06-27 07:39:41+00:00",
         "1643.0"
        ],
        [
         "12",
         "AwasMart-አዋስማርት🎁",
         "@AwasMart",
         "11880",
         "AwasMart",
         null,
         "2025-06-27 07:39:41+00:00",
         "1581.0"
        ],
        [
         "13",
         "AwasMart-አዋስማርት🎁",
         "@AwasMart",
         "11879",
         "AwasMart",
         "❇️Foot Bath Massager \n\n✔️ ለእግሮቻችን ተጨማሪ ውበት \n      የሚያላብስ\n\n✔️እግራችን መዳፍ ላይ የሚገኙትን የነርቭ\n      ጫፎች በማነቃቃት ጤናማ የደም \n       ዝውውር ስርአት ለመፍጠር የሚረዳ \n✔️ተመራጭ የእግር ማሳጅ ማድረጊያ\n\n        ዋጋ💵፦  💰 4,500 ብር\n\n💬በቴሌግራም ለማዘዝ @wamrt1\n                                   @wamrt2\n📍አድራሻችን:-\n1️⃣.📌 ሜክሲኮ አልሳም አፓርታማ ግራውንድ ቁ. 29\n\n2️⃣.📌 ቦሌ መድሐኔዓለም ቦሌ መሰናዶ ት/ቤት ፊትለፊት አለምነሽ ፕላዛ ግራውንድ ሱቅ ቁጥር 05 \n\n📻(+251941661030 / +251943190237)\n\n👍ለወዳጅዎ ስላጋሩ እናመሠግናለን ☺️\n\n🤪 ቴሌግራም ቻናል t.me/AwasMart\n\n📌📌📌📌📌📌📌📌📌📌📌",
         "2025-06-27 07:39:41+00:00",
         "1568.0"
        ],
        [
         "14",
         "AwasMart-አዋስማርት🎁",
         "@AwasMart",
         "11878",
         "AwasMart",
         "❇️Special Base for Refrigerators",
         "2025-06-25 16:41:08+00:00",
         "2319.0"
        ],
        [
         "15",
         "AwasMart-አዋስማርት🎁",
         "@AwasMart",
         "11877",
         "AwasMart",
         "❇️Special Base for Refrigerators\nየፍሪጅ ማስቀመጫ\n👉 እስከ 220 ኪሎ ድረስ ዕቃ የሚሸከም\n👉 ወፍራም ብረት\n👉 stretch:- 40*69cm\n👉 ከአነስተኛ ፍሪጆች እስከ Side by Side ፍሪጆች የሚሆን\n👉 በተጨማሪም አውቶማቲክ  የልብስ ማጠቢያ ላውንደሪዎች እና ኦቭን ምድጃዎችን ለማስቀመጥ የሚያስችል\n👉 የራሱ ጠንካራ ጎማዎች ስላሉት ለማንቀሳቀስ ቀላል\n👉 ጎማ መቆለፊያ ያለው\n\n       ዋጋ💵፦  💰 2,000 ብር\n\n💬በቴሌግራም ለማዘዝ @wamrt1\n                                   @wamrt2\n📍አድራሻችን:-\n1️⃣.📌 ሜክሲኮ አልሳም አፓርታማ ግራውንድ ቁ. 29\n\n2️⃣.📌 ቦሌ መድሐኔዓለም ቦሌ መሰናዶ ት/ቤት ፊትለፊት አለምነሽ ፕላዛ ግራውንድ ሱቅ ቁጥር 05 \n\n📻(+251941661030 / +251943190237)\n\n👍ለወዳጅዎ ስላጋሩ እናመሠግናለን ☺️\n\n🤪 ቴሌግራም ቻናል t.me/AwasMart\n\n📌📌📌📌📌📌📌📌📌📌📌",
         "2025-06-25 16:41:08+00:00",
         "2216.0"
        ],
        [
         "16",
         "AwasMart-አዋስማርት🎁",
         "@AwasMart",
         "11876",
         "AwasMart",
         "👼👼👼👼👼👼👼👼👼👼👼\n❇️Baby Silicone Bag Waterproof Adjustable Feeding Bib Saliva Bag\n\n🙇ለመመገብ ምቹ ነው። መፍሰስን ለመከላከል ይረዳል።\n🙇ለማጽዳት ቀላል ::\n🙇 ለማንኛውም ምግብ ጀማሪ ልጅ   ።\n\nዋጋ💵፦  💰 250 ብር\n\n💬በቴሌግራም ለማዘዝ @wamrt1\n                                   @wamrt2\n📍አድራሻችን:-\n1️⃣.📌 ሜክሲኮ አልሳም አፓርታማ ግራውንድ ቁ. 29\n\n2️⃣.📌 ቦሌ መድሐኔዓለም ቦሌ መሰናዶ ት/ቤት ፊትለፊት አለምነሽ ፕላዛ ግራውንድ ሱቅ ቁጥር 05 \n\n📻(+251941661030 / +251943190237)\n\n👍ለወዳጅዎ ስላጋሩ እናመሠግናለን ☺️\n\n🤪 ቴሌግራም ቻናል t.me/AwasMart\n\n📌📌📌📌📌📌📌📌📌📌📌",
         "2025-06-25 13:08:42+00:00",
         "2260.0"
        ],
        [
         "17",
         "AwasMart-አዋስማርት🎁",
         "@AwasMart",
         "11875",
         "AwasMart",
         "❇️Lunch Box Bag\n\n       ዋጋ💵፦  💰 1000 ብር\n\n💬በቴሌግራም ለማዘዝ @wamrt1\n                                   @wamrt2\n📍አድራሻችን:-\n1️⃣.📌 ሜክሲኮ አልሳም አፓርታማ ግራውንድ ቁ. 29\n\n2️⃣.📌 ቦሌ መድሐኔዓለም ቦሌ መሰናዶ ት/ቤት ፊትለፊት አለምነሽ ፕላዛ ግራውንድ ሱቅ ቁጥር 05 \n\n📻(+251941661030 / +251943190237)\n\n👍ለወዳጅዎ ስላጋሩ እናመሠግናለን ☺️\n\n🤪 ቴሌግራም ቻናል t.me/AwasMart\n\n📌📌📌📌📌📌📌📌📌📌📌",
         "2025-06-25 08:08:41+00:00",
         "2422.0"
        ],
        [
         "18",
         "AwasMart-አዋስማርት🎁",
         "@AwasMart",
         "11874",
         "AwasMart",
         "❇️Multifunctional Drain Rack",
         "2025-06-24 11:45:12+00:00",
         "2709.0"
        ],
        [
         "19",
         "AwasMart-አዋስማርት🎁",
         "@AwasMart",
         "11873",
         "AwasMart",
         null,
         "2025-06-24 11:45:12+00:00",
         "2493.0"
        ],
        [
         "20",
         "AwasMart-አዋስማርት🎁",
         "@AwasMart",
         "11872",
         "AwasMart",
         "❇️Multifunctional Drain Rack\n\n    ዋጋ💵፦  💰 900 ብር\n\n💬በቴሌግራም ለማዘዝ @wamrt1\n                                   @wamrt2\n📍አድራሻችን:-\n1️⃣.📌 ሜክሲኮ አልሳም አፓርታማ ግራውንድ ቁ. 29\n\n2️⃣.📌 ቦሌ መድሐኔዓለም ቦሌ መሰናዶ ት/ቤት ፊትለፊት አለምነሽ ፕላዛ ግራውንድ ሱቅ ቁጥር 05 \n\n📻(+251941661030 / +251943190237)\n\n👍ለወዳጅዎ ስላጋሩ እናመሠግናለን ☺️\n\n🤪 ቴሌግራም ቻናል t.me/AwasMart\n\n📌📌📌📌📌📌📌📌📌📌📌",
         "2025-06-24 11:45:12+00:00",
         "2600.0"
        ],
        [
         "21",
         "AwasMart-አዋስማርት🎁",
         "@AwasMart",
         "11871",
         "AwasMart",
         "❇️16 in 1 Multipurpose Vegetable Cutter",
         "2025-06-23 13:03:49+00:00",
         "2752.0"
        ],
        [
         "22",
         "AwasMart-አዋስማርት🎁",
         "@AwasMart",
         "11870",
         "AwasMart",
         "❇️16 in 1 Multipurpose Vegetable Cutter\n\n    ዋጋ💵፦  💰1,200 ብር\n\n💬በቴሌግራም ለማዘዝ @wamrt1\n                                   @wamrt2\n📍አድራሻችን:-\n1️⃣.📌 ሜክሲኮ አልሳም አፓርታማ ግራውንድ ቁ. 29\n\n2️⃣.📌 ቦሌ መድሐኔዓለም ቦሌ መሰናዶ ት/ቤት ፊትለፊት አለምነሽ ፕላዛ ግራውንድ ሱቅ ቁጥር 05 \n\n📻(+251941661030 / +251943190237)\n\n👍ለወዳጅዎ ስላጋሩ እናመሠግናለን ☺️\n\n🤪 ቴሌግራም ቻናል t.me/AwasMart\n\n📌📌📌📌📌📌📌📌📌📌📌",
         "2025-06-23 13:03:49+00:00",
         "2892.0"
        ],
        [
         "23",
         "AwasMart-አዋስማርት🎁",
         "@AwasMart",
         "11869",
         "AwasMart",
         "🍽🍽🍽🍽🍽🍽😋😋😋😋😋😋\n❇️2Pcs Baby Silicone Spoon\n\nዋጋ💵፦  💰 350 ብር\n\n💬በቴሌግራም ለማዘዝ @wamrt1\n                                   @wamrt2\n📍አድራሻችን:-\n1️⃣.📌 ሜክሲኮ አልሳም አፓርታማ ግራውንድ ቁ. 29\n\n2️⃣.📌 ቦሌ መድሐኔዓለም ቦሌ መሰናዶ ት/ቤት ፊትለፊት አለምነሽ ፕላዛ ግራውንድ ሱቅ ቁጥር 05 \n\n📻(+251941661030 / +251943190237)\n\n👍ለወዳጅዎ ስላጋሩ እናመሠግናለን ☺️\n\n🤪 ቴሌግራም ቻናል t.me/AwasMart\n\n📌📌📌📌📌📌📌📌📌📌📌",
         "2025-06-23 06:18:23+00:00",
         "2756.0"
        ],
        [
         "24",
         "AwasMart-አዋስማርት🎁",
         "@AwasMart",
         "11868",
         "AwasMart",
         null,
         "2025-06-23 06:17:37+00:00",
         "2458.0"
        ],
        [
         "25",
         "AwasMart-አዋስማርት🎁",
         "@AwasMart",
         "11867",
         "AwasMart",
         null,
         "2025-06-23 06:17:37+00:00",
         "2869.0"
        ],
        [
         "26",
         "AwasMart-አዋስማርት🎁",
         "@AwasMart",
         "11866",
         "AwasMart",
         null,
         "2025-06-23 06:17:37+00:00",
         "2278.0"
        ],
        [
         "27",
         "AwasMart-አዋስማርት🎁",
         "@AwasMart",
         "11865",
         "AwasMart",
         "🍽🍽🍽🍽🍽🍽😋😋😋😋😋😋\n❇️Bendable Eat Training ()\n\nዋጋ💵፦  💰 350 ብር\n\n💬በቴሌግራም ለማዘዝ @wamrt1\n                                   @wamrt2\n📍አድራሻችን:-\n1️⃣.📌 ሜክሲኮ አልሳም አፓርታማ ግራውንድ ቁ. 29\n\n2️⃣.📌 ቦሌ መድሐኔዓለም ቦሌ መሰናዶ ት/ቤት ፊትለፊት አለምነሽ ፕላዛ ግራውንድ ሱቅ ቁጥር 05 \n\n📻(+251941661030 / +251943190237)\n\n👍ለወዳጅዎ ስላጋሩ እናመሠግናለን ☺️\n\n🤪 ቴሌግራም ቻናል t.me/AwasMart\n\n📌📌📌📌📌📌📌📌📌📌📌",
         "2025-06-23 06:17:36+00:00",
         "2606.0"
        ],
        [
         "28",
         "AwasMart-አዋስማርት🎁",
         "@AwasMart",
         "11864",
         "AwasMart",
         "🤎🚽🚽🚽🚽🚽🚽🚽🚽🚽🚽🚽\n❇️Baby toilet seat/ potty seat\n\nዋጋ💵፦  💰 1,000 ብር\n\n💬በቴሌግራም ለማዘዝ @wamrt1\n                                   @wamrt2\n📍አድራሻችን:-\n1️⃣.📌 ሜክሲኮ አልሳም አፓርታማ ግራውንድ ቁ. 29\n\n2️⃣.📌 ቦሌ መድሐኔዓለም ቦሌ መሰናዶ ት/ቤት ፊትለፊት አለምነሽ ፕላዛ ግራውንድ ሱቅ ቁጥር 05 \n\n📻(+251941661030 / +251943190237)\n\n👍ለወዳጅዎ ስላጋሩ እናመሠግናለን ☺️\n\n🤪 ቴሌግራም ቻናል t.me/AwasMart\n\n📌📌📌📌📌📌📌📌📌📌📌",
         "2025-06-22 11:55:19+00:00",
         "3008.0"
        ],
        [
         "29",
         "AwasMart-አዋስማርት🎁",
         "@AwasMart",
         "11863",
         "AwasMart",
         "🔖🔖🔖🔖🔖🔖🔖🔖🔖🔖🔖🔖\nውድ ደንበኞቻችን ሱቃችን ነገ እሁድ ከ4:30-11:00 ሰዓት ክፍት መሆኑን በአክብሮት እንገልፃለን።\n\n📍አድራሻችን:-\n📌 ቦሌ መድሐኔዓለም ቦሌ መሰናዶ ት/ቤት ፊትለፊት አለምነሽ ፕላዛ ግራውንድ ሱቅ ቁጥር 05 \n\n📻(+251941661030 / +251943190237)\n\n👍ለወዳጅዎ ስላጋሩ እናመሠግናለን ☺️\n\n🤪 ቴሌግራም ቻናል t.me/AwasMart\n\n📌📌📌📌📌📌📌📌📌📌📌",
         "2025-06-21 16:43:54+00:00",
         "3212.0"
        ],
        [
         "30",
         "AwasMart-አዋስማርት🎁",
         "@AwasMart",
         "11862",
         "AwasMart",
         "🍪🍪🍪🍪🍪🍪🍪🍪🍪🍪🍪🍪\n❇️Baby suction bowl",
         "2025-06-21 16:43:12+00:00",
         "2719.0"
        ],
        [
         "31",
         "AwasMart-አዋስማርት🎁",
         "@AwasMart",
         "11861",
         "AwasMart",
         null,
         "2025-06-21 16:43:12+00:00",
         "2555.0"
        ],
        [
         "32",
         "AwasMart-አዋስማርት🎁",
         "@AwasMart",
         "11860",
         "AwasMart",
         "🍪🍪🍪🍪🍪🍪🍪🍪🍪🍪🍪🍪\n❇️Baby suction bowl\n\n👉 ባለ ሁለት ክፍል የልጆች መመገቢያ ሳህን\n👉 እድሜያቸው ከ6ወር ጀምር ላሉ ህፃናት የሚመከር\n👉 የራሱ ማንኪያ እና ሹካ ያለው\n👉 በአንድ ግዜ 4 አይነት ምግብ ለመመገብ ያስችላል\n👉 ከጠረንጴዛ ተንሸራቶ እንዳይወድቅ ማጣበቂያ ያለው\n👉BPA free\n\n    ዋጋ💵፦  💰 600 ብር\n\n💬በቴሌግራም ለማዘዝ @wamrt1\n                                   @wamrt2\n📍አድራሻችን:-\n1️⃣.📌 ሜክሲኮ አልሳም አፓርታማ ግራውንድ ቁ. 29\n\n2️⃣.📌 ቦሌ መድሐኔዓለም ቦሌ መሰናዶ ት/ቤት ፊትለፊት አለምነሽ ፕላዛ ግራውንድ ሱቅ ቁጥር 05 \n\n📻(+251941661030 / +251943190237)\n\n👍ለወዳጅዎ ስላጋሩ እናመሠግናለን ☺️\n\n🤪 ቴሌግራም ቻናል t.me/AwasMart\n\n📌📌📌📌📌📌📌📌📌📌📌",
         "2025-06-21 16:42:32+00:00",
         "2787.0"
        ],
        [
         "33",
         "AwasMart-አዋስማርት🎁",
         "@AwasMart",
         "11859",
         "AwasMart",
         null,
         "2025-06-21 07:36:56+00:00",
         "2789.0"
        ],
        [
         "34",
         "AwasMart-አዋስማርት🎁",
         "@AwasMart",
         "11858",
         "AwasMart",
         null,
         "2025-06-21 07:36:56+00:00",
         "3048.0"
        ],
        [
         "35",
         "AwasMart-አዋስማርት🎁",
         "@AwasMart",
         "11857",
         "AwasMart",
         null,
         "2025-06-21 07:36:55+00:00",
         "2655.0"
        ],
        [
         "36",
         "AwasMart-አዋስማርት🎁",
         "@AwasMart",
         "11856",
         "AwasMart",
         null,
         "2025-06-21 07:36:55+00:00",
         "2826.0"
        ],
        [
         "37",
         "AwasMart-አዋስማርት🎁",
         "@AwasMart",
         "11855",
         "AwasMart",
         "❇️Baby bank feeding bottle\n\n       ዋጋ💵፦  💰 2,000 ብር\n\n💬በቴሌግራም ለማዘዝ @wamrt1\n                                   @wamrt2\n📍አድራሻችን:-\n1️⃣.📌 ሜክሲኮ አልሳም አፓርታማ ግራውንድ ቁ. 29\n\n2️⃣.📌 ቦሌ መድሐኔዓለም ቦሌ መሰናዶ ት/ቤት ፊትለፊት አለምነሽ ፕላዛ ግራውንድ ሱቅ ቁጥር 05 \n\n📻(+251941661030 / +251943190237)\n\n👍ለወዳጅዎ ስላጋሩ እናመሠግናለን ☺️\n\n🤪 ቴሌግራም ቻናል t.me/AwasMart\n\n📌📌📌📌📌📌📌📌📌📌📌",
         "2025-06-21 07:36:55+00:00",
         "2817.0"
        ],
        [
         "38",
         "AwasMart-አዋስማርት🎁",
         "@AwasMart",
         "11854",
         "AwasMart",
         "🌵Dancing Cactus Toy",
         "2025-06-20 10:53:49+00:00",
         "3103.0"
        ],
        [
         "39",
         "AwasMart-አዋስማርት🎁",
         "@AwasMart",
         "11853",
         "AwasMart",
         "🌵Dancing Cactus Toy",
         "2025-06-20 10:53:49+00:00",
         "3111.0"
        ],
        [
         "40",
         "AwasMart-አዋስማርት🎁",
         "@AwasMart",
         "11852",
         "AwasMart",
         "🌵Dancing Cactus Toy \n\n😱ልጆቼ በምን ይዝናኑ ብሎ መጨነቅ ቀረ 😱\n👶የሕጻናት አጫዋች❤\n🔹በቻርጅ የሚሰራ🔋\n🔹ድምጽ / ሙዚቃ 🔊 ሲከፈት የሚደንስ🥳\n🔹የልጆችን ትኩረት👀 የሚስብ\n🔹ልጆች በሚናገሩትን ደግሞ እያወራ የሚያዝናናቸው \n🌵ተክል የሚመስል ጌጥ\n\n       ዋጋ💵፦  💰1,000 ብር\n\n💬በቴሌግራም ለማዘዝ @wamrt1\n                                   @wamrt2\n📍አድራሻችን:-\n1️⃣.📌 ሜክሲኮ አልሳም አፓርታማ ግራውንድ ቁ. 29\n\n2️⃣.📌 ቦሌ መድሐኔዓለም ቦሌ መሰናዶ ት/ቤት ፊትለፊት አለምነሽ ፕላዛ ግራውንድ ሱቅ ቁጥር 05 \n\n📻(+251941661030 / +251943190237)\n\n👍ለወዳጅዎ ስላጋሩ እናመሠግናለን ☺️\n\n🤪 ቴሌግራም ቻናል t.me/AwasMart\n\n📌📌📌📌📌📌📌📌📌📌📌",
         "2025-06-20 10:53:15+00:00",
         "3034.0"
        ],
        [
         "41",
         "AwasMart-አዋስማርት🎁",
         "@AwasMart",
         "11851",
         "AwasMart",
         "🍽🍽🍽🍽🍽🍽🍽🍽🍽🍽🍽🍽\n❇️12pcs Silicone Kitchen Set",
         "2025-06-20 07:15:50+00:00",
         "2676.0"
        ],
        [
         "42",
         "AwasMart-አዋስማርት🎁",
         "@AwasMart",
         "11850",
         "AwasMart",
         null,
         "2025-06-20 07:15:50+00:00",
         "2586.0"
        ],
        [
         "43",
         "AwasMart-አዋስማርት🎁",
         "@AwasMart",
         "11849",
         "AwasMart",
         "❇️12pcs Silicone Kitchen Set\n\n👉available colors:- black and dark grey\n\n         ዋጋ💵፦  💰2,000 ብር\n\n💬በቴሌግራም ለማዘዝ @wamrt1\n                                   @wamrt2\n📍አድራሻችን:-\n1️⃣.📌 ሜክሲኮ አልሳም አፓርታማ ግራውንድ ቁ. 29\n\n2️⃣.📌 ቦሌ መድሐኔዓለም ቦሌ መሰናዶ ት/ቤት ፊትለፊት አለምነሽ ፕላዛ ግራውንድ ሱቅ ቁጥር 05 \n\n📻(+251941661030 / +251943190237)\n\n👍ለወዳጅዎ ስላጋሩ እናመሠግናለን ☺️\n\n🤪 ቴሌግራም ቻናል t.me/AwasMart\n\n📌📌📌📌📌📌📌📌📌📌📌",
         "2025-06-20 07:15:50+00:00",
         "2708.0"
        ],
        [
         "44",
         "AwasMart-አዋስማርት🎁",
         "@AwasMart",
         "11848",
         "AwasMart",
         "👨‍💻👩‍💻🧑‍💻👩‍💻👨‍💻😴🧑‍💻👩‍💻👨‍💻👨‍💻 \nFoldable Height Adjustable Metal Frame Laptop Stand",
         "2025-06-19 13:06:12+00:00",
         "3212.0"
        ],
        [
         "45",
         "AwasMart-አዋስማርት🎁",
         "@AwasMart",
         "11847",
         "AwasMart",
         "👩‍💻 Foldable Height Adjustable Metal Frame Laptop Stand👨‍💻\n🔰Help your sitting posture\n💯 High  Quality ( የብረቱ )\n\nላፕቶፕ ጭን ላይ አስቀምጠው መጠቀም ለከፋ ጉዳት እንደሚያጋልጥ የጤና ባለሙያዎች ይናገራሉ ፤ እንዲሁም ቴብል ላይ አድርገዉ ሲጠቀሙ ፋኑ ስለሚደፈን  ከፍተኛ ሙቀት በመፍጠር ድምፅ ያሰማል። \n\nለዚህ ሁሉ መፍትሄ ተጣጣፊ የላፕቶፕ ፣ ታብሌት Holder በተመጣጣኝ ዋጋ ገዝተዉ የእርስዎንና የላፕቶፕዎን ጤንነት ይጠብቁ።\n\n       ዋጋ💵፦  💰1,000 ብር\n\n💬በቴሌግራም ለማዘዝ @wamrt1\n                                   @wamrt2\n📍አድራሻችን:-\n1️⃣.📌 ሜክሲኮ አልሳም አፓርታማ ግራውንድ ቁ. 29\n\n2️⃣.📌 ቦሌ መድሐኔዓለም ቦሌ መሰናዶ ት/ቤት ፊትለፊት አለምነሽ ፕላዛ ግራውንድ ሱቅ ቁጥር 05 \n\n📻(+251941661030 / +251943190237)\n\n👍ለወዳጅዎ ስላጋሩ እናመሠግናለን ☺️\n\n🤪 ቴሌግራም ቻናል t.me/AwasMart\n\n📌📌📌📌📌📌📌📌📌📌📌",
         "2025-06-19 13:06:12+00:00",
         "2953.0"
        ],
        [
         "46",
         "AwasMart-አዋስማርት🎁",
         "@AwasMart",
         "11846",
         "AwasMart",
         "🍊🍊🍊🍎🍎🍎🍋🍋🍋🍇🍇🍇\n❇️ Manual Hand Press Fruit Juicer",
         "2025-06-19 07:18:36+00:00",
         "2911.0"
        ],
        [
         "47",
         "AwasMart-አዋስማርት🎁",
         "@AwasMart",
         "11845",
         "AwasMart",
         "🍊🍊🍊🍎🍎🍎🍋🍋🍋🍇🍇🍇\n❇️ Manual Hand Press Fruit Juicer",
         "2025-06-19 07:18:36+00:00",
         "2842.0"
        ],
        [
         "48",
         "AwasMart-አዋስማርት🎁",
         "@AwasMart",
         "11844",
         "AwasMart",
         "🍊🍊🍊🍎🍎🍎🍋🍋🍋🍇🍇🍇\n❇️ Manual Hand Press Fruit Juicer\n\n 🔰Safe \n🔰Quick \n🔰Super Easy to Clean and \n🔰Effective Juicing\n\nዋጋ💵፦  💰 1,000 ብር\n\n💬በቴሌግራም ለማዘዝ @wamrt1\n                                   @wamrt2\n📍አድራሻችን:-\n1️⃣.📌 ሜክሲኮ አልሳም አፓርታማ ግራውንድ ቁ. 29\n\n2️⃣.📌 ቦሌ መድሐኔዓለም ቦሌ መሰናዶ ት/ቤት ፊትለፊት አለምነሽ ፕላዛ ግራውንድ ሱቅ ቁጥር 05 \n\n📻(+251941661030 / +251943190237)\n\n👍ለወዳጅዎ ስላጋሩ እናመሠግናለን ☺️\n\n🤪 ቴሌግራም ቻናል t.me/AwasMart\n\n📌📌📌📌📌📌📌📌📌📌📌",
         "2025-06-19 07:18:36+00:00",
         "2786.0"
        ],
        [
         "49",
         "AwasMart-አዋስማርት🎁",
         "@AwasMart",
         "11843",
         "AwasMart",
         "❇️Impulse sealer for PP/PE bags",
         "2025-06-18 06:28:29+00:00",
         "3378.0"
        ]
       ],
       "shape": {
        "columns": 7,
        "rows": 5000
       }
      },
      "text/html": [
       "<div>\n",
       "<style scoped>\n",
       "    .dataframe tbody tr th:only-of-type {\n",
       "        vertical-align: middle;\n",
       "    }\n",
       "\n",
       "    .dataframe tbody tr th {\n",
       "        vertical-align: top;\n",
       "    }\n",
       "\n",
       "    .dataframe thead th {\n",
       "        text-align: right;\n",
       "    }\n",
       "</style>\n",
       "<table border=\"1\" class=\"dataframe\">\n",
       "  <thead>\n",
       "    <tr style=\"text-align: right;\">\n",
       "      <th></th>\n",
       "      <th>Channel Title</th>\n",
       "      <th>Channel Username</th>\n",
       "      <th>ID</th>\n",
       "      <th>Sender</th>\n",
       "      <th>Message</th>\n",
       "      <th>Date</th>\n",
       "      <th>Views</th>\n",
       "    </tr>\n",
       "  </thead>\n",
       "  <tbody>\n",
       "    <tr>\n",
       "      <th>0</th>\n",
       "      <td>AwasMart-አዋስማርት🎁</td>\n",
       "      <td>@AwasMart</td>\n",
       "      <td>11892</td>\n",
       "      <td>AwasMart</td>\n",
       "      <td>NaN</td>\n",
       "      <td>2025-06-27 16:32:23+00:00</td>\n",
       "      <td>856.0</td>\n",
       "    </tr>\n",
       "    <tr>\n",
       "      <th>1</th>\n",
       "      <td>AwasMart-አዋስማርት🎁</td>\n",
       "      <td>@AwasMart</td>\n",
       "      <td>11891</td>\n",
       "      <td>AwasMart</td>\n",
       "      <td>NaN</td>\n",
       "      <td>2025-06-27 16:32:23+00:00</td>\n",
       "      <td>862.0</td>\n",
       "    </tr>\n",
       "    <tr>\n",
       "      <th>2</th>\n",
       "      <td>AwasMart-አዋስማርት🎁</td>\n",
       "      <td>@AwasMart</td>\n",
       "      <td>11890</td>\n",
       "      <td>AwasMart</td>\n",
       "      <td>NaN</td>\n",
       "      <td>2025-06-27 16:32:23+00:00</td>\n",
       "      <td>862.0</td>\n",
       "    </tr>\n",
       "    <tr>\n",
       "      <th>3</th>\n",
       "      <td>AwasMart-አዋስማርት🎁</td>\n",
       "      <td>@AwasMart</td>\n",
       "      <td>11889</td>\n",
       "      <td>AwasMart</td>\n",
       "      <td>NaN</td>\n",
       "      <td>2025-06-27 16:32:23+00:00</td>\n",
       "      <td>862.0</td>\n",
       "    </tr>\n",
       "    <tr>\n",
       "      <th>4</th>\n",
       "      <td>AwasMart-አዋስማርት🎁</td>\n",
       "      <td>@AwasMart</td>\n",
       "      <td>11888</td>\n",
       "      <td>AwasMart</td>\n",
       "      <td>NaN</td>\n",
       "      <td>2025-06-27 16:32:23+00:00</td>\n",
       "      <td>860.0</td>\n",
       "    </tr>\n",
       "    <tr>\n",
       "      <th>...</th>\n",
       "      <td>...</td>\n",
       "      <td>...</td>\n",
       "      <td>...</td>\n",
       "      <td>...</td>\n",
       "      <td>...</td>\n",
       "      <td>...</td>\n",
       "      <td>...</td>\n",
       "    </tr>\n",
       "    <tr>\n",
       "      <th>4995</th>\n",
       "      <td>Fashion tera</td>\n",
       "      <td>@Fashiontera</td>\n",
       "      <td>2651</td>\n",
       "      <td>Fashiontera</td>\n",
       "      <td>Chekich \\nMade in  Turkey \\n Size 40,41,42,43\\...</td>\n",
       "      <td>2021-11-26 19:31:57+00:00</td>\n",
       "      <td>15858.0</td>\n",
       "    </tr>\n",
       "    <tr>\n",
       "      <th>4996</th>\n",
       "      <td>Fashion tera</td>\n",
       "      <td>@Fashiontera</td>\n",
       "      <td>2650</td>\n",
       "      <td>Fashiontera</td>\n",
       "      <td>NaN</td>\n",
       "      <td>2021-11-26 19:30:14+00:00</td>\n",
       "      <td>15289.0</td>\n",
       "    </tr>\n",
       "    <tr>\n",
       "      <th>4997</th>\n",
       "      <td>Fashion tera</td>\n",
       "      <td>@Fashiontera</td>\n",
       "      <td>2649</td>\n",
       "      <td>Fashiontera</td>\n",
       "      <td>NaN</td>\n",
       "      <td>2021-11-26 19:30:14+00:00</td>\n",
       "      <td>15156.0</td>\n",
       "    </tr>\n",
       "    <tr>\n",
       "      <th>4998</th>\n",
       "      <td>Fashion tera</td>\n",
       "      <td>@Fashiontera</td>\n",
       "      <td>2648</td>\n",
       "      <td>Fashiontera</td>\n",
       "      <td>DISELE \\nPrice 1300 \\n(Free Delivery)\\nInbox @...</td>\n",
       "      <td>2021-11-25 16:52:23+00:00</td>\n",
       "      <td>23476.0</td>\n",
       "    </tr>\n",
       "    <tr>\n",
       "      <th>4999</th>\n",
       "      <td>Fashion tera</td>\n",
       "      <td>@Fashiontera</td>\n",
       "      <td>2647</td>\n",
       "      <td>Fashiontera</td>\n",
       "      <td>NaN</td>\n",
       "      <td>2021-11-25 16:50:27+00:00</td>\n",
       "      <td>15522.0</td>\n",
       "    </tr>\n",
       "  </tbody>\n",
       "</table>\n",
       "<p>5000 rows × 7 columns</p>\n",
       "</div>"
      ],
      "text/plain": [
       "         Channel Title Channel Username     ID       Sender  \\\n",
       "0     AwasMart-አዋስማርት🎁        @AwasMart  11892     AwasMart   \n",
       "1     AwasMart-አዋስማርት🎁        @AwasMart  11891     AwasMart   \n",
       "2     AwasMart-አዋስማርት🎁        @AwasMart  11890     AwasMart   \n",
       "3     AwasMart-አዋስማርት🎁        @AwasMart  11889     AwasMart   \n",
       "4     AwasMart-አዋስማርት🎁        @AwasMart  11888     AwasMart   \n",
       "...                ...              ...    ...          ...   \n",
       "4995      Fashion tera     @Fashiontera   2651  Fashiontera   \n",
       "4996      Fashion tera     @Fashiontera   2650  Fashiontera   \n",
       "4997      Fashion tera     @Fashiontera   2649  Fashiontera   \n",
       "4998      Fashion tera     @Fashiontera   2648  Fashiontera   \n",
       "4999      Fashion tera     @Fashiontera   2647  Fashiontera   \n",
       "\n",
       "                                                Message  \\\n",
       "0                                                   NaN   \n",
       "1                                                   NaN   \n",
       "2                                                   NaN   \n",
       "3                                                   NaN   \n",
       "4                                                   NaN   \n",
       "...                                                 ...   \n",
       "4995  Chekich \\nMade in  Turkey \\n Size 40,41,42,43\\...   \n",
       "4996                                                NaN   \n",
       "4997                                                NaN   \n",
       "4998  DISELE \\nPrice 1300 \\n(Free Delivery)\\nInbox @...   \n",
       "4999                                                NaN   \n",
       "\n",
       "                           Date    Views  \n",
       "0     2025-06-27 16:32:23+00:00    856.0  \n",
       "1     2025-06-27 16:32:23+00:00    862.0  \n",
       "2     2025-06-27 16:32:23+00:00    862.0  \n",
       "3     2025-06-27 16:32:23+00:00    862.0  \n",
       "4     2025-06-27 16:32:23+00:00    860.0  \n",
       "...                         ...      ...  \n",
       "4995  2021-11-26 19:31:57+00:00  15858.0  \n",
       "4996  2021-11-26 19:30:14+00:00  15289.0  \n",
       "4997  2021-11-26 19:30:14+00:00  15156.0  \n",
       "4998  2021-11-25 16:52:23+00:00  23476.0  \n",
       "4999  2021-11-25 16:50:27+00:00  15522.0  \n",
       "\n",
       "[5000 rows x 7 columns]"
      ]
     },
     "execution_count": 2,
     "metadata": {},
     "output_type": "execute_result"
    }
   ],
   "source": [
    "# Load csv file\n",
    "df = pd.read_csv('../data/telegram_data.csv')\n",
    "df"
   ]
  },
  {
   "cell_type": "code",
   "execution_count": null,
   "id": "7e613766",
   "metadata": {},
   "outputs": [],
   "source": []
  },
  {
   "cell_type": "code",
   "execution_count": 3,
   "id": "7598baad",
   "metadata": {},
   "outputs": [
    {
     "data": {
      "application/vnd.microsoft.datawrangler.viewer.v0+json": {
       "columns": [
        {
         "name": "index",
         "rawType": "int64",
         "type": "integer"
        },
        {
         "name": "Channel Title",
         "rawType": "object",
         "type": "string"
        },
        {
         "name": "Channel Username",
         "rawType": "object",
         "type": "string"
        },
        {
         "name": "ID",
         "rawType": "int64",
         "type": "integer"
        },
        {
         "name": "Sender",
         "rawType": "object",
         "type": "string"
        },
        {
         "name": "Message",
         "rawType": "object",
         "type": "unknown"
        },
        {
         "name": "Date",
         "rawType": "object",
         "type": "string"
        },
        {
         "name": "Views",
         "rawType": "float64",
         "type": "float"
        },
        {
         "name": "Cleaned_Message",
         "rawType": "object",
         "type": "string"
        },
        {
         "name": "Tokens",
         "rawType": "object",
         "type": "unknown"
        }
       ],
       "ref": "40e35d1b-a1a3-479a-8167-0cd8fe4fcd83",
       "rows": [
        [
         "0",
         "AwasMart-አዋስማርት🎁",
         "@AwasMart",
         "11892",
         "AwasMart",
         null,
         "2025-06-27 16:32:23+00:00",
         "856.0",
         "",
         "[]"
        ],
        [
         "1",
         "AwasMart-አዋስማርት🎁",
         "@AwasMart",
         "11891",
         "AwasMart",
         null,
         "2025-06-27 16:32:23+00:00",
         "862.0",
         "",
         "[]"
        ],
        [
         "2",
         "AwasMart-አዋስማርት🎁",
         "@AwasMart",
         "11890",
         "AwasMart",
         null,
         "2025-06-27 16:32:23+00:00",
         "862.0",
         "",
         "[]"
        ],
        [
         "3",
         "AwasMart-አዋስማርት🎁",
         "@AwasMart",
         "11889",
         "AwasMart",
         null,
         "2025-06-27 16:32:23+00:00",
         "862.0",
         "",
         "[]"
        ],
        [
         "4",
         "AwasMart-አዋስማርት🎁",
         "@AwasMart",
         "11888",
         "AwasMart",
         null,
         "2025-06-27 16:32:23+00:00",
         "860.0",
         "",
         "[]"
        ]
       ],
       "shape": {
        "columns": 9,
        "rows": 5
       }
      },
      "text/html": [
       "<div>\n",
       "<style scoped>\n",
       "    .dataframe tbody tr th:only-of-type {\n",
       "        vertical-align: middle;\n",
       "    }\n",
       "\n",
       "    .dataframe tbody tr th {\n",
       "        vertical-align: top;\n",
       "    }\n",
       "\n",
       "    .dataframe thead th {\n",
       "        text-align: right;\n",
       "    }\n",
       "</style>\n",
       "<table border=\"1\" class=\"dataframe\">\n",
       "  <thead>\n",
       "    <tr style=\"text-align: right;\">\n",
       "      <th></th>\n",
       "      <th>Channel Title</th>\n",
       "      <th>Channel Username</th>\n",
       "      <th>ID</th>\n",
       "      <th>Sender</th>\n",
       "      <th>Message</th>\n",
       "      <th>Date</th>\n",
       "      <th>Views</th>\n",
       "      <th>Cleaned_Message</th>\n",
       "      <th>Tokens</th>\n",
       "    </tr>\n",
       "  </thead>\n",
       "  <tbody>\n",
       "    <tr>\n",
       "      <th>0</th>\n",
       "      <td>AwasMart-አዋስማርት🎁</td>\n",
       "      <td>@AwasMart</td>\n",
       "      <td>11892</td>\n",
       "      <td>AwasMart</td>\n",
       "      <td>NaN</td>\n",
       "      <td>2025-06-27 16:32:23+00:00</td>\n",
       "      <td>856.0</td>\n",
       "      <td></td>\n",
       "      <td>[]</td>\n",
       "    </tr>\n",
       "    <tr>\n",
       "      <th>1</th>\n",
       "      <td>AwasMart-አዋስማርት🎁</td>\n",
       "      <td>@AwasMart</td>\n",
       "      <td>11891</td>\n",
       "      <td>AwasMart</td>\n",
       "      <td>NaN</td>\n",
       "      <td>2025-06-27 16:32:23+00:00</td>\n",
       "      <td>862.0</td>\n",
       "      <td></td>\n",
       "      <td>[]</td>\n",
       "    </tr>\n",
       "    <tr>\n",
       "      <th>2</th>\n",
       "      <td>AwasMart-አዋስማርት🎁</td>\n",
       "      <td>@AwasMart</td>\n",
       "      <td>11890</td>\n",
       "      <td>AwasMart</td>\n",
       "      <td>NaN</td>\n",
       "      <td>2025-06-27 16:32:23+00:00</td>\n",
       "      <td>862.0</td>\n",
       "      <td></td>\n",
       "      <td>[]</td>\n",
       "    </tr>\n",
       "    <tr>\n",
       "      <th>3</th>\n",
       "      <td>AwasMart-አዋስማርት🎁</td>\n",
       "      <td>@AwasMart</td>\n",
       "      <td>11889</td>\n",
       "      <td>AwasMart</td>\n",
       "      <td>NaN</td>\n",
       "      <td>2025-06-27 16:32:23+00:00</td>\n",
       "      <td>862.0</td>\n",
       "      <td></td>\n",
       "      <td>[]</td>\n",
       "    </tr>\n",
       "    <tr>\n",
       "      <th>4</th>\n",
       "      <td>AwasMart-አዋስማርት🎁</td>\n",
       "      <td>@AwasMart</td>\n",
       "      <td>11888</td>\n",
       "      <td>AwasMart</td>\n",
       "      <td>NaN</td>\n",
       "      <td>2025-06-27 16:32:23+00:00</td>\n",
       "      <td>860.0</td>\n",
       "      <td></td>\n",
       "      <td>[]</td>\n",
       "    </tr>\n",
       "  </tbody>\n",
       "</table>\n",
       "</div>"
      ],
      "text/plain": [
       "      Channel Title Channel Username     ID    Sender Message  \\\n",
       "0  AwasMart-አዋስማርት🎁        @AwasMart  11892  AwasMart     NaN   \n",
       "1  AwasMart-አዋስማርት🎁        @AwasMart  11891  AwasMart     NaN   \n",
       "2  AwasMart-አዋስማርት🎁        @AwasMart  11890  AwasMart     NaN   \n",
       "3  AwasMart-አዋስማርት🎁        @AwasMart  11889  AwasMart     NaN   \n",
       "4  AwasMart-አዋስማርት🎁        @AwasMart  11888  AwasMart     NaN   \n",
       "\n",
       "                        Date  Views Cleaned_Message Tokens  \n",
       "0  2025-06-27 16:32:23+00:00  856.0                     []  \n",
       "1  2025-06-27 16:32:23+00:00  862.0                     []  \n",
       "2  2025-06-27 16:32:23+00:00  862.0                     []  \n",
       "3  2025-06-27 16:32:23+00:00  862.0                     []  \n",
       "4  2025-06-27 16:32:23+00:00  860.0                     []  "
      ]
     },
     "execution_count": 3,
     "metadata": {},
     "output_type": "execute_result"
    }
   ],
   "source": [
    "# Preprocess the data\n",
    "meta, content, df_processed = DataPreprocess.preprocess_dataframe(df)\n",
    "df_processed.head()"
   ]
  },
  {
   "cell_type": "code",
   "execution_count": 4,
   "id": "0b939af6",
   "metadata": {},
   "outputs": [
    {
     "name": "stdout",
     "output_type": "stream",
     "text": [
      "Processed data saved to ../data/telegram_data_processed.csv\n"
     ]
    }
   ],
   "source": [
    "# Save the processed DataFrame to a new CSV file\n",
    "output_path = '../data/telegram_data_processed.csv'\n",
    "df_processed.to_csv(output_path, index=False)\n",
    "print(f\"Processed data saved to {output_path}\")"
   ]
  },
  {
   "cell_type": "code",
   "execution_count": 5,
   "id": "8856481b",
   "metadata": {},
   "outputs": [
    {
     "name": "stdout",
     "output_type": "stream",
     "text": [
      "['ቁጥር', 'አድራሻ', '1', 'ህንፃ', '329', '2', 'መሆኑ', 'ያረጋግጡ', 'G07', 'ግራውንድ', 'Price', 'ስልክ', 'ሜክሲኮ', 'ፎቅ', 'እና', 'ፕላዛ', 't', 'me', 'ተኛ', '3', 'ሱቅ', '101', 'ብር', 'or', 'ደረጃ', 'መገናኛ', 'ኮሜርስ', 'ጀርባ', 'መዚድ', 'እንደወጡ', 'ያገኙናል', 'call', '0920238243', 'birr', 'Telegram', 'qnashcom', 'ሱቃችን', 'የመጀመሪያ', 'የቢሮ', 'ቅናሽ', 'ጥራት', 'ዘፍመሽ', 'ግራንድ', 'ሞል', 'ጀሞ', 'ለይ', 'ከለላ', 'ትክክለኛ', '0992606060', 'ማሳሰብያ', 'ሲመጡ', 'የኛ', 'የራሳችን', 'ሎጎ', 'መኖሩን', '0946966440', '0905464599', 'ፍሬ', 'ዋስትና', 'ነው', 'ዋጋ', 'ውስን', 'ቁ', 'አዲስ', 'የቀረው', 'Delivery', 'ለማዘዝ', 'Free', 'አበባ', 'ቦሌ', 'EthioBrand', 'Made', 'ፊትለፊት', '414243', 'and', 'ባንክ', 'Fashion', 'ፋሽን', 'ተራ', 'Tera', 'ጦር', 'ሀይሎች', 'ድሪም', 'ታወር', '251945355266', 'Inbox', 'Hiwe5266', 'ቢሮ', '205', 'Orderqnash', 'ላይ', 'in', 'ከ', 'Limited', 'Stock', 'ቤት', 'Nike', '05', 'AwasMart', 'አድራሻችን', 'መድሀኔአለም', 'መሰናዶ', 'ት', 'አለምነሽ', '251941661030', '251943190237', 'ለወዳጅዎ', 'ስላጋሩ', 'እናመሰግናለን', 'ቴሌግራም', 'ቻናል', 'Brand', 'አልሳም', 'አፓርታማ', '29', 'በቴሌግራም', 'Vietnam', 'ማራኪ', 'ብራንድ', 'Br', 'Maraki', 'Maraki2211', 'to', 'INBOX', '43', 'ያሉበት', 'ፍሎር', 'የሱቅ', 'ኛ', 'ንግድ', 'ጎህ', 'ኪኔሬት', 'ቤቶች', 'for', 'አይመን', '012', '251', '913321831', 'ብሎ', '50', '41424344', 'In', 'ዋአች', 'ሜ', 'wamrt1', 'wamrt2', 'High', 'ኬኬር', 'ወረድ', 'the', 'Air', 'leather', 'Skechers', 'Quality', 'with', 'Adidas', 'ያለው', '42', 'Size', '3500', 'አንደኛ', 'of', '3000', '4041424344', 'ክፍት', '41', 'VIETNAM', '3300', '3200', 'Hair', 'እሁድ', 'Easy', '4', 'Baby', 'እቃ', 'Jordan', '5', '44', 'Kitchen', 'የሚሰራ', '2900', '5500', '3400', 'com', 'ይፍጠኑ', 'use', 'ነን', '6', 'Tape', 'Power', 'የሚሆን', 'comfort', 'ብቻ', 'Website', 'www', 'qnash', '10', '4000', 'ቦታ', 'a', 'መረጃ', 'ሁሌም', 'Stainless', 'እስከ', 'አንድ', 'Force', 'ቀላል', 'Food', '40414243', 'x', 'በቀላሉ', 'ተመራጭ', '4243', 'With', 'easy', 'ስለ', 'እቃወቹ', 'ቪዲዮዎች', 'ለማየት', 'ቴሌግራማንን', 'ይቀላቀሉ', 'Electric', 'No', 'Silicone', '40', 'በ', 'quality', 'የራሱ', 'Brush', '3900', '200', '3100', 'Reebok', 'Capacity', 'ለአጠቃቀም', '1000', 'ባለ', '450', '2500', 'መልካም', '0', '2600', 'Water', 'can', 'Bottle', 'material', 'Double', 'Bath', 'Waterproof', '350', 'የሚችል', 'ውሀ', 'on', 'ቀን', '2000', 'Gel', 'የተሰራ', 'Men', 'ልብስ', '3600', 'awasadmin1', 'awasadmin2', '39', 'Steel', 'ሙሉ', '0916767778', 'ምቹ', 'በአል', 'ብሩሽ', '3800', 'እንዲሁም', 'high', 'ውስጥ', 'hair', 'Prices', 'Only', 'ይችላሉ', 'Adjustable', '2800', 'Door', 'is', 'በቅናሽ', 'proof', 'ጊዜ', 'Women', '2200', 'በጣም', 'Under', '4500', 'ድረስ', '900', '1400', 'የፀጉር', '4142', '15', '37', 'የቀሩ', 'እቃወች', '1500', 'New', 'Foldable', 'Light', '360', 'Dry', 'knee', 'LED', 'be', 'Reusable', 'For', '38', 'አሁኑኑ', 'ይዘዙን', 'Buy', 'Now', 'ሰአት', '100', 'Material', 'Soft', 'Grip', 'የሆነ', 'መጠን', 'your', 'ተጣጣፊ', 'Safe', 'በኤሌክትሪክ', 'water', '400', 'design', 'Maker', 'NB', 'boots', 'main', 'steel', '3700', 'ኪሎ', 'ምግብ', '1200', 'ደንበኞቻችን', '1800', 'Machine', 'በጥራት', 'ከፍተኛ', 'All', '700', 'clean', '1900', 'Strip', 'more', '4200', 'ሲገዙ', 'ሁለት', '850', 'Sticker', 'Hot', 'የፊት', 'Quick', '500', 'የማይዝ', 'ዘመናዊ', 'double', 'ለስጦታ', 'ያገኛሉ', 'Hand', 'Rack', 'ነገ', '11', 'ወይም', 'ለቢሮ', 'skin', 'color', 'sided', '251114622244', '30', '600', 'መጠቀም', 'Cap', 'Non', 'Cleaning', '1100', 'ጋር', 'The', 'መፍጫ', 'Portable', 'Cup', '550', 'balance', 'convenient', '300', 'ሜትር', 'ስፋት', '6000', 'Smart', 'በአንድ', 'የሚከላከል', 'Blender', 'Voltage', 'የሚይዝ', 'Chelsea', 'one', 'massage', 'Automatic', 'ለቤቶ', 'gift', 'box', 'cleaning', 'Mini', 'መቀነሻ', 'loafers', '9000', 'Massager', 'ማስቀመጫ', 'ለማፅዳት', 'አይነት', 'ድምፅ', 'Package', 'any', 'plastic', 'Coffee', 'ለኪችን', 'የሸቶ', 'zoom', 'Black', 'ዛሬ', 'slip', 'Original', 'speed', 'Socks', 'Color', 'LCD', '8', 'Adhesive', '424344', 'ቆዳ', 'ለኪችንዎ', 'ልብሶች', 'Charging', 'ውብ', 'light', 'ፀጉር', 'time', 'Multi', 'Magic', 'የሚያቀል', 'star', 'armour', 'Pipe', 'mix', 'ነፃ', 'የተለያየ', 'BPA', 'የሚሰጥ', 'hours', 'portable', '1300', 'Care', 'rack', '1600', 'Self', 'new', 'Bottom', 'Keep', 'Noise', 'ትልቁ', 'from', '750', 'Puma', 'classic', 'ጀምሮ', '251913321831', '36', 'ወፍራሙ', 'qnashplus', 'ብረት', 'የሚያስችል', 'Bag', '250', 'Fruit', 'Suitable', 'ለ', 'baby', '20', 'Long', 'ስለሆነ', 'Durable', 'you', 'Ceramic', 'Towel', 'ግድግዳ', 'convenience', 'into', 's', '12', 'foam', 'White', 'Low', 'Airforce', 'የ', 'side', 'tool', 'አንደኛው', 'Rated', 'የደም', 'ለማስቀመጥ', 'Feeding', 'መፍትሄ', 'Roller', 'Car', 'ያለ', 'temperature', 'as', 'door', 'half', 'ሊትር', 'ማድረግ', 'ዲሊቨሪ', 'ማድረስ', 'በአልን', 'ምክንያት', 'በማድረግ', 'Holder', 'Manual', 'Rechargeable', 'etc', 'Sealing', 'Sponge', 'tape', 'Pads', 'Shoes', 'durable', 'herbs', '2300', '45', '02', 'master', '2017', 'Relief', 'ማሽን', 'በተመጣጣኝ', 'ጤንነት', 'Super', '800', 'Three', 'Comfortable', 'Wall', 'Seal', 'Stopper', 'Kettle', 'Heating', 'አስተማማኝ', 'Anti', 'Pain', 'silicone', 'Stick', 'Removable', 'Gowalk', 'low', '373839', 'maximum', 'Single', 'gentle', 'easily', 'comfortable', '5cm', 'Professional', 'በላይ', '2400', 'ጠንካራ', 'ጎማ', 'የልጆች', 'Stand', 'Steam', 'Washing', 'እንኳን', 'Plastic', 'Reduce', '220V', 'Home', 'pack', 'pure', 'Goupu', 'Has', 'which', 'በር', 'Mop', 'Rolex', 'ሙቀት', 'መሆኑን', 'በቻርጅ', 'ለስላሳ', 'spray', 'air', 'ልስላሴ', 'የሚታጠብ', 'Table', 'all', 'ቡና', 'መደርደሪያ', 'Saachi', 'function', 'Storage', 'Plate', 'kitchen', 'በራሱ', 'maker', 'instantly', 'without', 'Max', '2700', 'medicated', 'patches', 'Cleanse', 'refresh', 'lather', 'Also', 'great', 'household', 'scrubbing', 'Widened', 'intimate', 'extracted', 'foaming', 'squirting', 'out', '70x11', 'both', 'stock', 'የውሀ', 'የሚለጠፍ', 'ክቡራን', 'መያዝ', 'አገልግሎት', 'የተካተተለት', 'Orderqnashplus', 'COUPLE', 'ማንኛውንም', 'የሚቋቋም', 'Box', '00', 'Laptop', 'ይጠብቁ', 'Lamp', 'home', 'USB', 'እግር', 'የሚቆጥብ', 'Leakage', 'Available', 'storage', 'It', 'hook', 'Spring', 'plate', 'Milk', 'ለማዘጋጀት', '7', 'መመዘን', 'archfit', 'Turkey', 'SB', '9500', 'NEW', 'Knee', 'Patch', 'Specifically', 'designed', 'absorption', 'so', 'feel', 'relieved', 'Provides', 'direct', 'relief', 'affected', 'area', 'effects', 'regular', 'medications', 'Chinese', 'roots', 'ዝግ', 'መወልወያ', 'Multifunctional', 'የህፃናት', 'Spray', 'በምቾት', 'Use', 'Toothbrush', 'ቅርፅ', 'የሚገጣጠም', 'ተስማሚ', 'መቆጣጠሪያ', 'Spa', 'Great', 'press', 'ምንም', 'Layer', 'Cold', 'isolated', 'Outside', 'slamming', '10cm', 'Sided', 'ቻርጅ', 'not', 'Bags', 'terrex', '4800', 'Goretex', 'go', 'Leather', 'NIKE', '5000', '28', 'Heat', 'Side', 'የልብስ', 'በአክብሮት', 'እንገልፃለን', 'Frame', 'Battery', 'One', 'ብርሀን', 'ለመኪናዎ', 'ጥሩ', 'Design', 'በሰላም', 'አመቺ', 'perfect', 'dry', 'ፊት', '9', 'travel', 'pour', 'Dust', 'X', 'ባትሪ', 'loafer', 'Out', 'suede', '37383940', '24', 'ultra', 'lace', 'Yeezy', 'Vans', 'Italy', 'filter', 'ጥቅም', 'በድጋሚ', 'ገብቷል', 'የቆዳ', 'የጥርስ', 'ልብሶችን', 'መምቻ', '1950', 'ባትራ', 'set', 'ውድ', 'Height', 'የጤና', 'አድርገዉ', 'Press', 'Juicer', 'Humidifier', 'effective', 'U', 'ሊጠቀሙበት', '1700', 'Meter', 'Oil', 'ይዞ', 'ለመንቀሳቀስ', 'Silicon', 'Blue', 'indicator', 'የቡና', 'Pump', 'LVy', 'sol', 'Fast', 'Switch', 'እጅግ', 'professional', 'brush', 'የጀርባ', 'አማራጭ', 'Travel', '4143', 'club', 'br', 'የማይጎዳ', 'የሚመረጥ', 'ከሰኞ', 'ቅዳሜ', 'ሰንበት', 'ፕላስተር', 'የሚፈልጉትን', 'የሚፈጭ', 'ለኩሽና', 'ካርድ', 'Watches', 'ፍሪጆች', 'Metal', 'መአዛን', 'off', '25', 'መለዋወጫ', 'used', 'Feeder', 'Toilet', 'ከርል', 'የሙቀት', 'ውበትን', 'አደረሳችሁ', 'የሚያለሰልስ', 'Life', 'የሚጠቀሙበት', 'ቦርሳ', 'Rubber', 'pairs', 'Slicer', 'Grinder', 'የተለያዩ', 'pad', '600ml', 'layer', 'shoe', 'የሚነቃቀል', 'ጫማ', 'Display', '60', 'Pan', 'ለአያያዝ', 'Colombia', '4142434445', 'pegasus', 'Lux', '22', 'ITALY', 'L', 'ADIDAS', 'SKOEDI', 'safe', '20cm', 'meter', '5M', 'ከወፍራም', 'የትም', 'ምላጭ', 'Natural', 'የሞተ', 'adjustable', 'Rebound', 'Wheel', 'Abdominal', 'Workout', 'WATCH', 'Mixer', 'ተጨማሪ', 'by', 'Drain', 'Vegetable', 'Help', 'ባለሙያዎች', 'Clean', 'Net', 'manual', 'ጡጦ', 'ለእግር', 'ለሚሰነጣጠቅ', 'ድርቀትን', 'ሆነ', 'grade', 'shoes', 'need', 'Boiling', 'ሳቺ', 'ዋት', 'Dispenser', '8000', 'To', 'coffee', 'Expert', 'Vacuum', 'ኑሮን', 'Take', 'coated', 'carry', 'Electronic', 'sensor', 'Model', 'ሁነኛ', 'ብዛት', 'መተው', 'Quantum', 'flex', 'react', 'derby', 'YEAR', 'XL', '3XL', 'Dye', 'dyeing', 'potion', 'DIY', 'Attached', 'comb', 'scale', 'potio', 'እንደገና', 'ሊውል', 'Straightener', 'ካቢኔት', 'cup', 'Cleaner', 'ኦርደር', 'since', 'ጁስ', 'ROLEX', 'ኬክ', 'Base', 'አውቶማቲክ', 'Spoon', 'ልጆች', 'Lint', 'Healthy', 'Tank', 'very', 'Container', 'Solar', 'Aromatherapy', 'control', 'capacity', 'የፈለጉትን', 'በመጫን', 'Butyl', 'beige', 'የማያስገባ', 'Function', 'stainless', 'እርጥበትን', 'bag', 'nano', 'Length', 'ጫፍ', 'pan', 'Shake', '500ml', 'system', 'Green', 'Pancake', '2100', 'Scale', 'GY', 'ULTRA', 'Terrex', 'smooth', 'Buckle', 'ecco', 'Control', 'ማፍያ', 'Derma', 'የቆሻሻ', 'የማያሳልፍ', 'ፔስትራ', 'over', 'ተንጠልጣይ', '183cm', 'ኮዳ', 'ሆነው', 'ይቀንሳል', 'about', 'ለሽንኩርት', 'ለስጋ', 'Footbath', 'Floor', 'SHEIN', 'በመላክ', 'Carpet', 'ያሉት', 'Watch', 'force', '2950', 'የሚያላብስ', 'ማሳጅ', 'bottle', 'Set', 'sitting', 'posture', 'የብረቱ', 'ላፕቶፕ', 'ጭን', 'አስቀምጠው', 'ለከፋ', 'ጉዳት', 'እንደሚያጋልጥ', 'ይናገራሉ', 'ቴብል', 'ሲጠቀሙ', 'ፋኑ', 'ስለሚደፈን', 'ያሰማል', 'ለዚህ', 'ሁሉ', 'የላፕቶፕ', 'ታብሌት', 'ገዝተዉ', 'የእርስዎንና', 'የላፕቶፕዎን', 'ለቤት', 'power', 'bathroom', 'Included', 'net', 'Gun', 'Crystal', '6500', 'ሻይ', 'Knife', '26', 'አጠገብ', 'ስንፈልግ', 'እቃዎች', 'ፕላስቲክ', 'Ivy', 'Seamless', 'purpose', 'Lvy', 'suit', 'every', 'የኤሌክትሪክ', 'Protection', 'Off', 'deep', 'sterilizer', 'mat', 'Feet', 'Reliable', 'Tea', 'care', 'Kit', 'stick', 'ሚዛን', 'gauge', 'ማፅጃ', 'Egg', 'taupe', '4344', 'V3', 'volvet', 'chunky', 'BRUNELLO', 'CUCINELLI', 'On', 'XXL', 'Master', 'HAPPY', 'button', 'cm', 'መተኮሻ', '1350', '60CM', 'መቆንጠጫ', 'Cooking', 'System', 'ለማስወገድ', 'Washable', 'Rechargable', 'የሚፈለግ', 'Specifications', 'Bucket', 'ተቀያሪ', 'ጨርቅ', 'ኪችንዎን', 'ዝውውርን', 'መስርያ', 'strong', 'adhesive', 'ዘይት', 'ነገሮችን', 'አራት', 'washing', 'Support', 'RAF', 'shaped', 'ሶስት', 'ውፍራም', '220', 'ወፍራም', 'Cutter', 'toilet', 'ግዜ', 'ያስችላል', 'free', 'colors', 'ለማጠብ', 'machine', 'ቀለም', 'Dryer', 'እምነት', 'Writing', 'Tabet', 'ለመያዝ', 'Solution', 'leakage', 'grinding', 'safety', 'Massage', 'Pink', 'Iron', 'cover', 'ወደ', 'Grain', 'Furniture', 'ግርግዳ', 'including', 'blades', 'Utensils', 'ማያያዣ', 'bath', 'spring', '650', 'Powder', 'Vibration', 'Juice', 'display', 'wash', 'Drying', 'effectively', 'handheld', 'ያለዉ', 'Steamer', 'Waerta', 'Converse', 'flow', 'Armour', 'arch', 'CA', 'zen', 'Oxford', 'sneaker', 'Gy', 'Red', '90', 'Alexander', 'አመት', '7200', 'ከአክሱም', 'ሆቴል', 'ትጋት', '06', 'Portugal', 'IMPULSE', 'SEALER', 'የላስቲክ', 'ማሸጊያ', 'ለባልትና', 'አሽጎ', 'Crack', 'ግዜዎን', 'Steaming', '5Mm', '540', 'Micro', 'Needles', 'ለፀጉሮ', 'ለፂሞ', 'እድገት', 'ለፊቶ', 'ለመጠበቅ', 'የተጎዳ', 'ገፅታን', 'ለማረድግ', 'ጠቃሚ', 'የወጣን', 'በሽታ', 'ጠባሳን', 'እርጅናን', 'መሳሳትን', 'መመለጥን', 'has', 'gained', 'popularity', 'recent', 'years', 'an', 'accessible', 'relatively', 'non', 'invasive', 'treatment', 'saving', 'ሁለቱም', 'ያደርጋል', 'የያዘ', 'pc', 'ለዱለት', 'ሰከንድ', 'ድቅቅ', 'አድርጎ', 'ባልዲ', 'ሊጥ', 'ፍጥነት', 'እንቁላል', 'ስጋ', 'Includes', 'ይደውሉልን', '2016', 'ጊፍት', 'Discount', 'CHEKICH', '1850', 'ያላቸው', 'Foot', 'ውበት', 'የእግር', 'Special', 'ለማንቀሳቀስ', 'Lunch', 'bowl', 'available', 'Compact', 'warm', 'Kids', '330ml', 'cable', 'የማይዝግ', '180', 'ተከታዮች', 'suitable', 'night', 'ለረጅም', 'ሲሆን', 'Camera', 'Saving', 'handle', 'Absorption', 'አላስፈላጊ', 'ያደርገዋል', 'መንገድ', 'pieces', 'Cover', 'Containers', 'Shoe', 'Over', 'Sewer', 'Wire', 'life', 'ምድጃ', 'ስቶቭ', 'Replacement', 'ግ', 'Basket', 'መስሪያ', 'Pad', '50cm', 'Lightweight', 'Designed', 'Heel', 'Your', 'በኩል', 'ዲጂታል', 'ምግቦችን', 'ማዘጋጀት', 'ግራም', 'ሲመዝኑ', 'የግራሙንም', 'የሚያሳይ', 'ለፈርማሲ', 'መድሀኒቶችን', 'ለመቀመም', 'በግራም', 'ስለምንችል', 'ለኢንዱስትሪ', 'ለላብራቶሪ', 'Equipped', 'precision', 'strain', 'SF', 'Piclse', 'AF', 'Campus', 'good', 'it', 'fit', '9060', 'Restocked', 'ACG', 'Queen', '30cm', 'ሌላ', 'ሰዉ', 'ሳያስፈልግዎ', 'ራስዎ', 'ፀጉርዎን', 'በማበጠር', 'የሚተኩሱበት', 'ማበጠሪያ', 'የሌለዉ', 'ስትሬት', 'የማያደክም', 'Coating', 'ቲክነስ', 'ደጋግሞ', 'ለመጠቀም', 'አይቪ', 'ግሪፕ', 'ቴፕ', 'ሕይወትዎን', 'ቆራርጠን', 'የምንችለዉ', 'ጎን', 'አጣብቆ', 'ታጥቦ', 'ለስራ', 'Remover', 'የተነጫጨ', 'ማደሻ', 'ተነጫጭተው', 'ያረጁ', 'ለክር', 'ለሱፍ', 'ለጥጥ', 'እድሳት', 'ሆኖ', 'ማደስ', 'ጨርቆች', 'ለጥ', 'ጠረጴዛ', 'ማንጠፍ', 'ከዛም', 'የሪሙቨሩን', 'ቀስ', 'አድርገው', 'ያነጠፉት', 'ማንሸራተት', 'Slip', 'ተንቀሳቃሽ', 'ክሬም', 'Crepe', 'ለበለጠ', 'create', 'Shape', 'Blade', 'battery', 'በመጠር', 'ፈጣን', 'የሚይዙ', 'Beauty', 'ለሁሉም', 'መጠጫ', 'ማድረቂያ', 'Exercise', 'Gift', 'Supply', 'Sayona', 'glass', 'ማድረጊያ', 'የሚሸከም', 'በተጨማሪም', 'መመገቢያ', 'PP', 'sponge', 'clay', 'Vintage', 'Cable', 'Wash', 'operation', 'Strong', 'Step', 'Styler', 'ፀሀይ', 'ጠረን', 'እየተሽከረከረ', 'አየር', 'በማፅዳት', 'Nail', 'የሰላም', '3W', 'ለሚወዱት', 'ልጂዎ', 'ታላቅ', 'ስጦታ', 'Lcd', 'writing', 'tablet', '5inch', 'እየተዝናኑ', 'የሚማሩበት', 'WRITING', 'TAB', 'ለፅሁፍ', 'ለስእል', 'መለማመጃ', 'የወረቀት', 'እርሳስ', 'ወጪን', 'ብናኝ', 'አይን', 'የሚወጋ', 'ስለሌለው', 'በደህንነት', 'ለምግብ', 'ለተለያዬ', 'አገልግሎቶች', 'ምስሉ', 'ያህል', 'መቆየት', 'ቁልፍ', 'መቆለፍም', 'መሰረዝ', 'ታብሌቱ', 'ቀጭን', 'በእጅ', 'resistance', 'Ultra', 'Chopper', 'ከሰል', 'ለማያያዝ', 'አነስ', 'ለማፍላት', 'sharpening', 'Turban', 'ድካምን', 'protector', 'በተለያየ', 'እቃዎችን', 'ፊውዝ', 'የተገጠመለት', 'Good', 'Vortex', 'ሀይል', 'grinder', 'Keeps', 'Bowl', 'Health', 'Granite', 'Running', 'run', 'SD', 'Zwende', 'alpha', 'Balenciaga', 'Crocodile', 'Dunk', 'C', 'ለሮቶ', 'ለጣሪያ', 'ለቧንቧ', 'መጠገኛ', 'Roof', 'Aluminium', 'Foil', 'Surface', 'Rupture', 'Heated', 'FOLDING', 'Wast', 'Bin', 'ይታጠፋል', 'እንጂ', 'የማይቀደድ', 'ኪችን', 'ንፅህና', 'የላሰሰቲክ', 'ቅርጫቶች', 'ሁለቱንም', 'በትልቁ', 'በትንሹ', 'ትልቁን', 'ለብቻ', 'ትንሹን', 'ለብቻው', 'resistant', 'multiple', 'dispenser', 'በአንዴ', 'ሳሙና', 'Majic', 'ለቤትና', 'MAGIC', 'FLAT', 'MOP', 'AND', 'BUCKET', 'SYSTEM', 'በሁለት', 'የእንቁላል', 'ለሊጥ', 'የተፈጨ', 'ለማደባለቅ', 'ሲያዙ', 'በማንኛዉም', 'ተደርጎ', 'ነገሮች', 'Rotating', 'ጀምሮዋል', 'ይከላከላል', 'በባትሪ', '100ml', 'በቅፅበት', 'ይፈልጋሉ', 'ግርማ', 'ሞገስ', 'ሀርቪ', 'ስቲከር', 'ለመሳቢያ', 'ለካቢኔ', 'የእንጨት', 'ገፅና', 'ማስጌጫ', 'የሚጣበቅ', 'ሙቀትን', 'አንፀባራቂ', 'moving', 'Mandoline', 'thickness', '5mm', '8mm', 'built', 'መቁያ', 'Shose', 'Jacket', 'blender', 'stretch', '69cm', 'ከአነስተኛ', 'ማጠቢያ', 'ላውንደሪዎች', 'ኦቭን', 'ምድጃዎችን', 'ጎማዎች', 'ስላሉት', 'መቆለፊያ', '16', 'Multipurpose', 'seat', '12pcs', 'living', 'Shower', 'Hat', 'Volume', 'Children', 'Mosquito', 'አጎበር', 'የቦታ', 'ጥበት', 'Trimmer', 'Ergonomic', 'ለመላው', 'ደቂቃ', 'ይቻላል', 'Xiaomi', 'Flexible', 'protectors', '60cm', 'Tool', 'Stylish', 'ስድስት', 'እርጥበት', 'Sling', 'variety', 'ቢላዎች', 'መቀስ', 'Perfect', '45cm', '10m', 'Pieces', 'Disposable', 'Wrap', 'Stretch', 'Lids', 'ከጠንካራ', 'Breast', 'ሶኬት', '600W', 'ባለሁለት', 'ትልቅ', 'ድስት', 'ቴርሞስታት', 'Soap', 'Wide', 'አሪፍ', 'ለደረቅ', '28cm', 'ለልጆች', 'Simple', 'ከቦታ', 'W', 'Working', 'ይጋግራል', 'Paper', 'በሙቀት', 'Deep', '5400', 'buckle', 'duramo', 'Sandals', 'Wesdenk', 'Archfit', 'pro', 'elder', 'GD', 'elite', '41424345', 'Formal', 'Vapormax', 'school', 'max', 'LV', '21', 'Trendy', 'OFF', 'ALDO', '9300', '574', 'Orignal', 'removal', 'basket', 'mesh', 'ትንሹ', 'Leak', 'Frying', 'ማውጫ', 'መለጠፊያ', 'የሚያስወግድ', 'Mats', 'የዳቦ', 'በስራ', '50Hz', 'Wet', 'በትንሽ', 'የስልክ', 'keshein', 'ርዝመት', 'Wild', 'Tornado', 'Sink', 'ለሽንት', 'ለሲንክ', 'ለሻውር', 'ወዘተ', 'Bottles', '1984', 'Teat', 'Latch', '260ml', 'Kemei', 'የሚተኩስ', 'ቅባት', 'ገመድ', 'ያስወግዳል', 'ልብስን', 'Speed', 'Swivel', 'Abdomen', 'Core', 'Trainer', 'Ab', 'Equipment', 'Elbow', 'Plank', 'የቦርጭ', 'ስብን', 'ለማቅለጥ', 'ፓክ', 'ለማውጣት', 'የሆድ', 'የመቀመጫ', 'ጡንቻዎትን', 'ለማሳሳብና', 'ለማጠንከር', 'ይረዳዎታል', 'መቁጠሪያ', 'የተሸናቀጠ', 'ተክለሰውነትን', 'ይላበሱ', 'Vast', 'Application', 'Excellent', 'Alternative', 'degree', 'fruits', 'Body', 'ጆግ', 'ARMANI', 'SPEED', 'turbo', 'ዝውውር', 'የሚረዳ', 'Training', 'ክፍል', 'feeding', 'black', 'bags', 'Pororo', 'Exfoliating', 'Scalp', '5W', 'Purify', 'Beautify', 'Environment', 'car', 'Bed', 'Child', 'Shampoo', 'Shield', 'መኪና', 'Plus', 'Grade', 'Boil', 'ጥርስ', 'Teeth', 'Oral', 'Teethers', 'አልጋዎች', 'የሚያገለግል', 'አል', 'በአሉ', 'እንመኛለን', 'ኢድ', 'Very', 'desktop', 'lights', 'rooms', 'bedrooms', 'restaurants', 'hotels', 'C300', 'Top', 'super', 'Fabric', 'Sharpener', 'Layers', 'Assembly', 'mattress', 'Carrier', 'መላጫ', 'ለተለያዩ', 'ማስዋቢያ', '5m', 'የጁስ', 'ፍራፍሬዎችን', 'drying', 'ቦይለር', 'its', 'completely', 'collapsible', 'store', '304', 'መሸከም', 'electronic', 'lighter', 'Aluminum', 'የማይደረግ', 'Head', '300ml', 'Nova', 'Touch', 'Button', 'ማጂክ', 'Face', 'በሁለቱም', 'Curling', '04', 'infinity', 'Pristine', 'Zoom', 'Vomero', 'Pro', 'sonic', 'Asics', 'T', 'ADI2000', 'downtown', '85', 'vibrant', 'trainer', 'INC', 'marathon', 'Balance', 'Rawars', 'strap', 'mountain', '414344', 'genuine', 'why', 'zero', 'Year', 'road', 'ከጠዋት', 'VOL', 'Platform', 'ZIG', 'TIMBERLAND', 'Louis', 'Cotton', 'Casual', 'Mc', 'Zara', 'Convers', 'comes', 'Tag', 'Of', 'ቢላ', '2350', '150W', 'ሳንቲም', 'የሚጠቅም', 'SCALP', 'MASSAGER', 'መታጠብያ', 'መታሻ', 'crescent', 'three', 'pole', 'protrusions', 'spft', 'promotes', 'scaip', 'gently', 'elasticity', 'point', 'Large', 'እስቲመር', 'ትሪትመንት', 'ቅቤ', 'ተቀብተው', 'በቤቶ', 'Chef', '12in1', 'Uses', 'Poaching', 'many', 'Pressure', 'Weight', 'Sokany', 'Flask', 'Insulation', 'performance', '500ML', 'shown', 'includes', 'vacuum', 'flask', 'Share', 'Sealed', 'Flour', 'የሽሮና', 'የበርበሬ', 'ዱቄት', 'ለጥራጥሬም', 'የአየር', 'ማስተንፈሻ', 'መቆንጠሪያ', 'ጭልፋ', 'ክዳኑ', 'ግጥም', 'የሚዘጋ', 'የሚቆለፍ', 'አክሪሊክ', 'መሳሪያ', 'ረጅም', 'የሚያደርቅ', 'Gas', '240V', '350W', 'Scraping', 'Mops', 'Hard', 'Heads', 'Wringing', 'የሚሽከረከር', 'ማድረቂያው', 'መያዣው', 'ለየብቻ', 'ማፍሰሻ', 'የሳይዝ', 'በትልቅ', 'BOMA', 'PCs', 'Spatula', 'ስፓቹላ', '2850', 'እናመጣሎታለን', 'የሴቶች', 'የወንዶች', 'ከቨር', 'ሂውማን', 'ሄር', 'ጌጣጌጥ', 'በአጠቃላይ', 'ያሉ', 'ማስመጣት', 'shein', 'ሊንክ', 'ፎቶ', 'ከኛ', 'ምን', 'ይጠቀማሉ', 'ሲያደርጉ', 'የእቃውን', 'እናጣራለን', 'ይደርሶታል', 'ቅድመ', 'ክፍያ', 'ክፍያዎን', 'መክፈል', 'በነፃ', 'እናደርሳለን', '0993727272', 'ጥንካሬ', 'specially', 'intended', 'two', 'surfaces', 'bond', 'sides', '50mm', 'Minutes', 'የከሰል', 'ከፈለግን', 'Marble', 'n', 'ቀጥታ', 'በሶኬት', 'ተሰክቶ', 'የፍራፍሬ', 'ሼክ', 'ጁሶችን', 'ተመራጥ', 'ለልጆችዎ', 'ጆጎቹ', 'እንደመጠጫ', 'ስለሚያገለግል', 'ያዘጋጁት', 'ለመጎንጨ', 'ይመቻል', 'የሚያላበስ', 'ለመታጠቢያ', 'መሸብሸብን', 'ውጤታማ', 'በሆነ', 'የሚያፋጥን', 'የተዘጋ', 'ቀዳዳዎችን', 'ዘይትን', 'ሌሎች', 'ፆታ', 'መስራቱ', 'ተቀያያሪ', 'ብሩሾች', 'Make', 'switch', 'no', 'Handle', 'ፔርሙስ', 'በማንኛውም', 'ቆጣቢና', 'ለጉዞ', 'መሞቂያው', 'ከሴራሚክ', 'የማይዝና', 'የማያጨማድድ', 'ማጠራቀሚያ', 'የለውና', 'ውሀዉን', 'በመርጨት', 'ልብሶ', 'እንዳይጎዳ', '30W', 'objects', 'labor', 'ቆጣቢ', 'ጳጉሜ', 'Sandwich', 'ህመም', 'Cord', 'tank', 'ከማይዝግ', 'security', 'camera', 'አቅጣጫ', 'efficiency', 'grip', 'abrasion', 'sturdy', 'tub', 'table', 'basin', 'sink', 'window', 'Source', 'AA', 'Batteries', 'included', '5V', '1500mAh', 'continuous', 'work', '251118639952', 'Features', 'Reel', 'Remote', 'Adapter', 'Colour', 'ስሜት', 'Phone', 'የማይደፋ', 'BALENCIAGA', 'Yezzy', 'SKECHERS', 'የሚችሉ', 'Saliva', 'ይረዳል', 'ለማንኛውም', 'ሳህን', 'ሹካ', 'የሚስብ', 'grey', 'Effective', 'Juicing', 'Second', 'Silent', 'Two', 'Usb', 'interface', 'quick', 'anywhere', 'Squeeze', '180cm', 'ስላለው', 'አረፋ', 'ሙባረክ', 'charging', 'feet', 'Shock', 'ginger', 'garlic', 'extrusion', 'Curved', 'mosquito', 'Flame', 'Diffuser', 'ከማስቀመጫው', 'ካቢኔትና', 'ለባኞ', 'ለመደርደሪያ', 'ለጠረቬዛ', 'ቁምሳጥንና', 'ቀዳሚ', 'creating', 'looks', 'install', 'settings', 'walls', 'cabinets', 'drawers', 'counter', 'tops', 'bookshelves', 'closet', 'shelving', 'shelves', 'windows', 'pantry', 'areas', 'Glass', 'watt', 'Warmer', 'Bringing', 'people', 'their', 'daily', 'iron', 'wire', 'pp', 'retractable', 'claws', 'enough', 'get', 'drains', 'Remove', 'clogs', 'debris', 'sinks', 'drain', 'tubs', 'Save', 'A', 'አስፈላጊ', 'cooking', '24cm', '26cm', 'በኋላ', 'የሚያጠፋ', 'waffle', 'አነስተኛ', 'Jar', 'cap', 'Convenient', 'at', 'Solid', 'Do', 'Warm', 'Heavy', 'Automatically', '13', 'green', 'Comb', 'Up', 'ways', 'ሳይዝ', 'የማንደርስበትን', 'ለማሸት', 'ለቆዳ', 'የሚያሽ', 'ከፍ', 'Epilator', 'crystal', 'remover', 'ጋ', 'Samba', 'OG', 'Maven', 'Trek', '3738', 'quest', 'MAX', 'Spectur', 'Run', '70', '07', 'Midcity', 'year', 'Burbuja', 'Adimatic', 'dunk', 'Half', 'crocodile', 'Fish', 'Tiempo', 'EVO', 'shell', '17x', 'adversary', 'monk', 'Lazy', 'Adversary', 'old', 'sb', 'Alberto', 'በአሉን', 'በማስመልከት', 'GTX', 'Vuitton', 'Sneaker', 'shirt', '4XL', 'AIRFORCE', 'ONE', 'Allstar', 'Boots', 'GIVENCHY', 'Custom', '6200', 'Kirkland', 'Signature', 'Regrowth', 'Treatment', 'Loss', 'Dermatologist', 'Recommended', '7800', 'የስጋ', 'CM', 'Place', 'waterproof', 'Oilproof', 'Pcs', 'ተሽከርካሪ', 'የሚጨምቅ', 'ሲልከን', 'botton', 'Since', 'መጥበሻ', '1250', 'Motor', 'durability', 'mm', 'KEMEI', 'PROFESSIONAL', 'HAIR', 'CLIPPER', 'ማስተካከያ', 'የራስ', 'ፂምን', 'በስርአት', 'ለማስተካከል', 'በሚፈልጉት', 'ለመቁረጥ', 'መቀያየሪ', 'ቁጥሮች', 'አስተማምኝ', 'Clippers', 'Taper', 'Lever', 'chargeable', 'Boma', 'Level', 'ለካንፓስ', 'ፓይስትራ', 'Decorative', 'contact', 'paper', 'እሳት', 'ተቀጣጣይ', 'ለካቢኔት', 'መሳቢያወች', 'Decor', 'granite', 'Wallpaper', 'ስለዚህ', 'እንገናኝ', 'የሚያነሳ', 'ያላብሳል', 'ማራገፊያ', 'ሜካፕ', 'ስፖንጅ', 'ማለስለሻ', 'Built', 'Removing', 'refrigerator', 'የምግብ', '150', 'KG', 'Cloth', 'መጋገሪያ', 'ቦታዎች', 'Rapid', 'Indicator', 'Temperature', 'PTC', 'Heater', 'Back', 'መቀቀል', 'ማንዋል', 'የብርቱካን', 'Couple', 'delivery', '3pcs', 'Refrigerators', 'ለመመገብ', 'ህፃናት', 'ማንኪያ', 'Impulse', 'sealer', 'PE', 'የሚመርጡት', 'H', 'room', 'pressure', 'nozzle', 'bird', 'Latex', 'Phthalate', 'Toxic', 'Freeze', 'Microwave', 'Zero', 'Month', 'Above', 'Dimensions', 'ለመስራት', 'different', 'የእስልምና', 'ለኢድ', 'የጤናና', 'የመተሳሰብ', 'እንዲሆን', '1x', 'Starry', 'Sky', 'condition', 'moisture', 'Honeycomb', 'Forefoot', 'heel', 'Toe', 'Garlic', 'foldable', 'kids', 'stages', 'Fine', 'coarse', 'ensure', 'resulting', 'Soleplate', 'steam', 'variable', 'towel', 'ቶሎ', 'የሌለው', 'Crawling', 'መዳሂያ', 'lightweight', 'knife', '9PCS', 'ሞረድ', 'Wood', 'መሸፈኛ', 'ካለብዎ', 'ይሄ', 'ያስፈልግዎታል', 'የንፅህና', 'ኮስሞቲክሶች', 'አትክልት', 'ሊያስቀምጡበት', 'መብሳት', 'አያስፈልግዎትም', 'ሁክ', 'mash', 'serve', 'Diaper', 'ዳይፐር', 'cloth', 'multifunctional', 'rotating', 'crease', 'windshield', 'sun', 'umbrella', 'Smiley', 'Dispense', 'amount', 'dish', 'soap', 'Every', '385ml', 'Proper', 'occasion', 'Spill', 'እናት', 'ልጇን', 'ይዛ', 'ስትንቀሳቀስ', 'የዱቄት', 'ወተት', 'የመሳሰሉትን', 'ፓርቲሽን', 'ኮንቴነር', 'GRINDER', 'የቅመማ', 'ቅመም', 'ቅመማ', 'ቅመሞች', 'ለሙሉ', 'touch', 'Dish', 'Toddler', 'helmet', 'Inima', 'Dr', '5L', 'የጫማ', 'Colourful', 'drinks', 'right', 'longer', 'Mug', 'IC', 'cool', 'Materail', 'leaks', 'Deck', 'microwave', 'Hose', 'Newborn', 'Babies', 'stored', 'carton', 'organizing', 'materials', 'growth', 'protect', 'health', 'effort', 'የሚል', 'Momcoc', 'የቀረበ', 'Baking', 'Hiking', 'ጫማዎችን', 'LeBron', 'Witness', 'Montrial', 'Manladuo', 'Columbia', 'sole', '404143', 'Pegasus', '28x', '4300', 'running', 'fear', 'God', '87', 'canvas', 'relentless', '3200birr', 'stansmith', 'RC', '3300birr', 'fusium', '5100', 'forum', 'Advantage', 'Courtic', '03', 'volume', 'Business', 'chuck', 'fly', 'flat', 'Intake', 'flyknite', 'Carze', 'Ozelia', 'essential', 'escape', 'breathable', '3839', 'sandals', 'Old', 'ቴሌባር', 'ለአዲሱ', 'men', 'Plain', 'WHITE', 'GUCCI', 'Cloud', 'Tech', '0913321831', 'Travis', 'First', 'North', '5300', 'PARIS', 'BLACK', 'Retro', 'ቅልጥ', '40cm', 'መጣያ', 'ከረጢት', 'GARBAGE', 'BAGS', 'መቋጠሪያ', 'በመሬት', 'ሊበሰብስ', 'መካከለኛ', '62cm', '80cm', '74', '103cm', 'IINIMA', 'mill', 'cardamom', 'nut', 'Spices', 'ቆሻሻ', 'Cille', 'Litter', 'Proof', 'Infuser', 'Rotation', 'Nozzle', 'Carry', 'pockets', 'Sports', 'shoulder', 'put', 'luggage', 'compliant', 'airline', 'charges', 'ለተለያየ', 'food', 'feeder', 'ሳሙናዎን', 'በንፅህና', 'በአግባቡ', 'የሚያስጠቅም', 'functional', 'የሚገኙ', 'ባክቴሪያዎችን', 'መግደል', 'ስትራላይዘር', 'ፂም', 'ከስር', 'ሳሙናው', 'ብሩሹ', 'ሲስተም', 'አጠቃቀሙ', 'ብክነት', 'mount', 'charged', 'long', 'battry', 'Uv', 'sterilization', 'Multiple', 'storge', 'infraed', 'induction', 'heat', 'UV', 'vehicle', 'በመጠቀም', 'የእግሮን', 'ጤና', 'ብዙ', 'የሚቆሙ', 'ሰዎች', 'የተረከዝ', 'መሰነጣጠቅ', 'በእድሜ', 'ለደከሙ', 'ሰላማዊ', 'እንቅልፍ', 'እንዲያገኙ', 'የሚያረግ', 'የታመሙ', 'ተረከዞችን', 'ጣቶችን', 'ለማስታገስ', 'የደከሙ', 'እግሮችን', 'ለመንከባከብ', 'ለማከም', 'የሚረዱ', 'የሚያነቃቁ', 'አረፋዎች', 'Multifunction', 'Magnrtoheraphy', 'Wave', 'Oxygenation', 'Infrared', 'Physiotherapy', 'AC110V', 'Frequency', '60Hz', 'ፖን', 'ለፈጢራ', 'ለጨጨብሳ', 'ለሻዋርማ', 'griddle', 'Shallow', 'FryBakeEnergy', 'SaverNon', 'pancake', 'diameter', 'pans', '22cm', 'User', 'ማሞቂያ', 'የምሳ', 'ከዚህ', 'የያዝኩት', 'ይቀዘቅዝብኛል', 'ብለው', 'አይስጉ', 'በቢሮዎ', 'ትምህርት', 'ንፁ', 'ትኩስ', 'ይመገቡ', 'ህፃናትም', 'ለአዋቂዎች', 'የተዘጋጀ', 'አና', 'hanger', 'board', 'ማንኛውም', 'የምንችለው', '240', 'Lock', 'Socket', 'Move', 'Objects', 'Degree', 'ቀረው', 'Handheld', 'Frother', 'egg', 'beater', 'milk', 'bubble', 'dead', 'angle', 'rotation', 'Whisk', 'Beater', '950', 'Dead', 'Skin', 'ቆዳን', 'ቆሻሻን', 'Keratin', 'Cleansing', 'ሊ', '10000', 'ሰሀን', 'ከግማሽ', 'ደርዘን', 'Unbreakable', 'Moving', 'Helpers', 'furniture', 'caster', 'wheel', 'heavy', 'transporter', 'small', 'mover', 'wheels', 'bed', 'ማጠብያ', 'አምስት', '27cm', 'ማስጪያ', 'የኬክ', 'Pc', 'Shaped', 'Mould', 'ክብ', 'ማእዘን', 'ልብ', 'በከፍተኛ', 'ከእጅ', 'ለነገ', 'እንዳያመልጣቹ', 'ማብሰያ', 'Board', 'Luxury', 'Style', 'Facial', 'vertical', 'Ready', 'SONIFER', 'COFFEE', 'ROSTER', 'ሶኒፈር', 'ስራዎትን', 'ልዩ', '750gm', 'የሚቆላ', 'ለፈንድሻ', 'PC', 'Claw', 'Sucker', 'Suction', 'የፈንዲሻ', 'ማፍኪያ', 'Football', 'Popcorn', 'የማይጠቀም', 'Types', 'Cutting', 'make', 'ስኒ', 'Saves', 'space', 'የሱሪ', 'trousers', 'ብላይ', 'ፖስታ', 'ውፍረት', 'https', 'Product', 'Mill', '3950', 'GOUPU', 'EMPORIO', 'Supreme', 'v3', 'VIGUER', 'Star', '0945355266', 'Chekich', 'price', 'DISELE', 'የመስታዎት', 'ፓትራዎች', 'የነርቭ', 'Bib', 'መፍሰስን', 'ለመከላከል', 'ጀማሪ', 'ልጅ', 'potty', 'Dancing', 'Cactus', 'Toy', 'Nasal', 'level', 'bedroom', 'shapped', 'ዲዛይን', 'ጣሪያው', 'የሚፈታ', '80', 'ከሌለብዎት', 'ከዚያ', 'በታች', 'ለሆኑ', 'ላላቸው', 'አጎበሩን', 'ወደጎን', 'በመበተን', 'በነጭ', 'በወይነ', 'ጠጅ', 'በቡኒ', 'በፒንክ', 'የመጣ', 'ለማድረቅ', 'have', 'አድሀ', 'በሙሉ', 'this', 'Sleeve', 'ኤሌክትሪክ', 'Arm', 'white', 'Yellow', 'Materials', 'More', 'Fun', '80ml', 'protection', 'ስርገትን', 'ፍራሽ', 'እንዳይገባ', 'ሽታን', 'አንሶላ', 'የማይልሳልፍ', 'ፍራሻችሁ', 'በልጆች', 'ሽንት', 'በተለያዩ', 'ፍሳሾች', 'እየቆሸሸ', 'ለተቸገራችሁ', 'ፍቱን', 'የመንኮሻኮሽ', 'የማንሸራተት', 'ፀባይ', 'ሲፈልጉ', 'አውልቀው', 'የሚያጥቡት', 'የፍራሽዎን', 'የማገልገል', 'ዋስትናዎ', 'ረዘም', 'ላለ', 'አልጋህን', 'የበለጠ', 'አለርጂዎችን', 'ሳንካዎችን', 'ያግዳል', 'የፍራሽ', 'ጥራትን', 'ይጠብቃል', '150cm', '2M', '200ml', 'Keychain', '5700', 'Nipple', 'የጡት', '4700', 'ላይተር', 'Fry', 'soft', 'toothbrush', '4Packs', 'Appliances', 'Walk', 'Washer', 'Cancelling', '6L', 'assembly', 'አገጣጠም', 'east', 'wardrobe', 'የሚመች', 'ሳ', 'Clothes', 'Hanger', '30m', '100ft', 'ሆዝ', 'አትክልቶችን', 'clipper', 'Round', 'ለጌታችን', 'ለኢየሱስ', 'ክርስቶስ', 'አደረሰን', 'የፍቅር', 'Stove', '18', 'በፈለጉት', 'Wifi', 'Panorama', 'Folding', 'Straight', 'Cross', 'Coated', 'የገባ', 'cloud', '3d', '383940', 'sneakers', 'Meta', 'premium', 'olive', 'Forum', 'tenacity', '68', '404243', 'tempus', 'bape', 'zipper', 'Marathon', 'OD', 'vaporfoam', 'toe', 'plus', 'Stadium', '404142', 'C85', '3500birr', 'ultrago', 'Winflo', '9X', 'Laorentou', 'Clarks', 'Brawley', 'Moc', '84', 'impact', '4445', 'skate', 'ISHOD', 'GORUN', 'Response', 'v2', 'weight', '4400', 'bliss', 'vomero', 'Kariz', 'pattern', 'Breathable', 'Zaherra', 'SAMBAROSE', 'ZX', 'RESTOCKED', 'compress', 'travis', 'Triple', 'RUN', 'አደረሳቹ', 'SALOMON', '8500', '7500', 'Full', 'Sweaters', '2XL', 'BALANCE', 'Louboutin', 'JORDAN', 'ALLSTAR', 'Slide', 'Compression', 'Superior', 'absorber', 'ረጅሙ', 'የደፈነብንን', 'ቀዳዳዎች', 'ለመክፈት', 'የማይመች', 'ለመሳብ', 'ለመፈለግ', 'የክሬም', 'መቀያየሪያ', 'ColorBlack', 'alloy', 'copper', 'connect', 'sets', 'Connectors', 'Sprayer', 'Models', 'washingwatering', 'flowerscleaning', 'glassfloors', 'ለልጆ', 'የሚውል', 'Outer', 'around', '110', 'KITCHENWARE', 'SET', 'ከሚቋቋም', 'የተሰሩ', 'የሚያደርጉ', 'የማይጫጫሩ', 'የማይመነችኩ', 'ማማሰያና', 'ጭልፋዎች', 'በሴራሚክ', 'የተለበጡ', 'መጋዝ', 'የማይጫጫር', 'መክተፊያ', 'ከማስቀመጫቸው', 'ቋት', 'ምርጥ', 'absorbant', 'rugs', 'anti', 'absorbent', 'Living', 'carpet', 'Bathroom', 'differnt', 'ማስጫ', 'የሚዘረጋ', 'ማንኛዉንም', 'ደረቅ', 'ነገር', 'በሰከንዶች', 'ኦሪጅናል', 'imported', 'ፈፅሞ', 'Filter', 'Cordless', 'የበአል', 'ይሸምቱ', 'ለሆቴል', 'መዋል', 'የሚረዝም', '1Garlic', 'የነጭ', 'ሽንኩርት', 'የለስላሳ', 'መክፈቻ', 'መጨፍለቂያ', 'መደምደሚያ', 'Feature', 'Operation', 'WATT', 'የሚተጣጠፍ', 'ከቤት', '24CM', '26CM', '28CM', 'በዚህ', 'ክረምት', 'እንዳያንሽራተት', 'ተለጣፊ', 'እንዳያንሸራትት', 'Telescopic', 'ይመጣል', 'ይጨምቃል', 'ንኪኪ', 'ሱቃችንን', 'ለማሳወቅ', 'እንውዳለን', 'ትላንት', 'መምጣት', 'ላልቻላቹ', 'ላመለጣቹ', 'በብዙ', 'ጥያቄ', 'መሰረት', 'ከዛሬ', 'አስከ', 'በፍጥነት', 'የሚጠቀም', 'stylish', 'fits', 'seamlessly', 'countertop', 'quieter', 'juicing', 'experience', 'Ease', 'minimal', 'እጅ', 'Sonifer', 'Measuring', 'Processor', 'የሽንኩርት', 'Detachable', 'Shaper', 'Instant', 'የሰውነት', 'kg', 'Constant', 'Fit', 'የታጠቡ', 'የወጥ', 'ሰሀኖችን', 'ብርጭቆዎችና', 'የእንጥፍጣፊ', 'መቀበያ', 'ኖቫ', 'Salon', 'Effect', 'up', 'Create', 'ON', 'Unlock', 'Bulb', 'የካሜራውን', 'lens', 'ስልክዎ', 'ፈለጉት', 'እያዟዟሩ', 'ማየት', 'ሚያስችል', 'በማታ', 'ይቀርፃል', 'በምሽት', 'አጥርቶ', 'እንዲያሳይ', 'smart', 'vision', 'የቤትዎትን', 'ውሎ', 'መከታተል', 'የሚችሉበት', 'cameras', 'እንቅሰቃሴ', 'በሚኖርበት', 'ካሜራው', 'እንቅስቃሴ', 'ወዷየበት', 'ተከታትሎ', 'ራሱ', 'የሚዟዟር', 'ሚሞሪ', 'የሚቀበል', 'ቪዲዮ', 'ይቀዳል', 'Can', 'Repeat', 'የሚዞር', 'Bright', 'Installation', 'Flashing', 'Patterns', 'Sequences', '12V', '54', 'Lights', 'Gym', 'Disinfector', 'Strilazer', '75ml', 'በመጨመር', 'የጡጦ', 'መቀቀያ', 'ደቂቃዎች', 'በእንፋሎት', 'ጀርሞች', 'ድምጥማጣቸውን', 'ጡጦዎችን', 'Sterilizer', '500W', '236x236x337', 'አንዳንድ', 'ሌቦች', 'አጭበርባሪዎች', 'እዚ', 'እያሉ', 'የማይሆን', 'በማይሆን', 'እየሸጡ', 'ጥንቃቄ', 'እንዲያደርጉ', 'እናሳስባለን', 'ሶስተኛ', 'ከሊፍት', 'እንደወረዱ', 'ግራ', 'እንደዞሩ', 'ባነር', 'ማስታወቂያ', 'በማስታወቂያው', 'በበረንዳው', 'ያገኙታል', 'Fascial', 'ድብርት', 'የህመም', 'በማሳጅ', 'ማሽኑ', 'ሲታሹ', 'የቫይብሬሽን', 'ሲስተሙ', 'በሰዉነታችን', 'ዉስጥ', 'ቆንጆ', 'እንዲኖር', 'ያረጋል', 'የትከሻ', 'የወገብ', 'ካለብዎት', 'በስፖርት', 'የዛለ', 'የደከመ', 'ሰውነትን', 'ለማነቃቃት', 'በቀዳሚነት', 'ማድረግያ', 'በየትኛውም', '3in1', 'ጥቅሞችን', 'ሰትሪት', 'ለጠንካራ', 'ለመካከለኛ', 'ለሉጫ', 'ፀጉርም', 'የሚስማማ', 'ፀጉርን', 'በእሳት', 'ከመጉዳት', 'Straightening', '260W', 'Safety', 'Waist', 'Corset', 'ቦርጭ', 'የሚሰበስብ', 'ስብ', 'የሚያቃጥል', 'Fat', 'Burning', 'Molding', 'Shaping', 'Waistline', 'Postpartum', 'Recovery', 'Promote', 'Sweating', 'Hours', 'Mounted', 'Fixed', 'Bedside', 'Dual', 'action', 'citrus', 'የሎሚ', 'መጭመቂያ', 'squeezing', 'mess', 'Fresh', 'Squeezer', 'Variety', 'spill', 'gyro', 'ቢሽከረከር', 'ይዘው', 'ቢንቀሳቀሱ', 'Armur', 'scott', 'FITRON', 'BRAND', 'Vest', 'Fur', 'Sb', 'Dior', 'Armor', 'Tempered', 'bakeware', 'ገበታ', 'መቅረብ', 'ለእግሮቻችን', 'እግራችን', 'መዳፍ', 'የሚገኙትን', 'ጫፎች', 'በማነቃቃት', 'ጤናማ', 'ስርአት', 'ለመፍጠር', 'የፍሪጅ', '2Pcs', 'Bendable', 'Eat', 'suction', 'ወር', 'ላሉ', 'bank', 'dark', 'በመፍጠር', 'Brother', '400mm', 'Bristles', 'BABY', 'SWADDLING', 'BLANKETS', 'Mouth', 'Aspirator', 'Humidification', 'only', 'መረቡ', 'ልጅዎን', 'ግቢ', 'Onion', 'Operating', '50ml', 'ambient', 'humidification', 'levels', 'fog', 'Lark', 'humidifier', 'Instruction', 'Infant', 'Dispensing', 'Filterable', '3Tier', 'ለማለስለስ', 'ለኢትዮጵያውያን', 'interchangeable', 'pads', 'Ages', 'ages', 'efficient', 'በቀን', 'ብንጠቀመው', 'የእግራችንን', 'መመለስ', '2000mAh', 'Changing', 'Desk', 'Bamboo', 'Fix', 'leakages', 'gaps', 'leak', 'repair', 'stop', 'weather', 'Blocks', 'decreasing', 'burden', 'when', 'wearing', 'Dilica', 'gel', 'cotton', 'most', 'Beige', 'Better', 'Cushioning', 'Absorbs', 'Frictions', 'Sock', '13pcs', 'Fruits', 'Vegetables', '16pcs', 'Spice', 'chopper', 'Charcoal', 'Burner', 'Fragrance', 'Scents', 'Vanilla', 'Cherry', 'Lavender', 'Strawberry', 'Sandalwood', 'የአንዱ', 'ልጆችዎን', 'ከቢንቢ', 'ከተለያዩ', 'ነፍሳት', 'የሚጠብቅ', 'size', '100cm', '55', '114', 'ironing', 'burst', 'self', 'pilot', 'swivel', 'cord', 'overheat', '1100W', 'በቦርሳችን', 'ይዘነው', 'የምንጠቀምበት', 'ልጆቹን', 'አዋስማርት', 'የቅመም', 'SAACHI', 'liters', '350w', 'የግሮሰሪና', 'Camping', 'sleeping', 'ለፈለግነው', 'የእድሜ', 'ማስፋት', 'ማጥበብ', 'የሚቻል', 'ዳይፕር', 'መቀየሪያ', 'reusable', 'Pocket', 'style', 'diaper', 'Customizable', 'stay', 'inner', 'measuring', 'spoon', '6m', '4900', 'candlegas', 'stoveBarbequefor', 'camping', 'wind', '3Pcs', 'Forged', '00mm', 'types', 'adherent', 'Uniform', 'washers', 'Sterilization', 'playing', '2m', '1cm', 'የዋፍል', 'በተለይ', 'ቁርስ', 'በአነስተኛ', 'የኤሌትሪክ', 'spices', '150watt', 'Pystra', '1L', 'N', 'Smoothie', 'powerful', 'Meoko', 'Frozer', 'Wardrobe', 'ቁምሳጥን', 'ክብደት', 'የሆኑ', 'ካርቦኔትድ', 'D', 'Space', '30M', 'የፈለጉት', 'የክርስትና', 'ለመድሀኒታችን', 'ትንሳኤ', 'የደስታ', '19pcs', 'utensil', 'Time', 'steamer', 'stylist', 'ሁኔታ', '2L', 'መከላከያ', 'Universal', 'Gyro', 'Lace', 'Delux', 'Walker', 'Alta', 'bad', 'bunny', 'campus', 'north', 'face', 'Stocks', 'እነዚህ', 'በዛሬው', 'እለት', 'አስገብተናል', 'ይጎብኙን', 'i', 'skechers', 'Morazora', 'casual', 'Trailstorm', 'Gore', 'Tex', '42434445', 'Driving', 'banquet', 'ECO', '41434445', 'EOTS', '414445', 'Span', 'Go', 'Chuck', 'Egret', 'K', 'Sequins', 'retro', 'PRM', '24x', 'FC', '530', 'ztaur', 'hyper', 'pillars', '414244', 'legend', 'structure', '26x', 'alt', 'clear', 'swoosh', '424445', '414345', 'lowcate', 'velocity', 'w', '3000birr', 'jump', 'man', '23x', 'inferno', 'flyknit', 'Voston', 'HARDEN', 'Dapicat', 'Chaussure', 'Penny', 'Loafers', '40414244', 'centennial', 'gear', 'vintage', 'Elder', 'Boost', '3940414243', 'under', 'airmax', 'Premium', 'craft', 'GPS', '2023', '340', 'monogram', 'project', 'rock', 'GOOD', 'sk8', 'hi', 'School', 'lite', 'Urban', 'zip', 'Revolution', 'Trend', 'cent', 'TEMPUS', 'V', 'lazy', 'rift', 'British', 'Logo', 'Sneakers', 'Force1', 'Reigning', 'Billie', 'Eilish', 'Striped', 'Hoodie', 'airjorda', 'SP', 'CLOT', 'Cork', 'queen', 'Clark', '9000Br', 'CAMPUS', '1906', 'Patta', 'Bape', 'Sta', 'ETB', '510', 'Christian', 'አመተ', 'ምህረት', 'ይሁንላቹ', 'Happy', '2002', 'Flat', 'samba', 'የአጥንት', 'ኛው', 'አደሀ', 'የኢድ', 'እንዲሆንላችሁ', 'Cartoon', 'Cookie', 'የኩኪስ', 'ለቁርስ', 'ለምሳ', 'Rresistance', '2pc', 'Gloves', 'የሚቆቆም', 'ፋሲካ', 'Yama', 'የመኪና', 'ከአቧራ', 'ከፀሀይ', 'ከዝናብ', 'ከከለር', 'ፌድ', 'መደብዘዝ', 'Membrane', 'Rain', 'allow', 'trapped', 'beneath', 'fabric', 'protects', 'paint', 'damaging', 'rays', 'pollutants', 'Elasticized', 'bottom', 'tight', 'base', 'against', 'rains', 'snow', 'dirt', 'dust', 'drops', 'cold', 'PEVA', 'Small', 'Medium', '460', '185', '145cm', '480', '188', '147cm', '110pc', '50pc', 'Cookware', 'Ser', 'የኪችን', 'ቢገዙት', 'የሚያስመሰግን', '22200', 'pc19000', 'ስፈት', 'Turkish', 'pot', 'የቡናና', 'ማፍሊያ', 'እያንዳንዳቸው', 'የሚያፈሉ', 'አጠቂቀሙ', 'መጠጦችን', 'ያፈሉበታል', 'እንደምርጫዎ', 'ይጠጣሉ', 'Clips', 'የሚሰበሰብ', '360cm', 'የሚለጠጥ', 'sticker', 'መለጠፍ', 'በፈለግነው', 'መቆራረጥ', 'Blackboard', 'Stickers', '200cm', 'Fraying', 'ሞምኮክ', 'የሴራሚክ', 'አይታሰብም', 'ወጥ', 'ስርጭት', '2426', 'Clipper', 'መቁረጫ', 'HIGH', 'QUALITY', 'Most', 'Powerful', 'Hour', 'V5000', 'vibrator', 'motor', 'longevity', 'Rustproof', 'attachement', 'combs', '361013', 'ከነፃ', 'Cooker', '1750', 'Potato', 'Germany', 'China', 'Shutdown', 'Fastest', 'Easiest', 'Way', 'Drinking', 'Fountains', 'Wheels', 'Effortlessly', 'Handy', 'Palle', 'ለክርስትና', 'anty', 'crack', 'HOW', 'TO', 'USE', 'Apply', 'some', 'cream', 'medicine', 'toes', 'Wear', 'Purastep', 'few', 'overnight', 'consistent', 'requirement', 'የጃር', 'ፖምፕ', 'ጀሪካን', 'ቱቦው', '55cm', '1200mA', 'የመያዝ', 'አቅም', 'ብርጭቆ', 'ማስቀመጥ', 'Always', '400ML', 'MUG', 'Inox', 'Resistance', 'Sanford', 'የልብስም', 'የጫማም', '4KG', 'Quiet', 'Operate', 'Energy', 'Creative', 'ሲዘረጋ', '86cm', 'ገጠማ', 'የማይፈልግ', 'ጥንድ', 'ይይዛል', 'Alumunium', 'ከአልሙኒየም', 'ውጭ', 'ከሆነ', 'ቀኑን', 'ፈጣሪ', 'SILVER', 'CREST', 'AIR', 'FRAYER', 'ያበስሉበታል', 'ፍራፍሬ', 'አድርቆ', 'ፓውደር', 'ቋንጣ', 'ያደርቁበታልም', 'ከዘይትና', 'አብስለው', 'በመመገብ', 'ጤናዎን', '12500', 'Extractor', '400W', 'wave', 'heating', 'የእጅ', 'ያለን', 'ግማሽ', 'ሚሊ', 'ከለር', 'ነጭ', 'ጃር', 'የመጠጥ', 'ዉሀ', 'ተደረጎ', 'ጋሎን', 'መክፈቻና', 'መዝጊያ', 'Litres', 'Panini', 'Grill', 'Nut', 'Waffle', 'Madeleine', 'Doughnut', 'Patterned', 'Seven', 'Discs', 'Controlled', '800W', 'የፍጥነት', 'ጉልበት', 'የሚቀንስ', 'ለበአላት', 'አዘቦት', 'መገልገያ', 'ለጨጎራ', 'ለዝንጅብል', 'ለካሮት', 'ለመፍጨት', 'Meat', '1188', 'Watt', 'electric', 'meat', 'parts', 'separation', 'Eyebrow', 'eyebrows', 'ህክምና', 'በቤትዎ', 'Headache', 'ጄል', 'ኮፍያ', 'ለራስ', 'ምታት', 'ጄሉን', 'ለብሰው', 'ሲተኙ', 'በደቂቃዎች', 'ከህመምዎ', 'የፈውሰ', 'ለውጥ', 'ቀዝቀዝ', 'ያደርግልዎታል', 'Migraines', 'Sinus', 'Tersion', 'Clustor', 'ህመሞችን', 'ያስታግሳል', 'ዴሊቨሪ', 'የፊትዎን', 'ቀዳዳ', 'የሞቀ', 'Burst', 'Guard', 'indicate', '250ml', 'Continue', 'Rate', '15g', 'minute', 'AC', '2000W', 'wool', 'Polyester', 'Cottoj', 'Silk', 'shut', 'BM', '2008', 'Coat', 'Store', '305mm', 'Unit', '330', '77', '313mm', '230V', '1000W', 'ውሀን', 'Clip', 'Handles', 'catch', 'locking', 'device', 'operated', 'pull', 'vegetables', 'Kid', 'Friendly', 'Adopt', 'Drive', 'noise', 'Rigidity', 'Be', 'Charged', 'And', 'less', 'tiring', 'handling', 'Lithium', 'ion', 'Optimal', 'corded', 'cordless', 'Worldwide', 'voltage', 'recharge', 'Contour', 'Following', 'Comfort', 'Levels', 'Limit', 'Combs', 'models', 'possibility', 'Cuts', 'ፑሽ', 'አፕ', 'Push', 'Trainings', 'Chest', 'ለደረት', 'Triceps', 'ለላይኛዉ', 'ክንድ', 'ጡንቻ', 'ለሀላ', 'Shoulders', 'ለትከሻ', 'Cosmotic', 'organizer', 'Makeup', 'Organizer', 'ኮስሞቲክስ', 'dimensional', 'Counter', 'access', 'organisation', 'Short', 'Sweat', 'Shapes', 'Slims', 'Trapping', 'Polymer', 'shed', 'Everyday', 'Activities', 'Trouser', 'ሱሪዎ', 'ልብስዎ', 'ባለበት', 'ንፅህናው', 'እንደተጠበቀ', 'ሳይጨማደድ', 'Type', 'handy', 'Movable', 'rods', 'easier', 'remove', 'tidy', 'Positions', 'horizontal', 'position', 'dormitory', 'ect', '34cmx32cmx6', 'ሻወር', 'Dumpling', 'Making', 'ጀምረናል', 'Pot', 'Complet', 'የሻይ', 'ማፍሊያና', 'ከብርጭቆ', '950ml', 'የሚጣድ', 'ስኒዎች', 'ማጥለያ', 'ወንፊት', 'መካኒካል', 'ቴላቴሊ', 'ላዛኛ', 'ጠረንጴዛ', 'የሚታሰር', 'ይዳምጣል', 'ይሰራል', 'ለበአል', 'ለወዳጅ', 'ለዘመዶ', 'ጊፈት', 'GIFT', 'CARD', 'ይግዙ', 'በገዙት', 'የገዙለት', 'ሰው', 'የሚፈልገውን', 'ይወስዳል', 'Dessini', '650W', 'Rinse', 'washer', 'various', 'mouth', '88in', 'Overheat', 'cups', 'removable', 'funnel', 'permanent', 'nylon', 'keep', 'Thermostat', 'Compatibility', 'circulating', 'Scheduled', 'Powerfailure', 'FREE', 'Treasure', 'Pices', 'Liter', 'Purpose', 'Device', 'Litre', 'Eag', 'Poacher', 'ለአጠቃም', 'በኤሌክትሮኒክስ', 'ይመዝናል', 'ድንጋይ', 'በኪስ', 'የሚያዝ', 'ልኬት', 'Specification', 'ABS', '50kg', '110lb', 'Accuracy', '10g', '2lb', 'Units', 'lb', 'oz', 'g', 'Auto', 'seconds', 'supply', 'AAA', 'የካሮት', 'የሀባብ', 'ጨምሮ', 'CK', 'MEN', 'CLASICO', 'GOLDEN', 'ROLEXCKGUCCICYBERCASENET', 'RADOROLEXCKEMPORIO', 'Xl', 'LOUIS', 'VUITTON', 'Formula', '23', 'vs', 'Af1', 'CYBER', 'watch', 'CHANEL', 'jacket', 'European', 'MARC', 'FISHER', 'Pure', '2xl4xl', '2xl', 'vm', 'tiktok', 'SWIFT', 'MK', 'ADIPRENE', 'INDONESIA', 'PALACE', 'Tuta', 'POLICE', 'mixer', '500watt', 'speeds', 'blade', 'Oval', 'ለላዛኛ', 'ፓስታ', 'ፍርኖ', 'ውብና', 'እድሜያቸው', 'ጀምር', 'የሚመከር', 'ከጠረንጴዛ', 'ተንሸራቶ', 'እንዳይወድቅ', 'ማጣበቂያ', 'ልጆቼ', 'በምን', 'ይዝናኑ', 'መጨነቅ', 'ቀረ', 'አጫዋች', 'ሙዚቃ', 'ሲከፈት', 'የሚደንስ', 'የልጆችን', 'ትኩረት', 'በሚናገሩትን', 'ደግሞ', 'እያወራ', 'የሚያዝናናቸው', 'ተክል', 'የሚመስል', 'ጌጥ', 'የጨቅላ', 'ማቀፊያና', 'ማስተኛ', 'ብርድ', 'ለተወለዱ', 'እናቶች', 'Continuously', 'automatically', '280ml', 'Amount', '40ml', '1200mAh', 'Brightness', 'mist', 'Gentle', 'Colorful', 'Atmosphere', 'Wireless', 'office', 'መቦረሻ', '47', '155cm', 'Pallet', 'Aroma', 'ለፊት', '3M', 'purposes', 'such', 'keychain', 'opener', 'Danny', 'Cuppuccino', 'Saucer', '110ml', '12Pcs', '6Pcs', '7000', 'አጠቃላይ', 'ብሩሾችን', 'ተደጎ', 'ስለሚሰራ', 'መብራት', 'ሳይኖርም', 'ካበሩት', 'ሲጨርስ', 'Intelligent', 'plug', 'Electricity', 'punch', 'holds', 'Isla', 'Airtight', 'Regal', 'Jug', '9L', '27', '160cm', 'mini', 'crushes', 'ice', 'ለማዘገጀት', 'የሚረዳን', '12Hours', 'Ladder', 'Steps', 'Chicco', '0m', 'carrying', 'positions', 'padded', 'width', 'adjustment', 'IN', 'UTILITY', 'LIGHTER', 'መለኮሻ', 'ለሲሊንደር', 'ለሻማ', 'ጋዝ', 'የሚሞላ', 'instructions', 'ዚፕ', 'የሸራ', 'ፍሬሞቹ', 'የብረት', 'ቱቦዎች', 'መገጣጠሚያዎቹ', 'ፕላስቲኮች', 'ለቤትዎ', 'ቁመት', '175', 'የጎን', '130', 'ወርድ', 'Tier', 'Duty', 'Column', 'Kg', '172cm', '76cm', 'Stability', 'Durability', 'Mobility', 'Expandable', 'Stretched', 'Lenght', 'የውሀውን', 'ፉጥነት', 'የሚጨምር', 'ለወለል', 'ማፆዳት', 'ወለል', 'ምንጣፍ', 'ለማጠጣት', 'የሚደርስ', 'በሀይል', 'እየረጨ', 'ማፅዳት', 'Kinks', 'Expands', 'simple', 'breast', 'pump', 'compact', 'assemble', 'natural', 'teat', '120W', 'kit', 'Digital', 'thermometer', 'Tweezers', 'head', 'scissor', 'Measurement', 'straw', 'file', 'ብርሀነ', 'የሰለም', 'የበረከት', 'ይሁንልን', 'የፋሲካ', '8800', '5600', 'Spur', 'Achilles', 'Tendinitis', 'Silica', 'Omelette', 'ቁርስዎን', 'ቀለል', 'Dressing', 'Nonstick', 'Infantino', 'Cuddle', 'Carries', 'children', '40lbs', 'kgs', 'ergonomic', 'Front', 'Backpack', 'canopy', 'hood', 'adorable', 'teddy', 'bear', 'styling', 'washable', 'የሚቆራርጡበት', 'አመች', 'slicing', 'Mandolin', 'Protect', 'Hands', 'Potty', 'Roll', 'Lotion', 'handled', 'ሁሉንም', 'ልፋት', 'የሚያስውብ', 'አይነቶች', 'ዝቅ', 'ሳይሰባበር', 'በጤናማ', 'የሚያደርግልዎ', 'Marado', 'Lid', 'ሶስቱን', 'አንድላይ', '6800', '6pcs', 'drinking', 'Straws', 'እንደ', 'ማማሰያም', 'መጠጫም', 'የቀለም', 'Golden', 'Silver', '90ml', 'ፈጥር', 'MEXXI', 'Collection', 'Shaker', '4pcs', 'Acrylic', '420', '550ml', 'Canye', 'coil', 'liquid', 'killer', 'የቢንቢ', 'ሽታ', 'በተጨማሪ', 'ቢንቢን', 'ነፍሳቶችን', 'ከቤታችን', 'ከተፈጥሮ', 'በመሰካት', 'Lemon', 'flavor', '24pcs', '36pcs', 'የመምጠጥ', 'extra', 'Club', 'Paisley', 'vibram', 'Stay', 'Loyal', 'Flex', 'Groove', 'Winterized', 'Gorun', 'Flywire', 'Rose', 'chi', 'G', 'designer', 'Just', '404142434445', 'CMP', 'Drop', 'Comfy', 'Kaahoo', 'adizero', 'boston', 'mid', 'city', '4244', 'blanco', 'just', 'do', '434445', 'VL', 'Structure', 'Serena', 'williams', 'phoenix', 'Inferno', 'Reining', 'Champ', '3940', 'peg', 'Survivor', 'made', 'Climawarm', 'pinatex', 'pulse', 'Pulse', 'Hardies', 'kill', 'shot', 'Evolution', '404344', 'midnight', 'cushion', 'bounce', 'dual', 'motion', 'bling', '17', 'Busentiz', 'athletic', '0920238243z', 'Flow', 'Velocity', 'shield', 'lunarlon', 'Jambo', '40424344', 'UltraGo', '3740', 'acg', 'trail', 'frame', 'Scorpio', 'vaper', 'Zaptos', 'microfiber', 'cross', 'McQueen', 'fashion', 'af', '01', 'Peg', 'CD', '8TIS', '4144', '2900birr', 'Trekking', 'Summer', '36373839', 'restocked', 'ZAMAS', '40414344', 'memo', 'walk', 'Calabasas', 'PEG', '30x', 'tn', '29x', '0920238243x', 'Bathing', 'ape', 'Edition', '4041', 'Zamass', '394041424344', 'fuel', 'Wedding', 'tassel', 'ch', '4043', 'V9', 'float', 'ride', 'ZARA', 'Tomford', 'SA2', 'stitch', 'TR10', 'Rolly', 'BOSS', 'WP', 'Grey', 'LACOSTE', 'በደንበኞች', 'ፍላጎት', 'ድጋሚ', 'we', 'ARRIVALS', 'Stussy', 'Cacao', 'Wow', 'Sanddrift', 'Christina', 'Scott', 'VERSACE', 'Terra', 'Drake', 'NOCTA', 'Sacai', 'Vapor', 'mc', 'ball', 'Ecco', 'taylor', 'Naija', 'Denim', 'Retropy', 'P9', 'Orginals', 'EQT', 'Basketball', 'CAT', 'አመትበሰላም', 'ዘመኑ', 'ፍቅር', 'MarakiBrand', 'ცЯŋ', 'እናቀርባለን', 'Zion', 'Williamson', 'Voodoo', 'Blazer', 'Junior', 'Pu', 'Skate', 'Calvin', 'Klein', '1446', 'በፍቅር', 'በደስታና', 'በአብሮነት', 'የምታከብሩት', 'ከልብ', '2Meter', 'ለመደሀኒታችን', 'እጣን', 'ማጨሻ', 'ለጥምቀት', 'Wishing', 'happy', 'Epiphany', 'y', 'Palte', 'Efficient', 'ፍሳሽ', 'የሚጥዱበት', 'Gadgets', 'Graters', 'Carrot', 'Cheese', 'Shredder', 'አያቃጥልም', 'መጨመሪያና', 'ያለስጋት', 'ይተኩሱበታል', 'ሴከንዶች', 'የሚግል', 'ለተቀባ', 'ቀለሙን', 'ጠብቆ', 'origiinal', 'የልደት', 'የመጨረሻ', 'Towels', 'Bank', 'metal', 'casing', '20W', 'fast', 'charge', 'iPhones', 'PB100DPDZM', '37Wh', '7V', '10000mAh', 'Input', 'port', 'Packed', 'ልጅዎ', 'መዳህ', 'በሚጀምርበት', 'Baga', 'ayyaana', 'Irreechaa', 'nagayaan', 'isin', 'ga', 'e', 'jechaa', 'Qnash', 'Ayyaana', 'gaarii', 'akka', 'isiniif', 'ta', 'uuf', 'hawwiisaa', 'isa', 'guddaadha', 'ለኢሬቻ', 'HOBBY', 'LOBBY', 'ሱ', 'ቃችን', 'የኦርቶዶክስ', 'ክርስትና', 'ለደመራ', 'መስቀል', 'ልባዊ', 'ምኞቱን', 'ትረስት', 'አግሮ', 'ኮንስልቲንግ', 'ያሰተላልፋል', 'Laundry', 'ውስጥና', 'ማይካ', 'የማይፈጅ', 'Linda', 'Draying', 'አልሙኒየም', 'የቱርክ', 'ምርት', '7400', 'ለመውሊድ', 'አደረሰዎ', 'አዲሱን', 'የአንድነት', 'ምኞታችንን', 'የሚሳካበት', 'ያድርግልን', 'ከአመት', 'ያደረሰን', 'ቀጣዩን', 'እንድናይ', 'ይርዳን', 'ለሁላችሁም', 'እድሜን', 'ከጤና', 'Ballon', 'Multifuncional', 'Siliver', 'crest', 'ተች', 'An', 'environmentally', 'friendly', 'based', 'technology', 'does', 'emit', 'smoke', 'flame', 'product', 'roasted', 'steamed', 'This', 'appliance', 'perform', 'functions', 'multi', 'ጉልበትዎን', 'MORA', 'cleansing', 'ጥፍሮችን', 'ለመሞረድ', 'ቡርሾች', 'የተሰነጣጠቀ', 'Beaters', 'Hook', '600ML', 'ricer', 'Cooper', 'GARMENT', 'STEMER', 'ኦርጂናል', 'ጋርመንት', 'ስቲመር', 'ቦርድ', 'ቋሚዉ', 'የሚረዝምና', 'የሚያጥር', 'የሚችሉት', 'የዉሀ', 'ብረቱ', 'ስቴንለስ', 'ስቲል', 'አይዝግም', 'ቋሚዎቹ', 'ስለሆኑ', 'ሲተኩሱበት', 'አይወዛወዝም', 'ስቲም', 'ማረጊያ', 'ሆዙ', '32', 'ሴ', 'Amoi', '34CM', 'Crida', 'kettle', '800ML', 'Slow', 'R', '2831', 'Flawless', 'Brows', 'ወይንም', 'ክር', 'ቅንድብ', 'ቅርፁን', 'እንድይዝ', 'የሚያደርግ', 'በመላጨት', 'የሚመጣውን', 'ሽፍታ', 'ያስቀራል', 'ሰከንዶች', 'ቅንድብን', 'አሳምሮ', 'ለመቀንደብ', 'Eye', 'brow', 'Shave', 'Quickly', 'below', 'effortless', 'modified', 'painless', 'mode', 'maintain', 'flawless', 'Prevent', 'redness', 'stimulate', 'Philips', 'Smooth', 'Blends', 'Lumps', '450W', 'Blood', 'Circulatory', 'ይሰጣል', 'Accupressure', 'vibration', 'therapy', 'የሆርሞን', 'መዛባትን', 'ያሻሽላል', 'መቆሸሽን', 'መርጋትን', 'ኮሌስትሮልና', 'ስኳር', 'ያስተካክላል', 'ግፊትን', 'ውፍረትንና', 'ኦክሲጂን', 'እጥረትን', 'በማሽኑ', 'ከተጠቀሙ', '5km', 'ጉዞንና', 'እንቅስቃሴን', 'እንደከወኑ', 'ይቆጠራል', 'ድብርትን', 'መድከምን', 'መደንዘዝን', 'ለሪህ', 'ታማሚዎች', 'ቅድሚያ', 'ለጤናዎ', 'ይጠቀማል', 'start', 'Different', 'Osenjie', 'እንፋሎት', 'በመክፈት', 'ውልቅ', 'እንዲወጣ', 'Blackheads', 'የእንፋሎት', 'ስሮችዎን', 'እንዲከፈቱ', 'እንዲጨምር', 'መሄድ', 'ሳይጠበቅቦት', 'Mask', 'Hole', 'Breathing', 'Fog', 'Emitting', 'Moisturizing', 'Sauna', '130W', 'ፈሳሽ', 'burner', 'body', 'thermostat', 'Die', 'casting', 'element', 'rubber', 'garment', 'facial', 'Reducing', 'Wrinkles', 'Disinfection', 'ማጣሪያ', 'በጥሩ', 'የሚያጣራ', 'Stool', 'ወንበር', '100kg', 'ከመፍራም', 'ቤተ', 'ስራ', 'መዝናኛ', 'ይገለገሉበታል', '33cm', '21cm', '31cm', 'ለመያዝና', 'ቅልጥፋ', '1450', 'Not', 'ትንሽ', 'ለውበቶ', 'Peeler', 'peel', 'hard', 'shredder', 'peeler', 'cut', 'uniform', 'strips', 'salads', 'pasta', 'decorations', 'ለኮሶሞቲክስ', 'Belnder', 'ሱፕ', 'ለስሙዚ', 'ካፕ', 'አብሮ', 'Scrubs', 'Corner', 'nipple', 'የተጠራቀመ', 'ከባልዲ', 'ከገንዳ', 'እየሳበ', 'የሚያፈስ', 'አስገራሚ', 'በሌለበት', 'ስፍራ', 'የሚያገለገሉበት', 'ግፊት', 'ይዘውት', 'ሄደው', 'ለኮንዶሚኒየም', 'እጥረት', 'ላለባቸው', 'ሳያባክኑ', 'እንደፈለጉ', 'የሚታጠቡበት', 'ማንጠልጠያና', 'ሲታጠቡ', 'ሳይዙት', 'መታጠብ', 'Gemei', 'Panel', 'From', 'F', 'Wound', '60W', 'Pizza', 'Platte', 'የፒዛ', 'ፓትራ', 'ፒዛ', 'ይጋግሩበታ', 'ፖትራ', 'ስለተዘጋጀለት', 'እንዲበስል', 'ማስቀመጫው', 'ከሚቋቋምና', '2slice', 'toaster', '650watt', 'mute', 'bottonallow', 'adjust', 'roasting', 'auto', 'automatic', 'ejection', 'toast', 'ለኩሽናዎ', '18CM', '20CM', '22CM', 'Load', '1730mm', '440mm', '1180mm', 'ማጠፍ', 'መዘርጋት', 'ሚቻል', 'condominium', 'ሳይገረጣ', 'በቤት', 'ውስጥም', 'ለመስቀል', 'Led', 'sanford', 'ማዘነጪያ', 'ያደርቃል', 'ያለሰልሳል', 'ብሎም', 'ይፈሽናል', 'Vent', 'curling', 'wand', 'hot', 'styler', 'ለዊግ', 'ለተፈጥሮዊ', 'ጥቅል', 'ለጤና', 'ተስማማ', 'ሰርቪስ', 'የደረት', 'ሽፋን', 'ኩባያ', 'ስትሮ', 'ማንኪያና', 'ለብርሀነ', 'ትንሳኤው', 'የትንሳኤ', 'ለስቅለት', 'ቅርንጫፍ', 'ዲስካውንት', 'እንጠብቃችዋለን', 'መያዣ', 'ከጀበና', 'ድስቶች', '5200', 'Shein', 'ማዘዝ', 'የምትፈልጉ', '0799152848', 'Loaf', 'ለሩጫ', 'ለጂም', 'Direction', 'Pour', 'Into', '50G', 'each', 'apart', 'Wait', '1Hour', 'Plenty', 'Still', 'Undredges', '7L', 'Enery', 'wall', 'Cool', 'Controller', '1500W', '2150', '172', '1445', 'አልፈጥር', 'Holes', 'Molds', 'Muffin', 'ደጋግመው', 'የሚጠቀሙት', 'አብሮት', 'ምሳ', 'ከነውሀ', 'የብርጭቆ', 'የፕላስቲክ', 'Variable', 'lasting', 'Sharp', 'Serrated', 'gms', 'Grind', 'Ingret', 'Inner', 'Senor', 'Concealed', 'Element', 'WAT', 'TZY', 'Paystra', 'Sheet', 'c', 'Styles', 'Never', 'hand', '300W', 'Start', '650ML', 'ከይቅርታ', 'VENICE', '4042', '35000', 'MAXEL', 'EXCEL', 'HainoTeko', 'Zone', 'Durango', 'FENDI', 'XXV', 'Christmas', '32003500', '3739', 'GIORGIO', 'prices', 'large', 'xl', '5950', 'SVETSEON', 'ZM2yHbMPH', 'Cosmic', 'armor', 'edition', 'Sun', 'Glasses', 'Superme', 'ZMFyxv8Q4', 'SWISH', '394344', 'Ethiopian', 'መልከም', 'ያርግልን', 'ZAHRAT', 'France', 'ml', '1650', '3xl4xl', '2400br', 'women', '2xl3xl4xl', 'MONTBLANC', 'SWISh', 'LEATHER', 'N354', 'KNACK', '800br', 'Armuor', 'Alphabounce', 'Lebron']\n"
     ]
    }
   ],
   "source": [
    "# Find unique tokens in the 'Tokens' column\n",
    "from collections import Counter\n",
    "\n",
    "# Flatten all tokens into a single list\n",
    "all_tokens = [token for tokens in df_processed['Tokens'] for token in tokens]\n",
    "\n",
    "# Count frequency of each token\n",
    "token_counts = Counter(all_tokens)\n",
    "\n",
    "# Sort tokens by frequency (highest first)\n",
    "unique_token_list = [token for token, count in token_counts.most_common()]\n",
    "\n",
    "print(unique_token_list)\n"
   ]
  },
  {
   "cell_type": "code",
   "execution_count": 6,
   "id": "8d835d55",
   "metadata": {},
   "outputs": [
    {
     "name": "stdout",
     "output_type": "stream",
     "text": [
      "CoNLL-formatted data saved to ../data/telegram_data_conll.txt\n"
     ]
    }
   ],
   "source": [
    "# Label a Subset of Dataset in CoNLL Format\n",
    "Label.label_dataframe(df_processed)"
   ]
  }
 ],
 "metadata": {
  "kernelspec": {
   "display_name": "Python 3",
   "language": "python",
   "name": "python3"
  },
  "language_info": {
   "codemirror_mode": {
    "name": "ipython",
    "version": 3
   },
   "file_extension": ".py",
   "mimetype": "text/x-python",
   "name": "python",
   "nbconvert_exporter": "python",
   "pygments_lexer": "ipython3",
   "version": "3.12.3"
  }
 },
 "nbformat": 4,
 "nbformat_minor": 5
}
