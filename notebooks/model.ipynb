{
  "cells": [
    {
      "cell_type": "markdown",
      "metadata": {
        "id": "-NajN5Fql8NI"
      },
      "source": [
        "# Fine Tune NER Model"
      ]
    },
    {
      "cell_type": "markdown",
      "metadata": {
        "id": "c75ae3fa"
      },
      "source": [
        "## Importing necessary libraries\n"
      ]
    },
    {
      "cell_type": "code",
      "execution_count": null,
      "metadata": {
        "id": "MpSigv2V3JZt"
      },
      "outputs": [],
      "source": [
        "from transformers import AutoTokenizer, AutoModelForTokenClassification, TrainingArguments, Trainer\n",
        "from datasets import Dataset, Features, Value, ClassLabel, DatasetDict\n",
        "from datasets import load_metric\n",
        "import numpy as np\n",
        "import tempfile\n",
        "import os"
      ]
    },
    {
      "cell_type": "markdown",
      "metadata": {
        "id": "21d2acd2"
      },
      "source": [
        "## Preparing dataset\n"
      ]
    },
    {
      "cell_type": "code",
      "execution_count": null,
      "metadata": {
        "id": "f0be4a60"
      },
      "outputs": [],
      "source": [
        "# Define the features based on the CoNLL format\n",
        "features = Features({\n",
        "    \"tokens\": [Value(dtype='string')],\n",
        "    \"ner_tags\": [ClassLabel(names=['O', 'B-Product', 'I-Product', 'B-PRICE', 'I-PRICE', 'B-LOC', 'I-LOC'])]\n",
        "})\n",
        "\n",
        "def parse_conll_file(file_path):\n",
        "    \"\"\"Parses a CoNLL file into a list of examples.\"\"\"\n",
        "    data = []\n",
        "    tokens = []\n",
        "    ner_tags = []\n",
        "    # Get the ClassLabel object from the list\n",
        "    ner_tag_feature = features[\"ner_tags\"][0]\n",
        "    with open(file_path, 'r', encoding='utf-8') as f:\n",
        "        for line in f:\n",
        "            line = line.strip()\n",
        "            if line:\n",
        "                parts = line.split()\n",
        "                tokens.append(parts[0])\n",
        "\n",
        "                tag = parts[-1]\n",
        "                if tag in ner_tag_feature.names:\n",
        "                    ner_tags.append(tag)\n",
        "                else:\n",
        "                     ner_tags.append('O')\n",
        "            elif tokens:\n",
        "                if len(tokens) == len(ner_tags):\n",
        "                    data.append({\"tokens\": tokens, \"ner_tags\": ner_tags})\n",
        "                else:\n",
        "                    print(f\"Skipping malformed example with {len(tokens)} tokens and {len(ner_tags)} tags.\")\n",
        "                tokens = []\n",
        "                ner_tags = []\n",
        "        if tokens and len(tokens) == len(ner_tags):\n",
        "             data.append({\"tokens\": tokens, \"ner_tags\": ner_tags})\n",
        "        elif tokens:\n",
        "             print(f\"Skipping malformed final example with {len(tokens)} tokens and {len(ner_tags)} tags.\")\n",
        "    return data"
      ]
    },
    {
      "cell_type": "code",
      "execution_count": null,
      "metadata": {
        "colab": {
          "base_uri": "https://localhost:8080/",
          "height": 223,
          "referenced_widgets": [
            "530aae33185c42719f2324b2916cffa7",
            "dca3e302b3c94510a8e44b0285e5d463",
            "b3b81207f0694e1bb817a895fa8709b3",
            "ad6c7e4d41de40cd9497b4ebf790eb91",
            "87afabd747db4dc7a821e2ed6c7bba08",
            "172990aa896b4aa7916cd3d7589f5f71",
            "a9b54ef01ae54a92ad2865eb5ae61b42",
            "3aeaeca3b23c4506a32f1f023120c1d6",
            "e24127708fd5496d8ccf2e8b263ebb6f",
            "95e138a5be4f4a16b4c2bdba65248a5a",
            "10f6eceeaada4062b64a9be2f90091f7"
          ]
        },
        "id": "1009916d",
        "outputId": "feb985e5-7d15-497c-e6ed-fb5c36ee976c"
      },
      "outputs": [
        {
          "data": {
            "application/vnd.jupyter.widget-view+json": {
              "model_id": "530aae33185c42719f2324b2916cffa7",
              "version_major": 2,
              "version_minor": 0
            },
            "text/plain": [
              "Casting the dataset:   0%|          | 0/3007 [00:00<?, ? examples/s]"
            ]
          },
          "metadata": {},
          "output_type": "display_data"
        },
        {
          "name": "stdout",
          "output_type": "stream",
          "text": [
            "DatasetDict({\n",
            "    train: Dataset({\n",
            "        features: ['tokens', 'ner_tags'],\n",
            "        num_rows: 2104\n",
            "    })\n",
            "    validation: Dataset({\n",
            "        features: ['tokens', 'ner_tags'],\n",
            "        num_rows: 903\n",
            "    })\n",
            "})\n"
          ]
        }
      ],
      "source": [
        "# Assuming the dataset file is named 'telegram_data_conll.txt' and is in the /content/ directory\n",
        "all_data = parse_conll_file(\"/content/telegram_data_conll.txt\")\n",
        "\n",
        "# Convert the list of examples into a Dataset\n",
        "full_dataset = Dataset.from_dict({\n",
        "    \"tokens\": [example[\"tokens\"] for example in all_data],\n",
        "    \"ner_tags\": [example[\"ner_tags\"] for example in all_data]\n",
        "})\n",
        "\n",
        "\n",
        "full_dataset = full_dataset.cast(features)\n",
        "\n",
        "# Split the dataset into training and validation sets\n",
        "raw_datasets = full_dataset.train_test_split(test_size=0.3, seed=42) # 30% for validation\n",
        "\n",
        "# Rename the splits for clarity\n",
        "raw_datasets[\"train\"] = raw_datasets.pop(\"train\")\n",
        "raw_datasets[\"validation\"] = raw_datasets.pop(\"test\")\n",
        "\n",
        "\n",
        "# Display the dataset structure to verify\n",
        "print(raw_datasets)"
      ]
    },
    {
      "cell_type": "code",
      "execution_count": null,
      "metadata": {
        "colab": {
          "base_uri": "https://localhost:8080/"
        },
        "id": "dc318674",
        "outputId": "cd4250d6-f81b-4894-cd07-a4ba7fe6a702"
      },
      "outputs": [
        {
          "name": "stderr",
          "output_type": "stream",
          "text": [
            "/tmp/ipython-input-5-2741235456.py:2: FutureWarning: load_metric is deprecated and will be removed in the next major version of datasets. Use 'evaluate.load' instead, from the new library 🤗 Evaluate: https://huggingface.co/docs/evaluate\n",
            "  metric = load_metric(\"seqeval\")\n"
          ]
        }
      ],
      "source": [
        "# Load the seqeval metric once\n",
        "metric = load_metric(\"seqeval\")\n",
        "\n",
        "def finetune_ner_model(model_name, tokenizer, raw_datasets, label_names):\n",
        "    \"\"\"\n",
        "    Fine-tunes a NER model, evaluates it, and returns the trained model and evaluation results.\n",
        "\n",
        "    Args:\n",
        "        model_name (str): The name of the pre-trained model to load from Hugging Face Hub.\n",
        "        tokenizer: The tokenizer to use.\n",
        "        raw_datasets (DatasetDict): The raw dataset split into train and validation.\n",
        "        label_names (list): A list of the NER tag names.\n",
        "\n",
        "    Returns:\n",
        "        tuple: A tuple containing the trained model and the evaluation results.\n",
        "    \"\"\"\n",
        "\n",
        "    def tokenize_and_align_labels(examples, tokenizer):\n",
        "        \"\"\"Tokenizes the data and aligns labels with tokens.\"\"\"\n",
        "        tokenized_inputs = tokenizer(\n",
        "            examples[\"tokens\"],\n",
        "            is_split_into_words=True,\n",
        "            padding=\"max_length\",\n",
        "            truncation=True\n",
        "        )\n",
        "\n",
        "        labels = []\n",
        "        for i, label in enumerate(examples[\"ner_tags\"]):\n",
        "            word_ids = tokenized_inputs.word_ids(batch_index=i)\n",
        "            previous_word_idx = None\n",
        "            label_ids = []\n",
        "            for word_idx in word_ids:\n",
        "                if word_idx is None:\n",
        "                    label_ids.append(-100)\n",
        "                elif word_idx != previous_word_idx:\n",
        "                    label_ids.append(label[word_idx])\n",
        "                else:\n",
        "                    label_ids.append(-100)\n",
        "                previous_word_idx = word_idx\n",
        "            labels.append(label_ids)\n",
        "\n",
        "        tokenized_inputs[\"labels\"] = labels\n",
        "        return tokenized_inputs\n",
        "\n",
        "    # Apply the function to the raw_datasets\n",
        "    tokenized_datasets = raw_datasets.map(\n",
        "        lambda examples: tokenize_and_align_labels(examples, tokenizer),\n",
        "        batched=True\n",
        "    )\n",
        "\n",
        "    # Remove the original columns\n",
        "    tokenized_datasets = tokenized_datasets.remove_columns([\"tokens\", \"ner_tags\"])\n",
        "\n",
        "    # Determine the number of labels\n",
        "    num_labels = len(label_names)\n",
        "\n",
        "    # Load the pre-trained model for token classification\n",
        "    model = AutoModelForTokenClassification.from_pretrained(\n",
        "        model_name, num_labels=num_labels\n",
        "    )\n",
        "\n",
        "    # Define the compute_metrics function\n",
        "    def compute_metrics(p):\n",
        "        predictions, labels = p\n",
        "        predictions = np.argmax(predictions, axis=2)\n",
        "\n",
        "        # Remove ignored index (where label is -100)\n",
        "        true_predictions = [\n",
        "            [label_names[p] for (p, l) in zip(prediction, label) if l != -100]\n",
        "            for prediction, label in zip(predictions, labels)\n",
        "        ]\n",
        "        true_labels = [\n",
        "            [label_names[l] for (p, l) in zip(prediction, label) if l != -100]\n",
        "            for prediction, label in zip(predictions, labels)\n",
        "        ]\n",
        "\n",
        "        results = metric.compute(predictions=true_predictions, references=true_labels)\n",
        "        return {\n",
        "            \"precision\": results[\"overall_precision\"],\n",
        "            \"recall\": results[\"overall_recall\"],\n",
        "            \"f1\": results[\"overall_f1\"],\n",
        "            \"accuracy\": results[\"overall_accuracy\"],\n",
        "        }\n",
        "\n",
        "    # Define the training arguments\n",
        "    with tempfile.TemporaryDirectory() as tmp_dir:\n",
        "        training_args = TrainingArguments(\n",
        "            output_dir=tmp_dir,  # Use temporary directory\n",
        "            eval_strategy=\"epoch\",\n",
        "            learning_rate=2e-5,\n",
        "            per_device_train_batch_size=16, # Increased batch size\n",
        "            per_device_eval_batch_size=16,  # Increased batch size\n",
        "            num_train_epochs=3,\n",
        "            weight_decay=0.01,\n",
        "            report_to=\"none\",\n",
        "            save_strategy=\"no\", # Do not save checkpoints\n",
        "            push_to_hub=False, # Do not push to hub\n",
        "        )\n",
        "\n",
        "        # Initialize the Trainer\n",
        "        trainer = Trainer(\n",
        "            model=model,\n",
        "            args=training_args,\n",
        "            train_dataset=tokenized_datasets[\"train\"],\n",
        "            eval_dataset=tokenized_datasets[\"validation\"],\n",
        "            tokenizer=tokenizer,\n",
        "            compute_metrics=compute_metrics,\n",
        "        )\n",
        "\n",
        "        # Start training\n",
        "        trainer.train()\n",
        "\n",
        "        # Evaluate the model\n",
        "        evaluation_results = trainer.evaluate()\n",
        "\n",
        "        # Define the directory to save the model\n",
        "        save_directory = f\"./fine_tuned_{model_name}\"\n",
        "\n",
        "        # Save the model\n",
        "        trainer.save_model(save_directory)\n",
        "\n",
        "        print(f\"Model saved to {save_directory}\")\n",
        "\n",
        "    return model, evaluation_results"
      ]
    },
    {
      "cell_type": "markdown",
      "metadata": {
        "id": "21957d29"
      },
      "source": [
        "## Fine-tune the model"
      ]
    },
    {
      "cell_type": "code",
      "execution_count": null,
      "metadata": {},
      "outputs": [
        {
          "name": "stderr",
          "output_type": "stream",
          "text": [
            "/usr/local/lib/python3.11/dist-packages/huggingface_hub/utils/_auth.py:94: UserWarning: \n",
            "The secret `HF_TOKEN` does not exist in your Colab secrets.\n",
            "To authenticate with the Hugging Face Hub, create a token in your settings tab (https://huggingface.co/settings/tokens), set it as secret in your Google Colab and restart your session.\n",
            "You will be able to reuse this secret in all of your notebooks.\n",
            "Please note that authentication is recommended but still optional to access public models or datasets.\n",
            "  warnings.warn(\n"
          ]
        },
        {
          "data": {
            "application/vnd.jupyter.widget-view+json": {
              "model_id": "4724970a53f94d1fbab577c6af8d90c0",
              "version_major": 2,
              "version_minor": 0
            },
            "text/plain": [
              "tokenizer_config.json:   0%|          | 0.00/435 [00:00<?, ?B/s]"
            ]
          },
          "metadata": {},
          "output_type": "display_data"
        },
        {
          "data": {
            "application/vnd.jupyter.widget-view+json": {
              "model_id": "630fb93ae5a5485dad9897a9287fca47",
              "version_major": 2,
              "version_minor": 0
            },
            "text/plain": [
              "sentencepiece.bpe.model:   0%|          | 0.00/5.07M [00:00<?, ?B/s]"
            ]
          },
          "metadata": {},
          "output_type": "display_data"
        },
        {
          "data": {
            "application/vnd.jupyter.widget-view+json": {
              "model_id": "7fd878e1457f459baa23d0b5c9f2e106",
              "version_major": 2,
              "version_minor": 0
            },
            "text/plain": [
              "tokenizer.json: 0.00B [00:00, ?B/s]"
            ]
          },
          "metadata": {},
          "output_type": "display_data"
        },
        {
          "data": {
            "application/vnd.jupyter.widget-view+json": {
              "model_id": "e243b6b817c640e19417aad3cd41e851",
              "version_major": 2,
              "version_minor": 0
            },
            "text/plain": [
              "special_tokens_map.json:   0%|          | 0.00/239 [00:00<?, ?B/s]"
            ]
          },
          "metadata": {},
          "output_type": "display_data"
        },
        {
          "data": {
            "application/vnd.jupyter.widget-view+json": {
              "model_id": "de9111b0ba4744be924c9c44ccd0bb65",
              "version_major": 2,
              "version_minor": 0
            },
            "text/plain": [
              "Map:   0%|          | 0/2104 [00:00<?, ? examples/s]"
            ]
          },
          "metadata": {},
          "output_type": "display_data"
        },
        {
          "data": {
            "application/vnd.jupyter.widget-view+json": {
              "model_id": "d4221c1e8b4a42828cf8469ea6caa45f",
              "version_major": 2,
              "version_minor": 0
            },
            "text/plain": [
              "Map:   0%|          | 0/903 [00:00<?, ? examples/s]"
            ]
          },
          "metadata": {},
          "output_type": "display_data"
        },
        {
          "data": {
            "application/vnd.jupyter.widget-view+json": {
              "model_id": "ac0bee2309a043e5afc984c840793be5",
              "version_major": 2,
              "version_minor": 0
            },
            "text/plain": [
              "config.json:   0%|          | 0.00/721 [00:00<?, ?B/s]"
            ]
          },
          "metadata": {},
          "output_type": "display_data"
        },
        {
          "data": {
            "application/vnd.jupyter.widget-view+json": {
              "model_id": "59da08d05ed14e9c8b58733413e1ea35",
              "version_major": 2,
              "version_minor": 0
            },
            "text/plain": [
              "model.safetensors:   0%|          | 0.00/472M [00:00<?, ?B/s]"
            ]
          },
          "metadata": {},
          "output_type": "display_data"
        },
        {
          "name": "stderr",
          "output_type": "stream",
          "text": [
            "Some weights of XLMRobertaForTokenClassification were not initialized from the model checkpoint at Davlan/afro-xlmr-mini and are newly initialized: ['classifier.bias', 'classifier.weight']\n",
            "You should probably TRAIN this model on a down-stream task to be able to use it for predictions and inference.\n",
            "/tmp/ipython-input-5-1071824960.py:101: FutureWarning: `tokenizer` is deprecated and will be removed in version 5.0.0 for `Trainer.__init__`. Use `processing_class` instead.\n",
            "  trainer = Trainer(\n"
          ]
        },
        {
          "data": {
            "text/html": [
              "\n",
              "    <div>\n",
              "      \n",
              "      <progress value='396' max='396' style='width:300px; height:20px; vertical-align: middle;'></progress>\n",
              "      [396/396 04:09, Epoch 3/3]\n",
              "    </div>\n",
              "    <table border=\"1\" class=\"dataframe\">\n",
              "  <thead>\n",
              " <tr style=\"text-align: left;\">\n",
              "      <th>Epoch</th>\n",
              "      <th>Training Loss</th>\n",
              "      <th>Validation Loss</th>\n",
              "      <th>Precision</th>\n",
              "      <th>Recall</th>\n",
              "      <th>F1</th>\n",
              "      <th>Accuracy</th>\n",
              "    </tr>\n",
              "  </thead>\n",
              "  <tbody>\n",
              "    <tr>\n",
              "      <td>1</td>\n",
              "      <td>No log</td>\n",
              "      <td>1.246174</td>\n",
              "      <td>0.606452</td>\n",
              "      <td>0.065172</td>\n",
              "      <td>0.117696</td>\n",
              "      <td>0.794882</td>\n",
              "    </tr>\n",
              "    <tr>\n",
              "      <td>2</td>\n",
              "      <td>No log</td>\n",
              "      <td>1.097688</td>\n",
              "      <td>0.956098</td>\n",
              "      <td>0.362376</td>\n",
              "      <td>0.525557</td>\n",
              "      <td>0.861542</td>\n",
              "    </tr>\n",
              "    <tr>\n",
              "      <td>3</td>\n",
              "      <td>No log</td>\n",
              "      <td>1.073834</td>\n",
              "      <td>0.958896</td>\n",
              "      <td>0.377398</td>\n",
              "      <td>0.541625</td>\n",
              "      <td>0.861589</td>\n",
              "    </tr>\n",
              "  </tbody>\n",
              "</table><p>"
            ],
            "text/plain": [
              "<IPython.core.display.HTML object>"
            ]
          },
          "metadata": {},
          "output_type": "display_data"
        },
        {
          "name": "stderr",
          "output_type": "stream",
          "text": [
            "/usr/local/lib/python3.11/dist-packages/seqeval/metrics/v1.py:57: UndefinedMetricWarning: Precision and F-score are ill-defined and being set to 0.0 in labels with no predicted samples. Use `zero_division` parameter to control this behavior.\n",
            "  _warn_prf(average, modifier, msg_start, len(result))\n",
            "/usr/local/lib/python3.11/dist-packages/seqeval/metrics/v1.py:57: UndefinedMetricWarning: Precision and F-score are ill-defined and being set to 0.0 in labels with no predicted samples. Use `zero_division` parameter to control this behavior.\n",
            "  _warn_prf(average, modifier, msg_start, len(result))\n",
            "/usr/local/lib/python3.11/dist-packages/seqeval/metrics/v1.py:57: UndefinedMetricWarning: Precision and F-score are ill-defined and being set to 0.0 in labels with no predicted samples. Use `zero_division` parameter to control this behavior.\n",
            "  _warn_prf(average, modifier, msg_start, len(result))\n"
          ]
        },
        {
          "data": {
            "text/html": [
              "\n",
              "    <div>\n",
              "      \n",
              "      <progress value='57' max='57' style='width:300px; height:20px; vertical-align: middle;'></progress>\n",
              "      [57/57 00:08]\n",
              "    </div>\n",
              "    "
            ],
            "text/plain": [
              "<IPython.core.display.HTML object>"
            ]
          },
          "metadata": {},
          "output_type": "display_data"
        },
        {
          "name": "stderr",
          "output_type": "stream",
          "text": [
            "/usr/local/lib/python3.11/dist-packages/seqeval/metrics/v1.py:57: UndefinedMetricWarning: Precision and F-score are ill-defined and being set to 0.0 in labels with no predicted samples. Use `zero_division` parameter to control this behavior.\n",
            "  _warn_prf(average, modifier, msg_start, len(result))\n"
          ]
        },
        {
          "name": "stdout",
          "output_type": "stream",
          "text": [
            "Model saved to ./fine_tuned_Davlan/afro-xlmr-mini\n",
            "Evaluation results for Davlan/afro-xlmr-mini: {'eval_loss': 1.0738341808319092, 'eval_precision': 0.9588960657662948, 'eval_recall': 0.3773977351513751, 'eval_f1': 0.5416252072968492, 'eval_accuracy': 0.8615891101823531, 'eval_runtime': 9.7492, 'eval_samples_per_second': 92.623, 'eval_steps_per_second': 5.847, 'epoch': 3.0}\n"
          ]
        }
      ],
      "source": [
        "model_checkpoint = \"Davlan/afro-xlmr-mini\"\n",
        "\n",
        "# Label names from the raw dataset for use in the function\n",
        "ner_feature = raw_datasets[\"train\"].features[\"ner_tags\"][0]\n",
        "label_names = ner_feature.names\n",
        "\n",
        "# Load the tokenizer for the current model\n",
        "tokenizer = AutoTokenizer.from_pretrained(model_checkpoint)\n",
        "\n",
        "# Fine-tune and evaluate the model using the modular function\n",
        "trained_model, eval_results = finetune_ner_model(model_checkpoint, tokenizer, raw_datasets, label_names)\n",
        "\n",
        "# Display the evaluation results\n",
        "print(f\"Evaluation results for {model_checkpoint}: {eval_results}\")"
      ]
    },
    {
      "cell_type": "markdown",
      "metadata": {
        "id": "c5431cdc"
      },
      "source": [
        "## Fine-tune and evaluate multiple models\n"
      ]
    },
    {
      "cell_type": "code",
      "execution_count": null,
      "metadata": {},
      "outputs": [
        {
          "name": "stdout",
          "output_type": "stream",
          "text": [
            "Fine-tuning and evaluating model: xlm-roberta-base\n"
          ]
        },
        {
          "data": {
            "application/vnd.jupyter.widget-view+json": {
              "model_id": "8737832d01cc4db3ac87b0e216778b00",
              "version_major": 2,
              "version_minor": 0
            },
            "text/plain": [
              "tokenizer_config.json:   0%|          | 0.00/25.0 [00:00<?, ?B/s]"
            ]
          },
          "metadata": {},
          "output_type": "display_data"
        },
        {
          "data": {
            "application/vnd.jupyter.widget-view+json": {
              "model_id": "965208fed9794546885b23527bf41530",
              "version_major": 2,
              "version_minor": 0
            },
            "text/plain": [
              "config.json:   0%|          | 0.00/615 [00:00<?, ?B/s]"
            ]
          },
          "metadata": {},
          "output_type": "display_data"
        },
        {
          "data": {
            "application/vnd.jupyter.widget-view+json": {
              "model_id": "254788e1e809470d817def99d4ebac2d",
              "version_major": 2,
              "version_minor": 0
            },
            "text/plain": [
              "sentencepiece.bpe.model:   0%|          | 0.00/5.07M [00:00<?, ?B/s]"
            ]
          },
          "metadata": {},
          "output_type": "display_data"
        },
        {
          "data": {
            "application/vnd.jupyter.widget-view+json": {
              "model_id": "8753e52746154623a101c30b92ed8a0c",
              "version_major": 2,
              "version_minor": 0
            },
            "text/plain": [
              "tokenizer.json:   0%|          | 0.00/9.10M [00:00<?, ?B/s]"
            ]
          },
          "metadata": {},
          "output_type": "display_data"
        },
        {
          "data": {
            "application/vnd.jupyter.widget-view+json": {
              "model_id": "9f5c784805ef4244b255095a84c86edd",
              "version_major": 2,
              "version_minor": 0
            },
            "text/plain": [
              "Map:   0%|          | 0/2104 [00:00<?, ? examples/s]"
            ]
          },
          "metadata": {},
          "output_type": "display_data"
        },
        {
          "data": {
            "application/vnd.jupyter.widget-view+json": {
              "model_id": "944b51d5e2d142439a0dde2ba74c8b10",
              "version_major": 2,
              "version_minor": 0
            },
            "text/plain": [
              "Map:   0%|          | 0/903 [00:00<?, ? examples/s]"
            ]
          },
          "metadata": {},
          "output_type": "display_data"
        },
        {
          "data": {
            "application/vnd.jupyter.widget-view+json": {
              "model_id": "488868bb1bf0450bb930f7e390d60d65",
              "version_major": 2,
              "version_minor": 0
            },
            "text/plain": [
              "model.safetensors:   0%|          | 0.00/1.12G [00:00<?, ?B/s]"
            ]
          },
          "metadata": {},
          "output_type": "display_data"
        },
        {
          "name": "stderr",
          "output_type": "stream",
          "text": [
            "Some weights of XLMRobertaForTokenClassification were not initialized from the model checkpoint at xlm-roberta-base and are newly initialized: ['classifier.bias', 'classifier.weight']\n",
            "You should probably TRAIN this model on a down-stream task to be able to use it for predictions and inference.\n",
            "/tmp/ipython-input-5-1071824960.py:101: FutureWarning: `tokenizer` is deprecated and will be removed in version 5.0.0 for `Trainer.__init__`. Use `processing_class` instead.\n",
            "  trainer = Trainer(\n"
          ]
        },
        {
          "data": {
            "text/html": [
              "\n",
              "    <div>\n",
              "      \n",
              "      <progress value='396' max='396' style='width:300px; height:20px; vertical-align: middle;'></progress>\n",
              "      [396/396 11:06, Epoch 3/3]\n",
              "    </div>\n",
              "    <table border=\"1\" class=\"dataframe\">\n",
              "  <thead>\n",
              " <tr style=\"text-align: left;\">\n",
              "      <th>Epoch</th>\n",
              "      <th>Training Loss</th>\n",
              "      <th>Validation Loss</th>\n",
              "      <th>Precision</th>\n",
              "      <th>Recall</th>\n",
              "      <th>F1</th>\n",
              "      <th>Accuracy</th>\n",
              "    </tr>\n",
              "  </thead>\n",
              "  <tbody>\n",
              "    <tr>\n",
              "      <td>1</td>\n",
              "      <td>No log</td>\n",
              "      <td>0.076008</td>\n",
              "      <td>0.771372</td>\n",
              "      <td>0.902935</td>\n",
              "      <td>0.831985</td>\n",
              "      <td>0.972729</td>\n",
              "    </tr>\n",
              "    <tr>\n",
              "      <td>2</td>\n",
              "      <td>No log</td>\n",
              "      <td>0.032027</td>\n",
              "      <td>0.937374</td>\n",
              "      <td>0.965103</td>\n",
              "      <td>0.951036</td>\n",
              "      <td>0.990590</td>\n",
              "    </tr>\n",
              "    <tr>\n",
              "      <td>3</td>\n",
              "      <td>No log</td>\n",
              "      <td>0.021735</td>\n",
              "      <td>0.967742</td>\n",
              "      <td>0.977583</td>\n",
              "      <td>0.972637</td>\n",
              "      <td>0.994186</td>\n",
              "    </tr>\n",
              "  </tbody>\n",
              "</table><p>"
            ],
            "text/plain": [
              "<IPython.core.display.HTML object>"
            ]
          },
          "metadata": {},
          "output_type": "display_data"
        },
        {
          "data": {
            "text/html": [
              "\n",
              "    <div>\n",
              "      \n",
              "      <progress value='57' max='57' style='width:300px; height:20px; vertical-align: middle;'></progress>\n",
              "      [57/57 00:23]\n",
              "    </div>\n",
              "    "
            ],
            "text/plain": [
              "<IPython.core.display.HTML object>"
            ]
          },
          "metadata": {},
          "output_type": "display_data"
        },
        {
          "name": "stdout",
          "output_type": "stream",
          "text": [
            "Model saved to ./fine_tuned_xlm-roberta-base\n",
            "Evaluation results for xlm-roberta-base: {'eval_loss': 0.02173548936843872, 'eval_precision': 0.967741935483871, 'eval_recall': 0.9775826207534088, 'eval_f1': 0.9726373879052655, 'eval_accuracy': 0.9941861822596838, 'eval_runtime': 25.073, 'eval_samples_per_second': 36.015, 'eval_steps_per_second': 2.273, 'epoch': 3.0}\n",
            "Fine-tuning and evaluating model: distilbert-base-uncased\n"
          ]
        },
        {
          "data": {
            "application/vnd.jupyter.widget-view+json": {
              "model_id": "d51d9047756f4827a2939859b71c01ba",
              "version_major": 2,
              "version_minor": 0
            },
            "text/plain": [
              "tokenizer_config.json:   0%|          | 0.00/48.0 [00:00<?, ?B/s]"
            ]
          },
          "metadata": {},
          "output_type": "display_data"
        },
        {
          "data": {
            "application/vnd.jupyter.widget-view+json": {
              "model_id": "318a1edc8be443dcafca2697c5636be2",
              "version_major": 2,
              "version_minor": 0
            },
            "text/plain": [
              "config.json:   0%|          | 0.00/483 [00:00<?, ?B/s]"
            ]
          },
          "metadata": {},
          "output_type": "display_data"
        },
        {
          "data": {
            "application/vnd.jupyter.widget-view+json": {
              "model_id": "2c47a57f305c43b0a1c62bc7a716f0df",
              "version_major": 2,
              "version_minor": 0
            },
            "text/plain": [
              "vocab.txt:   0%|          | 0.00/232k [00:00<?, ?B/s]"
            ]
          },
          "metadata": {},
          "output_type": "display_data"
        },
        {
          "data": {
            "application/vnd.jupyter.widget-view+json": {
              "model_id": "8704454e14484df59f6bcdbc9ebb2708",
              "version_major": 2,
              "version_minor": 0
            },
            "text/plain": [
              "tokenizer.json:   0%|          | 0.00/466k [00:00<?, ?B/s]"
            ]
          },
          "metadata": {},
          "output_type": "display_data"
        },
        {
          "data": {
            "application/vnd.jupyter.widget-view+json": {
              "model_id": "ca2538c267684345b2922fad24d4e952",
              "version_major": 2,
              "version_minor": 0
            },
            "text/plain": [
              "Map:   0%|          | 0/2104 [00:00<?, ? examples/s]"
            ]
          },
          "metadata": {},
          "output_type": "display_data"
        },
        {
          "data": {
            "application/vnd.jupyter.widget-view+json": {
              "model_id": "2f7aebcda67a4dce873233121fd1c109",
              "version_major": 2,
              "version_minor": 0
            },
            "text/plain": [
              "Map:   0%|          | 0/903 [00:00<?, ? examples/s]"
            ]
          },
          "metadata": {},
          "output_type": "display_data"
        },
        {
          "data": {
            "application/vnd.jupyter.widget-view+json": {
              "model_id": "cf8855c23c1149afa985302bc352809a",
              "version_major": 2,
              "version_minor": 0
            },
            "text/plain": [
              "model.safetensors:   0%|          | 0.00/268M [00:00<?, ?B/s]"
            ]
          },
          "metadata": {},
          "output_type": "display_data"
        },
        {
          "name": "stderr",
          "output_type": "stream",
          "text": [
            "Some weights of DistilBertForTokenClassification were not initialized from the model checkpoint at distilbert-base-uncased and are newly initialized: ['classifier.bias', 'classifier.weight']\n",
            "You should probably TRAIN this model on a down-stream task to be able to use it for predictions and inference.\n",
            "/tmp/ipython-input-5-1071824960.py:101: FutureWarning: `tokenizer` is deprecated and will be removed in version 5.0.0 for `Trainer.__init__`. Use `processing_class` instead.\n",
            "  trainer = Trainer(\n"
          ]
        },
        {
          "data": {
            "text/html": [
              "\n",
              "    <div>\n",
              "      \n",
              "      <progress value='396' max='396' style='width:300px; height:20px; vertical-align: middle;'></progress>\n",
              "      [396/396 05:27, Epoch 3/3]\n",
              "    </div>\n",
              "    <table border=\"1\" class=\"dataframe\">\n",
              "  <thead>\n",
              " <tr style=\"text-align: left;\">\n",
              "      <th>Epoch</th>\n",
              "      <th>Training Loss</th>\n",
              "      <th>Validation Loss</th>\n",
              "      <th>Precision</th>\n",
              "      <th>Recall</th>\n",
              "      <th>F1</th>\n",
              "      <th>Accuracy</th>\n",
              "    </tr>\n",
              "  </thead>\n",
              "  <tbody>\n",
              "    <tr>\n",
              "      <td>1</td>\n",
              "      <td>No log</td>\n",
              "      <td>0.137809</td>\n",
              "      <td>0.738444</td>\n",
              "      <td>0.745782</td>\n",
              "      <td>0.742095</td>\n",
              "      <td>0.951295</td>\n",
              "    </tr>\n",
              "    <tr>\n",
              "      <td>2</td>\n",
              "      <td>No log</td>\n",
              "      <td>0.091058</td>\n",
              "      <td>0.821212</td>\n",
              "      <td>0.876820</td>\n",
              "      <td>0.848106</td>\n",
              "      <td>0.967639</td>\n",
              "    </tr>\n",
              "    <tr>\n",
              "      <td>3</td>\n",
              "      <td>No log</td>\n",
              "      <td>0.068822</td>\n",
              "      <td>0.884720</td>\n",
              "      <td>0.904553</td>\n",
              "      <td>0.894526</td>\n",
              "      <td>0.977912</td>\n",
              "    </tr>\n",
              "  </tbody>\n",
              "</table><p>"
            ],
            "text/plain": [
              "<IPython.core.display.HTML object>"
            ]
          },
          "metadata": {},
          "output_type": "display_data"
        },
        {
          "data": {
            "text/html": [
              "\n",
              "    <div>\n",
              "      \n",
              "      <progress value='57' max='57' style='width:300px; height:20px; vertical-align: middle;'></progress>\n",
              "      [57/57 00:13]\n",
              "    </div>\n",
              "    "
            ],
            "text/plain": [
              "<IPython.core.display.HTML object>"
            ]
          },
          "metadata": {},
          "output_type": "display_data"
        },
        {
          "name": "stdout",
          "output_type": "stream",
          "text": [
            "Model saved to ./fine_tuned_distilbert-base-uncased\n",
            "Evaluation results for distilbert-base-uncased: {'eval_loss': 0.06882155686616898, 'eval_precision': 0.8847197106690777, 'eval_recall': 0.9045528079500809, 'eval_f1': 0.8945263398468746, 'eval_accuracy': 0.9779121623199234, 'eval_runtime': 14.279, 'eval_samples_per_second': 63.24, 'eval_steps_per_second': 3.992, 'epoch': 3.0}\n",
            "Fine-tuning and evaluating model: bert-base-multilingual-cased\n"
          ]
        },
        {
          "data": {
            "application/vnd.jupyter.widget-view+json": {
              "model_id": "61a889e648fd417ca80fee632236edfa",
              "version_major": 2,
              "version_minor": 0
            },
            "text/plain": [
              "tokenizer_config.json:   0%|          | 0.00/49.0 [00:00<?, ?B/s]"
            ]
          },
          "metadata": {},
          "output_type": "display_data"
        },
        {
          "data": {
            "application/vnd.jupyter.widget-view+json": {
              "model_id": "e7f3dd40a5dc4c52839079288b153fda",
              "version_major": 2,
              "version_minor": 0
            },
            "text/plain": [
              "config.json:   0%|          | 0.00/625 [00:00<?, ?B/s]"
            ]
          },
          "metadata": {},
          "output_type": "display_data"
        },
        {
          "data": {
            "application/vnd.jupyter.widget-view+json": {
              "model_id": "7d6ce4c2f80d46d6b4c88e722dcc23a0",
              "version_major": 2,
              "version_minor": 0
            },
            "text/plain": [
              "vocab.txt:   0%|          | 0.00/996k [00:00<?, ?B/s]"
            ]
          },
          "metadata": {},
          "output_type": "display_data"
        },
        {
          "data": {
            "application/vnd.jupyter.widget-view+json": {
              "model_id": "d5d425ee98514968893897c7e57ad35e",
              "version_major": 2,
              "version_minor": 0
            },
            "text/plain": [
              "tokenizer.json:   0%|          | 0.00/1.96M [00:00<?, ?B/s]"
            ]
          },
          "metadata": {},
          "output_type": "display_data"
        },
        {
          "data": {
            "application/vnd.jupyter.widget-view+json": {
              "model_id": "dfe7b5138dcb4fdf9c5f6047e90572d1",
              "version_major": 2,
              "version_minor": 0
            },
            "text/plain": [
              "Map:   0%|          | 0/2104 [00:00<?, ? examples/s]"
            ]
          },
          "metadata": {},
          "output_type": "display_data"
        },
        {
          "data": {
            "application/vnd.jupyter.widget-view+json": {
              "model_id": "2605b75c27bf447899d29702a47a970a",
              "version_major": 2,
              "version_minor": 0
            },
            "text/plain": [
              "Map:   0%|          | 0/903 [00:00<?, ? examples/s]"
            ]
          },
          "metadata": {},
          "output_type": "display_data"
        },
        {
          "data": {
            "application/vnd.jupyter.widget-view+json": {
              "model_id": "0d07ac938ee34c1490567f1673248c00",
              "version_major": 2,
              "version_minor": 0
            },
            "text/plain": [
              "model.safetensors:   0%|          | 0.00/714M [00:00<?, ?B/s]"
            ]
          },
          "metadata": {},
          "output_type": "display_data"
        },
        {
          "name": "stderr",
          "output_type": "stream",
          "text": [
            "Some weights of BertForTokenClassification were not initialized from the model checkpoint at bert-base-multilingual-cased and are newly initialized: ['classifier.bias', 'classifier.weight']\n",
            "You should probably TRAIN this model on a down-stream task to be able to use it for predictions and inference.\n",
            "/tmp/ipython-input-5-1071824960.py:101: FutureWarning: `tokenizer` is deprecated and will be removed in version 5.0.0 for `Trainer.__init__`. Use `processing_class` instead.\n",
            "  trainer = Trainer(\n"
          ]
        },
        {
          "data": {
            "text/html": [
              "\n",
              "    <div>\n",
              "      \n",
              "      <progress value='396' max='396' style='width:300px; height:20px; vertical-align: middle;'></progress>\n",
              "      [396/396 10:55, Epoch 3/3]\n",
              "    </div>\n",
              "    <table border=\"1\" class=\"dataframe\">\n",
              "  <thead>\n",
              " <tr style=\"text-align: left;\">\n",
              "      <th>Epoch</th>\n",
              "      <th>Training Loss</th>\n",
              "      <th>Validation Loss</th>\n",
              "      <th>Precision</th>\n",
              "      <th>Recall</th>\n",
              "      <th>F1</th>\n",
              "      <th>Accuracy</th>\n",
              "    </tr>\n",
              "  </thead>\n",
              "  <tbody>\n",
              "    <tr>\n",
              "      <td>1</td>\n",
              "      <td>No log</td>\n",
              "      <td>0.103992</td>\n",
              "      <td>0.762287</td>\n",
              "      <td>0.878207</td>\n",
              "      <td>0.816151</td>\n",
              "      <td>0.963740</td>\n",
              "    </tr>\n",
              "    <tr>\n",
              "      <td>2</td>\n",
              "      <td>No log</td>\n",
              "      <td>0.060994</td>\n",
              "      <td>0.890653</td>\n",
              "      <td>0.933672</td>\n",
              "      <td>0.911655</td>\n",
              "      <td>0.980854</td>\n",
              "    </tr>\n",
              "    <tr>\n",
              "      <td>3</td>\n",
              "      <td>No log</td>\n",
              "      <td>0.039612</td>\n",
              "      <td>0.951748</td>\n",
              "      <td>0.943610</td>\n",
              "      <td>0.947662</td>\n",
              "      <td>0.988606</td>\n",
              "    </tr>\n",
              "  </tbody>\n",
              "</table><p>"
            ],
            "text/plain": [
              "<IPython.core.display.HTML object>"
            ]
          },
          "metadata": {},
          "output_type": "display_data"
        },
        {
          "data": {
            "text/html": [
              "\n",
              "    <div>\n",
              "      \n",
              "      <progress value='57' max='57' style='width:300px; height:20px; vertical-align: middle;'></progress>\n",
              "      [57/57 00:25]\n",
              "    </div>\n",
              "    "
            ],
            "text/plain": [
              "<IPython.core.display.HTML object>"
            ]
          },
          "metadata": {},
          "output_type": "display_data"
        },
        {
          "name": "stdout",
          "output_type": "stream",
          "text": [
            "Model saved to ./fine_tuned_bert-base-multilingual-cased\n",
            "Evaluation results for bert-base-multilingual-cased: {'eval_loss': 0.039611730724573135, 'eval_precision': 0.9517482517482517, 'eval_recall': 0.9436098913797089, 'eval_f1': 0.9476615991644424, 'eval_accuracy': 0.9886058511756053, 'eval_runtime': 27.2504, 'eval_samples_per_second': 33.137, 'eval_steps_per_second': 2.092, 'epoch': 3.0}\n",
            "Fine-tuning and evaluating model: Davlan/afro-xlmr-mini\n"
          ]
        },
        {
          "data": {
            "application/vnd.jupyter.widget-view+json": {
              "model_id": "a6507c44978a486380d1f76765c23f6e",
              "version_major": 2,
              "version_minor": 0
            },
            "text/plain": [
              "Map:   0%|          | 0/2104 [00:00<?, ? examples/s]"
            ]
          },
          "metadata": {},
          "output_type": "display_data"
        },
        {
          "data": {
            "application/vnd.jupyter.widget-view+json": {
              "model_id": "41c612f6cff44b39aef3ec1349b89fe8",
              "version_major": 2,
              "version_minor": 0
            },
            "text/plain": [
              "Map:   0%|          | 0/903 [00:00<?, ? examples/s]"
            ]
          },
          "metadata": {},
          "output_type": "display_data"
        },
        {
          "name": "stderr",
          "output_type": "stream",
          "text": [
            "Some weights of XLMRobertaForTokenClassification were not initialized from the model checkpoint at Davlan/afro-xlmr-mini and are newly initialized: ['classifier.bias', 'classifier.weight']\n",
            "You should probably TRAIN this model on a down-stream task to be able to use it for predictions and inference.\n",
            "/tmp/ipython-input-5-1071824960.py:101: FutureWarning: `tokenizer` is deprecated and will be removed in version 5.0.0 for `Trainer.__init__`. Use `processing_class` instead.\n",
            "  trainer = Trainer(\n"
          ]
        },
        {
          "data": {
            "text/html": [
              "\n",
              "    <div>\n",
              "      \n",
              "      <progress value='396' max='396' style='width:300px; height:20px; vertical-align: middle;'></progress>\n",
              "      [396/396 04:15, Epoch 3/3]\n",
              "    </div>\n",
              "    <table border=\"1\" class=\"dataframe\">\n",
              "  <thead>\n",
              " <tr style=\"text-align: left;\">\n",
              "      <th>Epoch</th>\n",
              "      <th>Training Loss</th>\n",
              "      <th>Validation Loss</th>\n",
              "      <th>Precision</th>\n",
              "      <th>Recall</th>\n",
              "      <th>F1</th>\n",
              "      <th>Accuracy</th>\n",
              "    </tr>\n",
              "  </thead>\n",
              "  <tbody>\n",
              "    <tr>\n",
              "      <td>1</td>\n",
              "      <td>No log</td>\n",
              "      <td>1.219539</td>\n",
              "      <td>0.918293</td>\n",
              "      <td>0.348047</td>\n",
              "      <td>0.504776</td>\n",
              "      <td>0.861052</td>\n",
              "    </tr>\n",
              "    <tr>\n",
              "      <td>2</td>\n",
              "      <td>No log</td>\n",
              "      <td>1.102792</td>\n",
              "      <td>0.993785</td>\n",
              "      <td>0.406517</td>\n",
              "      <td>0.577005</td>\n",
              "      <td>0.862990</td>\n",
              "    </tr>\n",
              "    <tr>\n",
              "      <td>3</td>\n",
              "      <td>No log</td>\n",
              "      <td>1.068803</td>\n",
              "      <td>0.991717</td>\n",
              "      <td>0.415068</td>\n",
              "      <td>0.585207</td>\n",
              "      <td>0.904784</td>\n",
              "    </tr>\n",
              "  </tbody>\n",
              "</table><p>"
            ],
            "text/plain": [
              "<IPython.core.display.HTML object>"
            ]
          },
          "metadata": {},
          "output_type": "display_data"
        },
        {
          "name": "stderr",
          "output_type": "stream",
          "text": [
            "/usr/local/lib/python3.11/dist-packages/seqeval/metrics/v1.py:57: UndefinedMetricWarning: Precision and F-score are ill-defined and being set to 0.0 in labels with no predicted samples. Use `zero_division` parameter to control this behavior.\n",
            "  _warn_prf(average, modifier, msg_start, len(result))\n",
            "/usr/local/lib/python3.11/dist-packages/seqeval/metrics/v1.py:57: UndefinedMetricWarning: Precision and F-score are ill-defined and being set to 0.0 in labels with no predicted samples. Use `zero_division` parameter to control this behavior.\n",
            "  _warn_prf(average, modifier, msg_start, len(result))\n",
            "/usr/local/lib/python3.11/dist-packages/seqeval/metrics/v1.py:57: UndefinedMetricWarning: Precision and F-score are ill-defined and being set to 0.0 in labels with no predicted samples. Use `zero_division` parameter to control this behavior.\n",
            "  _warn_prf(average, modifier, msg_start, len(result))\n",
            "/usr/local/lib/python3.11/dist-packages/seqeval/metrics/v1.py:57: UndefinedMetricWarning: Precision and F-score are ill-defined and being set to 0.0 in labels with no predicted samples. Use `zero_division` parameter to control this behavior.\n",
            "  _warn_prf(average, modifier, msg_start, len(result))\n",
            "/usr/local/lib/python3.11/dist-packages/seqeval/metrics/v1.py:57: UndefinedMetricWarning: Precision and F-score are ill-defined and being set to 0.0 in labels with no predicted samples. Use `zero_division` parameter to control this behavior.\n",
            "  _warn_prf(average, modifier, msg_start, len(result))\n"
          ]
        },
        {
          "data": {
            "text/html": [
              "\n",
              "    <div>\n",
              "      \n",
              "      <progress value='57' max='57' style='width:300px; height:20px; vertical-align: middle;'></progress>\n",
              "      [57/57 00:08]\n",
              "    </div>\n",
              "    "
            ],
            "text/plain": [
              "<IPython.core.display.HTML object>"
            ]
          },
          "metadata": {},
          "output_type": "display_data"
        },
        {
          "name": "stderr",
          "output_type": "stream",
          "text": [
            "/usr/local/lib/python3.11/dist-packages/seqeval/metrics/v1.py:57: UndefinedMetricWarning: Precision and F-score are ill-defined and being set to 0.0 in labels with no predicted samples. Use `zero_division` parameter to control this behavior.\n",
            "  _warn_prf(average, modifier, msg_start, len(result))\n"
          ]
        },
        {
          "name": "stdout",
          "output_type": "stream",
          "text": [
            "Model saved to ./fine_tuned_Davlan/afro-xlmr-mini\n",
            "Evaluation results for Davlan/afro-xlmr-mini: {'eval_loss': 1.0688027143478394, 'eval_precision': 0.9917172832689122, 'eval_recall': 0.41506817656574996, 'eval_f1': 0.585206907787553, 'eval_accuracy': 0.9047841415863084, 'eval_runtime': 10.2818, 'eval_samples_per_second': 87.825, 'eval_steps_per_second': 5.544, 'epoch': 3.0}\n",
            "\n",
            "--- Final Evaluation Results ---\n",
            "{'xlm-roberta-base': {'eval_loss': 0.02173548936843872, 'eval_precision': 0.967741935483871, 'eval_recall': 0.9775826207534088, 'eval_f1': 0.9726373879052655, 'eval_accuracy': 0.9941861822596838, 'eval_runtime': 25.073, 'eval_samples_per_second': 36.015, 'eval_steps_per_second': 2.273, 'epoch': 3.0}, 'distilbert-base-uncased': {'eval_loss': 0.06882155686616898, 'eval_precision': 0.8847197106690777, 'eval_recall': 0.9045528079500809, 'eval_f1': 0.8945263398468746, 'eval_accuracy': 0.9779121623199234, 'eval_runtime': 14.279, 'eval_samples_per_second': 63.24, 'eval_steps_per_second': 3.992, 'epoch': 3.0}, 'bert-base-multilingual-cased': {'eval_loss': 0.039611730724573135, 'eval_precision': 0.9517482517482517, 'eval_recall': 0.9436098913797089, 'eval_f1': 0.9476615991644424, 'eval_accuracy': 0.9886058511756053, 'eval_runtime': 27.2504, 'eval_samples_per_second': 33.137, 'eval_steps_per_second': 2.092, 'epoch': 3.0}, 'Davlan/afro-xlmr-mini': {'eval_loss': 1.0688027143478394, 'eval_precision': 0.9917172832689122, 'eval_recall': 0.41506817656574996, 'eval_f1': 0.585206907787553, 'eval_accuracy': 0.9047841415863084, 'eval_runtime': 10.2818, 'eval_samples_per_second': 87.825, 'eval_steps_per_second': 5.544, 'epoch': 3.0}}\n"
          ]
        }
      ],
      "source": [
        "# Define the list of models to compare\n",
        "model_names = [\n",
        "    \"xlm-roberta-base\",\n",
        "    \"distilbert-base-uncased\",\n",
        "    \"bert-base-multilingual-cased\",\n",
        "    \"Davlan/afro-xlmr-mini\"\n",
        "]\n",
        "\n",
        "# Label names from the raw dataset for use in the function\n",
        "ner_feature = raw_datasets[\"train\"].features[\"ner_tags\"][0]\n",
        "label_names = ner_feature.names\n",
        "\n",
        "# Dictionary to store evaluation results\n",
        "evaluation_results_dict = {}\n",
        "\n",
        "for model_name in model_names:\n",
        "    print(f\"Fine-tuning and evaluating model: {model_name}\")\n",
        "    try:\n",
        "        # Load the tokenizer for the current model\n",
        "        tokenizer = AutoTokenizer.from_pretrained(model_name)\n",
        "\n",
        "        # Fine-tune and evaluate the model using the modular function\n",
        "        trained_model, eval_results = finetune_ner_model(model_name, tokenizer, raw_datasets, label_names)\n",
        "\n",
        "        # Store the evaluation results\n",
        "        evaluation_results_dict[model_name] = eval_results\n",
        "        print(f\"Evaluation results for {model_name}: {eval_results}\")\n",
        "\n",
        "    except Exception as e:\n",
        "        print(f\"An error occurred while processing {model_name}: {e}\")\n",
        "        evaluation_results_dict[model_name] = {\"error\": str(e)}\n",
        "\n",
        "# Print the final evaluation results dictionary\n",
        "print(\"\\n--- Final Evaluation Results ---\")\n",
        "print(evaluation_results_dict)"
      ]
    },
    {
      "cell_type": "markdown",
      "metadata": {
        "id": "BeypM_e6lcto"
      },
      "source": [
        "## Model Comparison & Selection"
      ]
    },
    {
      "cell_type": "code",
      "execution_count": null,
      "metadata": {},
      "outputs": [
        {
          "name": "stdout",
          "output_type": "stream",
          "text": [
            "\n",
            "--- Evaluation Results Summary ---\n"
          ]
        },
        {
          "data": {
            "application/vnd.google.colaboratory.intrinsic+json": {
              "summary": "{\n  \"name\": \"results_df\",\n  \"rows\": 4,\n  \"fields\": [\n    {\n      \"column\": \"eval_loss\",\n      \"properties\": {\n        \"dtype\": \"number\",\n        \"std\": 0.5130737472508635,\n        \"min\": 0.02173548936843872,\n        \"max\": 1.0688027143478394,\n        \"num_unique_values\": 4,\n        \"samples\": [\n          0.06882155686616898,\n          1.0688027143478394,\n          0.02173548936843872\n        ],\n        \"semantic_type\": \"\",\n        \"description\": \"\"\n      }\n    },\n    {\n      \"column\": \"eval_precision\",\n      \"properties\": {\n        \"dtype\": \"number\",\n        \"std\": 0.0458822173034805,\n        \"min\": 0.8847197106690777,\n        \"max\": 0.9917172832689122,\n        \"num_unique_values\": 4,\n        \"samples\": [\n          0.8847197106690777,\n          0.9917172832689122,\n          0.967741935483871\n        ],\n        \"semantic_type\": \"\",\n        \"description\": \"\"\n      }\n    },\n    {\n      \"column\": \"eval_recall\",\n      \"properties\": {\n        \"dtype\": \"number\",\n        \"std\": 0.2651079975288219,\n        \"min\": 0.41506817656574996,\n        \"max\": 0.9775826207534088,\n        \"num_unique_values\": 4,\n        \"samples\": [\n          0.9045528079500809,\n          0.41506817656574996,\n          0.9775826207534088\n        ],\n        \"semantic_type\": \"\",\n        \"description\": \"\"\n      }\n    },\n    {\n      \"column\": \"eval_f1\",\n      \"properties\": {\n        \"dtype\": \"number\",\n        \"std\": 0.17951387432675184,\n        \"min\": 0.585206907787553,\n        \"max\": 0.9726373879052655,\n        \"num_unique_values\": 4,\n        \"samples\": [\n          0.8945263398468746,\n          0.585206907787553,\n          0.9726373879052655\n        ],\n        \"semantic_type\": \"\",\n        \"description\": \"\"\n      }\n    },\n    {\n      \"column\": \"eval_accuracy\",\n      \"properties\": {\n        \"dtype\": \"number\",\n        \"std\": 0.04161014508987173,\n        \"min\": 0.9047841415863084,\n        \"max\": 0.9941861822596838,\n        \"num_unique_values\": 4,\n        \"samples\": [\n          0.9779121623199234,\n          0.9047841415863084,\n          0.9941861822596838\n        ],\n        \"semantic_type\": \"\",\n        \"description\": \"\"\n      }\n    },\n    {\n      \"column\": \"eval_runtime\",\n      \"properties\": {\n        \"dtype\": \"number\",\n        \"std\": 8.226984643841266,\n        \"min\": 10.2818,\n        \"max\": 27.2504,\n        \"num_unique_values\": 4,\n        \"samples\": [\n          14.279,\n          10.2818,\n          25.073\n        ],\n        \"semantic_type\": \"\",\n        \"description\": \"\"\n      }\n    },\n    {\n      \"column\": \"eval_samples_per_second\",\n      \"properties\": {\n        \"dtype\": \"number\",\n        \"std\": 25.71502444583711,\n        \"min\": 33.137,\n        \"max\": 87.825,\n        \"num_unique_values\": 4,\n        \"samples\": [\n          63.24,\n          87.825,\n          36.015\n        ],\n        \"semantic_type\": \"\",\n        \"description\": \"\"\n      }\n    },\n    {\n      \"column\": \"eval_steps_per_second\",\n      \"properties\": {\n        \"dtype\": \"number\",\n        \"std\": 1.6233240331698,\n        \"min\": 2.092,\n        \"max\": 5.544,\n        \"num_unique_values\": 4,\n        \"samples\": [\n          3.992,\n          5.544,\n          2.273\n        ],\n        \"semantic_type\": \"\",\n        \"description\": \"\"\n      }\n    },\n    {\n      \"column\": \"epoch\",\n      \"properties\": {\n        \"dtype\": \"number\",\n        \"std\": 0.0,\n        \"min\": 3.0,\n        \"max\": 3.0,\n        \"num_unique_values\": 1,\n        \"samples\": [\n          3.0\n        ],\n        \"semantic_type\": \"\",\n        \"description\": \"\"\n      }\n    }\n  ]\n}",
              "type": "dataframe",
              "variable_name": "results_df"
            },
            "text/html": [
              "\n",
              "  <div id=\"df-4193e0df-cc3e-4754-a4f1-10ad3d83e814\" class=\"colab-df-container\">\n",
              "    <div>\n",
              "<style scoped>\n",
              "    .dataframe tbody tr th:only-of-type {\n",
              "        vertical-align: middle;\n",
              "    }\n",
              "\n",
              "    .dataframe tbody tr th {\n",
              "        vertical-align: top;\n",
              "    }\n",
              "\n",
              "    .dataframe thead th {\n",
              "        text-align: right;\n",
              "    }\n",
              "</style>\n",
              "<table border=\"1\" class=\"dataframe\">\n",
              "  <thead>\n",
              "    <tr style=\"text-align: right;\">\n",
              "      <th></th>\n",
              "      <th>eval_loss</th>\n",
              "      <th>eval_precision</th>\n",
              "      <th>eval_recall</th>\n",
              "      <th>eval_f1</th>\n",
              "      <th>eval_accuracy</th>\n",
              "      <th>eval_runtime</th>\n",
              "      <th>eval_samples_per_second</th>\n",
              "      <th>eval_steps_per_second</th>\n",
              "      <th>epoch</th>\n",
              "    </tr>\n",
              "  </thead>\n",
              "  <tbody>\n",
              "    <tr>\n",
              "      <th>xlm-roberta-base</th>\n",
              "      <td>0.021735</td>\n",
              "      <td>0.967742</td>\n",
              "      <td>0.977583</td>\n",
              "      <td>0.972637</td>\n",
              "      <td>0.994186</td>\n",
              "      <td>25.0730</td>\n",
              "      <td>36.015</td>\n",
              "      <td>2.273</td>\n",
              "      <td>3.0</td>\n",
              "    </tr>\n",
              "    <tr>\n",
              "      <th>distilbert-base-uncased</th>\n",
              "      <td>0.068822</td>\n",
              "      <td>0.884720</td>\n",
              "      <td>0.904553</td>\n",
              "      <td>0.894526</td>\n",
              "      <td>0.977912</td>\n",
              "      <td>14.2790</td>\n",
              "      <td>63.240</td>\n",
              "      <td>3.992</td>\n",
              "      <td>3.0</td>\n",
              "    </tr>\n",
              "    <tr>\n",
              "      <th>bert-base-multilingual-cased</th>\n",
              "      <td>0.039612</td>\n",
              "      <td>0.951748</td>\n",
              "      <td>0.943610</td>\n",
              "      <td>0.947662</td>\n",
              "      <td>0.988606</td>\n",
              "      <td>27.2504</td>\n",
              "      <td>33.137</td>\n",
              "      <td>2.092</td>\n",
              "      <td>3.0</td>\n",
              "    </tr>\n",
              "    <tr>\n",
              "      <th>Davlan/afro-xlmr-mini</th>\n",
              "      <td>1.068803</td>\n",
              "      <td>0.991717</td>\n",
              "      <td>0.415068</td>\n",
              "      <td>0.585207</td>\n",
              "      <td>0.904784</td>\n",
              "      <td>10.2818</td>\n",
              "      <td>87.825</td>\n",
              "      <td>5.544</td>\n",
              "      <td>3.0</td>\n",
              "    </tr>\n",
              "  </tbody>\n",
              "</table>\n",
              "</div>\n",
              "    <div class=\"colab-df-buttons\">\n",
              "\n",
              "  <div class=\"colab-df-container\">\n",
              "    <button class=\"colab-df-convert\" onclick=\"convertToInteractive('df-4193e0df-cc3e-4754-a4f1-10ad3d83e814')\"\n",
              "            title=\"Convert this dataframe to an interactive table.\"\n",
              "            style=\"display:none;\">\n",
              "\n",
              "  <svg xmlns=\"http://www.w3.org/2000/svg\" height=\"24px\" viewBox=\"0 -960 960 960\">\n",
              "    <path d=\"M120-120v-720h720v720H120Zm60-500h600v-160H180v160Zm220 220h160v-160H400v160Zm0 220h160v-160H400v160ZM180-400h160v-160H180v160Zm440 0h160v-160H620v160ZM180-180h160v-160H180v160Zm440 0h160v-160H620v160Z\"/>\n",
              "  </svg>\n",
              "    </button>\n",
              "\n",
              "  <style>\n",
              "    .colab-df-container {\n",
              "      display:flex;\n",
              "      gap: 12px;\n",
              "    }\n",
              "\n",
              "    .colab-df-convert {\n",
              "      background-color: #E8F0FE;\n",
              "      border: none;\n",
              "      border-radius: 50%;\n",
              "      cursor: pointer;\n",
              "      display: none;\n",
              "      fill: #1967D2;\n",
              "      height: 32px;\n",
              "      padding: 0 0 0 0;\n",
              "      width: 32px;\n",
              "    }\n",
              "\n",
              "    .colab-df-convert:hover {\n",
              "      background-color: #E2EBFA;\n",
              "      box-shadow: 0px 1px 2px rgba(60, 64, 67, 0.3), 0px 1px 3px 1px rgba(60, 64, 67, 0.15);\n",
              "      fill: #174EA6;\n",
              "    }\n",
              "\n",
              "    .colab-df-buttons div {\n",
              "      margin-bottom: 4px;\n",
              "    }\n",
              "\n",
              "    [theme=dark] .colab-df-convert {\n",
              "      background-color: #3B4455;\n",
              "      fill: #D2E3FC;\n",
              "    }\n",
              "\n",
              "    [theme=dark] .colab-df-convert:hover {\n",
              "      background-color: #434B5C;\n",
              "      box-shadow: 0px 1px 3px 1px rgba(0, 0, 0, 0.15);\n",
              "      filter: drop-shadow(0px 1px 2px rgba(0, 0, 0, 0.3));\n",
              "      fill: #FFFFFF;\n",
              "    }\n",
              "  </style>\n",
              "\n",
              "    <script>\n",
              "      const buttonEl =\n",
              "        document.querySelector('#df-4193e0df-cc3e-4754-a4f1-10ad3d83e814 button.colab-df-convert');\n",
              "      buttonEl.style.display =\n",
              "        google.colab.kernel.accessAllowed ? 'block' : 'none';\n",
              "\n",
              "      async function convertToInteractive(key) {\n",
              "        const element = document.querySelector('#df-4193e0df-cc3e-4754-a4f1-10ad3d83e814');\n",
              "        const dataTable =\n",
              "          await google.colab.kernel.invokeFunction('convertToInteractive',\n",
              "                                                    [key], {});\n",
              "        if (!dataTable) return;\n",
              "\n",
              "        const docLinkHtml = 'Like what you see? Visit the ' +\n",
              "          '<a target=\"_blank\" href=https://colab.research.google.com/notebooks/data_table.ipynb>data table notebook</a>'\n",
              "          + ' to learn more about interactive tables.';\n",
              "        element.innerHTML = '';\n",
              "        dataTable['output_type'] = 'display_data';\n",
              "        await google.colab.output.renderOutput(dataTable, element);\n",
              "        const docLink = document.createElement('div');\n",
              "        docLink.innerHTML = docLinkHtml;\n",
              "        element.appendChild(docLink);\n",
              "      }\n",
              "    </script>\n",
              "  </div>\n",
              "\n",
              "\n",
              "    <div id=\"df-00837cf7-0424-4d06-99b2-bed72ccabc04\">\n",
              "      <button class=\"colab-df-quickchart\" onclick=\"quickchart('df-00837cf7-0424-4d06-99b2-bed72ccabc04')\"\n",
              "                title=\"Suggest charts\"\n",
              "                style=\"display:none;\">\n",
              "\n",
              "<svg xmlns=\"http://www.w3.org/2000/svg\" height=\"24px\"viewBox=\"0 0 24 24\"\n",
              "     width=\"24px\">\n",
              "    <g>\n",
              "        <path d=\"M19 3H5c-1.1 0-2 .9-2 2v14c0 1.1.9 2 2 2h14c1.1 0 2-.9 2-2V5c0-1.1-.9-2-2-2zM9 17H7v-7h2v7zm4 0h-2V7h2v10zm4 0h-2v-4h2v4z\"/>\n",
              "    </g>\n",
              "</svg>\n",
              "      </button>\n",
              "\n",
              "<style>\n",
              "  .colab-df-quickchart {\n",
              "      --bg-color: #E8F0FE;\n",
              "      --fill-color: #1967D2;\n",
              "      --hover-bg-color: #E2EBFA;\n",
              "      --hover-fill-color: #174EA6;\n",
              "      --disabled-fill-color: #AAA;\n",
              "      --disabled-bg-color: #DDD;\n",
              "  }\n",
              "\n",
              "  [theme=dark] .colab-df-quickchart {\n",
              "      --bg-color: #3B4455;\n",
              "      --fill-color: #D2E3FC;\n",
              "      --hover-bg-color: #434B5C;\n",
              "      --hover-fill-color: #FFFFFF;\n",
              "      --disabled-bg-color: #3B4455;\n",
              "      --disabled-fill-color: #666;\n",
              "  }\n",
              "\n",
              "  .colab-df-quickchart {\n",
              "    background-color: var(--bg-color);\n",
              "    border: none;\n",
              "    border-radius: 50%;\n",
              "    cursor: pointer;\n",
              "    display: none;\n",
              "    fill: var(--fill-color);\n",
              "    height: 32px;\n",
              "    padding: 0;\n",
              "    width: 32px;\n",
              "  }\n",
              "\n",
              "  .colab-df-quickchart:hover {\n",
              "    background-color: var(--hover-bg-color);\n",
              "    box-shadow: 0 1px 2px rgba(60, 64, 67, 0.3), 0 1px 3px 1px rgba(60, 64, 67, 0.15);\n",
              "    fill: var(--button-hover-fill-color);\n",
              "  }\n",
              "\n",
              "  .colab-df-quickchart-complete:disabled,\n",
              "  .colab-df-quickchart-complete:disabled:hover {\n",
              "    background-color: var(--disabled-bg-color);\n",
              "    fill: var(--disabled-fill-color);\n",
              "    box-shadow: none;\n",
              "  }\n",
              "\n",
              "  .colab-df-spinner {\n",
              "    border: 2px solid var(--fill-color);\n",
              "    border-color: transparent;\n",
              "    border-bottom-color: var(--fill-color);\n",
              "    animation:\n",
              "      spin 1s steps(1) infinite;\n",
              "  }\n",
              "\n",
              "  @keyframes spin {\n",
              "    0% {\n",
              "      border-color: transparent;\n",
              "      border-bottom-color: var(--fill-color);\n",
              "      border-left-color: var(--fill-color);\n",
              "    }\n",
              "    20% {\n",
              "      border-color: transparent;\n",
              "      border-left-color: var(--fill-color);\n",
              "      border-top-color: var(--fill-color);\n",
              "    }\n",
              "    30% {\n",
              "      border-color: transparent;\n",
              "      border-left-color: var(--fill-color);\n",
              "      border-top-color: var(--fill-color);\n",
              "      border-right-color: var(--fill-color);\n",
              "    }\n",
              "    40% {\n",
              "      border-color: transparent;\n",
              "      border-right-color: var(--fill-color);\n",
              "      border-top-color: var(--fill-color);\n",
              "    }\n",
              "    60% {\n",
              "      border-color: transparent;\n",
              "      border-right-color: var(--fill-color);\n",
              "    }\n",
              "    80% {\n",
              "      border-color: transparent;\n",
              "      border-right-color: var(--fill-color);\n",
              "      border-bottom-color: var(--fill-color);\n",
              "    }\n",
              "    90% {\n",
              "      border-color: transparent;\n",
              "      border-bottom-color: var(--fill-color);\n",
              "    }\n",
              "  }\n",
              "</style>\n",
              "\n",
              "      <script>\n",
              "        async function quickchart(key) {\n",
              "          const quickchartButtonEl =\n",
              "            document.querySelector('#' + key + ' button');\n",
              "          quickchartButtonEl.disabled = true;  // To prevent multiple clicks.\n",
              "          quickchartButtonEl.classList.add('colab-df-spinner');\n",
              "          try {\n",
              "            const charts = await google.colab.kernel.invokeFunction(\n",
              "                'suggestCharts', [key], {});\n",
              "          } catch (error) {\n",
              "            console.error('Error during call to suggestCharts:', error);\n",
              "          }\n",
              "          quickchartButtonEl.classList.remove('colab-df-spinner');\n",
              "          quickchartButtonEl.classList.add('colab-df-quickchart-complete');\n",
              "        }\n",
              "        (() => {\n",
              "          let quickchartButtonEl =\n",
              "            document.querySelector('#df-00837cf7-0424-4d06-99b2-bed72ccabc04 button');\n",
              "          quickchartButtonEl.style.display =\n",
              "            google.colab.kernel.accessAllowed ? 'block' : 'none';\n",
              "        })();\n",
              "      </script>\n",
              "    </div>\n",
              "\n",
              "  <div id=\"id_6964d73e-a802-4d71-bbf8-bfce01af23fb\">\n",
              "    <style>\n",
              "      .colab-df-generate {\n",
              "        background-color: #E8F0FE;\n",
              "        border: none;\n",
              "        border-radius: 50%;\n",
              "        cursor: pointer;\n",
              "        display: none;\n",
              "        fill: #1967D2;\n",
              "        height: 32px;\n",
              "        padding: 0 0 0 0;\n",
              "        width: 32px;\n",
              "      }\n",
              "\n",
              "      .colab-df-generate:hover {\n",
              "        background-color: #E2EBFA;\n",
              "        box-shadow: 0px 1px 2px rgba(60, 64, 67, 0.3), 0px 1px 3px 1px rgba(60, 64, 67, 0.15);\n",
              "        fill: #174EA6;\n",
              "      }\n",
              "\n",
              "      [theme=dark] .colab-df-generate {\n",
              "        background-color: #3B4455;\n",
              "        fill: #D2E3FC;\n",
              "      }\n",
              "\n",
              "      [theme=dark] .colab-df-generate:hover {\n",
              "        background-color: #434B5C;\n",
              "        box-shadow: 0px 1px 3px 1px rgba(0, 0, 0, 0.15);\n",
              "        filter: drop-shadow(0px 1px 2px rgba(0, 0, 0, 0.3));\n",
              "        fill: #FFFFFF;\n",
              "      }\n",
              "    </style>\n",
              "    <button class=\"colab-df-generate\" onclick=\"generateWithVariable('results_df')\"\n",
              "            title=\"Generate code using this dataframe.\"\n",
              "            style=\"display:none;\">\n",
              "\n",
              "  <svg xmlns=\"http://www.w3.org/2000/svg\" height=\"24px\"viewBox=\"0 0 24 24\"\n",
              "       width=\"24px\">\n",
              "    <path d=\"M7,19H8.4L18.45,9,17,7.55,7,17.6ZM5,21V16.75L18.45,3.32a2,2,0,0,1,2.83,0l1.4,1.43a1.91,1.91,0,0,1,.58,1.4,1.91,1.91,0,0,1-.58,1.4L9.25,21ZM18.45,9,17,7.55Zm-12,3A5.31,5.31,0,0,0,4.9,8.1,5.31,5.31,0,0,0,1,6.5,5.31,5.31,0,0,0,4.9,4.9,5.31,5.31,0,0,0,6.5,1,5.31,5.31,0,0,0,8.1,4.9,5.31,5.31,0,0,0,12,6.5,5.46,5.46,0,0,0,6.5,12Z\"/>\n",
              "  </svg>\n",
              "    </button>\n",
              "    <script>\n",
              "      (() => {\n",
              "      const buttonEl =\n",
              "        document.querySelector('#id_6964d73e-a802-4d71-bbf8-bfce01af23fb button.colab-df-generate');\n",
              "      buttonEl.style.display =\n",
              "        google.colab.kernel.accessAllowed ? 'block' : 'none';\n",
              "\n",
              "      buttonEl.onclick = () => {\n",
              "        google.colab.notebook.generateWithVariable('results_df');\n",
              "      }\n",
              "      })();\n",
              "    </script>\n",
              "  </div>\n",
              "\n",
              "    </div>\n",
              "  </div>\n"
            ],
            "text/plain": [
              "                              eval_loss  eval_precision  eval_recall  \\\n",
              "xlm-roberta-base               0.021735        0.967742     0.977583   \n",
              "distilbert-base-uncased        0.068822        0.884720     0.904553   \n",
              "bert-base-multilingual-cased   0.039612        0.951748     0.943610   \n",
              "Davlan/afro-xlmr-mini          1.068803        0.991717     0.415068   \n",
              "\n",
              "                               eval_f1  eval_accuracy  eval_runtime  \\\n",
              "xlm-roberta-base              0.972637       0.994186       25.0730   \n",
              "distilbert-base-uncased       0.894526       0.977912       14.2790   \n",
              "bert-base-multilingual-cased  0.947662       0.988606       27.2504   \n",
              "Davlan/afro-xlmr-mini         0.585207       0.904784       10.2818   \n",
              "\n",
              "                              eval_samples_per_second  eval_steps_per_second  \\\n",
              "xlm-roberta-base                               36.015                  2.273   \n",
              "distilbert-base-uncased                        63.240                  3.992   \n",
              "bert-base-multilingual-cased                   33.137                  2.092   \n",
              "Davlan/afro-xlmr-mini                          87.825                  5.544   \n",
              "\n",
              "                              epoch  \n",
              "xlm-roberta-base                3.0  \n",
              "distilbert-base-uncased         3.0  \n",
              "bert-base-multilingual-cased    3.0  \n",
              "Davlan/afro-xlmr-mini           3.0  "
            ]
          },
          "metadata": {},
          "output_type": "display_data"
        },
        {
          "data": {
            "image/png": "[encoded data removed]",
            "text/plain": [
              "<Figure size 1000x600 with 1 Axes>"
            ]
          },
          "metadata": {},
          "output_type": "display_data"
        },
        {
          "data": {
            "image/png": "[encoded data removed]",
            "text/plain": [
              "<Figure size 1000x600 with 1 Axes>"
            ]
          },
          "metadata": {},
          "output_type": "display_data"
        },
        {
          "data": {
            "image/png": "[encoded data removed]",
            "text/plain": [
              "<Figure size 1000x600 with 1 Axes>"
            ]
          },
          "metadata": {},
          "output_type": "display_data"
        },
        {
          "name": "stdout",
          "output_type": "stream",
          "text": [
            "\n",
            "Model with the best accuracy: xlm-roberta-base\n",
            "Model with the best F1-score: xlm-roberta-base\n"
          ]
        }
      ],
      "source": [
        "import matplotlib.pyplot as plt\n",
        "import pandas as pd\n",
        "\n",
        "# Convert the evaluation results dictionary to a pandas DataFrame for easier analysis\n",
        "results_df = pd.DataFrame.from_dict(evaluation_results_dict, orient='index')\n",
        "\n",
        "# Display the DataFrame with evaluation results\n",
        "print(\"\\n--- Evaluation Results Summary ---\")\n",
        "display(results_df)\n",
        "\n",
        "# Select relevant metrics for comparison\n",
        "comparison_metrics = ['eval_accuracy', 'eval_f1', 'eval_runtime']\n",
        "\n",
        "# Create bar plots for each comparison metric\n",
        "for metric in comparison_metrics:\n",
        "    plt.figure(figsize=(10, 6))\n",
        "    results_df[metric].plot(kind='bar')\n",
        "    plt.title(f'{metric} Comparison Across Models')\n",
        "    plt.xlabel('Model')\n",
        "    plt.ylabel(metric)\n",
        "    plt.xticks(rotation=45, ha='right')\n",
        "    plt.tight_layout()\n",
        "    plt.show()\n",
        "\n",
        "# Identify the best performing model based on accuracy and F1-score (higher is better)\n",
        "best_accuracy_model = results_df['eval_accuracy'].idxmax()\n",
        "best_f1_model = results_df['eval_f1'].idxmax()\n",
        "\n",
        "print(f\"\\nModel with the best accuracy: {best_accuracy_model}\")\n",
        "print(f\"Model with the best F1-score: {best_f1_model}\")"
      ]
    }
  ],
  "metadata": {
    "colab": {
      "provenance": []
    },
    "kernelspec": {
      "display_name": ".venv",
      "language": "python",
      "name": "python3"
    },
    "language_info": {
      "name": "python",
      "version": "3.12.10"
    }
  },
  "nbformat": 4,
  "nbformat_minor": 0
}
