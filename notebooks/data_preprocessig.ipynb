{
 "cells": [
  {
   "cell_type": "markdown",
   "id": "5a23f1da",
   "metadata": {},
   "source": [
    "# Data Preprocessing"
   ]
  },
  {
   "cell_type": "code",
   "execution_count": 6,
   "id": "6277fb8d",
   "metadata": {},
   "outputs": [],
   "source": [
    "# Importing modules\n",
    "import pandas as pd\n",
    "import os\n",
    "import sys\n",
    "module_path = os.path.abspath(os.path.join('..'))\n",
    "if module_path not in sys.path:\n",
    "    sys.path.append(module_path)\n",
    "\n",
    "from scripts.data_preprocess import DataPreprocess"
   ]
  },
  {
   "cell_type": "code",
   "execution_count": 7,
   "id": "e8e8929b",
   "metadata": {},
   "outputs": [
    {
     "data": {
      "application/vnd.microsoft.datawrangler.viewer.v0+json": {
       "columns": [
        {
         "name": "index",
         "rawType": "int64",
         "type": "integer"
        },
        {
         "name": "Channel Title",
         "rawType": "object",
         "type": "string"
        },
        {
         "name": "Channel Username",
         "rawType": "object",
         "type": "string"
        },
        {
         "name": "ID",
         "rawType": "int64",
         "type": "integer"
        },
        {
         "name": "Message",
         "rawType": "object",
         "type": "unknown"
        },
        {
         "name": "Date",
         "rawType": "object",
         "type": "string"
        },
        {
         "name": "Media Path",
         "rawType": "object",
         "type": "unknown"
        }
       ],
       "ref": "133005b0-e2ba-45f7-a989-b12f3d2000ac",
       "rows": [
        [
         "0",
         "Shewa Brand",
         "@Shewabrand",
         "3714",
         "የተለያዩ ጫማዎች በፍሬ መምረጥ ማስመረጥ ለምትፈልጉ ደንበኞቻችን አዲስ ነገር ስላለ ሁለተኛውን ቻናላችንን ይቀላቀሉ\n\nhttps://t.me/mulebestbran\nhttps://t.me/mulebestbran",
         "2025-06-22 07:20:07+00:00",
         "..\\data\\photos\\@Shewabrand_3714.jpg"
        ],
        [
         "1",
         "Shewa Brand",
         "@Shewabrand",
         "3713",
         "NIKE SB FC original 💯 \nSize 40#41#42#43#44#45\nMADE IN VIETNAM\nSHEWA BRAND\nአድራሻ ድሬዳዋ አሸዋ ሚና ህንፃ 1ኛ ፎቅ ላይ እንገኛለን \nየቴሌግራም ቻናላችንን ይቀላቀሉ\n👇👇👇\nhttps://t.me//shewabrand\nhttps://t.me//shewabrand\nhttps://t.me//shewabrand\nhttps://t.me//shewabrand\nየቤት ቁጥር 109 እና 110\n📩በ inbox  @shewat2 አዋሩን\n\n📞 0987336458\n📞0948595409 ይደውሉልን",
         "2025-06-21 09:28:21+00:00",
         "..\\data\\photos\\@Shewabrand_3713.jpg"
        ],
        [
         "2",
         "Shewa Brand",
         "@Shewabrand",
         "3712",
         "ORIGINAL COTTON TUTA💯 original \nSize L#XL#2XL#3XL#4XL\nSHEWA BRAND\nአድራሻ ድሬዳዋ አሸዋ ሚና ህንፃ 1ኛ ፎቅ ላይ እንገኛለን \nየቴሌግራም ቻናላችንን ይቀላቀሉ\n👇👇👇\nhttps://t.me//shewabrand\nhttps://t.me//shewabrand\nhttps://t.me//shewabrand\nhttps://t.me//shewabrand\nየቤት ቁጥር 109 እና 110\n📩በ inbox  @shewat2 አዋሩን\n\n📞 0987336458\n📞0948595409 ይደውሉልን",
         "2025-06-21 05:05:45+00:00",
         "..\\data\\photos\\@Shewabrand_3712.jpg"
        ],
        [
         "3",
         "Shewa Brand",
         "@Shewabrand",
         "3711",
         "ZARA CLUB COTTON TISHERTS 💯 original \nSize M#L#XL#XXX\nSHEWA BRAND\nአድራሻ ድሬዳዋ አሸዋ ሚና ህንፃ 1ኛ ፎቅ ላይ እንገኛለን \nየቴሌግራም ቻናላችንን ይቀላቀሉ\n👇👇👇\nhttps://t.me//shewabrand\nhttps://t.me//shewabrand\nhttps://t.me//shewabrand\nhttps://t.me//shewabrand\nየቤት ቁጥር 109 እና 110\n📩በ inbox  @shewat2 አዋሩን\n\n📞 0987336458\n📞0948595409 ይደውሉልን",
         "2025-06-20 07:57:43+00:00",
         "..\\data\\photos\\@Shewabrand_3711.jpg"
        ],
        [
         "4",
         "Shewa Brand",
         "@Shewabrand",
         "3710",
         "jordan 1 original 💯 \nSize 40#41#42#43\nMADE IN VIETNAM\nSHEWA BRAND\nአድራሻ ድሬዳዋ አሸዋ ሚና ህንፃ 1ኛ ፎቅ ላይ እንገኛለን \nየቴሌግራም ቻናላችንን ይቀላቀሉ\n👇👇👇\nhttps://t.me//shewabrand\nhttps://t.me//shewabrand\nhttps://t.me//shewabrand\nhttps://t.me//shewabrand\nየቤት ቁጥር 109 እና 110\n📩በ inbox  @shewat2 አዋሩን\n\n📞 0987336458\n📞0948595409 ይደውሉልን",
         "2025-06-20 06:15:40+00:00",
         "..\\data\\photos\\@Shewabrand_3710.jpg"
        ],
        [
         "5",
         "Shewa Brand",
         "@Shewabrand",
         "3709",
         "SKECHERS FLEX COMFORT  original 💯 \nSize 36#37#38#39#40\nMADE IN VIETNAM\nSHEWA BRAND\nአድራሻ ድሬዳዋ አሸዋ ሚና ህንፃ 1ኛ ፎቅ ላይ እንገኛለን \nየቴሌግራም ቻናላችንን ይቀላቀሉ\n👇👇👇\nhttps://t.me//shewabrand\nhttps://t.me//shewabrand\nhttps://t.me//shewabrand\nhttps://t.me//shewabrand\nየቤት ቁጥር 109 እና 110\n📩በ inbox  @shewat2 አዋሩን\n\n📞 0987336458\n📞0948595409 ይደውሉልን",
         "2025-06-19 08:46:11+00:00",
         "..\\data\\photos\\@Shewabrand_3709.jpg"
        ],
        [
         "6",
         "Shewa Brand",
         "@Shewabrand",
         "3708",
         "adidas FEAR OF GOD original 💯 \nSize 36#38#39\nMADE IN VIETNAM\nSHEWA BRAND\nአድራሻ ድሬዳዋ አሸዋ ሚና ህንፃ 1ኛ ፎቅ ላይ እንገኛለን \nየቴሌግራም ቻናላችንን ይቀላቀሉ\n👇👇👇\nhttps://t.me//shewabrand\nhttps://t.me//shewabrand\nhttps://t.me//shewabrand\nhttps://t.me//shewabrand\nየቤት ቁጥር 109 እና 110\n📩በ inbox  @shewat2 አዋሩን\n\n📞 0987336458\n📞0948595409 ይደውሉልን",
         "2025-06-18 09:01:45+00:00",
         "..\\data\\photos\\@Shewabrand_3708.jpg"
        ],
        [
         "7",
         "Shewa Brand",
         "@Shewabrand",
         "3706",
         null,
         "2025-06-17 04:39:57+00:00",
         "..\\data\\photos\\@Shewabrand_3706.jpg"
        ],
        [
         "8",
         "Shewa Brand",
         "@Shewabrand",
         "3705",
         null,
         "2025-06-17 04:39:57+00:00",
         "..\\data\\photos\\@Shewabrand_3705.jpg"
        ],
        [
         "9",
         "Shewa Brand",
         "@Shewabrand",
         "3704",
         "NEW COTTON TISHERTS 💯 original \nSize M#L#XL#XXX\nSHEWA BRAND\nአድራሻ ድሬዳዋ አሸዋ ሚና ህንፃ 1ኛ ፎቅ ላይ እንገኛለን \nየቴሌግራም ቻናላችንን ይቀላቀሉ\n👇👇👇\nhttps://t.me//shewabrand\nhttps://t.me//shewabrand\nhttps://t.me//shewabrand\nhttps://t.me//shewabrand\nየቤት ቁጥር 109 እና 110\n📩በ inbox  @shewat2 አዋሩን\n\n📞 0987336458\n📞0948595409 ይደውሉልን",
         "2025-06-17 04:39:57+00:00",
         "..\\data\\photos\\@Shewabrand_3704.jpg"
        ],
        [
         "10",
         "Shewa Brand",
         "@Shewabrand",
         "3703",
         "stock jeans ORIGINAL 💯 \nSize 30#31#32#33#34\nSHEWA BRAND\nአድራሻ ድሬዳዋ አሸዋ ሚና ህንፃ 1ኛ ፎቅ ላይ እንገኛለን \nየቴሌግራም ቻናላችንን ይቀላቀሉ\n👇👇👇\nhttps://t.me//shewabrand\nhttps://t.me//shewabrand\nhttps://t.me//shewabrand\nhttps://t.me//shewabrand\nየቤት ቁጥር 109 እና 110\n📩በ inbox  @shewat2 አዋሩን\n\n📞 0987336458\n📞0948595409 ይደውሉልን",
         "2025-06-16 09:25:32+00:00",
         "..\\data\\photos\\@Shewabrand_3703.jpg"
        ],
        [
         "11",
         "Shewa Brand",
         "@Shewabrand",
         "3702",
         "stock jeans ORIGINAL 💯 \nSize 30#31#32#33#34#36\nSHEWA BRAND\nአድራሻ ድሬዳዋ አሸዋ ሚና ህንፃ 1ኛ ፎቅ ላይ እንገኛለን \nየቴሌግራም ቻናላችንን ይቀላቀሉ\n👇👇👇\nhttps://t.me//shewabrand\nhttps://t.me//shewabrand\nhttps://t.me//shewabrand\nhttps://t.me//shewabrand\nየቤት ቁጥር 109 እና 110\n📩በ inbox  @shewat2 አዋሩን\n\n📞 0987336458\n📞0948595409 ይደውሉልን",
         "2025-06-16 08:53:26+00:00",
         "..\\data\\photos\\@Shewabrand_3702.jpg"
        ],
        [
         "12",
         "Shewa Brand",
         "@Shewabrand",
         "3701",
         "SKECHERS QUANTUM FLEX original 💯 \nSize #3940#41#42#43\nMADE IN VIETNAM\nSHEWA BRAND\nአድራሻ ድሬዳዋ አሸዋ ሚና ህንፃ 1ኛ ፎቅ ላይ እንገኛለን \nየቴሌግራም ቻናላችንን ይቀላቀሉ\n👇👇👇\nhttps://t.me//shewabrand\nhttps://t.me//shewabrand\nhttps://t.me//shewabrand\nhttps://t.me//shewabrand\nየቤት ቁጥር 109 እና 110\n📩በ inbox  @shewat2 አዋሩን\n\n📞 0987336458\n📞0948595409 ይደውሉልን",
         "2025-06-15 06:59:40+00:00",
         "..\\data\\photos\\@Shewabrand_3701.jpg"
        ],
        [
         "13",
         "Shewa Brand",
         "@Shewabrand",
         "3699",
         "New balance 530 original 💯 \nSize 40#41#42#43\nMADE IN VIETNAM\nSHEWA BRAND\nአድራሻ ድሬዳዋ አሸዋ ሚና ህንፃ 1ኛ ፎቅ ላይ እንገኛለን \nየቴሌግራም ቻናላችንን ይቀላቀሉ\n👇👇👇\nhttps://t.me//shewabrand\nhttps://t.me//shewabrand\nhttps://t.me//shewabrand\nhttps://t.me//shewabrand\nየቤት ቁጥር 109 እና 110\n📩በ inbox  @shewat2 አዋሩን\n\n📞 0987336458\n📞0948595409 ይደውሉልን",
         "2025-06-14 10:19:45+00:00",
         "..\\data\\photos\\@Shewabrand_3699.jpg"
        ],
        [
         "14",
         "Shewa Brand",
         "@Shewabrand",
         "3698",
         "NEW FASHION SHOES original 💯 \nSize 40#41#42#43\nMADE IN VIETNAM\nSHEWA BRAND\nአድራሻ ድሬዳዋ አሸዋ ሚና ህንፃ 1ኛ ፎቅ ላይ እንገኛለን \nየቴሌግራም ቻናላችንን ይቀላቀሉ\n👇👇👇\nhttps://t.me//shewabrand\nhttps://t.me//shewabrand\nhttps://t.me//shewabrand\nhttps://t.me//shewabrand\nየቤት ቁጥር 109 እና 110\n📩በ inbox  @shewat2 አዋሩን\n\n📞 0987336458\n📞0948595409 ይደውሉልን",
         "2025-06-13 08:40:53+00:00",
         "..\\data\\photos\\@Shewabrand_3698.jpg"
        ],
        [
         "15",
         "Shewa Brand",
         "@Shewabrand",
         "3697",
         "Under armour hover original 💯 \nSize 40#41#42#43\nMADE IN VIETNAM\nSHEWA BRAND\nአድራሻ ድሬዳዋ አሸዋ ሚና ህንፃ 1ኛ ፎቅ ላይ እንገኛለን \nየቴሌግራም ቻናላችንን ይቀላቀሉ\n👇👇👇\nhttps://t.me//shewabrand\nhttps://t.me//shewabrand\nhttps://t.me//shewabrand\nhttps://t.me//shewabrand\nየቤት ቁጥር 109 እና 110\n📩በ inbox  @shewat2 አዋሩን\n\n📞 0987336458\n📞0948595409 ይደውሉልን",
         "2025-06-13 08:26:43+00:00",
         "..\\data\\photos\\@Shewabrand_3697.jpg"
        ],
        [
         "16",
         "Shewa Brand",
         "@Shewabrand",
         "3696",
         "NIKE AIR ZOOM 2024 original 💯 \nSize 40#41#42#43\nMADE IN VIETNAM\nSHEWA BRAND\nአድራሻ ድሬዳዋ አሸዋ ሚና ህንፃ 1ኛ ፎቅ ላይ እንገኛለን \nየቴሌግራም ቻናላችንን ይቀላቀሉ\n👇👇👇\nhttps://t.me//shewabrand\nhttps://t.me//shewabrand\nhttps://t.me//shewabrand\nhttps://t.me//shewabrand\nየቤት ቁጥር 109 እና 110\n📩በ inbox  @shewat2 አዋሩን\n\n📞 0987336458\n📞0948595409 ይደውሉልን",
         "2025-06-13 07:56:45+00:00",
         "..\\data\\photos\\@Shewabrand_3696.jpg"
        ],
        [
         "17",
         "Shewa Brand",
         "@Shewabrand",
         "3694",
         "SKECHERS MSTRIKE  original 💯 \nSize 40#41#42#43\nMADE IN VIETNAM\nSHEWA BRAND\nአድራሻ ድሬዳዋ አሸዋ ሚና ህንፃ 1ኛ ፎቅ ላይ እንገኛለን \nየቴሌግራም ቻናላችንን ይቀላቀሉ\n👇👇👇\nhttps://t.me//shewabrand\nhttps://t.me//shewabrand\nhttps://t.me//shewabrand\nhttps://t.me//shewabrand\nየቤት ቁጥር 109 እና 110\n📩በ inbox  @shewat2 አዋሩን\n\n📞 0987336458\n📞0948595409 ይደውሉልን",
         "2025-06-12 12:44:04+00:00",
         "..\\data\\photos\\@Shewabrand_3694.jpg"
        ],
        [
         "18",
         "Shewa Brand",
         "@Shewabrand",
         "3693",
         "PUMA ULTRA  original 💯 \nSize 39#40#41#42#43#44#45\nMADE IN VIETNAM\nSHEWA BRAND\nአድራሻ ድሬዳዋ አሸዋ ሚና ህንፃ 1ኛ ፎቅ ላይ እንገኛለን \nየቴሌግራም ቻናላችንን ይቀላቀሉ\n👇👇👇\nhttps://t.me//shewabrand\nhttps://t.me//shewabrand\nhttps://t.me//shewabrand\nhttps://t.me//shewabrand\nየቤት ቁጥር 109 እና 110\n📩በ inbox  @shewat2 አዋሩን\n\n📞 0987336458\n📞0948595409 ይደውሉልን",
         "2025-06-12 06:48:15+00:00",
         "..\\data\\photos\\@Shewabrand_3693.jpg"
        ],
        [
         "19",
         "Shewa Brand",
         "@Shewabrand",
         "3692",
         "PUMA ULTRA  original 💯 \nSize 39#40#41#42#43#44#45\nMADE IN VIETNAM\nSHEWA BRAND\nአድራሻ ድሬዳዋ አሸዋ ሚና ህንፃ 1ኛ ፎቅ ላይ እንገኛለን \nየቴሌግራም ቻናላችንን ይቀላቀሉ\n👇👇👇\nhttps://t.me//shewabrand\nhttps://t.me//shewabrand\nhttps://t.me//shewabrand\nhttps://t.me//shewabrand\nየቤት ቁጥር 109 እና 110\n📩በ inbox  @shewat2 አዋሩን\n\n📞 0987336458\n📞0948595409 ይደውሉልን",
         "2025-06-12 06:41:48+00:00",
         "..\\data\\photos\\@Shewabrand_3692.jpg"
        ],
        [
         "20",
         "Shewa Brand",
         "@Shewabrand",
         "3690",
         "NIKE PENNY 1  original 💯 \nSize 40#41#42#43\nMADE IN VIETNAM\nSHEWA BRAND\nአድራሻ ድሬዳዋ አሸዋ ሚና ህንፃ 1ኛ ፎቅ ላይ እንገኛለን \nየቴሌግራም ቻናላችንን ይቀላቀሉ\n👇👇👇\nhttps://t.me//shewabrand\nhttps://t.me//shewabrand\nhttps://t.me//shewabrand\nhttps://t.me//shewabrand\nየቤት ቁጥር 109 እና 110\n📩በ inbox  @shewat2 አዋሩን\n\n📞 0987336458\n📞0948595409 ይደውሉልን",
         "2025-06-11 10:18:28+00:00",
         "..\\data\\photos\\@Shewabrand_3690.jpg"
        ],
        [
         "21",
         "Shewa Brand",
         "@Shewabrand",
         "3689",
         "AIR Louis vuitton  original 💯 \nSize 40#41#42#43\nMADE IN VIETNAM\nSHEWA BRAND\nአድራሻ ድሬዳዋ አሸዋ ሚና ህንፃ 1ኛ ፎቅ ላይ እንገኛለን \nየቴሌግራም ቻናላችንን ይቀላቀሉ\n👇👇👇\nhttps://t.me//shewabrand\nhttps://t.me//shewabrand\nhttps://t.me//shewabrand\nhttps://t.me//shewabrand\nየቤት ቁጥር 109 እና 110\n📩በ inbox  @shewat2 አዋሩን\n\n📞 0987336458\n📞0948595409 ይደውሉልን",
         "2025-06-10 06:57:35+00:00",
         "..\\data\\photos\\@Shewabrand_3689.jpg"
        ],
        [
         "22",
         "Shewa Brand",
         "@Shewabrand",
         "3688",
         "SKECHERS  ORIGINAL 💯 \nSize 36#37#38#39\nMADE IN VIETNAM\nSHEWA BRAND\nአድራሻ ድሬዳዋ አሸዋ ሚና ህንፃ 1ኛ ፎቅ ላይ እንገኛለን \nየቴሌግራም ቻናላችንን ይቀላቀሉ\n👇👇👇\nhttps://t.me//shewabrand\nhttps://t.me//shewabrand\nhttps://t.me//shewabrand\nhttps://t.me//shewabrand\nየቤት ቁጥር 109 እና 110\n📩በ inbox  @shewat2 አዋሩን\n\n📞 0987336458\n📞0948595409 ይደውሉልን",
         "2025-06-09 10:34:14+00:00",
         "..\\data\\photos\\@Shewabrand_3688.jpg"
        ],
        [
         "23",
         "Shewa Brand",
         "@Shewabrand",
         "3687",
         "አልቆ የነበረዉ NIKE SHELL በድጋሚ አስገብተናል ORIGINAL 💯 \nSize 40#41#42#43\nMADE IN VIETNAM\nSHEWA BRAND\nአድራሻ ድሬዳዋ አሸዋ ሚና ህንፃ 1ኛ ፎቅ ላይ እንገኛለን \nየቴሌግራም ቻናላችንን ይቀላቀሉ\n👇👇👇\nhttps://t.me//shewabrand\nhttps://t.me//shewabrand\nhttps://t.me//shewabrand\nhttps://t.me//shewabrand\nየቤት ቁጥር 109 እና 110\n📩በ inbox  @shewat2 አዋሩን\n\n📞 0987336458\n📞0948595409 ይደውሉልን",
         "2025-06-09 08:27:59+00:00",
         "..\\data\\photos\\@Shewabrand_3687.jpg"
        ],
        [
         "24",
         "Shewa Brand",
         "@Shewabrand",
         "3685",
         "NEW COTTON  💯 original \nSize M#L#XL#XXL\nMADE IN VIETNAM\nSHEWA BRAND\nአድራሻ ድሬዳዋ አሸዋ ሚና ህንፃ 1ኛ ፎቅ ላይ እንገኛለን \nየቴሌግራም ቻናላችንን ይቀላቀሉ\n👇👇👇\nhttps://t.me//shewabrand\nhttps://t.me//shewabrand\nhttps://t.me//shewabrand\nhttps://t.me//shewabrand\nየቤት ቁጥር 109 እና 110\n📩በ inbox  @shewat2 አዋሩን\n\n📞 0987336458\n📞0948595409 ይደውሉልን",
         "2025-06-03 06:23:15+00:00",
         "..\\data\\photos\\@Shewabrand_3685.jpg"
        ],
        [
         "25",
         "Shewa Brand",
         "@Shewabrand",
         "3684",
         "NEW COTTON  💯 original \nSize M#L#XL#XXL\nMADE IN VIETNAM\nSHEWA BRAND\nአድራሻ ድሬዳዋ አሸዋ ሚና ህንፃ 1ኛ ፎቅ ላይ እንገኛለን \nየቴሌግራም ቻናላችንን ይቀላቀሉ\n👇👇👇\nhttps://t.me//shewabrand\nhttps://t.me//shewabrand\nhttps://t.me//shewabrand\nhttps://t.me//shewabrand\nየቤት ቁጥር 109 እና 110\n📩በ inbox  @shewat2 አዋሩን\n\n📞 0987336458\n📞0948595409 ይደውሉልን",
         "2025-06-03 06:22:59+00:00",
         "..\\data\\photos\\@Shewabrand_3684.jpg"
        ],
        [
         "26",
         "Shewa Brand",
         "@Shewabrand",
         "3682",
         "SKECHERS hyper burst ORIGINAL 💯 \nSize 36#37#38#39#40\nMADE IN VIETNAM\nSHEWA BRAND\nአድራሻ ድሬዳዋ አሸዋ ሚና ህንፃ 1ኛ ፎቅ ላይ እንገኛለን \nየቴሌግራም ቻናላችንን ይቀላቀሉ\n👇👇👇\nhttps://t.me//shewabrand\nhttps://t.me//shewabrand\nhttps://t.me//shewabrand\nhttps://t.me//shewabrand\nየቤት ቁጥር 109 እና 110\n📩በ inbox  @shewat2 አዋሩን\n\n📞 0987336458\n📞0948595409 ይደውሉልን",
         "2025-05-28 10:25:08+00:00",
         "..\\data\\photos\\@Shewabrand_3682.jpg"
        ],
        [
         "27",
         "Shewa Brand",
         "@Shewabrand",
         "3681",
         "አልቆ የነበረዉ adidas yeezy v3 700 በድጋሚ አስገብተናል ORIGINAL 💯 \nSize 40#41#42#43\nMADE IN VIETNAM\nSHEWA BRAND\nአድራሻ ድሬዳዋ አሸዋ ሚና ህንፃ 1ኛ ፎቅ ላይ እንገኛለን \nየቴሌግራም ቻናላችንን ይቀላቀሉ\n👇👇👇\nhttps://t.me//shewabrand\nhttps://t.me//shewabrand\nhttps://t.me//shewabrand\nhttps://t.me//shewabrand\nየቤት ቁጥር 109 እና 110\n📩በ inbox  @shewat2 አዋሩን\n\n📞 0987336458\n📞0948595409 ይደውሉልን",
         "2025-05-28 09:36:15+00:00",
         "..\\data\\photos\\@Shewabrand_3681.jpg"
        ],
        [
         "28",
         "Shewa Brand",
         "@Shewabrand",
         "3679",
         "JORDAN 4 ORIGINAL 💯 \nSize 36#37#38#39\nMADE IN VIETNAM\nSHEWA BRAND\nአድራሻ ድሬዳዋ አሸዋ ሚና ህንፃ 1ኛ ፎቅ ላይ እንገኛለን \nየቴሌግራም ቻናላችንን ይቀላቀሉ\n👇👇👇\nhttps://t.me//shewabrand\nhttps://t.me//shewabrand\nhttps://t.me//shewabrand\nhttps://t.me//shewabrand\nየቤት ቁጥር 109 እና 110\n📩በ inbox  @shewat2 አዋሩን\n\n📞 0987336458\n📞0948595409 ይደውሉልን",
         "2025-05-27 09:02:01+00:00",
         "..\\data\\photos\\@Shewabrand_3679.jpg"
        ],
        [
         "29",
         "Shewa Brand",
         "@Shewabrand",
         "3678",
         "Under armour Curry  11ORIGINAL 💯 \nSize 40#41#42#43#44\nMADE IN VIETNAM\nSHEWA BRAND\nአድራሻ ድሬዳዋ አሸዋ ሚና ህንፃ 1ኛ ፎቅ ላይ እንገኛለን \nየቴሌግራም ቻናላችንን ይቀላቀሉ\n👇👇👇\nhttps://t.me//shewabrand\nhttps://t.me//shewabrand\nhttps://t.me//shewabrand\nhttps://t.me//shewabrand\nየቤት ቁጥር 109 እና 110\n📩በ inbox  @shewat2 አዋሩን\n\n📞 0987336458\n📞0948595409 ይደውሉልን",
         "2025-05-27 08:44:48+00:00",
         "..\\data\\photos\\@Shewabrand_3678.jpg"
        ],
        [
         "30",
         "Shewa Brand",
         "@Shewabrand",
         "3677",
         "Under armour Curry  11ORIGINAL 💯 \nSize 40#41#42#43#44\nMADE IN VIETNAM\nSHEWA BRAND\nአድራሻ ድሬዳዋ አሸዋ ሚና ህንፃ 1ኛ ፎቅ ላይ እንገኛለን \nየቴሌግራም ቻናላችንን ይቀላቀሉ\n👇👇👇\nhttps://t.me//shewabrand\nhttps://t.me//shewabrand\nhttps://t.me//shewabrand\nhttps://t.me//shewabrand\nየቤት ቁጥር 109 እና 110\n📩በ inbox  @shewat2 አዋሩን\n\n📞 0987336458\n📞0948595409 ይደውሉልን",
         "2025-05-27 08:23:56+00:00",
         "..\\data\\photos\\@Shewabrand_3677.jpg"
        ],
        [
         "31",
         "Shewa Brand",
         "@Shewabrand",
         "3674",
         null,
         "2025-05-23 09:37:27+00:00",
         "..\\data\\photos\\@Shewabrand_3674.jpg"
        ],
        [
         "32",
         "Shewa Brand",
         "@Shewabrand",
         "3673",
         "stock jeans ORIGINAL 💯 \nSize 29#30#31#32#33#34#36\nSHEWA BRAND\nአድራሻ ድሬዳዋ አሸዋ ሚና ህንፃ 1ኛ ፎቅ ላይ እንገኛለን \nየቴሌግራም ቻናላችንን ይቀላቀሉ\n👇👇👇\nhttps://t.me//shewabrand\nhttps://t.me//shewabrand\nhttps://t.me//shewabrand\nhttps://t.me//shewabrand\nየቤት ቁጥር 109 እና 110\n📩በ inbox  @shewat2 አዋሩን\n\n📞 0987336458\n📞0948595409 ይደውሉልን",
         "2025-05-23 09:37:27+00:00",
         "..\\data\\photos\\@Shewabrand_3673.jpg"
        ],
        [
         "33",
         "Shewa Brand",
         "@Shewabrand",
         "3672",
         "adidas predator accuracy   ORIGINAL 💯 \nSize 40#41#42#43#44#45\nMADE IN VIETNAM\nSHEWA BRAND\nአድራሻ ድሬዳዋ አሸዋ ሚና ህንፃ 1ኛ ፎቅ ላይ እንገኛለን \nየቴሌግራም ቻናላችንን ይቀላቀሉ\n👇👇👇\nhttps://t.me//shewabrand\nhttps://t.me//shewabrand\nhttps://t.me//shewabrand\nhttps://t.me//shewabrand\nየቤት ቁጥር 109 እና 110\n📩በ inbox  @shewat2 አዋሩን\n\n📞 0987336458\n📞0948595409 ይደውሉልን",
         "2025-05-23 06:58:08+00:00",
         "..\\data\\photos\\@Shewabrand_3672.jpg"
        ],
        [
         "34",
         "Shewa Brand",
         "@Shewabrand",
         "3671",
         "adidas predator accuracy   ORIGINAL 💯 \nSize 40#41#42#43#44#45\nMADE IN VIETNAM\nSHEWA BRAND\nአድራሻ ድሬዳዋ አሸዋ ሚና ህንፃ 1ኛ ፎቅ ላይ እንገኛለን \nየቴሌግራም ቻናላችንን ይቀላቀሉ\n👇👇👇\nhttps://t.me//shewabrand\nhttps://t.me//shewabrand\nhttps://t.me//shewabrand\nhttps://t.me//shewabrand\nየቤት ቁጥር 109 እና 110\n📩በ inbox  @shewat2 አዋሩን\n\n📞 0987336458\n📞0948595409 ይደውሉልን",
         "2025-05-23 06:53:20+00:00",
         "..\\data\\photos\\@Shewabrand_3671.jpg"
        ],
        [
         "35",
         "Shewa Brand",
         "@Shewabrand",
         "3669",
         "NIKE phantom GX  ORIGINAL 💯 \nSize 39#40#41#42#43#44#45\nMADE IN VIETNAM\nSHEWA BRAND\nአድራሻ ድሬዳዋ አሸዋ ሚና ህንፃ 1ኛ ፎቅ ላይ እንገኛለን \nየቴሌግራም ቻናላችንን ይቀላቀሉ\n👇👇👇\nhttps://t.me//shewabrand\nhttps://t.me//shewabrand\nhttps://t.me//shewabrand\nhttps://t.me//shewabrand\nየቤት ቁጥር 109 እና 110\n📩በ inbox  @shewat2 አዋሩን\n\n📞 0987336458\n📞0948595409 ይደውሉልን",
         "2025-05-22 08:00:21+00:00",
         "..\\data\\photos\\@Shewabrand_3669.jpg"
        ],
        [
         "36",
         "Shewa Brand",
         "@Shewabrand",
         "3668",
         "NIKE phantom GX  ORIGINAL 💯 \nSize 39#40#41#42#43#44#45\nMADE IN VIETNAM\nSHEWA BRAND\nአድራሻ ድሬዳዋ አሸዋ ሚና ህንፃ 1ኛ ፎቅ ላይ እንገኛለን \nየቴሌግራም ቻናላችንን ይቀላቀሉ\n👇👇👇\nhttps://t.me//shewabrand\nhttps://t.me//shewabrand\nhttps://t.me//shewabrand\nhttps://t.me//shewabrand\nየቤት ቁጥር 109 እና 110\n📩በ inbox  @shewat2 አዋሩን\n\n📞 0987336458\n📞0948595409 ይደውሉልን",
         "2025-05-22 08:00:14+00:00",
         "..\\data\\photos\\@Shewabrand_3668.jpg"
        ],
        [
         "37",
         "Shewa Brand",
         "@Shewabrand",
         "3667",
         "NIKE VOMERO 17 ORIGINAL 💯 \nSize 36#37#38#39\nMADE IN VIETNAM\nSHEWA BRAND\nአድራሻ ድሬዳዋ አሸዋ ሚና ህንፃ 1ኛ ፎቅ ላይ እንገኛለን \nየቴሌግራም ቻናላችንን ይቀላቀሉ\n👇👇👇\nhttps://t.me//shewabrand\nhttps://t.me//shewabrand\nhttps://t.me//shewabrand\nhttps://t.me//shewabrand\nየቤት ቁጥር 109 እና 110\n📩በ inbox  @shewat2 አዋሩን\n\n📞 0987336458\n📞0948595409 ይደውሉልን",
         "2025-05-21 11:29:07+00:00",
         "..\\data\\photos\\@Shewabrand_3667.jpg"
        ],
        [
         "38",
         "Shewa Brand",
         "@Shewabrand",
         "3665",
         null,
         "2025-05-21 09:38:57+00:00",
         "..\\data\\photos\\@Shewabrand_3665.jpg"
        ],
        [
         "39",
         "Shewa Brand",
         "@Shewabrand",
         "3664",
         "stock jeans ORIGINAL 💯 \nSize 29#30#31#32#33#34#36\nSHEWA BRAND\nአድራሻ ድሬዳዋ አሸዋ ሚና ህንፃ 1ኛ ፎቅ ላይ እንገኛለን \nየቴሌግራም ቻናላችንን ይቀላቀሉ\n👇👇👇\nhttps://t.me//shewabrand\nhttps://t.me//shewabrand\nhttps://t.me//shewabrand\nhttps://t.me//shewabrand\nየቤት ቁጥር 109 እና 110\n📩በ inbox  @shewat2 አዋሩን\n\n📞 0987336458\n📞0948595409 ይደውሉልን",
         "2025-05-21 09:38:57+00:00",
         "..\\data\\photos\\@Shewabrand_3664.jpg"
        ],
        [
         "40",
         "Shewa Brand",
         "@Shewabrand",
         "3663",
         null,
         "2025-05-19 15:18:24+00:00",
         null
        ],
        [
         "41",
         "Shewa Brand",
         "@Shewabrand",
         "3662",
         null,
         "2025-05-19 05:26:43+00:00",
         "..\\data\\photos\\@Shewabrand_3662.jpg"
        ],
        [
         "42",
         "Shewa Brand",
         "@Shewabrand",
         "3661",
         null,
         "2025-05-19 05:26:43+00:00",
         "..\\data\\photos\\@Shewabrand_3661.jpg"
        ],
        [
         "43",
         "Shewa Brand",
         "@Shewabrand",
         "3660",
         "NEW COTTON TISHERTS 💯 original \nSize M#L#XL#XXX\nMADE IN VIETNAM\nSHEWA BRAND\nአድራሻ ድሬዳዋ አሸዋ ሚና ህንፃ 1ኛ ፎቅ ላይ እንገኛለን \nየቴሌግራም ቻናላችንን ይቀላቀሉ\n👇👇👇\nhttps://t.me//shewabrand\nhttps://t.me//shewabrand\nhttps://t.me//shewabrand\nhttps://t.me//shewabrand\nየቤት ቁጥር 109 እና 110\n📩በ inbox  @shewat2 አዋሩን\n\n📞 0987336458\n📞0948595409 ይደውሉልን",
         "2025-05-19 05:26:43+00:00",
         "..\\data\\photos\\@Shewabrand_3660.jpg"
        ],
        [
         "44",
         "Shewa Brand",
         "@Shewabrand",
         "3658",
         null,
         "2025-05-15 08:33:18+00:00",
         "..\\data\\photos\\@Shewabrand_3658.jpg"
        ],
        [
         "45",
         "Shewa Brand",
         "@Shewabrand",
         "3657",
         null,
         "2025-05-15 08:33:18+00:00",
         "..\\data\\photos\\@Shewabrand_3657.jpg"
        ],
        [
         "46",
         "Shewa Brand",
         "@Shewabrand",
         "3656",
         "stock jeans ORIGINAL 💯 \nSize 29#30#31#32#33#34#36\nSHEWA BRAND\nአድራሻ ድሬዳዋ አሸዋ ሚና ህንፃ 1ኛ ፎቅ ላይ እንገኛለን \nየቴሌግራም ቻናላችንን ይቀላቀሉ\n👇👇👇\nhttps://t.me//shewabrand\nhttps://t.me//shewabrand\nhttps://t.me//shewabrand\nhttps://t.me//shewabrand\nየቤት ቁጥር 109 እና 110\n📩በ inbox  @shewat2 አዋሩን\n\n📞 0987336458\n📞0948595409 ይደውሉልን",
         "2025-05-15 08:33:18+00:00",
         "..\\data\\photos\\@Shewabrand_3656.jpg"
        ],
        [
         "47",
         "Shewa Brand",
         "@Shewabrand",
         "3655",
         null,
         "2025-05-14 10:49:32+00:00",
         "..\\data\\photos\\@Shewabrand_3655.jpg"
        ],
        [
         "48",
         "Shewa Brand",
         "@Shewabrand",
         "3654",
         null,
         "2025-05-14 10:49:32+00:00",
         "..\\data\\photos\\@Shewabrand_3654.jpg"
        ],
        [
         "49",
         "Shewa Brand",
         "@Shewabrand",
         "3653",
         "stock jeans ORIGINAL 💯 \nSize 30#31#32#33#34#36#38#40\nSHEWA BRAND\nአድራሻ ድሬዳዋ አሸዋ ሚና ህንፃ 1ኛ ፎቅ ላይ እንገኛለን \nየቴሌግራም ቻናላችንን ይቀላቀሉ\n👇👇👇\nhttps://t.me//shewabrand\nhttps://t.me//shewabrand\nhttps://t.me//shewabrand\nhttps://t.me//shewabrand\nየቤት ቁጥር 109 እና 110\n📩በ inbox  @shewat2 አዋሩን\n\n📞 0987336458\n📞0948595409 ይደውሉልን",
         "2025-05-14 10:49:32+00:00",
         "..\\data\\photos\\@Shewabrand_3653.jpg"
        ]
       ],
       "shape": {
        "columns": 6,
        "rows": 1000
       }
      },
      "text/html": [
       "<div>\n",
       "<style scoped>\n",
       "    .dataframe tbody tr th:only-of-type {\n",
       "        vertical-align: middle;\n",
       "    }\n",
       "\n",
       "    .dataframe tbody tr th {\n",
       "        vertical-align: top;\n",
       "    }\n",
       "\n",
       "    .dataframe thead th {\n",
       "        text-align: right;\n",
       "    }\n",
       "</style>\n",
       "<table border=\"1\" class=\"dataframe\">\n",
       "  <thead>\n",
       "    <tr style=\"text-align: right;\">\n",
       "      <th></th>\n",
       "      <th>Channel Title</th>\n",
       "      <th>Channel Username</th>\n",
       "      <th>ID</th>\n",
       "      <th>Message</th>\n",
       "      <th>Date</th>\n",
       "      <th>Media Path</th>\n",
       "    </tr>\n",
       "  </thead>\n",
       "  <tbody>\n",
       "    <tr>\n",
       "      <th>0</th>\n",
       "      <td>Shewa Brand</td>\n",
       "      <td>@Shewabrand</td>\n",
       "      <td>3714</td>\n",
       "      <td>የተለያዩ ጫማዎች በፍሬ መምረጥ ማስመረጥ ለምትፈልጉ ደንበኞቻችን አዲስ ነ...</td>\n",
       "      <td>2025-06-22 07:20:07+00:00</td>\n",
       "      <td>..\\data\\photos\\@Shewabrand_3714.jpg</td>\n",
       "    </tr>\n",
       "    <tr>\n",
       "      <th>1</th>\n",
       "      <td>Shewa Brand</td>\n",
       "      <td>@Shewabrand</td>\n",
       "      <td>3713</td>\n",
       "      <td>NIKE SB FC original 💯 \\nSize 40#41#42#43#44#45...</td>\n",
       "      <td>2025-06-21 09:28:21+00:00</td>\n",
       "      <td>..\\data\\photos\\@Shewabrand_3713.jpg</td>\n",
       "    </tr>\n",
       "    <tr>\n",
       "      <th>2</th>\n",
       "      <td>Shewa Brand</td>\n",
       "      <td>@Shewabrand</td>\n",
       "      <td>3712</td>\n",
       "      <td>ORIGINAL COTTON TUTA💯 original \\nSize L#XL#2XL...</td>\n",
       "      <td>2025-06-21 05:05:45+00:00</td>\n",
       "      <td>..\\data\\photos\\@Shewabrand_3712.jpg</td>\n",
       "    </tr>\n",
       "    <tr>\n",
       "      <th>3</th>\n",
       "      <td>Shewa Brand</td>\n",
       "      <td>@Shewabrand</td>\n",
       "      <td>3711</td>\n",
       "      <td>ZARA CLUB COTTON TISHERTS 💯 original \\nSize M#...</td>\n",
       "      <td>2025-06-20 07:57:43+00:00</td>\n",
       "      <td>..\\data\\photos\\@Shewabrand_3711.jpg</td>\n",
       "    </tr>\n",
       "    <tr>\n",
       "      <th>4</th>\n",
       "      <td>Shewa Brand</td>\n",
       "      <td>@Shewabrand</td>\n",
       "      <td>3710</td>\n",
       "      <td>jordan 1 original 💯 \\nSize 40#41#42#43\\nMADE I...</td>\n",
       "      <td>2025-06-20 06:15:40+00:00</td>\n",
       "      <td>..\\data\\photos\\@Shewabrand_3710.jpg</td>\n",
       "    </tr>\n",
       "    <tr>\n",
       "      <th>...</th>\n",
       "      <td>...</td>\n",
       "      <td>...</td>\n",
       "      <td>...</td>\n",
       "      <td>...</td>\n",
       "      <td>...</td>\n",
       "      <td>...</td>\n",
       "    </tr>\n",
       "    <tr>\n",
       "      <th>995</th>\n",
       "      <td>Fashion tera</td>\n",
       "      <td>@Fashiontera</td>\n",
       "      <td>3880</td>\n",
       "      <td>NaN</td>\n",
       "      <td>2024-07-10 15:08:22+00:00</td>\n",
       "      <td>..\\data\\photos\\@Fashiontera_3880.jpg</td>\n",
       "    </tr>\n",
       "    <tr>\n",
       "      <th>996</th>\n",
       "      <td>Fashion tera</td>\n",
       "      <td>@Fashiontera</td>\n",
       "      <td>3879</td>\n",
       "      <td>〰️〰️〰️〰️〰️ \\nCYBER Men Watch \\n🔸🔸🔸🔸🔸🔸\\nPrice  ...</td>\n",
       "      <td>2024-07-05 11:27:52+00:00</td>\n",
       "      <td>..\\data\\photos\\@Fashiontera_3879.jpg</td>\n",
       "    </tr>\n",
       "    <tr>\n",
       "      <th>997</th>\n",
       "      <td>Fashion tera</td>\n",
       "      <td>@Fashiontera</td>\n",
       "      <td>3878</td>\n",
       "      <td>NaN</td>\n",
       "      <td>2024-07-05 11:27:52+00:00</td>\n",
       "      <td>..\\data\\photos\\@Fashiontera_3878.jpg</td>\n",
       "    </tr>\n",
       "    <tr>\n",
       "      <th>998</th>\n",
       "      <td>Fashion tera</td>\n",
       "      <td>@Fashiontera</td>\n",
       "      <td>3877</td>\n",
       "      <td>NaN</td>\n",
       "      <td>2024-07-05 11:27:52+00:00</td>\n",
       "      <td>..\\data\\photos\\@Fashiontera_3877.jpg</td>\n",
       "    </tr>\n",
       "    <tr>\n",
       "      <th>999</th>\n",
       "      <td>Fashion tera</td>\n",
       "      <td>@Fashiontera</td>\n",
       "      <td>3876</td>\n",
       "      <td>〰️〰️〰️〰️〰️〰️〰️\\nFashion Shose \\n🔸🔸🔸🔸🔸🔸\\nSize 4...</td>\n",
       "      <td>2024-07-04 13:28:51+00:00</td>\n",
       "      <td>..\\data\\photos\\@Fashiontera_3876.jpg</td>\n",
       "    </tr>\n",
       "  </tbody>\n",
       "</table>\n",
       "<p>1000 rows × 6 columns</p>\n",
       "</div>"
      ],
      "text/plain": [
       "    Channel Title Channel Username    ID  \\\n",
       "0     Shewa Brand      @Shewabrand  3714   \n",
       "1     Shewa Brand      @Shewabrand  3713   \n",
       "2     Shewa Brand      @Shewabrand  3712   \n",
       "3     Shewa Brand      @Shewabrand  3711   \n",
       "4     Shewa Brand      @Shewabrand  3710   \n",
       "..            ...              ...   ...   \n",
       "995  Fashion tera     @Fashiontera  3880   \n",
       "996  Fashion tera     @Fashiontera  3879   \n",
       "997  Fashion tera     @Fashiontera  3878   \n",
       "998  Fashion tera     @Fashiontera  3877   \n",
       "999  Fashion tera     @Fashiontera  3876   \n",
       "\n",
       "                                               Message  \\\n",
       "0    የተለያዩ ጫማዎች በፍሬ መምረጥ ማስመረጥ ለምትፈልጉ ደንበኞቻችን አዲስ ነ...   \n",
       "1    NIKE SB FC original 💯 \\nSize 40#41#42#43#44#45...   \n",
       "2    ORIGINAL COTTON TUTA💯 original \\nSize L#XL#2XL...   \n",
       "3    ZARA CLUB COTTON TISHERTS 💯 original \\nSize M#...   \n",
       "4    jordan 1 original 💯 \\nSize 40#41#42#43\\nMADE I...   \n",
       "..                                                 ...   \n",
       "995                                                NaN   \n",
       "996  〰️〰️〰️〰️〰️ \\nCYBER Men Watch \\n🔸🔸🔸🔸🔸🔸\\nPrice  ...   \n",
       "997                                                NaN   \n",
       "998                                                NaN   \n",
       "999  〰️〰️〰️〰️〰️〰️〰️\\nFashion Shose \\n🔸🔸🔸🔸🔸🔸\\nSize 4...   \n",
       "\n",
       "                          Date                            Media Path  \n",
       "0    2025-06-22 07:20:07+00:00   ..\\data\\photos\\@Shewabrand_3714.jpg  \n",
       "1    2025-06-21 09:28:21+00:00   ..\\data\\photos\\@Shewabrand_3713.jpg  \n",
       "2    2025-06-21 05:05:45+00:00   ..\\data\\photos\\@Shewabrand_3712.jpg  \n",
       "3    2025-06-20 07:57:43+00:00   ..\\data\\photos\\@Shewabrand_3711.jpg  \n",
       "4    2025-06-20 06:15:40+00:00   ..\\data\\photos\\@Shewabrand_3710.jpg  \n",
       "..                         ...                                   ...  \n",
       "995  2024-07-10 15:08:22+00:00  ..\\data\\photos\\@Fashiontera_3880.jpg  \n",
       "996  2024-07-05 11:27:52+00:00  ..\\data\\photos\\@Fashiontera_3879.jpg  \n",
       "997  2024-07-05 11:27:52+00:00  ..\\data\\photos\\@Fashiontera_3878.jpg  \n",
       "998  2024-07-05 11:27:52+00:00  ..\\data\\photos\\@Fashiontera_3877.jpg  \n",
       "999  2024-07-04 13:28:51+00:00  ..\\data\\photos\\@Fashiontera_3876.jpg  \n",
       "\n",
       "[1000 rows x 6 columns]"
      ]
     },
     "execution_count": 7,
     "metadata": {},
     "output_type": "execute_result"
    }
   ],
   "source": [
    "# Load csv file\n",
    "df = pd.read_csv('../data/telegram_data.csv')\n",
    "df"
   ]
  },
  {
   "cell_type": "code",
   "execution_count": 8,
   "id": "7598baad",
   "metadata": {},
   "outputs": [
    {
     "data": {
      "application/vnd.microsoft.datawrangler.viewer.v0+json": {
       "columns": [
        {
         "name": "index",
         "rawType": "int64",
         "type": "integer"
        },
        {
         "name": "Channel Title",
         "rawType": "object",
         "type": "string"
        },
        {
         "name": "Channel Username",
         "rawType": "object",
         "type": "string"
        },
        {
         "name": "ID",
         "rawType": "int64",
         "type": "integer"
        },
        {
         "name": "Message",
         "rawType": "object",
         "type": "string"
        },
        {
         "name": "Date",
         "rawType": "object",
         "type": "string"
        },
        {
         "name": "Media Path",
         "rawType": "object",
         "type": "string"
        },
        {
         "name": "Cleaned_Message",
         "rawType": "object",
         "type": "string"
        },
        {
         "name": "Tokens",
         "rawType": "object",
         "type": "unknown"
        }
       ],
       "ref": "8a2669a0-e227-4988-a1f1-3adc4634e1c2",
       "rows": [
        [
         "0",
         "Shewa Brand",
         "@Shewabrand",
         "3714",
         "የተለያዩ ጫማዎች በፍሬ መምረጥ ማስመረጥ ለምትፈልጉ ደንበኞቻችን አዲስ ነገር ስላለ ሁለተኛውን ቻናላችንን ይቀላቀሉ\n\nhttps://t.me/mulebestbran\nhttps://t.me/mulebestbran",
         "2025-06-22 07:20:07+00:00",
         "..\\data\\photos\\@Shewabrand_3714.jpg",
         "የተለያዩ ጫማዎች በፍሬ መምረጥ ማስመረጥ ለምትፈልጉ ደንበኞቻችን አዲስ ነገር ስላለ ሁለተኛውን ቻናላችንን ይቀላቀሉ\n\nhttps://t.me/mulebestbran\nhttps://t.me/mulebestbran",
         "['የተለያዩ', 'ጫማዎች', 'በፍሬ', 'መምረጥ', 'ማስመረጥ', 'ለምትፈልጉ', 'ደንበኞቻችን', 'አዲስ', 'ነገር', 'ስላለ', 'ሁለተኛውን', 'ቻናላችንን', 'ይቀላቀሉ', 'https', 't', 'me', 'mulebestbran', 'https', 't', 'me', 'mulebestbran']"
        ],
        [
         "1",
         "Shewa Brand",
         "@Shewabrand",
         "3713",
         "NIKE SB FC original 💯 \nSize 40#41#42#43#44#45\nMADE IN VIETNAM\nSHEWA BRAND\nአድራሻ ድሬዳዋ አሸዋ ሚና ህንፃ 1ኛ ፎቅ ላይ እንገኛለን \nየቴሌግራም ቻናላችንን ይቀላቀሉ\n👇👇👇\nhttps://t.me//shewabrand\nhttps://t.me//shewabrand\nhttps://t.me//shewabrand\nhttps://t.me//shewabrand\nየቤት ቁጥር 109 እና 110\n📩በ inbox  @shewat2 አዋሩን\n\n📞 0987336458\n📞0948595409 ይደውሉልን",
         "2025-06-21 09:28:21+00:00",
         "..\\data\\photos\\@Shewabrand_3713.jpg",
         "NIKE SB FC original  \n\nMADE IN VIETNAM\nSHEWA BRAND\nአድራሻ ድሬዳዋ አሸዋ ሚና ህንፃ 1ኛ ፎቅ ላይ እንገኛለን \nየቴሌግራም ቻናላችንን ይቀላቀሉ\n\nhttps://t.me//shewabrand\nhttps://t.me//shewabrand\nhttps://t.me//shewabrand\nhttps://t.me//shewabrand\nየቤት ቁጥር 109 እና 110\nበ inbox  @shewat2 አዋሩን\n\n 0987336458\n0948595409 ይደውሉልን",
         "['NIKE', 'SB', 'FC', 'original', 'MADE', 'IN', 'VIETNAM', 'SHEWA', 'BRAND', 'አድራሻ', 'ድሬዳዋ', 'አሸዋ', 'ሚና', 'ህንፃ', '1', 'ኛ', 'ፎቅ', 'ላይ', 'እንገኛለን', 'የቴሌግራም', 'ቻናላችንን', 'ይቀላቀሉ', 'https', 't', 'me', 'shewabrand', 'https', 't', 'me', 'shewabrand', 'https', 't', 'me', 'shewabrand', 'https', 't', 'me', 'shewabrand', 'የቤት', 'ቁጥር', '109', 'እና', '110', 'በ', 'inbox', 'shewat2', 'አዋሩን', '0987336458', '0948595409', 'ይደውሉልን']"
        ],
        [
         "2",
         "Shewa Brand",
         "@Shewabrand",
         "3712",
         "ORIGINAL COTTON TUTA💯 original \nSize L#XL#2XL#3XL#4XL\nSHEWA BRAND\nአድራሻ ድሬዳዋ አሸዋ ሚና ህንፃ 1ኛ ፎቅ ላይ እንገኛለን \nየቴሌግራም ቻናላችንን ይቀላቀሉ\n👇👇👇\nhttps://t.me//shewabrand\nhttps://t.me//shewabrand\nhttps://t.me//shewabrand\nhttps://t.me//shewabrand\nየቤት ቁጥር 109 እና 110\n📩በ inbox  @shewat2 አዋሩን\n\n📞 0987336458\n📞0948595409 ይደውሉልን",
         "2025-06-21 05:05:45+00:00",
         "..\\data\\photos\\@Shewabrand_3712.jpg",
         "ORIGINAL COTTON TUTA original \n\nSHEWA BRAND\nአድራሻ ድሬዳዋ አሸዋ ሚና ህንፃ 1ኛ ፎቅ ላይ እንገኛለን \nየቴሌግራም ቻናላችንን ይቀላቀሉ\n\nhttps://t.me//shewabrand\nhttps://t.me//shewabrand\nhttps://t.me//shewabrand\nhttps://t.me//shewabrand\nየቤት ቁጥር 109 እና 110\nበ inbox  @shewat2 አዋሩን\n\n 0987336458\n0948595409 ይደውሉልን",
         "['ORIGINAL', 'COTTON', 'TUTA', 'original', 'SHEWA', 'BRAND', 'አድራሻ', 'ድሬዳዋ', 'አሸዋ', 'ሚና', 'ህንፃ', '1', 'ኛ', 'ፎቅ', 'ላይ', 'እንገኛለን', 'የቴሌግራም', 'ቻናላችንን', 'ይቀላቀሉ', 'https', 't', 'me', 'shewabrand', 'https', 't', 'me', 'shewabrand', 'https', 't', 'me', 'shewabrand', 'https', 't', 'me', 'shewabrand', 'የቤት', 'ቁጥር', '109', 'እና', '110', 'በ', 'inbox', 'shewat2', 'አዋሩን', '0987336458', '0948595409', 'ይደውሉልን']"
        ],
        [
         "3",
         "Shewa Brand",
         "@Shewabrand",
         "3711",
         "ZARA CLUB COTTON TISHERTS 💯 original \nSize M#L#XL#XXX\nSHEWA BRAND\nአድራሻ ድሬዳዋ አሸዋ ሚና ህንፃ 1ኛ ፎቅ ላይ እንገኛለን \nየቴሌግራም ቻናላችንን ይቀላቀሉ\n👇👇👇\nhttps://t.me//shewabrand\nhttps://t.me//shewabrand\nhttps://t.me//shewabrand\nhttps://t.me//shewabrand\nየቤት ቁጥር 109 እና 110\n📩በ inbox  @shewat2 አዋሩን\n\n📞 0987336458\n📞0948595409 ይደውሉልን",
         "2025-06-20 07:57:43+00:00",
         "..\\data\\photos\\@Shewabrand_3711.jpg",
         "ZARA CLUB COTTON TISHERTS  original \n\nSHEWA BRAND\nአድራሻ ድሬዳዋ አሸዋ ሚና ህንፃ 1ኛ ፎቅ ላይ እንገኛለን \nየቴሌግራም ቻናላችንን ይቀላቀሉ\n\nhttps://t.me//shewabrand\nhttps://t.me//shewabrand\nhttps://t.me//shewabrand\nhttps://t.me//shewabrand\nየቤት ቁጥር 109 እና 110\nበ inbox  @shewat2 አዋሩን\n\n 0987336458\n0948595409 ይደውሉልን",
         "['ZARA', 'CLUB', 'COTTON', 'TISHERTS', 'original', 'SHEWA', 'BRAND', 'አድራሻ', 'ድሬዳዋ', 'አሸዋ', 'ሚና', 'ህንፃ', '1', 'ኛ', 'ፎቅ', 'ላይ', 'እንገኛለን', 'የቴሌግራም', 'ቻናላችንን', 'ይቀላቀሉ', 'https', 't', 'me', 'shewabrand', 'https', 't', 'me', 'shewabrand', 'https', 't', 'me', 'shewabrand', 'https', 't', 'me', 'shewabrand', 'የቤት', 'ቁጥር', '109', 'እና', '110', 'በ', 'inbox', 'shewat2', 'አዋሩን', '0987336458', '0948595409', 'ይደውሉልን']"
        ],
        [
         "4",
         "Shewa Brand",
         "@Shewabrand",
         "3710",
         "jordan 1 original 💯 \nSize 40#41#42#43\nMADE IN VIETNAM\nSHEWA BRAND\nአድራሻ ድሬዳዋ አሸዋ ሚና ህንፃ 1ኛ ፎቅ ላይ እንገኛለን \nየቴሌግራም ቻናላችንን ይቀላቀሉ\n👇👇👇\nhttps://t.me//shewabrand\nhttps://t.me//shewabrand\nhttps://t.me//shewabrand\nhttps://t.me//shewabrand\nየቤት ቁጥር 109 እና 110\n📩በ inbox  @shewat2 አዋሩን\n\n📞 0987336458\n📞0948595409 ይደውሉልን",
         "2025-06-20 06:15:40+00:00",
         "..\\data\\photos\\@Shewabrand_3710.jpg",
         "jordan 1 original  \n\nMADE IN VIETNAM\nSHEWA BRAND\nአድራሻ ድሬዳዋ አሸዋ ሚና ህንፃ 1ኛ ፎቅ ላይ እንገኛለን \nየቴሌግራም ቻናላችንን ይቀላቀሉ\n\nhttps://t.me//shewabrand\nhttps://t.me//shewabrand\nhttps://t.me//shewabrand\nhttps://t.me//shewabrand\nየቤት ቁጥር 109 እና 110\nበ inbox  @shewat2 አዋሩን\n\n 0987336458\n0948595409 ይደውሉልን",
         "['jordan', '1', 'original', 'MADE', 'IN', 'VIETNAM', 'SHEWA', 'BRAND', 'አድራሻ', 'ድሬዳዋ', 'አሸዋ', 'ሚና', 'ህንፃ', '1', 'ኛ', 'ፎቅ', 'ላይ', 'እንገኛለን', 'የቴሌግራም', 'ቻናላችንን', 'ይቀላቀሉ', 'https', 't', 'me', 'shewabrand', 'https', 't', 'me', 'shewabrand', 'https', 't', 'me', 'shewabrand', 'https', 't', 'me', 'shewabrand', 'የቤት', 'ቁጥር', '109', 'እና', '110', 'በ', 'inbox', 'shewat2', 'አዋሩን', '0987336458', '0948595409', 'ይደውሉልን']"
        ]
       ],
       "shape": {
        "columns": 8,
        "rows": 5
       }
      },
      "text/html": [
       "<div>\n",
       "<style scoped>\n",
       "    .dataframe tbody tr th:only-of-type {\n",
       "        vertical-align: middle;\n",
       "    }\n",
       "\n",
       "    .dataframe tbody tr th {\n",
       "        vertical-align: top;\n",
       "    }\n",
       "\n",
       "    .dataframe thead th {\n",
       "        text-align: right;\n",
       "    }\n",
       "</style>\n",
       "<table border=\"1\" class=\"dataframe\">\n",
       "  <thead>\n",
       "    <tr style=\"text-align: right;\">\n",
       "      <th></th>\n",
       "      <th>Channel Title</th>\n",
       "      <th>Channel Username</th>\n",
       "      <th>ID</th>\n",
       "      <th>Message</th>\n",
       "      <th>Date</th>\n",
       "      <th>Media Path</th>\n",
       "      <th>Cleaned_Message</th>\n",
       "      <th>Tokens</th>\n",
       "    </tr>\n",
       "  </thead>\n",
       "  <tbody>\n",
       "    <tr>\n",
       "      <th>0</th>\n",
       "      <td>Shewa Brand</td>\n",
       "      <td>@Shewabrand</td>\n",
       "      <td>3714</td>\n",
       "      <td>የተለያዩ ጫማዎች በፍሬ መምረጥ ማስመረጥ ለምትፈልጉ ደንበኞቻችን አዲስ ነ...</td>\n",
       "      <td>2025-06-22 07:20:07+00:00</td>\n",
       "      <td>..\\data\\photos\\@Shewabrand_3714.jpg</td>\n",
       "      <td>የተለያዩ ጫማዎች በፍሬ መምረጥ ማስመረጥ ለምትፈልጉ ደንበኞቻችን አዲስ ነ...</td>\n",
       "      <td>[የተለያዩ, ጫማዎች, በፍሬ, መምረጥ, ማስመረጥ, ለምትፈልጉ, ደንበኞቻች...</td>\n",
       "    </tr>\n",
       "    <tr>\n",
       "      <th>1</th>\n",
       "      <td>Shewa Brand</td>\n",
       "      <td>@Shewabrand</td>\n",
       "      <td>3713</td>\n",
       "      <td>NIKE SB FC original 💯 \\nSize 40#41#42#43#44#45...</td>\n",
       "      <td>2025-06-21 09:28:21+00:00</td>\n",
       "      <td>..\\data\\photos\\@Shewabrand_3713.jpg</td>\n",
       "      <td>NIKE SB FC original  \\n\\nMADE IN VIETNAM\\nSHEW...</td>\n",
       "      <td>[NIKE, SB, FC, original, MADE, IN, VIETNAM, SH...</td>\n",
       "    </tr>\n",
       "    <tr>\n",
       "      <th>2</th>\n",
       "      <td>Shewa Brand</td>\n",
       "      <td>@Shewabrand</td>\n",
       "      <td>3712</td>\n",
       "      <td>ORIGINAL COTTON TUTA💯 original \\nSize L#XL#2XL...</td>\n",
       "      <td>2025-06-21 05:05:45+00:00</td>\n",
       "      <td>..\\data\\photos\\@Shewabrand_3712.jpg</td>\n",
       "      <td>ORIGINAL COTTON TUTA original \\n\\nSHEWA BRAND\\...</td>\n",
       "      <td>[ORIGINAL, COTTON, TUTA, original, SHEWA, BRAN...</td>\n",
       "    </tr>\n",
       "    <tr>\n",
       "      <th>3</th>\n",
       "      <td>Shewa Brand</td>\n",
       "      <td>@Shewabrand</td>\n",
       "      <td>3711</td>\n",
       "      <td>ZARA CLUB COTTON TISHERTS 💯 original \\nSize M#...</td>\n",
       "      <td>2025-06-20 07:57:43+00:00</td>\n",
       "      <td>..\\data\\photos\\@Shewabrand_3711.jpg</td>\n",
       "      <td>ZARA CLUB COTTON TISHERTS  original \\n\\nSHEWA ...</td>\n",
       "      <td>[ZARA, CLUB, COTTON, TISHERTS, original, SHEWA...</td>\n",
       "    </tr>\n",
       "    <tr>\n",
       "      <th>4</th>\n",
       "      <td>Shewa Brand</td>\n",
       "      <td>@Shewabrand</td>\n",
       "      <td>3710</td>\n",
       "      <td>jordan 1 original 💯 \\nSize 40#41#42#43\\nMADE I...</td>\n",
       "      <td>2025-06-20 06:15:40+00:00</td>\n",
       "      <td>..\\data\\photos\\@Shewabrand_3710.jpg</td>\n",
       "      <td>jordan 1 original  \\n\\nMADE IN VIETNAM\\nSHEWA ...</td>\n",
       "      <td>[jordan, 1, original, MADE, IN, VIETNAM, SHEWA...</td>\n",
       "    </tr>\n",
       "  </tbody>\n",
       "</table>\n",
       "</div>"
      ],
      "text/plain": [
       "  Channel Title Channel Username    ID  \\\n",
       "0   Shewa Brand      @Shewabrand  3714   \n",
       "1   Shewa Brand      @Shewabrand  3713   \n",
       "2   Shewa Brand      @Shewabrand  3712   \n",
       "3   Shewa Brand      @Shewabrand  3711   \n",
       "4   Shewa Brand      @Shewabrand  3710   \n",
       "\n",
       "                                             Message  \\\n",
       "0  የተለያዩ ጫማዎች በፍሬ መምረጥ ማስመረጥ ለምትፈልጉ ደንበኞቻችን አዲስ ነ...   \n",
       "1  NIKE SB FC original 💯 \\nSize 40#41#42#43#44#45...   \n",
       "2  ORIGINAL COTTON TUTA💯 original \\nSize L#XL#2XL...   \n",
       "3  ZARA CLUB COTTON TISHERTS 💯 original \\nSize M#...   \n",
       "4  jordan 1 original 💯 \\nSize 40#41#42#43\\nMADE I...   \n",
       "\n",
       "                        Date                           Media Path  \\\n",
       "0  2025-06-22 07:20:07+00:00  ..\\data\\photos\\@Shewabrand_3714.jpg   \n",
       "1  2025-06-21 09:28:21+00:00  ..\\data\\photos\\@Shewabrand_3713.jpg   \n",
       "2  2025-06-21 05:05:45+00:00  ..\\data\\photos\\@Shewabrand_3712.jpg   \n",
       "3  2025-06-20 07:57:43+00:00  ..\\data\\photos\\@Shewabrand_3711.jpg   \n",
       "4  2025-06-20 06:15:40+00:00  ..\\data\\photos\\@Shewabrand_3710.jpg   \n",
       "\n",
       "                                     Cleaned_Message  \\\n",
       "0  የተለያዩ ጫማዎች በፍሬ መምረጥ ማስመረጥ ለምትፈልጉ ደንበኞቻችን አዲስ ነ...   \n",
       "1  NIKE SB FC original  \\n\\nMADE IN VIETNAM\\nSHEW...   \n",
       "2  ORIGINAL COTTON TUTA original \\n\\nSHEWA BRAND\\...   \n",
       "3  ZARA CLUB COTTON TISHERTS  original \\n\\nSHEWA ...   \n",
       "4  jordan 1 original  \\n\\nMADE IN VIETNAM\\nSHEWA ...   \n",
       "\n",
       "                                              Tokens  \n",
       "0  [የተለያዩ, ጫማዎች, በፍሬ, መምረጥ, ማስመረጥ, ለምትፈልጉ, ደንበኞቻች...  \n",
       "1  [NIKE, SB, FC, original, MADE, IN, VIETNAM, SH...  \n",
       "2  [ORIGINAL, COTTON, TUTA, original, SHEWA, BRAN...  \n",
       "3  [ZARA, CLUB, COTTON, TISHERTS, original, SHEWA...  \n",
       "4  [jordan, 1, original, MADE, IN, VIETNAM, SHEWA...  "
      ]
     },
     "execution_count": 8,
     "metadata": {},
     "output_type": "execute_result"
    }
   ],
   "source": [
    "# Preprocess the data\n",
    "meta, content, df_processed = DataPreprocess.preprocess_dataframe(df)\n",
    "df_processed.head()"
   ]
  },
  {
   "cell_type": "code",
   "execution_count": 9,
   "id": "0b939af6",
   "metadata": {},
   "outputs": [
    {
     "name": "stdout",
     "output_type": "stream",
     "text": [
      "Processed data saved to ../data/telegram_data_processed.csv\n"
     ]
    }
   ],
   "source": [
    "# Save the processed DataFrame to a new CSV file\n",
    "output_path = '../data/telegram_data_processed.csv'\n",
    "df_processed.to_csv(output_path, index=False)\n",
    "print(f\"Processed data saved to {output_path}\")"
   ]
  },
  {
   "cell_type": "code",
   "execution_count": 10,
   "id": "8d835d55",
   "metadata": {},
   "outputs": [
    {
     "name": "stdout",
     "output_type": "stream",
     "text": [
      "CoNLL-formatted data saved to ../data/telegram_data_conll.txt\n"
     ]
    }
   ],
   "source": [
    "# Label a Subset of Dataset in CoNLL Format\n",
    "DataPreprocess.label_dataframe(df)"
   ]
  }
 ],
 "metadata": {
  "kernelspec": {
   "display_name": ".venv",
   "language": "python",
   "name": "python3"
  },
  "language_info": {
   "codemirror_mode": {
    "name": "ipython",
    "version": 3
   },
   "file_extension": ".py",
   "mimetype": "text/x-python",
   "name": "python",
   "nbconvert_exporter": "python",
   "pygments_lexer": "ipython3",
   "version": "3.12.10"
  }
 },
 "nbformat": 4,
 "nbformat_minor": 5
}
